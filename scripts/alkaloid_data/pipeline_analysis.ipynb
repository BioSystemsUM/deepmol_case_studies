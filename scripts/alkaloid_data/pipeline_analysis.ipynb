{
 "cells": [
  {
   "cell_type": "markdown",
   "source": [
    "# Read pipeline"
   ],
   "metadata": {
    "collapsed": false
   },
   "id": "bb0e065cf36affe9"
  },
  {
   "cell_type": "code",
   "execution_count": 17,
   "outputs": [],
   "source": [
    "from deepmol.pipeline import Pipeline\n",
    "\n",
    "pipeline1 = Pipeline.load(\"molecular_starter_prediction_pipeline/trial_77\")\n",
    "pipeline2 = Pipeline.load(\"molecular_starter_prediction_pipeline/trial_79\")\n",
    "pipeline3 = Pipeline.load(\"molecular_starter_prediction_pipeline/trial_80\")"
   ],
   "metadata": {
    "collapsed": false,
    "ExecuteTime": {
     "end_time": "2023-10-27T10:37:41.656099958Z",
     "start_time": "2023-10-27T10:37:41.613928287Z"
    }
   },
   "id": "5155a2e6df83cf76"
  },
  {
   "cell_type": "code",
   "execution_count": 18,
   "outputs": [
    {
     "name": "stdout",
     "output_type": "stream",
     "text": [
      "2023-10-27 11:37:43,487 — INFO — Assuming multitask since y has more than one dimension. If otherwise, explicitly set the mode to 'classification' or 'regression'!\n"
     ]
    }
   ],
   "source": [
    "from scripts.alkaloid_data.molecular_starter_prediction import prepare_data\n",
    "\n",
    "cv_data = prepare_data()"
   ],
   "metadata": {
    "collapsed": false,
    "ExecuteTime": {
     "end_time": "2023-10-27T10:37:43.653526295Z",
     "start_time": "2023-10-27T10:37:43.413400759Z"
    }
   },
   "id": "d1799433b2b3cc4a"
  },
  {
   "cell_type": "code",
   "execution_count": 19,
   "outputs": [],
   "source": [
    "from sklearn.metrics import f1_score, recall_score, precision_score\n",
    "import numpy as np\n",
    "\n",
    "\n",
    "def get_metrics(pipeline, cv_data):\n",
    "    f1_score_list = []\n",
    "    recall_score_list = []\n",
    "    precision_score_list = []\n",
    "    \n",
    "    for train, test in cv_data:\n",
    "        pipeline.fit(train)\n",
    "        y_pred_test = pipeline.predict(test)\n",
    "        f1_score_ = f1_score(test.y, y_pred_test, average=\"macro\")\n",
    "        recall_score_ = recall_score(test.y, y_pred_test, average=\"macro\")\n",
    "        precision_score_ = precision_score(test.y, y_pred_test, average=\"macro\")\n",
    "        \n",
    "        f1_score_list.append(f1_score_)\n",
    "        recall_score_list.append(recall_score_)\n",
    "        precision_score_list.append(precision_score_)\n",
    "        \n",
    "    print(f\"F1 score: avg {np.average(f1_score_list)} +- {np.std(f1_score_list)}\")\n",
    "    print(f\"Recall score: avg {np.average(recall_score_list)} +- {np.std(recall_score_list)}\")\n",
    "    print(f\"Precision score: avg {np.average(precision_score_list)} +- {np.std(precision_score_list)}\")"
   ],
   "metadata": {
    "collapsed": false,
    "ExecuteTime": {
     "end_time": "2023-10-27T10:37:45.248203108Z",
     "start_time": "2023-10-27T10:37:45.244810254Z"
    }
   },
   "id": "18cd5133f38eacc0"
  },
  {
   "cell_type": "code",
   "execution_count": 20,
   "outputs": [
    {
     "name": "stdout",
     "output_type": "stream",
     "text": [
      "F1 score: avg 0.9041771979209722 +- 0.018974085202069415\n",
      "Recall score: avg 0.8952265404296103 +- 0.02556026274960322\n",
      "Precision score: avg 0.9314367241517626 +- 0.024081669990991768\n",
      "F1 score: avg 0.9041771979209722 +- 0.018974085202069415\n",
      "Recall score: avg 0.8952265404296103 +- 0.02556026274960322\n",
      "Precision score: avg 0.9314367241517626 +- 0.024081669990991768\n",
      "F1 score: avg 0.9041771979209722 +- 0.018974085202069415\n",
      "Recall score: avg 0.8952265404296103 +- 0.02556026274960322\n",
      "Precision score: avg 0.9314367241517626 +- 0.024081669990991768\n"
     ]
    }
   ],
   "source": [
    "get_metrics(pipeline1, cv_data)\n",
    "get_metrics(pipeline2, cv_data)\n",
    "get_metrics(pipeline3, cv_data)"
   ],
   "metadata": {
    "collapsed": false,
    "ExecuteTime": {
     "end_time": "2023-10-27T10:38:04.689277584Z",
     "start_time": "2023-10-27T10:37:47.172545670Z"
    }
   },
   "id": "1e1b36e77b08cf1f"
  }
 ],
 "metadata": {
  "kernelspec": {
   "display_name": "Python 3",
   "language": "python",
   "name": "python3"
  },
  "language_info": {
   "codemirror_mode": {
    "name": "ipython",
    "version": 2
   },
   "file_extension": ".py",
   "mimetype": "text/x-python",
   "name": "python",
   "nbconvert_exporter": "python",
   "pygments_lexer": "ipython2",
   "version": "2.7.6"
  }
 },
 "nbformat": 4,
 "nbformat_minor": 5
}
