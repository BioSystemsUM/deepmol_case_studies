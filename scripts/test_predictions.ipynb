{
 "cells": [
  {
   "cell_type": "code",
   "execution_count": null,
   "metadata": {},
   "outputs": [],
   "source": [
    "from dcs.models.np_classifier import NPClassifier\n",
    "\n",
    "NPClassifier()"
   ]
  },
  {
   "cell_type": "code",
   "execution_count": null,
   "metadata": {},
   "outputs": [],
   "source": [
    "from dcs.models import NPClassifier, BBB\n",
    "\n",
    "BBB().predict_from_csv(\"test.csv\", \"smiles\", \"ID\")"
   ]
  },
  {
   "cell_type": "code",
   "execution_count": 6,
   "metadata": {},
   "outputs": [
    {
     "name": "stdout",
     "output_type": "stream",
     "text": [
      "Predicting using Plants secondary metabolite precursors predictor model\n",
      "Models already in cache.\n"
     ]
    },
    {
     "name": "stderr",
     "output_type": "stream",
     "text": [
      "LayeredFingerprint: 100%|██████████| 3/3 [00:00<00:00, 40.46it/s]"
     ]
    },
    {
     "name": "stdout",
     "output_type": "stream",
     "text": [
      "Predicting using NPClassifier model\n",
      "Models already in cache.\n"
     ]
    },
    {
     "name": "stderr",
     "output_type": "stream",
     "text": [
      "\n",
      "2025-01-14 16:11:49.651983: W tensorflow/core/util/tensor_slice_reader.cc:98] Could not open ram://194ce3e42b5245f19ee2bc9147559e6f: INVALID_ARGUMENT: ram://194ce3e42b5245f19ee2bc9147559e6f is a directory.\n",
      "2025-01-14 16:12:05.676914: W tensorflow/core/util/tensor_slice_reader.cc:98] Could not open ram://87223e884a1b4f909d5c96da176281e1: INVALID_ARGUMENT: ram://87223e884a1b4f909d5c96da176281e1 is a directory.\n",
      "NPClassifierFP: 100%|██████████| 3/3 [00:00<00:00, 57.73it/s]"
     ]
    },
    {
     "name": "stdout",
     "output_type": "stream",
     "text": [
      "2025-01-14 16:12:06,033 — ERROR — 'Functional' object has no attribute 'predict_proba'\n",
      "2025-01-14 16:12:06,035 — INFO — <keras.src.engine.functional.Functional object at 0x7fcad1c884c0>\n",
      "2025-01-14 16:12:06,036 — INFO — <class 'keras.src.engine.functional.Functional'>\n"
     ]
    },
    {
     "name": "stderr",
     "output_type": "stream",
     "text": [
      "\n"
     ]
    },
    {
     "name": "stdout",
     "output_type": "stream",
     "text": [
      "1/1 [==============================] - 0s 284ms/step\n"
     ]
    },
    {
     "data": {
      "text/html": [
       "<div>\n",
       "<style scoped>\n",
       "    .dataframe tbody tr th:only-of-type {\n",
       "        vertical-align: middle;\n",
       "    }\n",
       "\n",
       "    .dataframe tbody tr th {\n",
       "        vertical-align: top;\n",
       "    }\n",
       "\n",
       "    .dataframe thead th {\n",
       "        text-align: right;\n",
       "    }\n",
       "</style>\n",
       "<table border=\"1\" class=\"dataframe\">\n",
       "  <thead>\n",
       "    <tr style=\"text-align: right;\">\n",
       "      <th></th>\n",
       "      <th>ID</th>\n",
       "      <th>SMILES</th>\n",
       "      <th>Precursors</th>\n",
       "      <th>Pathways</th>\n",
       "      <th>Superclass</th>\n",
       "      <th>Class</th>\n",
       "    </tr>\n",
       "  </thead>\n",
       "  <tbody>\n",
       "    <tr>\n",
       "      <th>0</th>\n",
       "      <td>cannabigerolic acid</td>\n",
       "      <td>CCCCCC1=CC(=C(C(=C1C(=O)O)O)C/C=C(\\C)/CCC=C(C)C)O</td>\n",
       "      <td></td>\n",
       "      <td>Polyketides, Terpenoids</td>\n",
       "      <td>Meroterpenoids</td>\n",
       "      <td>Cannabinoids</td>\n",
       "    </tr>\n",
       "    <tr>\n",
       "      <th>1</th>\n",
       "      <td>cannabigerolic acid monomethylether</td>\n",
       "      <td>CCCCCC1=CC(=C(C(=C1C(=O)O)O)C/C=C(\\C)/CCC=C(C)...</td>\n",
       "      <td></td>\n",
       "      <td>Polyketides, Terpenoids</td>\n",
       "      <td>Meroterpenoids</td>\n",
       "      <td>Cannabinoids</td>\n",
       "    </tr>\n",
       "    <tr>\n",
       "      <th>2</th>\n",
       "      <td>cannabigerol</td>\n",
       "      <td>CCCCCC1=CC(=C(C(=C1)O)C/C=C(\\C)/CCC=C(C)C)O</td>\n",
       "      <td></td>\n",
       "      <td>Polyketides, Terpenoids</td>\n",
       "      <td>Meroterpenoids</td>\n",
       "      <td>Cannabinoids</td>\n",
       "    </tr>\n",
       "    <tr>\n",
       "      <th>3</th>\n",
       "      <td>test_invalid</td>\n",
       "      <td>CCC1=C(C)CN(C(=O)NCCc2ccc(S(=O$)(=O)NC(=O)N[C@...</td>\n",
       "      <td></td>\n",
       "      <td></td>\n",
       "      <td></td>\n",
       "      <td></td>\n",
       "    </tr>\n",
       "  </tbody>\n",
       "</table>\n",
       "</div>"
      ],
      "text/plain": [
       "                                    ID  \\\n",
       "0                  cannabigerolic acid   \n",
       "1  cannabigerolic acid monomethylether   \n",
       "2                         cannabigerol   \n",
       "3                         test_invalid   \n",
       "\n",
       "                                              SMILES Precursors  \\\n",
       "0  CCCCCC1=CC(=C(C(=C1C(=O)O)O)C/C=C(\\C)/CCC=C(C)C)O              \n",
       "1  CCCCCC1=CC(=C(C(=C1C(=O)O)O)C/C=C(\\C)/CCC=C(C)...              \n",
       "2        CCCCCC1=CC(=C(C(=C1)O)C/C=C(\\C)/CCC=C(C)C)O              \n",
       "3  CCC1=C(C)CN(C(=O)NCCc2ccc(S(=O$)(=O)NC(=O)N[C@...              \n",
       "\n",
       "                  Pathways      Superclass         Class  \n",
       "0  Polyketides, Terpenoids  Meroterpenoids  Cannabinoids  \n",
       "1  Polyketides, Terpenoids  Meroterpenoids  Cannabinoids  \n",
       "2  Polyketides, Terpenoids  Meroterpenoids  Cannabinoids  \n",
       "3                                                         "
      ]
     },
     "execution_count": 6,
     "metadata": {},
     "output_type": "execute_result"
    }
   ],
   "source": [
    "from dcs.models import PlantsSMPrecursorPredictor, MixedPredictor, PlantsSMPrecursorPredictor, NPClassifier\n",
    "MixedPredictor([PlantsSMPrecursorPredictor(), NPClassifier()]).predict_from_csv(\"test.csv\", \"smiles\", \"ID\")"
   ]
  },
  {
   "cell_type": "code",
   "execution_count": null,
   "metadata": {},
   "outputs": [],
   "source": [
    "from deepmol.pipeline import VotingPipeline\n",
    "\n",
    "pipeline = VotingPipeline.load(\"retrain/deployed_models/BBB_Martins/\")"
   ]
  },
  {
   "cell_type": "code",
   "execution_count": 1,
   "metadata": {},
   "outputs": [
    {
     "data": {
      "text/plain": [
       "True"
      ]
     },
     "execution_count": 1,
     "metadata": {},
     "output_type": "execute_result"
    }
   ],
   "source": [
    "import torch \n",
    "\n",
    "torch.cuda.is_available()"
   ]
  },
  {
   "cell_type": "code",
   "execution_count": null,
   "metadata": {},
   "outputs": [],
   "source": [
    "\n",
    "\n",
    "import os\n",
    "os.environ[\"CUDA_DEVICE_ORDER\"] = \"PCI_BUS_ID\"\n",
    "os.environ['CUDA_VISIBLE_DEVICES'] = '-1'\n",
    "\n",
    "import tensorflow as tf\n",
    "print(\"Num GPUs Available:\", len(tf.config.experimental.list_physical_devices('GPU')))\n",
    "\n",
    "from dcs.models import BBB, PPBR, VDss, Caco2, HIA, Bioavailability, \\\n",
    "    Lipophilicity, Solubility, CYP2D6Inhibition, CYP2C9Inhibition, \\\n",
    "        CYP3A4Inhibition, CYP2C9Substrate, CYP3A4Substrate, CYP2D6Substrate, HepatocyteClearance, MicrosomeClearance, hERGBlockers, LD50, MixedPredictor, PlantsSMPrecursorPredictor, NPClassifier\n",
    "\n",
    "# results = MixedPredictor([BBB(), Caco2(), CYP2D6Inhibition(), NPClassifier()]).predict_from_csv(\"test_molecules.csv\", \"Drug\", \"Drug_ID\", output_file=\"predictions.csv\")\n",
    "results = MixedPredictor([BBB(), PPBR(), VDss(), Caco2(), \n",
    "                          HIA(), Bioavailability(), Lipophilicity(),\n",
    "                          Solubility(), CYP2D6Inhibition(), CYP2C9Inhibition(), \n",
    "                          CYP3A4Inhibition(), CYP2C9Substrate(), CYP3A4Substrate(), CYP2D6Substrate(), \n",
    "                          HepatocyteClearance(), MicrosomeClearance(), hERGBlockers(), LD50()]).predict_from_csv(\"test.csv\", \"smiles\", \"ID\", output_file=\"predictions.csv\")\n",
    "results"
   ]
  },
  {
   "cell_type": "code",
   "execution_count": null,
   "metadata": {},
   "outputs": [],
   "source": [
    "results = results.dropna()\n",
    "results"
   ]
  },
  {
   "cell_type": "code",
   "execution_count": null,
   "metadata": {},
   "outputs": [],
   "source": [
    "from rdkit import Chem, DataStructs\n",
    "from rdkit.Chem import AllChem\n",
    "import numpy as np\n",
    "from sklearn.manifold import TSNE\n",
    "import matplotlib.pyplot as plt\n",
    "\n",
    "def generate_tsne_molecular_similarities(dataset, smiles_field):\n",
    "    # Create a function to compute molecular fingerprints\n",
    "    def compute_fingerprint(smiles):\n",
    "        molecule = Chem.MolFromSmiles(smiles)\n",
    "        fingerprint = AllChem.GetMorganFingerprintAsBitVect(molecule, 2, nBits=1024)\n",
    "        return fingerprint\n",
    "\n",
    "    # Compute molecular fingerprints for each molecule in the combined dataset\n",
    "    fingerprints = [compute_fingerprint(smiles) for smiles in dataset.loc[:, smiles_field]]\n",
    "\n",
    "    similarity_matrix = np.zeros((len(fingerprints), len(fingerprints)))\n",
    "    # Compute molecular similarities using Tanimoto coefficient\n",
    "    for i in range(len(fingerprints)):\n",
    "        for j in range(i + 1, len(fingerprints)):\n",
    "            similarity = DataStructs.TanimotoSimilarity(fingerprints[i], fingerprints[j])\n",
    "            similarity_matrix[i, j] = similarity\n",
    "            similarity_matrix[j, i] = similarity\n",
    "\n",
    "    # Apply t-SNE to reduce the dimensionality\n",
    "    tsne = TSNE(n_components=2, random_state=42)\n",
    "    tsne_embeddings = tsne.fit_transform(similarity_matrix)\n",
    "    # Separate the embeddings based on the original datasets\n",
    "    dataset[\"t-sne 1\"] = tsne_embeddings[:, 0]\n",
    "    dataset[\"t-sne 2\"] = tsne_embeddings[:, 1]\n",
    "\n",
    "    return dataset\n",
    "\n",
    "dataset = generate_tsne_molecular_similarities(results, \"SMILES\")"
   ]
  },
  {
   "cell_type": "code",
   "execution_count": null,
   "metadata": {},
   "outputs": [],
   "source": [
    "dataset"
   ]
  },
  {
   "cell_type": "code",
   "execution_count": null,
   "metadata": {},
   "outputs": [],
   "source": [
    "import bokehmol\n",
    "from bokeh.models import ColumnDataSource\n",
    "from bokeh.plotting import figure, show\n",
    "from bokeh.transform import linear_cmap\n",
    "from bokeh.palettes import Spectral10\n",
    "\n",
    "# label = \"LD50_(log(1/(mol/kg)))\"\n",
    "label = \"Human_PPBR\"\n",
    "\n",
    "# Register the dataset with BokehMol\n",
    "bokehmol.register_alias()\n",
    "\n",
    "def assign_color(value):\n",
    "    if value == 1:\n",
    "        return \"green\"\n",
    "    else:\n",
    "        return \"orange\"\n",
    "    \n",
    "y = dataset.loc[:, label]\n",
    "    \n",
    "color_mapper = linear_cmap(field_name=label, palette=Spectral10, low=min(y), high=max(y))\n",
    "\n",
    "# Apply the function to create a color column\n",
    "# dataset[\"color\"] = dataset[\"Bioavailability\"].apply(assign_color)\n",
    "\n",
    "# Create ColumnDataSource\n",
    "dataset.columns = [column.replace(\" \", \"_\") for column in dataset.columns]\n",
    "label = label.replace(\" \", \"_\")\n",
    "source = ColumnDataSource(dataset)\n",
    "\n",
    "# Create plot\n",
    "plot = figure(\n",
    "    width=1000, height=1000,\n",
    "    title=\"DeepMol Hover\",\n",
    "    background_fill_color=\"#efefef\",\n",
    "    tools=\"rdkit_hover,pan,wheel_zoom\",\n",
    ")\n",
    "\n",
    "mol_hover = bokehmol.hover.rdkit(\n",
    "    smiles_column=\"SMILES\",\n",
    "    tooltips=[\n",
    "        (\"ID\", \"@ID\"),\n",
    "        (\"Precursors\", \"@Precursors\"),\n",
    "        (\"Pathway\", \"@Pathways\"),\n",
    "        (\"Superclass\", \"@Superclass\"),\n",
    "        (\"Class\", \"@Class\"),\n",
    "        \n",
    "    ],\n",
    "    draw_options={\n",
    "        \"comicMode\": True\n",
    "    }\n",
    ")\n",
    "\n",
    "plot.add_tools(mol_hover)\n",
    "\n",
    "# Add circles to plot with color mapping\n",
    "# plot.circle(\n",
    "#     \"t-sne 1\", \"t-sne 2\",\n",
    "#     size=15, line_width=0,\n",
    "#      legend_group=\"Bioavailability\",\n",
    "#     color=\"color\",\n",
    "#     source=source\n",
    "# )\n",
    "\n",
    "plot.circle(\n",
    "    \"t-sne_1\", \"t-sne_2\",\n",
    "    size=15, line_width=0,\n",
    "    color=color_mapper, legend_label=label,\n",
    "    source=source\n",
    ")\n",
    "\n",
    "from bokeh.models import ColumnDataSource, ColorBar, LinearColorMapper\n",
    "\n",
    "color_bar = ColorBar(color_mapper=LinearColorMapper(palette=Spectral10, low=min(y), high=max(y)), width=8, location=(0,0))\n",
    "plot.add_layout(color_bar, 'right')\n",
    "\n",
    "# Show plot\n",
    "show(plot)\n"
   ]
  },
  {
   "cell_type": "code",
   "execution_count": null,
   "metadata": {},
   "outputs": [],
   "source": [
    "dataset"
   ]
  }
 ],
 "metadata": {
  "kernelspec": {
   "display_name": "deepmol_models_2",
   "language": "python",
   "name": "python3"
  },
  "language_info": {
   "codemirror_mode": {
    "name": "ipython",
    "version": 3
   },
   "file_extension": ".py",
   "mimetype": "text/x-python",
   "name": "python",
   "nbconvert_exporter": "python",
   "pygments_lexer": "ipython3",
   "version": "3.10.16"
  }
 },
 "nbformat": 4,
 "nbformat_minor": 4
}
