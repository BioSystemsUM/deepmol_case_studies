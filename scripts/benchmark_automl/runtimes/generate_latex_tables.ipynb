{
 "cells": [
  {
   "cell_type": "code",
   "execution_count": 2,
   "metadata": {},
   "outputs": [],
   "source": [
    "import pandas as pd"
   ]
  },
  {
   "cell_type": "markdown",
   "metadata": {},
   "source": [
    "# Standardizers"
   ]
  },
  {
   "cell_type": "code",
   "execution_count": 9,
   "metadata": {},
   "outputs": [
    {
     "name": "stdout",
     "output_type": "stream",
     "text": [
      "\\begin{tabular}{lrlll}\n",
      "\\toprule\n",
      "method & number of molecules & dataset & time & memory \\\\\n",
      "\\midrule\n",
      "BasicStandardizer & 1218 & pgp & 0:00:00.865883 & 2M \\\\\n",
      "CustomStandardizer & 1218 & pgp & 0:00:01.752829 & 1M \\\\\n",
      "ChEMBLStandardizer & 1218 & pgp & 0:00:12.611707 & 3M \\\\\n",
      "BasicStandardizer & 13130 & cyp2d6 & 0:00:08.404389 & 28M \\\\\n",
      "CustomStandardizer & 13130 & cyp2d6 & 0:00:17.505259 & 19M \\\\\n",
      "ChEMBLStandardizer & 13130 & cyp2d6 & 0:02:46.110219 & 28M \\\\\n",
      "BasicStandardizer & 108528 & del & 0:01:28.957517 & 110M \\\\\n",
      "CustomStandardizer & 108528 & del & 0:02:54.926991 & 94M \\\\\n",
      "ChEMBLStandardizer & 108528 & del & 0:29:24.538166 & 104M \\\\\n",
      "\\bottomrule\n",
      "\\end{tabular}\n",
      "\n"
     ]
    }
   ],
   "source": [
    "dataset = pd.read_csv(\"standardizers_benchmark.csv\")\n",
    "print(dataset.loc[:, [\"method\", \"number of molecules\", \"dataset\", \"time\", \"memory\"]].to_latex(index=False))"
   ]
  },
  {
   "cell_type": "code",
   "execution_count": 10,
   "metadata": {},
   "outputs": [
    {
     "name": "stdout",
     "output_type": "stream",
     "text": [
      "\\begin{tabular}{lrlll}\n",
      "\\toprule\n",
      "method & number of molecules & dataset & time & memory \\\\\n",
      "\\midrule\n",
      "TwoDimensionDescriptors & 1218 & pgp & 0:00:51.484962 & 6M \\\\\n",
      "MorganFingerprint & 1218 & pgp & 0:00:03.798326 & 20M \\\\\n",
      "AtomPairFingerprint & 1218 & pgp & 0:00:04.009728 & 20M \\\\\n",
      "LayeredFingerprint & 1218 & pgp & 0:00:06.824582 & 20M \\\\\n",
      "RDKFingerprint & 1218 & pgp & 0:00:06.759357 & 20M \\\\\n",
      "MACCSkeysFingerprint & 1218 & pgp & 0:00:02.394425 & 2M \\\\\n",
      "WeaveFeat & 1218 & pgp & 0:00:32.137911 & 144M \\\\\n",
      "ConvMolFeat & 1218 & pgp & 0:00:14.349492 & 33M \\\\\n",
      "MolGraphConvFeat & 1218 & pgp & 0:00:18.639470 & 11M \\\\\n",
      "SmileImageFeat & 1218 & pgp & 0:00:03.424043 & 120M \\\\\n",
      "SmilesSeqFeat & 1218 & pgp & 0:00:00.399106 & 8M \\\\\n",
      "MolGanFeat & 1218 & pgp & 0:00:03.275481 & 2M \\\\\n",
      "PagtnMolGraphFeat & 1218 & pgp & 0:04:07.935781 & 365M \\\\\n",
      "DMPNNFeat & 1218 & pgp & 0:00:06.542001 & 44M \\\\\n",
      "MATFeat & 1218 & pgp & 0:07:00.602151 & 29M \\\\\n",
      "SmilesOneHotEncoder & 1218 & pgp & 0:00:00.529241 & 61M \\\\\n",
      "TwoDimensionDescriptors & 13130 & cyp2d6 & 0:09:38.500322 & 29M \\\\\n",
      "MorganFingerprint & 13130 & cyp2d6 & 0:00:42.335124 & 212M \\\\\n",
      "AtomPairFingerprint & 13130 & cyp2d6 & 0:00:44.864721 & 212M \\\\\n",
      "LayeredFingerprint & 13130 & cyp2d6 & 0:01:09.825964 & 212M \\\\\n",
      "RDKFingerprint & 13130 & cyp2d6 & 0:01:05.919839 & 212M \\\\\n",
      "MACCSkeysFingerprint & 13130 & cyp2d6 & 0:00:23.898030 & 23M \\\\\n",
      "WeaveFeat & 13130 & cyp2d6 & 0:05:09.420184 & 1G \\\\\n",
      "ConvMolFeat & 13130 & cyp2d6 & 0:02:21.654480 & 313M \\\\\n",
      "MolGraphConvFeat & 13130 & cyp2d6 & 0:02:39.309067 & 103M \\\\\n",
      "SmileImageFeat & 13130 & cyp2d6 & 0:00:32.818721 & 1G \\\\\n",
      "SmilesSeqFeat & 13130 & cyp2d6 & 0:00:03.997852 & 89M \\\\\n",
      "MolGanFeat & 13130 & cyp2d6 & 0:00:35.316506 & 12M \\\\\n",
      "PagtnMolGraphFeat & 13130 & cyp2d6 & 0:37:25.671190 & 3G \\\\\n",
      "DMPNNFeat & 13130 & cyp2d6 & 0:01:06.665473 & 438M \\\\\n",
      "MATFeat & 13130 & cyp2d6 & 0:22:29.259485 & 273M \\\\\n",
      "SmilesOneHotEncoder & 13130 & cyp2d6 & 0:00:13.351314 & 4G \\\\\n",
      "TwoDimensionDescriptors & 108528 & del & 2:41:04.980866 & 231M \\\\\n",
      "MorganFingerprint & 108528 & del & 0:12:40.981296 & 1G \\\\\n",
      "AtomPairFingerprint & 108528 & del & 0:13:19.542789 & 1G \\\\\n",
      "LayeredFingerprint & 108528 & del & 0:21:49.614808 & 1G \\\\\n",
      "RDKFingerprint & 108528 & del & 0:20:48.748008 & 1G \\\\\n",
      "MACCSkeysFingerprint & 108528 & del & 0:06:51.885529 & 188M \\\\\n",
      "WeaveFeat & 108528 & del & 2:46:00.115443 & 16G \\\\\n",
      "ConvMolFeat & 108528 & del & 0:49:33.943746 & 3G \\\\\n",
      "MolGraphConvFeat & 108528 & del & 1:07:03.474549 & 1G \\\\\n",
      "SmileImageFeat & 108528 & del & 0:10:16.056052 & 10G \\\\\n",
      "SmilesSeqFeat & 108528 & del & 0:01:24.161649 & 732M \\\\\n",
      "PagtnMolGraphFeat & 108528 & del & 17:14:47.803964 & 41G \\\\\n",
      "DMPNNFeat & 108528 & del & 0:27:38.398169 & 4G \\\\\n",
      "MATFeat & 108528 & del & 0:50:19.134727 & 2G \\\\\n",
      "SmilesOneHotEncoder & 108528 & del & 0:01:42.103098 & 3G \\\\\n",
      "\\bottomrule\n",
      "\\end{tabular}\n",
      "\n"
     ]
    }
   ],
   "source": [
    "dataset = pd.read_csv(\"featurizers_benchmark.csv\")\n",
    "print(dataset.loc[:, [\"method\", \"number of molecules\", \"dataset\", \"time\", \"memory\"]].to_latex(index=False))"
   ]
  },
  {
   "cell_type": "code",
   "execution_count": 2,
   "metadata": {},
   "outputs": [
    {
     "name": "stdout",
     "output_type": "stream",
     "text": [
      "\\begin{tabular}{lrlll}\n",
      "\\toprule\n",
      "method & number of molecules & dataset & time & memory \\\\\n",
      "\\midrule\n",
      "StandardScaler & 1218 & pgp & 0:00:00.036870 & 3M \\\\\n",
      "RobustScaler & 1218 & pgp & 0:00:00.146046 & 2M \\\\\n",
      "PowerTransformer & 1218 & pgp & 0:00:03.748617 & 4M \\\\\n",
      "MinMaxScaler & 1218 & pgp & 0:00:00.005394 & 1M \\\\\n",
      "MaxAbsScaler & 1218 & pgp & 0:00:00.003697 & 1M \\\\\n",
      "Normalizer & 1218 & pgp & 0:00:00.004271 & 1M \\\\\n",
      "Binarizer & 1218 & pgp & 0:00:00.007342 & 2M \\\\\n",
      "QuantileTransformer & 1218 & pgp & 0:00:00.746957 & 4M \\\\\n",
      "StandardScaler & 12973 & cyp2d6 & 0:00:00.106650 & 33M \\\\\n",
      "RobustScaler & 12973 & cyp2d6 & 0:00:00.350655 & 20M \\\\\n",
      "PowerTransformer & 12973 & cyp2d6 & 0:00:10.528764 & 44M \\\\\n",
      "MinMaxScaler & 12973 & cyp2d6 & 0:00:00.044477 & 20M \\\\\n",
      "MaxAbsScaler & 12973 & cyp2d6 & 0:00:00.045481 & 20M \\\\\n",
      "Normalizer & 12973 & cyp2d6 & 0:00:00.045101 & 20M \\\\\n",
      "Binarizer & 12973 & cyp2d6 & 0:00:00.090301 & 25M \\\\\n",
      "QuantileTransformer & 12973 & cyp2d6 & 0:00:00.606652 & 22M \\\\\n",
      "StandardScaler & 108528 & del & 0:00:01.068343 & 282M \\\\\n",
      "RobustScaler & 108528 & del & 0:00:01.396247 & 174M \\\\\n",
      "PowerTransformer & 108528 & del & 0:00:40.310190 & 369M \\\\\n",
      "MinMaxScaler & 108528 & del & 0:00:00.583485 & 173M \\\\\n",
      "MaxAbsScaler & 108528 & del & 0:00:00.560173 & 173M \\\\\n",
      "Normalizer & 108528 & del & 0:00:00.567026 & 174M \\\\\n",
      "Binarizer & 108528 & del & 0:00:00.877012 & 217M \\\\\n",
      "QuantileTransformer & 108528 & del & 0:00:04.092373 & 179M \\\\\n",
      "\\bottomrule\n",
      "\\end{tabular}\n",
      "\n"
     ]
    }
   ],
   "source": [
    "import pandas as pd\n",
    "\n",
    "dataset = pd.read_csv(\"scalers_benchmark.csv\")\n",
    "print(dataset.loc[:, [\"method\", \"number of molecules\", \"dataset\", \"time\", \"memory\"]].to_latex(index=False))"
   ]
  },
  {
   "cell_type": "code",
   "execution_count": 3,
   "metadata": {},
   "outputs": [
    {
     "name": "stdout",
     "output_type": "stream",
     "text": [
      "\\begin{tabular}{lrlll}\n",
      "\\toprule\n",
      "method & number of molecules & dataset & time & memory \\\\\n",
      "\\midrule\n",
      "KbestFS & 1218 & pgp & 0:00:00.383661 & 43M \\\\\n",
      "LowVarianceFS & 1218 & pgp & 0:00:00.402128 & 62M \\\\\n",
      "PercentilFS & 1218 & pgp & 0:00:00.401243 & 43M \\\\\n",
      "SelectFromModelFS & 1218 & pgp & 0:00:02.794239 & 27M \\\\\n",
      "BorutaAlgorithm & 1218 & pgp & 0:22:23.306766 & 122M \\\\\n",
      "KbestFS & 13130 & cyp2d6 & 0:00:02.872155 & 497M \\\\\n",
      "LowVarianceFS & 13130 & cyp2d6 & 0:00:03.721210 & 671M \\\\\n",
      "PercentilFS & 13130 & cyp2d6 & 0:00:03.890338 & 497M \\\\\n",
      "SelectFromModelFS & 13130 & cyp2d6 & 0:00:08.395501 & 257M \\\\\n",
      "BorutaAlgorithm & 13130 & cyp2d6 & 0:28:37.547132 & 684M \\\\\n",
      "KbestFS & 108528 & del & 0:00:29.619292 & 4G \\\\\n",
      "LowVarianceFS & 108528 & del & 0:00:37.264135 & 5G \\\\\n",
      "PercentilFS & 108528 & del & 0:00:37.205797 & 4G \\\\\n",
      "SelectFromModelFS & 108528 & del & 0:00:51.520389 & 2G \\\\\n",
      "BorutaAlgorithm & 108528 & del & 0:54:34.578795 & 5G \\\\\n",
      "\\bottomrule\n",
      "\\end{tabular}\n",
      "\n"
     ]
    }
   ],
   "source": [
    "import pandas as pd\n",
    "\n",
    "dataset = pd.read_csv(\"feature_selectors_benchmark.csv\")\n",
    "print(dataset.loc[:, [\"method\", \"number of molecules\", \"dataset\", \"time\", \"memory\"]].to_latex(index=False))"
   ]
  },
  {
   "cell_type": "code",
   "execution_count": 4,
   "metadata": {},
   "outputs": [
    {
     "name": "stdout",
     "output_type": "stream",
     "text": [
      "\\begin{tabular}{llllll}\n",
      "\\toprule\n",
      "number of molecules start & number of molecules end & method & dataset & time & memory \\\\\n",
      "\\midrule\n",
      "positive class: 650, negative class: 568 & positive class: 650, negative class: 650 & RandomOverSampler & pgp & 0:00:00.009026 & 2M \\\\\n",
      "positive class: 650, negative class: 568 & positive class: 650, negative class: 650 & SMOTE & pgp & 0:00:00.457654 & 2M \\\\\n",
      "positive class: 650, negative class: 568 & positive class: 568, negative class: 568 & ClusterCentroids & pgp & 0:00:11.942811 & 4M \\\\\n",
      "positive class: 650, negative class: 568 & positive class: 568, negative class: 568 & RandomUnderSampler & pgp & 0:00:00.001930 & 1M \\\\\n",
      "positive class: 650, negative class: 568 & positive class: 511, negative class: 433 & SMOTEENN & pgp & 0:00:01.189998 & 2M \\\\\n",
      "positive class: 650, negative class: 568 & positive class: 623, negative class: 623 & SMOTETomek & pgp & 0:00:01.034480 & 2M \\\\\n",
      "positive class: 2508, negative class: 10465 & positive class: 10465, negative class: 10465 & RandomOverSampler & cyp2d6 & 0:00:01.986503 & 34M \\\\\n",
      "positive class: 2508, negative class: 10465 & positive class: 10465, negative class: 10465 & SMOTE & cyp2d6 & 0:00:01.060421 & 38M \\\\\n",
      "positive class: 2508, negative class: 10465 & positive class: 2508, negative class: 2508 & ClusterCentroids & cyp2d6 & 0:05:24.005090 & 29M \\\\\n",
      "positive class: 2508, negative class: 10465 & positive class: 2508, negative class: 2508 & RandomUnderSampler & cyp2d6 & 0:00:00.011052 & 4M \\\\\n",
      "positive class: 5296, negative class: 103232 & positive class: 103232, negative class: 103232 & RandomOverSampler & del & 0:03:37.087319 & 336M \\\\\n",
      "positive class: 5296, negative class: 103232 & positive class: 103232, negative class: 103232 & SMOTE & del & 0:00:05.439133 & 409M \\\\\n",
      "\\bottomrule\n",
      "\\end{tabular}\n",
      "\n"
     ]
    }
   ],
   "source": [
    "import pandas as pd\n",
    "\n",
    "dataset = pd.read_csv(\"unbalanced_learn_benchmark.csv\")\n",
    "dataset\n",
    "print(dataset.to_latex(index=False))"
   ]
  }
 ],
 "metadata": {
  "kernelspec": {
   "display_name": "deepmol_case_studies",
   "language": "python",
   "name": "python3"
  },
  "language_info": {
   "codemirror_mode": {
    "name": "ipython",
    "version": 3
   },
   "file_extension": ".py",
   "mimetype": "text/x-python",
   "name": "python",
   "nbconvert_exporter": "python",
   "pygments_lexer": "ipython3",
   "version": "3.10.15"
  }
 },
 "nbformat": 4,
 "nbformat_minor": 2
}
