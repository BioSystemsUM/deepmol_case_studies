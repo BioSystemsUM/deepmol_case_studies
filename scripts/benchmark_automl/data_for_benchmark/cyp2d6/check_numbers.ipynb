{
 "cells": [
  {
   "cell_type": "code",
   "execution_count": null,
   "metadata": {},
   "outputs": [],
   "source": []
  },
  {
   "cell_type": "code",
   "execution_count": 6,
   "metadata": {},
   "outputs": [],
   "source": [
    "import pandas as pd\n",
    "\n",
    "train = pd.read_csv(\"train.csv\")\n",
    "valid = pd.read_csv(\"val.csv\")\n",
    "\n",
    "train_valid_merged = pd.concat((train, valid), ignore_index=True)\n",
    "train_valid_merged.to_csv(\"train_valid.csv\")"
   ]
  },
  {
   "cell_type": "code",
   "execution_count": 1,
   "metadata": {},
   "outputs": [
    {
     "name": "stdout",
     "output_type": "stream",
     "text": [
      "0.3516819571865444\n",
      "0.2857142857142857\n",
      "0.4572564612326044\n",
      "0.23452598174812833\n",
      "0.5933341129692433\n",
      "0.15930983405702367\n"
     ]
    }
   ],
   "source": [
    "import pickle\n",
    "\n",
    "from sklearn.metrics import f1_score, precision_recall_curve, auc, precision_score, recall_score, accuracy_score, average_precision_score, balanced_accuracy_score, matthews_corrcoef\n",
    "\n",
    "import pandas as pd\n",
    "\n",
    "\n",
    "with open(\"deepmol_predictions.pkl\", \"rb\") as f:\n",
    "    deepmol_predictions = pickle.load(f)\n",
    "\n",
    "y_true = pd.read_csv(\"test.csv\").loc[:, \"Y\"]\n",
    "deepmol_predictions = (deepmol_predictions > 0.5).astype(int)\n",
    "print(f1_score(y_true, deepmol_predictions))\n",
    "print(precision_score(y_true, deepmol_predictions))\n",
    "print(recall_score(y_true, deepmol_predictions))\n",
    "print(average_precision_score(y_true, deepmol_predictions))\n",
    "print(balanced_accuracy_score(y_true, deepmol_predictions))\n",
    "print(matthews_corrcoef(y_true, deepmol_predictions))"
   ]
  },
  {
   "cell_type": "code",
   "execution_count": 2,
   "metadata": {},
   "outputs": [
    {
     "name": "stdout",
     "output_type": "stream",
     "text": [
      "0.23827629911280096\n",
      "0.32867132867132864\n",
      "0.18687872763419483\n",
      "0.21705333876825475\n",
      "0.5482628932288621\n",
      "0.1219355514158262\n"
     ]
    }
   ],
   "source": [
    "predictions_qsartuna = pd.read_csv(\"prediction_qsartuna.csv\").loc[:, \"Prediction\"]\n",
    "predictions_qsartuna = (predictions_qsartuna > 0.5).astype(int)\n",
    "predictions_qsartuna\n",
    "print(f1_score(y_true, predictions_qsartuna))\n",
    "print(precision_score(y_true, predictions_qsartuna))\n",
    "print(recall_score(y_true, predictions_qsartuna))\n",
    "print(average_precision_score(y_true, predictions_qsartuna))\n",
    "print(balanced_accuracy_score(y_true, predictions_qsartuna))\n",
    "print(matthews_corrcoef(y_true, predictions_qsartuna))"
   ]
  }
 ],
 "metadata": {
  "kernelspec": {
   "display_name": "deepmol_case_studies",
   "language": "python",
   "name": "python3"
  },
  "language_info": {
   "codemirror_mode": {
    "name": "ipython",
    "version": 3
   },
   "file_extension": ".py",
   "mimetype": "text/x-python",
   "name": "python",
   "nbconvert_exporter": "python",
   "pygments_lexer": "ipython3",
   "version": "3.10.15"
  }
 },
 "nbformat": 4,
 "nbformat_minor": 2
}
