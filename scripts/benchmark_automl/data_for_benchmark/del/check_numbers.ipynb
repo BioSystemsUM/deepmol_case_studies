{
 "cells": [
  {
   "cell_type": "code",
   "execution_count": null,
   "metadata": {},
   "outputs": [],
   "source": []
  },
  {
   "cell_type": "code",
   "execution_count": 6,
   "metadata": {},
   "outputs": [],
   "source": [
    "import pandas as pd\n",
    "\n",
    "train = pd.read_csv(\"train.csv\")\n",
    "valid = pd.read_csv(\"val.csv\")\n",
    "\n",
    "train_valid_merged = pd.concat((train, valid), ignore_index=True)\n",
    "train_valid_merged.to_csv(\"train_valid.csv\")"
   ]
  },
  {
   "cell_type": "code",
   "execution_count": 29,
   "metadata": {},
   "outputs": [],
   "source": [
    "# Start with the imports.\n",
    "import sklearn\n",
    "import optuna\n",
    "from optunaz.three_step_opt_build_merge import (\n",
    "    optimize,\n",
    "    buildconfig_best,\n",
    "    build_best,\n",
    "    build_merged,\n",
    ")\n",
    "from optunaz.config import ModelMode, OptimizationDirection\n",
    "from optunaz.config.optconfig import (\n",
    "    OptimizationConfig,\n",
    ")\n",
    "from optunaz.datareader import Dataset\n",
    "from optunaz.descriptors import  *\n",
    "from optunaz.config.optconfig import *\n",
    "\n",
    "# Prepare hyperparameter optimization configuration.\n",
    "config = OptimizationConfig(\n",
    "    data=Dataset(\n",
    "        input_column=\"smiles\",\n",
    "        response_column=\"true_labels_R\",\n",
    "        training_dataset_file=\"train_valid.csv\",\n",
    "    ),\n",
    "    descriptors=[\n",
    "        Avalon.new(),\n",
    "        ECFP.new(),\n",
    "        ECFP_counts.new(),\n",
    "        PathFP.new(),\n",
    "        AmorProtDescriptors.new(),\n",
    "        MACCS_keys.new(),\n",
    "        UnscaledMAPC.new(),\n",
    "        UnscaledPhyschemDescriptors.new(),\n",
    "        UnscaledMAPC.new(),\n",
    "        UnscaledJazzyDescriptors.new(),\n",
    "        UnscaledZScalesDescriptors.new(),\n",
    "        SmilesFromFile.new()\n",
    "\n",
    "    ],\n",
    "    algorithms=[\n",
    "        ChemPropClassifier.new(epochs=4),\n",
    "        RandomForestClassifier.new(),\n",
    "        PRFClassifier.new(),\n",
    "        AdaBoostClassifier.new(),\n",
    "        KNeighborsClassifier.new(),\n",
    "        SVC.new(),\n",
    "        ChemPropHyperoptClassifier.new(),\n",
    "        # Mapie.new()<\n",
    "    ],\n",
    "    settings=OptimizationConfig.Settings(\n",
    "        mode=ModelMode.CLASSIFICATION,\n",
    "        cross_validation=1,\n",
    "        scoring=\"f1\",\n",
    "        n_trials=20,\n",
    "        random_seed=42,\n",
    "        direction=OptimizationDirection.MAXIMIZATION,\n",
    "    ),\n",
    ")"
   ]
  },
  {
   "cell_type": "code",
   "execution_count": null,
   "metadata": {},
   "outputs": [],
   "source": [
    "study = optimize(config, study_name=\"my_study\")"
   ]
  },
  {
   "cell_type": "code",
   "execution_count": 3,
   "metadata": {},
   "outputs": [
    {
     "data": {
      "text/plain": [
       "true_labels_R\n",
       "0    61940\n",
       "1     3176\n",
       "Name: count, dtype: int64"
      ]
     },
     "execution_count": 3,
     "metadata": {},
     "output_type": "execute_result"
    }
   ],
   "source": [
    "train.true_labels_R.value_counts()"
   ]
  },
  {
   "cell_type": "code",
   "execution_count": 5,
   "metadata": {},
   "outputs": [
    {
     "data": {
      "text/plain": [
       "true_labels_R\n",
       "0    20646\n",
       "1     1059\n",
       "Name: count, dtype: int64"
      ]
     },
     "execution_count": 5,
     "metadata": {},
     "output_type": "execute_result"
    }
   ],
   "source": [
    "import pandas as pd\n",
    "\n",
    "train = pd.read_csv(\"val.csv\")\n",
    "train.true_labels_R.value_counts()"
   ]
  },
  {
   "cell_type": "code",
   "execution_count": 6,
   "metadata": {},
   "outputs": [
    {
     "name": "stdout",
     "output_type": "stream",
     "text": [
      "0.16358839050131926\n",
      "0.1854066985645933\n",
      "0.14636449480642116\n",
      "0.0687825098951754\n",
      "0.5566915461246363\n",
      "0.1269288967429531\n"
     ]
    }
   ],
   "source": [
    "import pickle\n",
    "\n",
    "from sklearn.metrics import f1_score, roc_auc_score, precision_score, recall_score, balanced_accuracy_score, average_precision_score, matthews_corrcoef\n",
    "\n",
    "import pandas as pd\n",
    "\n",
    "\n",
    "with open(\"deepmol_predictions.pkl\", \"rb\") as f:\n",
    "    deepmol_predictions = pickle.load(f)\n",
    "\n",
    "deepmol_predictions = (deepmol_predictions > 0.5).astype(int)\n",
    "\n",
    "y_true = pd.read_csv(\"test.csv\").loc[:, \"true_labels_R\"]\n",
    "print(f1_score(y_true, deepmol_predictions))\n",
    "print(precision_score(y_true, deepmol_predictions))\n",
    "print(recall_score(y_true, deepmol_predictions))\n",
    "print(average_precision_score(y_true, deepmol_predictions))\n",
    "print(balanced_accuracy_score(y_true, deepmol_predictions))\n",
    "print(matthews_corrcoef(y_true, deepmol_predictions))"
   ]
  },
  {
   "cell_type": "code",
   "execution_count": 7,
   "metadata": {},
   "outputs": [
    {
     "name": "stdout",
     "output_type": "stream",
     "text": [
      "0.1340909090909091\n",
      "0.08829691709069142\n",
      "0.2785646836638338\n",
      "0.05979242249500215\n",
      "0.5655221713553574\n",
      "0.0782275492831921\n"
     ]
    }
   ],
   "source": [
    "predictions_qsartuna = pd.read_csv(\"prediction_qsartuna.csv\").loc[:, \"Prediction\"]\n",
    "predictions_qsartuna = (predictions_qsartuna > 0.5).astype(int)\n",
    "predictions_qsartuna\n",
    "print(f1_score(y_true, predictions_qsartuna))\n",
    "print(precision_score(y_true, predictions_qsartuna))\n",
    "print(recall_score(y_true, predictions_qsartuna))\n",
    "print(average_precision_score(y_true, predictions_qsartuna))\n",
    "print(balanced_accuracy_score(y_true, predictions_qsartuna))\n",
    "print(matthews_corrcoef(y_true, predictions_qsartuna))"
   ]
  }
 ],
 "metadata": {
  "kernelspec": {
   "display_name": "my_env_with_qsartuna",
   "language": "python",
   "name": "python3"
  },
  "language_info": {
   "codemirror_mode": {
    "name": "ipython",
    "version": 3
   },
   "file_extension": ".py",
   "mimetype": "text/x-python",
   "name": "python",
   "nbconvert_exporter": "python",
   "pygments_lexer": "ipython3",
   "version": "3.10.15"
  }
 },
 "nbformat": 4,
 "nbformat_minor": 2
}
