{
 "cells": [
  {
   "cell_type": "code",
   "execution_count": null,
   "metadata": {},
   "outputs": [],
   "source": []
  },
  {
   "cell_type": "code",
   "execution_count": 4,
   "metadata": {},
   "outputs": [],
   "source": [
    "import pandas as pd\n",
    "\n",
    "train = pd.read_csv(\"train.csv\")\n",
    "valid = pd.read_csv(\"val.csv\")\n",
    "\n",
    "train_valid_merged = pd.concat((train, valid), ignore_index=True)\n",
    "train_valid_merged.to_csv(\"train_valid.csv\")"
   ]
  },
  {
   "cell_type": "code",
   "execution_count": 5,
   "metadata": {},
   "outputs": [],
   "source": [
    "import pandas as pd\n",
    "\n",
    "train = pd.read_csv(\"train.csv\")\n",
    "valid = pd.read_csv(\"val.csv\")"
   ]
  },
  {
   "cell_type": "code",
   "execution_count": 9,
   "metadata": {},
   "outputs": [],
   "source": [
    "from rdkit import Chem\n",
    "from rdkit.Chem import AllChem, DataStructs\n",
    "\n",
    "tanim_similarities = []\n",
    "for smiles_train in train.smiles:\n",
    "    \n",
    "    train_mol = Chem.MolFromSmiles(smiles_train)\n",
    "    fingerprint1 = AllChem.GetMorganFingerprintAsBitVect(train_mol, radius=2, nBits=1024)\n",
    "    for smiles_valid in valid.smiles:\n",
    "        valid_mol = Chem.MolFromSmiles(smiles_valid)\n",
    "\n",
    "        fingerprint2 = AllChem.GetMorganFingerprintAsBitVect(valid_mol, radius=2, nBits=1024)\n",
    "\n",
    "        # Calculate the Tanimoto similarity\n",
    "        tanimoto_similarity = DataStructs.TanimotoSimilarity(fingerprint1, fingerprint2)\n",
    "        tanim_similarities.append(tanimoto_similarity)"
   ]
  },
  {
   "cell_type": "code",
   "execution_count": 10,
   "metadata": {},
   "outputs": [
    {
     "data": {
      "text/plain": [
       "0.9152542372881356"
      ]
     },
     "execution_count": 10,
     "metadata": {},
     "output_type": "execute_result"
    }
   ],
   "source": [
    "max(tanim_similarities)"
   ]
  },
  {
   "cell_type": "code",
   "execution_count": null,
   "metadata": {},
   "outputs": [
    {
     "name": "stdout",
     "output_type": "stream",
     "text": [
      "0.917802726543705\n",
      "0.8717948717948718\n",
      "0.8263888888888888\n",
      "0.9224806201550387\n",
      "0.8571428571428571\n",
      "0.7170985336307684\n"
     ]
    }
   ],
   "source": [
    "import pickle\n",
    "\n",
    "from sklearn.metrics import f1_score, roc_auc_score, precision_score, recall_score, accuracy_score, matthews_corrcoef\n",
    "\n",
    "import pandas as pd\n",
    "\n",
    "\n",
    "with open(\"deepmol_predictions.pkl\", \"rb\") as f:\n",
    "    deepmol_predictions = pickle.load(f)\n",
    "\n",
    "y_true = pd.read_csv(\"test.csv\").loc[:, \"Y\"]\n",
    "print(roc_auc_score(y_true, deepmol_predictions))\n",
    "deepmol_predictions = (deepmol_predictions > 0.5).astype(int)\n",
    "print(f1_score(y_true, deepmol_predictions))\n",
    "print(precision_score(y_true, deepmol_predictions))\n",
    "print(recall_score(y_true, deepmol_predictions))\n",
    "print(accuracy_score(y_true, deepmol_predictions))\n",
    "print(matthews_corrcoef(y_true, deepmol_predictions))"
   ]
  },
  {
   "cell_type": "code",
   "execution_count": null,
   "metadata": {},
   "outputs": [
    {
     "name": "stdout",
     "output_type": "stream",
     "text": [
      "0.9072774659182037\n",
      "0.8654545454545455\n",
      "0.815068493150685\n",
      "0.9224806201550387\n",
      "0.8489795918367347\n",
      "0.7017847119752898\n"
     ]
    }
   ],
   "source": [
    "predictions_qsartuna = pd.read_csv(\"prediction_qsartuna.csv\").loc[:, \"Prediction\"]\n",
    "predictions_qsartuna\n",
    "print(roc_auc_score(y_true, predictions_qsartuna))\n",
    "predictions_qsartuna = (predictions_qsartuna > 0.5).astype(int)\n",
    "print(f1_score(y_true, predictions_qsartuna))\n",
    "print(precision_score(y_true, predictions_qsartuna))\n",
    "print(recall_score(y_true, predictions_qsartuna))\n",
    "print(accuracy_score(y_true, predictions_qsartuna))\n",
    "print(matthews_corrcoef(y_true, predictions_qsartuna))"
   ]
  }
 ],
 "metadata": {
  "kernelspec": {
   "display_name": "deepmol_case_studies",
   "language": "python",
   "name": "python3"
  },
  "language_info": {
   "codemirror_mode": {
    "name": "ipython",
    "version": 3
   },
   "file_extension": ".py",
   "mimetype": "text/x-python",
   "name": "python",
   "nbconvert_exporter": "python",
   "pygments_lexer": "ipython3",
   "version": "3.10.15"
  }
 },
 "nbformat": 4,
 "nbformat_minor": 2
}
