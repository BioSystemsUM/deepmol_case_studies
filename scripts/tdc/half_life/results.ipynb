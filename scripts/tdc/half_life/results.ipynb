{
 "cells": [
  {
   "cell_type": "markdown",
   "id": "86a59e63e6143206",
   "metadata": {
    "collapsed": false
   },
   "source": [
    "# Half Life, Obach et al.\n",
    "\n",
    "### Dataset Description: Half life of a drug is the duration for the concentration of the drug in the body to be reduced by half. It measures the duration of actions of a drug. This dataset is from [1] and we obtain the deposited version under CHEMBL assay 1614674.\n",
    "\n",
    "### Task Description: Regression. Given a drug SMILES string, predict the half life duration.\n",
    "\n",
    "### Dataset Statistics: 667 drugs.\n",
    "\n",
    "### Metric: Spearman\n",
    "\n",
    "## Leaderboard\n",
    "\n",
    "| Rank | Model                       | Contact           | Link          | #Params   | Spearman      |\n",
    "|------|-----------------------------|-------------------|---------------|-----------|---------------|\n",
    "| 1    | MapLight                    | Jim Notwell       | GitHub, Paper | N/A       | 0.562 ± 0.008 |\n",
    "| 2    | MapLight + GNN              | Jim Notwell       | GitHub, Paper | N/A       | 0.557 ± 0.034 |\n",
    "| 3    | Euclia ML model             | Euclia            | GitHub, Paper | 50        | 0.547 ± 0.032 |\n",
    "| 4    | Voting Regressor (KNN, SVM) | Euclia            | GitHub, Paper | 5         | 0.544 ± 0.034 |\n",
    "| 5    | Basic ML                    | Nilavo Boral      | GitHub, Paper | N/A       | 0.438 ± 0.011 |\n",
    "| 6    | SimGCN                      | Suman Kalyan Bera | GitHub, Paper | 1,103,000 | 0.392 ± 0.065 |\n",
    "| 7    | Morgan + MLP (DeepPurpose)  | Kexin Huang       | GitHub, Paper | 1,477,185 | 0.329 ± 0.083 |\n",
    "| 8    | Chemprop                    | Kyle Swanson      | GitHub, Paper | N/A       | 0.265 ± 0.032 |\n",
    "| 9    | Chemprop-RDKit              | Kyle Swanson      | GitHub, Paper | N/A       | 0.239 ± 0.019 |\n",
    "| 10   | GCN                         | Kexin Huang       | GitHub, Paper | 191,810   | 0.239 ± 0.100 |\n",
    "| 11   | RDKit2D + MLP (DeepPurpose) | Kexin Huang       | GitHub, Paper | 633,409   | 0.184 ± 0.111 |\n",
    "| 12   | NeuralFP                    | Kexin Huang       | GitHub, Paper | 480,193   | 0.177 ± 0.165 |\n",
    "| 13   | AttrMasking                 | Kexin Huang       | GitHub, Paper | 2,067,053 | 0.151 ± 0.068 |\n",
    "| 14   | ContextPred                 | Kexin Huang       | GitHub, Paper | 2,067,053 | 0.129 ± 0.114 |\n",
    "| 15   | AttentiveFP                 | Kexin Huang       | GitHub, Paper | 300,806   | 0.085 ± 0.068 |\n",
    "| 16   | CNN (DeepPurpose)           | Kexin Huang       | GitHub, Paper | 226,625   | 0.038 ± 0.138 |"
   ]
  },
  {
   "cell_type": "code",
   "execution_count": 2,
   "id": "initial_id",
   "metadata": {
    "ExecuteTime": {
     "end_time": "2023-11-08T15:18:15.592897309Z",
     "start_time": "2023-11-08T15:18:15.546296433Z"
    },
    "collapsed": false
   },
   "outputs": [
    {
     "name": "stderr",
     "output_type": "stream",
     "text": [
      "/tmp/ipykernel_2850454/3721360103.py:1: DeprecationWarning: \n",
      "Pyarrow will become a required dependency of pandas in the next major release of pandas (pandas 3.0),\n",
      "(to allow more performant data types, such as the Arrow string type, and better interoperability with other libraries)\n",
      "but was not found to be installed on your system.\n",
      "If this would cause problems for you,\n",
      "please provide us feedback at https://github.com/pandas-dev/pandas/issues/54466\n",
      "        \n",
      "  import pandas as pd\n",
      "2024-01-24 13:30:22.324407: I tensorflow/tsl/cuda/cudart_stub.cc:28] Could not find cuda drivers on your machine, GPU will not be used.\n",
      "2024-01-24 13:30:22.387247: E tensorflow/compiler/xla/stream_executor/cuda/cuda_dnn.cc:9342] Unable to register cuDNN factory: Attempting to register factory for plugin cuDNN when one has already been registered\n",
      "2024-01-24 13:30:22.387312: E tensorflow/compiler/xla/stream_executor/cuda/cuda_fft.cc:609] Unable to register cuFFT factory: Attempting to register factory for plugin cuFFT when one has already been registered\n",
      "2024-01-24 13:30:22.387350: E tensorflow/compiler/xla/stream_executor/cuda/cuda_blas.cc:1518] Unable to register cuBLAS factory: Attempting to register factory for plugin cuBLAS when one has already been registered\n",
      "2024-01-24 13:30:22.396004: I tensorflow/tsl/cuda/cudart_stub.cc:28] Could not find cuda drivers on your machine, GPU will not be used.\n",
      "2024-01-24 13:30:22.397143: I tensorflow/core/platform/cpu_feature_guard.cc:182] This TensorFlow binary is optimized to use available CPU instructions in performance-critical operations.\n",
      "To enable the following instructions: AVX2 AVX512F FMA, in other operations, rebuild TensorFlow with the appropriate compiler flags.\n",
      "2024-01-24 13:30:23.848121: W tensorflow/compiler/tf2tensorrt/utils/py_utils.cc:38] TF-TRT Warning: Could not find TensorRT\n",
      "Skipped loading modules with pytorch-lightning dependency, missing a dependency. No module named 'pytorch_lightning'\n",
      "Skipped loading some Jax models, missing a dependency. No module named 'jax'\n"
     ]
    }
   ],
   "source": [
    "import pandas as pd\n",
    "from deepmol.pipeline import Pipeline"
   ]
  },
  {
   "cell_type": "code",
   "execution_count": 4,
   "id": "6753179565f6d258",
   "metadata": {
    "ExecuteTime": {
     "end_time": "2023-11-08T15:20:56.519757003Z",
     "start_time": "2023-11-08T15:20:56.463920220Z"
    },
    "collapsed": false
   },
   "outputs": [
    {
     "data": {
      "text/html": [
       "<div>\n",
       "<style scoped>\n",
       "    .dataframe tbody tr th:only-of-type {\n",
       "        vertical-align: middle;\n",
       "    }\n",
       "\n",
       "    .dataframe tbody tr th {\n",
       "        vertical-align: top;\n",
       "    }\n",
       "\n",
       "    .dataframe thead th {\n",
       "        text-align: right;\n",
       "    }\n",
       "</style>\n",
       "<table border=\"1\" class=\"dataframe\">\n",
       "  <thead>\n",
       "    <tr style=\"text-align: right;\">\n",
       "      <th></th>\n",
       "      <th>Trial</th>\n",
       "      <th>Average</th>\n",
       "      <th>Std</th>\n",
       "    </tr>\n",
       "  </thead>\n",
       "  <tbody>\n",
       "    <tr>\n",
       "      <th>0</th>\n",
       "      <td>74.0</td>\n",
       "      <td>0.485</td>\n",
       "      <td>0.039</td>\n",
       "    </tr>\n",
       "    <tr>\n",
       "      <th>1</th>\n",
       "      <td>73.0</td>\n",
       "      <td>0.438</td>\n",
       "      <td>0.020</td>\n",
       "    </tr>\n",
       "    <tr>\n",
       "      <th>2</th>\n",
       "      <td>53.0</td>\n",
       "      <td>0.411</td>\n",
       "      <td>0.025</td>\n",
       "    </tr>\n",
       "    <tr>\n",
       "      <th>3</th>\n",
       "      <td>52.0</td>\n",
       "      <td>0.423</td>\n",
       "      <td>0.019</td>\n",
       "    </tr>\n",
       "    <tr>\n",
       "      <th>4</th>\n",
       "      <td>79.0</td>\n",
       "      <td>0.446</td>\n",
       "      <td>0.000</td>\n",
       "    </tr>\n",
       "    <tr>\n",
       "      <th>5</th>\n",
       "      <td>75.0</td>\n",
       "      <td>0.430</td>\n",
       "      <td>0.000</td>\n",
       "    </tr>\n",
       "    <tr>\n",
       "      <th>6</th>\n",
       "      <td>26.0</td>\n",
       "      <td>0.368</td>\n",
       "      <td>0.051</td>\n",
       "    </tr>\n",
       "    <tr>\n",
       "      <th>7</th>\n",
       "      <td>55.0</td>\n",
       "      <td>0.454</td>\n",
       "      <td>0.000</td>\n",
       "    </tr>\n",
       "    <tr>\n",
       "      <th>8</th>\n",
       "      <td>62.0</td>\n",
       "      <td>0.444</td>\n",
       "      <td>0.049</td>\n",
       "    </tr>\n",
       "    <tr>\n",
       "      <th>9</th>\n",
       "      <td>80.0</td>\n",
       "      <td>0.532</td>\n",
       "      <td>0.000</td>\n",
       "    </tr>\n",
       "    <tr>\n",
       "      <th>10</th>\n",
       "      <td>voting_pipeline</td>\n",
       "      <td>0.463</td>\n",
       "      <td>0.012</td>\n",
       "    </tr>\n",
       "  </tbody>\n",
       "</table>\n",
       "</div>"
      ],
      "text/plain": [
       "              Trial  Average    Std\n",
       "0              74.0    0.485  0.039\n",
       "1              73.0    0.438  0.020\n",
       "2              53.0    0.411  0.025\n",
       "3              52.0    0.423  0.019\n",
       "4              79.0    0.446  0.000\n",
       "5              75.0    0.430  0.000\n",
       "6              26.0    0.368  0.051\n",
       "7              55.0    0.454  0.000\n",
       "8              62.0    0.444  0.049\n",
       "9              80.0    0.532  0.000\n",
       "10  voting_pipeline    0.463  0.012"
      ]
     },
     "execution_count": 4,
     "metadata": {},
     "output_type": "execute_result"
    }
   ],
   "source": [
    "# read results\n",
    "results = pd.read_csv('half_life_test_set.csv', sep=',')\n",
    "results"
   ]
  },
  {
   "cell_type": "code",
   "execution_count": 5,
   "id": "c418a24aeebde864",
   "metadata": {
    "ExecuteTime": {
     "end_time": "2023-11-08T15:18:23.378960421Z",
     "start_time": "2023-11-08T15:18:23.359631155Z"
    },
    "collapsed": false
   },
   "outputs": [
    {
     "name": "stderr",
     "output_type": "stream",
     "text": [
      "[13:31:19] Initializing Normalizer\n",
      "/home/jcapela/miniforge3/envs/deepmol/lib/python3.10/site-packages/deepmol/compound_featurization/__init__.py:20: UserWarning: Mol2Vec not available. Please install it to use it. (pip install git+https://github.com/samoturk/mol2vec#egg=mol2vec)\n",
      "  warnings.warn(\"Mol2Vec not available. Please install it to use it. \"\n",
      "2024-01-24 13:31:20.152285: W tensorflow/core/common_runtime/gpu/gpu_device.cc:2211] Cannot dlopen some GPU libraries. Please make sure the missing libraries mentioned above are installed properly if you would like to use GPU. Follow the guide at https://www.tensorflow.org/install/gpu for how to download and setup the required libraries for your platform.\n",
      "Skipping registering GPU devices...\n",
      "2024-01-24 13:31:20.883488: W tensorflow/core/util/tensor_slice_reader.cc:98] Could not open ram://b4d5a3f17763412e90465974239ddcc1: INVALID_ARGUMENT: ram://b4d5a3f17763412e90465974239ddcc1 is a directory.\n"
     ]
    }
   ],
   "source": [
    "pipeline = Pipeline.load(\"half_life/trial_74\")"
   ]
  },
  {
   "cell_type": "code",
   "execution_count": 7,
   "id": "9e93aa2a",
   "metadata": {},
   "outputs": [
    {
     "data": {
      "text/plain": [
       "[('label_encoder',\n",
       "  <deepmol.base.transformer.PassThroughTransformer at 0x7f16eb291ff0>),\n",
       " ('standardizer',\n",
       "  <deepmol.standardizer.custom_standardizer.CustomStandardizer at 0x7f16eb122200>),\n",
       " ('featurizer',\n",
       "  <deepmol.compound_featurization.rdkit_descriptors.TwoDimensionDescriptors at 0x7f14f9728be0>),\n",
       " ('scaler',\n",
       "  <deepmol.scalers.sklearn_scalers.PowerTransformer at 0x7f14f97f21d0>),\n",
       " ('model',\n",
       "  KerasModel(batch_size=128, epochs=100, mode='regression',\n",
       "             model_builder=<function keras_1d_cnn_model_builder at 0x7ef34ce69870>,\n",
       "             model_dir='/tmp/tmpf50x4gs8'))]"
      ]
     },
     "execution_count": 7,
     "metadata": {},
     "output_type": "execute_result"
    }
   ],
   "source": [
    "pipeline.steps"
   ]
  },
  {
   "cell_type": "code",
   "execution_count": 11,
   "id": "90e40046d6b150ce",
   "metadata": {
    "ExecuteTime": {
     "end_time": "2023-11-08T15:21:10.831314826Z",
     "start_time": "2023-11-08T15:21:10.788576064Z"
    },
    "collapsed": false
   },
   "outputs": [
    {
     "ename": "NameError",
     "evalue": "name 'results' is not defined",
     "output_type": "error",
     "traceback": [
      "\u001b[0;31m---------------------------------------------------------------------------\u001b[0m",
      "\u001b[0;31mNameError\u001b[0m                                 Traceback (most recent call last)",
      "Cell \u001b[0;32mIn[11], line 2\u001b[0m\n\u001b[1;32m      1\u001b[0m \u001b[38;5;66;03m# load best trial pipeline (rank #...)\u001b[39;00m\n\u001b[0;32m----> 2\u001b[0m best_trial_id \u001b[38;5;241m=\u001b[39m \u001b[38;5;28mint\u001b[39m(\u001b[43mresults\u001b[49m\u001b[38;5;241m.\u001b[39miloc[\u001b[38;5;241m0\u001b[39m][\u001b[38;5;124m'\u001b[39m\u001b[38;5;124mtrial_id\u001b[39m\u001b[38;5;124m'\u001b[39m])\n\u001b[1;32m      3\u001b[0m pipeline \u001b[38;5;241m=\u001b[39m Pipeline\u001b[38;5;241m.\u001b[39mload(\u001b[38;5;124mf\u001b[39m\u001b[38;5;124m\"\u001b[39m\u001b[38;5;124mvdss/trial_\u001b[39m\u001b[38;5;132;01m{\u001b[39;00mbest_trial_id\u001b[38;5;132;01m}\u001b[39;00m\u001b[38;5;124m/\u001b[39m\u001b[38;5;124m\"\u001b[39m)\n",
      "\u001b[0;31mNameError\u001b[0m: name 'results' is not defined"
     ]
    }
   ],
   "source": [
    "# load best trial pipeline (rank #...)\n",
    "best_trial_id = int(results.iloc[0]['trial_id'])\n",
    "pipeline = Pipeline.load(f\"half_life/trial_{best_trial_id}/\")"
   ]
  },
  {
   "cell_type": "code",
   "execution_count": null,
   "id": "aca45806698765d8",
   "metadata": {
    "collapsed": false
   },
   "outputs": [],
   "source": []
  }
 ],
 "metadata": {
  "kernelspec": {
   "display_name": "Python 3",
   "language": "python",
   "name": "python3"
  },
  "language_info": {
   "codemirror_mode": {
    "name": "ipython",
    "version": 3
   },
   "file_extension": ".py",
   "mimetype": "text/x-python",
   "name": "python",
   "nbconvert_exporter": "python",
   "pygments_lexer": "ipython3",
   "version": "3.10.13"
  }
 },
 "nbformat": 4,
 "nbformat_minor": 5
}
