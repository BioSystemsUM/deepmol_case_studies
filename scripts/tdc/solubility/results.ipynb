{
 "cells": [
  {
   "cell_type": "markdown",
   "source": [
    "# Solubility, AqSolDB\n",
    "\n",
    "### Dataset Description: Aqeuous solubility measures a drug's ability to dissolve in water. Poor water solubility could lead to slow drug absorptions, inadequate bioavailablity and even induce toxicity. More than 40% of new chemical entities are not soluble.\n",
    "\n",
    "### Task Description: Regression. Given a drug SMILES string, predict the activity of solubility.\n",
    "\n",
    "### Dataset Statistics: 9,982 drugs.\n",
    "\n",
    "### Metric: MAE\n",
    "\n",
    "## Leaderboard\n",
    "\n",
    "| Rank | Model                       | Contact      | Link          | #Params   | MAE           |\n",
    "|------|-----------------------------|--------------|---------------|-----------|---------------|\n",
    "| 1    | Chemprop-RDKit              | Kyle Swanson | GitHub, Paper | N/A       | 0.761 ± 0.025 |\n",
    "| 2    | AttentiveFP                 | Kexin Huang  | GitHub, Paper | 300,806   | 0.776 ± 0.008 |\n",
    "| 3    | MapLight + GNN              | Jim Notwell  | GitHub, Paper | N/A       | 0.789 ± 0.003 |\n",
    "| 4    | MapLight                    | Jim Notwell  | GitHub, Paper | N/A       | 0.792 ± 0.002 |\n",
    "| 5    | RDKit2D + MLP (DeepPurpose) | Kexin Huang  | GitHub, Paper | 633,409   | 0.827 ± 0.047 |\n",
    "| 6    | Basic ML                    | Nilavo Boral | GitHub, Paper | N/A       | 0.828 ± 0.002 |\n",
    "| 7    | Chemprop                    | Kyle Swanson | GitHub, Paper | N/A       | 0.829 ± 0.022 |\n",
    "| 8    | GCN                         | Kexin Huang  | GitHub, Paper | 191,810   | 0.907 ± 0.020 |\n",
    "| 9    | NeuralFP                    | Kexin Huang  | GitHub, Paper | 480,193   | 0.947 ± 0.016 |\n",
    "| 10   | CNN (DeepPurpose)           | Kexin Huang  | GitHub, Paper | 226,625   | 1.023 ± 0.023 |\n",
    "| 11   | AttrMasking                 | Kexin Huang  | GitHub, Paper | 2,067,053 | 1.026 ± 0.020 |\n",
    "| 12   | ContextPred                 | Kexin Huang  | GitHub, Paper | 2,067,053 | 1.040 ± 0.045 |\n",
    "| 13   | Euclia ML model             | Euclia       | GitHub, Paper | 50        | 1.076 ± 0.016 |\n",
    "| 14   | Morgan + MLP (DeepPurpose)  | Kexin Huang  | GitHub, Paper | 1,477,185 | 1.203 ± 0.019 |"
   ],
   "metadata": {
    "collapsed": false
   },
   "id": "86a59e63e6143206"
  },
  {
   "cell_type": "code",
   "execution_count": 1,
   "outputs": [
    {
     "name": "stderr",
     "output_type": "stream",
     "text": [
      "2023-11-08 15:37:31.983172: I tensorflow/tsl/cuda/cudart_stub.cc:28] Could not find cuda drivers on your machine, GPU will not be used.\n",
      "2023-11-08 15:37:32.133689: I tensorflow/tsl/cuda/cudart_stub.cc:28] Could not find cuda drivers on your machine, GPU will not be used.\n",
      "2023-11-08 15:37:32.134656: I tensorflow/core/platform/cpu_feature_guard.cc:182] This TensorFlow binary is optimized to use available CPU instructions in performance-critical operations.\n",
      "To enable the following instructions: AVX2 FMA, in other operations, rebuild TensorFlow with the appropriate compiler flags.\n",
      "2023-11-08 15:37:32.941612: W tensorflow/compiler/tf2tensorrt/utils/py_utils.cc:38] TF-TRT Warning: Could not find TensorRT\n",
      "Skipped loading modules with pytorch-lightning dependency, missing a dependency. No module named 'pytorch_lightning'\n",
      "Skipped loading some Jax models, missing a dependency. jax requires jaxlib to be installed. See https://github.com/google/jax#installation for installation instructions.\n"
     ]
    }
   ],
   "source": [
    "import pandas as pd\n",
    "from deepmol.pipeline import Pipeline"
   ],
   "metadata": {
    "collapsed": false,
    "ExecuteTime": {
     "end_time": "2023-11-08T15:37:36.402609467Z",
     "start_time": "2023-11-08T15:37:31.158770742Z"
    }
   },
   "id": "initial_id"
  },
  {
   "cell_type": "code",
   "execution_count": 2,
   "outputs": [
    {
     "data": {
      "text/plain": "    trial_id   mean    std\n0          0  1.633  0.008\n1          4  1.567  0.009\n2          8  1.966  0.085\n3         10  1.787  0.053\n4         11  1.493  0.038\n5         13  1.362  0.026\n6         14  1.322  0.016\n7         15  1.176  0.024\n8         19  9.059  7.929\n9         23  1.302  0.064\n10        26  2.806  0.780\n11        27  1.292  0.010\n12        28  1.864  0.024\n13        31  1.332  0.019\n14        32  1.332  0.019\n15        34  1.864  0.024\n16        35  1.638  0.021\n17        36  1.931  0.053\n18        39  1.428  0.116\n19        42  1.277  0.036\n20        45  1.973  0.051\n21        46  1.369  0.021\n22        48  1.691  0.028\n23        49  1.445  0.060\n24        51  1.775  0.012\n25        53  1.251  0.017\n26        55  1.269  0.012\n27        56  1.544  0.250\n28        58  1.502  0.111\n29        60  1.367  0.038\n30        61  1.236  0.026\n31        62  1.240  0.027\n32        63  1.277  0.013\n33        65  1.864  0.024\n34        67  1.236  0.026\n35        68  1.316  0.037\n36        69  1.279  0.031\n37        72  1.320  0.015\n38        75  1.315  0.044\n39        77  1.860  0.026\n40        81  1.369  0.027\n41        82  1.257  0.005\n42        83  1.632  0.005\n43        85  1.176  0.008\n44        86  1.176  0.008\n45        87  1.176  0.008\n46        88  1.176  0.008\n47        89  1.218  0.088\n48        90  1.176  0.008\n49        91  1.176  0.008\n50        92  1.176  0.008\n51        93  1.176  0.008\n52        94  1.176  0.008\n53        95  1.176  0.008\n54        96  1.176  0.008\n55        97  1.176  0.008\n56        99  1.176  0.008",
      "text/html": "<div>\n<style scoped>\n    .dataframe tbody tr th:only-of-type {\n        vertical-align: middle;\n    }\n\n    .dataframe tbody tr th {\n        vertical-align: top;\n    }\n\n    .dataframe thead th {\n        text-align: right;\n    }\n</style>\n<table border=\"1\" class=\"dataframe\">\n  <thead>\n    <tr style=\"text-align: right;\">\n      <th></th>\n      <th>trial_id</th>\n      <th>mean</th>\n      <th>std</th>\n    </tr>\n  </thead>\n  <tbody>\n    <tr>\n      <th>0</th>\n      <td>0</td>\n      <td>1.633</td>\n      <td>0.008</td>\n    </tr>\n    <tr>\n      <th>1</th>\n      <td>4</td>\n      <td>1.567</td>\n      <td>0.009</td>\n    </tr>\n    <tr>\n      <th>2</th>\n      <td>8</td>\n      <td>1.966</td>\n      <td>0.085</td>\n    </tr>\n    <tr>\n      <th>3</th>\n      <td>10</td>\n      <td>1.787</td>\n      <td>0.053</td>\n    </tr>\n    <tr>\n      <th>4</th>\n      <td>11</td>\n      <td>1.493</td>\n      <td>0.038</td>\n    </tr>\n    <tr>\n      <th>5</th>\n      <td>13</td>\n      <td>1.362</td>\n      <td>0.026</td>\n    </tr>\n    <tr>\n      <th>6</th>\n      <td>14</td>\n      <td>1.322</td>\n      <td>0.016</td>\n    </tr>\n    <tr>\n      <th>7</th>\n      <td>15</td>\n      <td>1.176</td>\n      <td>0.024</td>\n    </tr>\n    <tr>\n      <th>8</th>\n      <td>19</td>\n      <td>9.059</td>\n      <td>7.929</td>\n    </tr>\n    <tr>\n      <th>9</th>\n      <td>23</td>\n      <td>1.302</td>\n      <td>0.064</td>\n    </tr>\n    <tr>\n      <th>10</th>\n      <td>26</td>\n      <td>2.806</td>\n      <td>0.780</td>\n    </tr>\n    <tr>\n      <th>11</th>\n      <td>27</td>\n      <td>1.292</td>\n      <td>0.010</td>\n    </tr>\n    <tr>\n      <th>12</th>\n      <td>28</td>\n      <td>1.864</td>\n      <td>0.024</td>\n    </tr>\n    <tr>\n      <th>13</th>\n      <td>31</td>\n      <td>1.332</td>\n      <td>0.019</td>\n    </tr>\n    <tr>\n      <th>14</th>\n      <td>32</td>\n      <td>1.332</td>\n      <td>0.019</td>\n    </tr>\n    <tr>\n      <th>15</th>\n      <td>34</td>\n      <td>1.864</td>\n      <td>0.024</td>\n    </tr>\n    <tr>\n      <th>16</th>\n      <td>35</td>\n      <td>1.638</td>\n      <td>0.021</td>\n    </tr>\n    <tr>\n      <th>17</th>\n      <td>36</td>\n      <td>1.931</td>\n      <td>0.053</td>\n    </tr>\n    <tr>\n      <th>18</th>\n      <td>39</td>\n      <td>1.428</td>\n      <td>0.116</td>\n    </tr>\n    <tr>\n      <th>19</th>\n      <td>42</td>\n      <td>1.277</td>\n      <td>0.036</td>\n    </tr>\n    <tr>\n      <th>20</th>\n      <td>45</td>\n      <td>1.973</td>\n      <td>0.051</td>\n    </tr>\n    <tr>\n      <th>21</th>\n      <td>46</td>\n      <td>1.369</td>\n      <td>0.021</td>\n    </tr>\n    <tr>\n      <th>22</th>\n      <td>48</td>\n      <td>1.691</td>\n      <td>0.028</td>\n    </tr>\n    <tr>\n      <th>23</th>\n      <td>49</td>\n      <td>1.445</td>\n      <td>0.060</td>\n    </tr>\n    <tr>\n      <th>24</th>\n      <td>51</td>\n      <td>1.775</td>\n      <td>0.012</td>\n    </tr>\n    <tr>\n      <th>25</th>\n      <td>53</td>\n      <td>1.251</td>\n      <td>0.017</td>\n    </tr>\n    <tr>\n      <th>26</th>\n      <td>55</td>\n      <td>1.269</td>\n      <td>0.012</td>\n    </tr>\n    <tr>\n      <th>27</th>\n      <td>56</td>\n      <td>1.544</td>\n      <td>0.250</td>\n    </tr>\n    <tr>\n      <th>28</th>\n      <td>58</td>\n      <td>1.502</td>\n      <td>0.111</td>\n    </tr>\n    <tr>\n      <th>29</th>\n      <td>60</td>\n      <td>1.367</td>\n      <td>0.038</td>\n    </tr>\n    <tr>\n      <th>30</th>\n      <td>61</td>\n      <td>1.236</td>\n      <td>0.026</td>\n    </tr>\n    <tr>\n      <th>31</th>\n      <td>62</td>\n      <td>1.240</td>\n      <td>0.027</td>\n    </tr>\n    <tr>\n      <th>32</th>\n      <td>63</td>\n      <td>1.277</td>\n      <td>0.013</td>\n    </tr>\n    <tr>\n      <th>33</th>\n      <td>65</td>\n      <td>1.864</td>\n      <td>0.024</td>\n    </tr>\n    <tr>\n      <th>34</th>\n      <td>67</td>\n      <td>1.236</td>\n      <td>0.026</td>\n    </tr>\n    <tr>\n      <th>35</th>\n      <td>68</td>\n      <td>1.316</td>\n      <td>0.037</td>\n    </tr>\n    <tr>\n      <th>36</th>\n      <td>69</td>\n      <td>1.279</td>\n      <td>0.031</td>\n    </tr>\n    <tr>\n      <th>37</th>\n      <td>72</td>\n      <td>1.320</td>\n      <td>0.015</td>\n    </tr>\n    <tr>\n      <th>38</th>\n      <td>75</td>\n      <td>1.315</td>\n      <td>0.044</td>\n    </tr>\n    <tr>\n      <th>39</th>\n      <td>77</td>\n      <td>1.860</td>\n      <td>0.026</td>\n    </tr>\n    <tr>\n      <th>40</th>\n      <td>81</td>\n      <td>1.369</td>\n      <td>0.027</td>\n    </tr>\n    <tr>\n      <th>41</th>\n      <td>82</td>\n      <td>1.257</td>\n      <td>0.005</td>\n    </tr>\n    <tr>\n      <th>42</th>\n      <td>83</td>\n      <td>1.632</td>\n      <td>0.005</td>\n    </tr>\n    <tr>\n      <th>43</th>\n      <td>85</td>\n      <td>1.176</td>\n      <td>0.008</td>\n    </tr>\n    <tr>\n      <th>44</th>\n      <td>86</td>\n      <td>1.176</td>\n      <td>0.008</td>\n    </tr>\n    <tr>\n      <th>45</th>\n      <td>87</td>\n      <td>1.176</td>\n      <td>0.008</td>\n    </tr>\n    <tr>\n      <th>46</th>\n      <td>88</td>\n      <td>1.176</td>\n      <td>0.008</td>\n    </tr>\n    <tr>\n      <th>47</th>\n      <td>89</td>\n      <td>1.218</td>\n      <td>0.088</td>\n    </tr>\n    <tr>\n      <th>48</th>\n      <td>90</td>\n      <td>1.176</td>\n      <td>0.008</td>\n    </tr>\n    <tr>\n      <th>49</th>\n      <td>91</td>\n      <td>1.176</td>\n      <td>0.008</td>\n    </tr>\n    <tr>\n      <th>50</th>\n      <td>92</td>\n      <td>1.176</td>\n      <td>0.008</td>\n    </tr>\n    <tr>\n      <th>51</th>\n      <td>93</td>\n      <td>1.176</td>\n      <td>0.008</td>\n    </tr>\n    <tr>\n      <th>52</th>\n      <td>94</td>\n      <td>1.176</td>\n      <td>0.008</td>\n    </tr>\n    <tr>\n      <th>53</th>\n      <td>95</td>\n      <td>1.176</td>\n      <td>0.008</td>\n    </tr>\n    <tr>\n      <th>54</th>\n      <td>96</td>\n      <td>1.176</td>\n      <td>0.008</td>\n    </tr>\n    <tr>\n      <th>55</th>\n      <td>97</td>\n      <td>1.176</td>\n      <td>0.008</td>\n    </tr>\n    <tr>\n      <th>56</th>\n      <td>99</td>\n      <td>1.176</td>\n      <td>0.008</td>\n    </tr>\n  </tbody>\n</table>\n</div>"
     },
     "execution_count": 2,
     "metadata": {},
     "output_type": "execute_result"
    }
   ],
   "source": [
    "# read results\n",
    "results = pd.read_csv('solubility/tdc_test_set_results.txt', sep=',', header=None, dtype={0: int, 1: float, 2: float})\n",
    "# set columns\n",
    "results.columns = ['trial_id', 'mean', 'std']\n",
    "results\n",
    "# order res"
   ],
   "metadata": {
    "collapsed": false,
    "ExecuteTime": {
     "end_time": "2023-11-08T15:37:36.426634Z",
     "start_time": "2023-11-08T15:37:36.403344411Z"
    }
   },
   "id": "6753179565f6d258"
  },
  {
   "cell_type": "code",
   "execution_count": 5,
   "outputs": [
    {
     "data": {
      "text/plain": "    trial_id   mean    std\n43        85  1.176  0.008\n44        86  1.176  0.008\n45        87  1.176  0.008\n46        88  1.176  0.008\n48        90  1.176  0.008\n49        91  1.176  0.008\n50        92  1.176  0.008\n51        93  1.176  0.008\n52        94  1.176  0.008\n53        95  1.176  0.008\n54        96  1.176  0.008\n55        97  1.176  0.008\n56        99  1.176  0.008\n7         15  1.176  0.024\n47        89  1.218  0.088\n30        61  1.236  0.026\n34        67  1.236  0.026\n31        62  1.240  0.027\n25        53  1.251  0.017\n41        82  1.257  0.005\n26        55  1.269  0.012\n32        63  1.277  0.013\n19        42  1.277  0.036\n36        69  1.279  0.031\n11        27  1.292  0.010\n9         23  1.302  0.064\n38        75  1.315  0.044\n35        68  1.316  0.037\n37        72  1.320  0.015\n6         14  1.322  0.016\n13        31  1.332  0.019\n14        32  1.332  0.019\n5         13  1.362  0.026\n29        60  1.367  0.038\n21        46  1.369  0.021\n40        81  1.369  0.027\n18        39  1.428  0.116\n23        49  1.445  0.060\n4         11  1.493  0.038\n28        58  1.502  0.111\n27        56  1.544  0.250\n1          4  1.567  0.009\n42        83  1.632  0.005\n0          0  1.633  0.008\n16        35  1.638  0.021\n22        48  1.691  0.028\n24        51  1.775  0.012\n3         10  1.787  0.053\n39        77  1.860  0.026\n12        28  1.864  0.024\n15        34  1.864  0.024\n33        65  1.864  0.024\n17        36  1.931  0.053\n2          8  1.966  0.085\n20        45  1.973  0.051\n10        26  2.806  0.780\n8         19  9.059  7.929",
      "text/html": "<div>\n<style scoped>\n    .dataframe tbody tr th:only-of-type {\n        vertical-align: middle;\n    }\n\n    .dataframe tbody tr th {\n        vertical-align: top;\n    }\n\n    .dataframe thead th {\n        text-align: right;\n    }\n</style>\n<table border=\"1\" class=\"dataframe\">\n  <thead>\n    <tr style=\"text-align: right;\">\n      <th></th>\n      <th>trial_id</th>\n      <th>mean</th>\n      <th>std</th>\n    </tr>\n  </thead>\n  <tbody>\n    <tr>\n      <th>43</th>\n      <td>85</td>\n      <td>1.176</td>\n      <td>0.008</td>\n    </tr>\n    <tr>\n      <th>44</th>\n      <td>86</td>\n      <td>1.176</td>\n      <td>0.008</td>\n    </tr>\n    <tr>\n      <th>45</th>\n      <td>87</td>\n      <td>1.176</td>\n      <td>0.008</td>\n    </tr>\n    <tr>\n      <th>46</th>\n      <td>88</td>\n      <td>1.176</td>\n      <td>0.008</td>\n    </tr>\n    <tr>\n      <th>48</th>\n      <td>90</td>\n      <td>1.176</td>\n      <td>0.008</td>\n    </tr>\n    <tr>\n      <th>49</th>\n      <td>91</td>\n      <td>1.176</td>\n      <td>0.008</td>\n    </tr>\n    <tr>\n      <th>50</th>\n      <td>92</td>\n      <td>1.176</td>\n      <td>0.008</td>\n    </tr>\n    <tr>\n      <th>51</th>\n      <td>93</td>\n      <td>1.176</td>\n      <td>0.008</td>\n    </tr>\n    <tr>\n      <th>52</th>\n      <td>94</td>\n      <td>1.176</td>\n      <td>0.008</td>\n    </tr>\n    <tr>\n      <th>53</th>\n      <td>95</td>\n      <td>1.176</td>\n      <td>0.008</td>\n    </tr>\n    <tr>\n      <th>54</th>\n      <td>96</td>\n      <td>1.176</td>\n      <td>0.008</td>\n    </tr>\n    <tr>\n      <th>55</th>\n      <td>97</td>\n      <td>1.176</td>\n      <td>0.008</td>\n    </tr>\n    <tr>\n      <th>56</th>\n      <td>99</td>\n      <td>1.176</td>\n      <td>0.008</td>\n    </tr>\n    <tr>\n      <th>7</th>\n      <td>15</td>\n      <td>1.176</td>\n      <td>0.024</td>\n    </tr>\n    <tr>\n      <th>47</th>\n      <td>89</td>\n      <td>1.218</td>\n      <td>0.088</td>\n    </tr>\n    <tr>\n      <th>30</th>\n      <td>61</td>\n      <td>1.236</td>\n      <td>0.026</td>\n    </tr>\n    <tr>\n      <th>34</th>\n      <td>67</td>\n      <td>1.236</td>\n      <td>0.026</td>\n    </tr>\n    <tr>\n      <th>31</th>\n      <td>62</td>\n      <td>1.240</td>\n      <td>0.027</td>\n    </tr>\n    <tr>\n      <th>25</th>\n      <td>53</td>\n      <td>1.251</td>\n      <td>0.017</td>\n    </tr>\n    <tr>\n      <th>41</th>\n      <td>82</td>\n      <td>1.257</td>\n      <td>0.005</td>\n    </tr>\n    <tr>\n      <th>26</th>\n      <td>55</td>\n      <td>1.269</td>\n      <td>0.012</td>\n    </tr>\n    <tr>\n      <th>32</th>\n      <td>63</td>\n      <td>1.277</td>\n      <td>0.013</td>\n    </tr>\n    <tr>\n      <th>19</th>\n      <td>42</td>\n      <td>1.277</td>\n      <td>0.036</td>\n    </tr>\n    <tr>\n      <th>36</th>\n      <td>69</td>\n      <td>1.279</td>\n      <td>0.031</td>\n    </tr>\n    <tr>\n      <th>11</th>\n      <td>27</td>\n      <td>1.292</td>\n      <td>0.010</td>\n    </tr>\n    <tr>\n      <th>9</th>\n      <td>23</td>\n      <td>1.302</td>\n      <td>0.064</td>\n    </tr>\n    <tr>\n      <th>38</th>\n      <td>75</td>\n      <td>1.315</td>\n      <td>0.044</td>\n    </tr>\n    <tr>\n      <th>35</th>\n      <td>68</td>\n      <td>1.316</td>\n      <td>0.037</td>\n    </tr>\n    <tr>\n      <th>37</th>\n      <td>72</td>\n      <td>1.320</td>\n      <td>0.015</td>\n    </tr>\n    <tr>\n      <th>6</th>\n      <td>14</td>\n      <td>1.322</td>\n      <td>0.016</td>\n    </tr>\n    <tr>\n      <th>13</th>\n      <td>31</td>\n      <td>1.332</td>\n      <td>0.019</td>\n    </tr>\n    <tr>\n      <th>14</th>\n      <td>32</td>\n      <td>1.332</td>\n      <td>0.019</td>\n    </tr>\n    <tr>\n      <th>5</th>\n      <td>13</td>\n      <td>1.362</td>\n      <td>0.026</td>\n    </tr>\n    <tr>\n      <th>29</th>\n      <td>60</td>\n      <td>1.367</td>\n      <td>0.038</td>\n    </tr>\n    <tr>\n      <th>21</th>\n      <td>46</td>\n      <td>1.369</td>\n      <td>0.021</td>\n    </tr>\n    <tr>\n      <th>40</th>\n      <td>81</td>\n      <td>1.369</td>\n      <td>0.027</td>\n    </tr>\n    <tr>\n      <th>18</th>\n      <td>39</td>\n      <td>1.428</td>\n      <td>0.116</td>\n    </tr>\n    <tr>\n      <th>23</th>\n      <td>49</td>\n      <td>1.445</td>\n      <td>0.060</td>\n    </tr>\n    <tr>\n      <th>4</th>\n      <td>11</td>\n      <td>1.493</td>\n      <td>0.038</td>\n    </tr>\n    <tr>\n      <th>28</th>\n      <td>58</td>\n      <td>1.502</td>\n      <td>0.111</td>\n    </tr>\n    <tr>\n      <th>27</th>\n      <td>56</td>\n      <td>1.544</td>\n      <td>0.250</td>\n    </tr>\n    <tr>\n      <th>1</th>\n      <td>4</td>\n      <td>1.567</td>\n      <td>0.009</td>\n    </tr>\n    <tr>\n      <th>42</th>\n      <td>83</td>\n      <td>1.632</td>\n      <td>0.005</td>\n    </tr>\n    <tr>\n      <th>0</th>\n      <td>0</td>\n      <td>1.633</td>\n      <td>0.008</td>\n    </tr>\n    <tr>\n      <th>16</th>\n      <td>35</td>\n      <td>1.638</td>\n      <td>0.021</td>\n    </tr>\n    <tr>\n      <th>22</th>\n      <td>48</td>\n      <td>1.691</td>\n      <td>0.028</td>\n    </tr>\n    <tr>\n      <th>24</th>\n      <td>51</td>\n      <td>1.775</td>\n      <td>0.012</td>\n    </tr>\n    <tr>\n      <th>3</th>\n      <td>10</td>\n      <td>1.787</td>\n      <td>0.053</td>\n    </tr>\n    <tr>\n      <th>39</th>\n      <td>77</td>\n      <td>1.860</td>\n      <td>0.026</td>\n    </tr>\n    <tr>\n      <th>12</th>\n      <td>28</td>\n      <td>1.864</td>\n      <td>0.024</td>\n    </tr>\n    <tr>\n      <th>15</th>\n      <td>34</td>\n      <td>1.864</td>\n      <td>0.024</td>\n    </tr>\n    <tr>\n      <th>33</th>\n      <td>65</td>\n      <td>1.864</td>\n      <td>0.024</td>\n    </tr>\n    <tr>\n      <th>17</th>\n      <td>36</td>\n      <td>1.931</td>\n      <td>0.053</td>\n    </tr>\n    <tr>\n      <th>2</th>\n      <td>8</td>\n      <td>1.966</td>\n      <td>0.085</td>\n    </tr>\n    <tr>\n      <th>20</th>\n      <td>45</td>\n      <td>1.973</td>\n      <td>0.051</td>\n    </tr>\n    <tr>\n      <th>10</th>\n      <td>26</td>\n      <td>2.806</td>\n      <td>0.780</td>\n    </tr>\n    <tr>\n      <th>8</th>\n      <td>19</td>\n      <td>9.059</td>\n      <td>7.929</td>\n    </tr>\n  </tbody>\n</table>\n</div>"
     },
     "execution_count": 5,
     "metadata": {},
     "output_type": "execute_result"
    }
   ],
   "source": [
    "# order results by mean (std in case of tie)\n",
    "results = results.sort_values(by=['mean', 'std'], ascending=True)\n",
    "results"
   ],
   "metadata": {
    "collapsed": false,
    "ExecuteTime": {
     "end_time": "2023-11-08T15:37:48.165081549Z",
     "start_time": "2023-11-08T15:37:48.142466039Z"
    }
   },
   "id": "c418a24aeebde864"
  },
  {
   "cell_type": "code",
   "execution_count": 4,
   "outputs": [
    {
     "name": "stderr",
     "output_type": "stream",
     "text": [
      "[15:37:38] Initializing Normalizer\n"
     ]
    },
    {
     "ename": "FileNotFoundError",
     "evalue": "[Errno 2] No such file or directory: '/tmp/tmpf46utule/model.pkl'",
     "output_type": "error",
     "traceback": [
      "\u001B[0;31m---------------------------------------------------------------------------\u001B[0m",
      "\u001B[0;31mFileNotFoundError\u001B[0m                         Traceback (most recent call last)",
      "Cell \u001B[0;32mIn[4], line 3\u001B[0m\n\u001B[1;32m      1\u001B[0m \u001B[38;5;66;03m# load best trial pipeline (rank #8)\u001B[39;00m\n\u001B[1;32m      2\u001B[0m best_trial_id \u001B[38;5;241m=\u001B[39m \u001B[38;5;28mint\u001B[39m(results\u001B[38;5;241m.\u001B[39miloc[\u001B[38;5;241m0\u001B[39m][\u001B[38;5;124m'\u001B[39m\u001B[38;5;124mtrial_id\u001B[39m\u001B[38;5;124m'\u001B[39m])\n\u001B[0;32m----> 3\u001B[0m pipeline \u001B[38;5;241m=\u001B[39m \u001B[43mPipeline\u001B[49m\u001B[38;5;241;43m.\u001B[39;49m\u001B[43mload\u001B[49m\u001B[43m(\u001B[49m\u001B[38;5;124;43mf\u001B[39;49m\u001B[38;5;124;43m\"\u001B[39;49m\u001B[38;5;124;43msolubility/trial_\u001B[39;49m\u001B[38;5;132;43;01m{\u001B[39;49;00m\u001B[43mbest_trial_id\u001B[49m\u001B[38;5;132;43;01m}\u001B[39;49;00m\u001B[38;5;124;43m/\u001B[39;49m\u001B[38;5;124;43m\"\u001B[39;49m\u001B[43m)\u001B[49m\n",
      "File \u001B[0;32m~/anaconda3/envs/deepmol_case_studies/lib/python3.10/site-packages/deepmol/pipeline/pipeline.py:340\u001B[0m, in \u001B[0;36mPipeline.load\u001B[0;34m(cls, path)\u001B[0m\n\u001B[1;32m    338\u001B[0m     steps\u001B[38;5;241m.\u001B[39mappend((step_name, transformer))\n\u001B[1;32m    339\u001B[0m \u001B[38;5;28;01melif\u001B[39;00m step[\u001B[38;5;124m'\u001B[39m\u001B[38;5;124mtype\u001B[39m\u001B[38;5;124m'\u001B[39m] \u001B[38;5;241m==\u001B[39m \u001B[38;5;124m'\u001B[39m\u001B[38;5;124mpredictor\u001B[39m\u001B[38;5;124m'\u001B[39m:\n\u001B[0;32m--> 340\u001B[0m     predictor \u001B[38;5;241m=\u001B[39m \u001B[43m_get_predictor_instance\u001B[49m\u001B[43m(\u001B[49m\u001B[43mstep\u001B[49m\u001B[43m[\u001B[49m\u001B[38;5;124;43m'\u001B[39;49m\u001B[38;5;124;43mmodel_type\u001B[39;49m\u001B[38;5;124;43m'\u001B[39;49m\u001B[43m]\u001B[49m\u001B[43m)\u001B[49m\u001B[38;5;241;43m.\u001B[39;49m\u001B[43mload\u001B[49m\u001B[43m(\u001B[49m\u001B[43mstep_path\u001B[49m\u001B[43m)\u001B[49m\n\u001B[1;32m    341\u001B[0m     predictor\u001B[38;5;241m.\u001B[39m_is_fitted \u001B[38;5;241m=\u001B[39m step_is_fitted\n\u001B[1;32m    342\u001B[0m     steps\u001B[38;5;241m.\u001B[39mappend((step_name, predictor))\n",
      "File \u001B[0;32m~/anaconda3/envs/deepmol_case_studies/lib/python3.10/site-packages/deepmol/models/sklearn_models.py:192\u001B[0m, in \u001B[0;36mSklearnModel.load\u001B[0;34m(cls, folder_path, **kwargs)\u001B[0m\n\u001B[1;32m    177\u001B[0m \u001B[38;5;250m\u001B[39m\u001B[38;5;124;03m\"\"\"\u001B[39;00m\n\u001B[1;32m    178\u001B[0m \u001B[38;5;124;03mLoads scikit-learn model from joblib or pickle file on disk.\u001B[39;00m\n\u001B[1;32m    179\u001B[0m \u001B[38;5;124;03mSupported extensions: .joblib, .pkl\u001B[39;00m\n\u001B[0;32m   (...)\u001B[0m\n\u001B[1;32m    189\u001B[0m \u001B[38;5;124;03m    The loaded scikit-learn model.\u001B[39;00m\n\u001B[1;32m    190\u001B[0m \u001B[38;5;124;03m\"\"\"\u001B[39;00m\n\u001B[1;32m    191\u001B[0m model_path \u001B[38;5;241m=\u001B[39m \u001B[38;5;28mcls\u001B[39m\u001B[38;5;241m.\u001B[39mget_model_filename(folder_path)\n\u001B[0;32m--> 192\u001B[0m model \u001B[38;5;241m=\u001B[39m \u001B[43mload_from_disk\u001B[49m\u001B[43m(\u001B[49m\u001B[43mmodel_path\u001B[49m\u001B[43m)\u001B[49m\n\u001B[1;32m    193\u001B[0m \u001B[38;5;66;03m# change file path to keep the extension but add _params\u001B[39;00m\n\u001B[1;32m    194\u001B[0m parameters_file_path \u001B[38;5;241m=\u001B[39m \u001B[38;5;124m\"\u001B[39m\u001B[38;5;124m.\u001B[39m\u001B[38;5;124m\"\u001B[39m\u001B[38;5;241m.\u001B[39mjoin(model_path\u001B[38;5;241m.\u001B[39msplit(\u001B[38;5;124m'\u001B[39m\u001B[38;5;124m.\u001B[39m\u001B[38;5;124m'\u001B[39m)[:\u001B[38;5;241m-\u001B[39m\u001B[38;5;241m1\u001B[39m]) \u001B[38;5;241m+\u001B[39m \u001B[38;5;124m'\u001B[39m\u001B[38;5;124m_params.\u001B[39m\u001B[38;5;124m'\u001B[39m \u001B[38;5;241m+\u001B[39m model_path\u001B[38;5;241m.\u001B[39msplit(\u001B[38;5;124m'\u001B[39m\u001B[38;5;124m.\u001B[39m\u001B[38;5;124m'\u001B[39m)[\u001B[38;5;241m-\u001B[39m\u001B[38;5;241m1\u001B[39m]\n",
      "File \u001B[0;32m~/anaconda3/envs/deepmol_case_studies/lib/python3.10/site-packages/deepmol/models/_utils.py:60\u001B[0m, in \u001B[0;36mload_from_disk\u001B[0;34m(filename)\u001B[0m\n\u001B[1;32m     58\u001B[0m \u001B[38;5;28;01mif\u001B[39;00m extension \u001B[38;5;241m==\u001B[39m \u001B[38;5;124m\"\u001B[39m\u001B[38;5;124m.pkl\u001B[39m\u001B[38;5;124m\"\u001B[39m:\n\u001B[1;32m     59\u001B[0m     \u001B[38;5;28;01mtry\u001B[39;00m:\n\u001B[0;32m---> 60\u001B[0m         \u001B[38;5;28;01mreturn\u001B[39;00m \u001B[43mload_pickle_file\u001B[49m\u001B[43m(\u001B[49m\u001B[43mfilename\u001B[49m\u001B[43m)\u001B[49m\n\u001B[1;32m     61\u001B[0m     \u001B[38;5;28;01mexcept\u001B[39;00m (\u001B[38;5;167;01mTypeError\u001B[39;00m, \u001B[38;5;167;01mAttributeError\u001B[39;00m):\n\u001B[1;32m     62\u001B[0m         \u001B[38;5;28;01mwith\u001B[39;00m \u001B[38;5;28mopen\u001B[39m(filename, \u001B[38;5;124m'\u001B[39m\u001B[38;5;124mrb\u001B[39m\u001B[38;5;124m'\u001B[39m) \u001B[38;5;28;01mas\u001B[39;00m f:\n",
      "File \u001B[0;32m~/anaconda3/envs/deepmol_case_studies/lib/python3.10/site-packages/deepmol/utils/utils.py:115\u001B[0m, in \u001B[0;36mload_pickle_file\u001B[0;34m(input_file)\u001B[0m\n\u001B[1;32m    113\u001B[0m         \u001B[38;5;28;01mreturn\u001B[39;00m pickle\u001B[38;5;241m.\u001B[39mload(cast(IO[\u001B[38;5;28mbytes\u001B[39m], unzipped_file))\n\u001B[1;32m    114\u001B[0m \u001B[38;5;28;01melse\u001B[39;00m:\n\u001B[0;32m--> 115\u001B[0m     \u001B[38;5;28;01mwith\u001B[39;00m \u001B[38;5;28;43mopen\u001B[39;49m\u001B[43m(\u001B[49m\u001B[43minput_file\u001B[49m\u001B[43m,\u001B[49m\u001B[43m \u001B[49m\u001B[38;5;124;43m\"\u001B[39;49m\u001B[38;5;124;43mrb\u001B[39;49m\u001B[38;5;124;43m\"\u001B[39;49m\u001B[43m)\u001B[49m \u001B[38;5;28;01mas\u001B[39;00m opened_file:\n\u001B[1;32m    116\u001B[0m         \u001B[38;5;28;01mreturn\u001B[39;00m pickle\u001B[38;5;241m.\u001B[39mload(opened_file)\n",
      "\u001B[0;31mFileNotFoundError\u001B[0m: [Errno 2] No such file or directory: '/tmp/tmpf46utule/model.pkl'"
     ]
    }
   ],
   "source": [
    "# load best trial pipeline (rank #14)\n",
    "best_trial_id = int(results.iloc[0]['trial_id'])\n",
    "pipeline = Pipeline.load(f\"solubility/trial_{best_trial_id}/\")"
   ],
   "metadata": {
    "collapsed": false,
    "ExecuteTime": {
     "end_time": "2023-11-08T15:37:39.558892281Z",
     "start_time": "2023-11-08T15:37:38.897722116Z"
    }
   },
   "id": "90e40046d6b150ce"
  },
  {
   "cell_type": "code",
   "execution_count": null,
   "outputs": [],
   "source": [],
   "metadata": {
    "collapsed": false
   },
   "id": "aca45806698765d8"
  }
 ],
 "metadata": {
  "kernelspec": {
   "display_name": "Python 3",
   "language": "python",
   "name": "python3"
  },
  "language_info": {
   "codemirror_mode": {
    "name": "ipython",
    "version": 2
   },
   "file_extension": ".py",
   "mimetype": "text/x-python",
   "name": "python",
   "nbconvert_exporter": "python",
   "pygments_lexer": "ipython2",
   "version": "2.7.6"
  }
 },
 "nbformat": 4,
 "nbformat_minor": 5
}
