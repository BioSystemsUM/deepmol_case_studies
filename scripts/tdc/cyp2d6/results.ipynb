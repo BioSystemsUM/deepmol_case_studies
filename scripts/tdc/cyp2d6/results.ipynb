{
 "cells": [
  {
   "cell_type": "markdown",
   "id": "86a59e63e6143206",
   "metadata": {
    "collapsed": false
   },
   "source": [
    "# CYP P450 2D6 Inhibition, Veith et al.\n",
    "\n",
    "### Dataset Description: The CYP P450 genes are involved in the formation and breakdown (metabolism) of various molecules and chemicals within cells. Specifically, CYP2D6 is primarily expressed in the liver. It is also highly expressed in areas of the central nervous system, including the substantia nigra.\n",
    "\n",
    "### Task Description: Binary Classification. Given a drug SMILES string, predict CYP2D6 inhibition.\n",
    "\n",
    "### Dataset Statistics: 13,130 drugs.\n",
    "\n",
    "### Metric: AUPRC\n",
    "\n",
    "## Leaderboard\n",
    "\n",
    "| Rank | Model                       | Contact      | Link          | #Params   | AUPRC         |\n",
    "|------|-----------------------------|--------------|---------------|-----------|---------------|\n",
    "| 1    | MapLight + GNN              | Jim Notwell  | GitHub, Paper | N/A       | 0.790 ± 0.001 |\n",
    "| 2    | ContextPred                 | Kexin Huang  | GitHub, Paper | 2,067,053 | 0.739 ± 0.005 |\n",
    "| 3    | MapLight                    | Jim Notwell  | GitHub, Paper | N/A       | 0.723 ± 0.003 |\n",
    "| 4    | AttrMasking                 | Kexin Huang  | GitHub, Paper | 2,067,053 | 0.721 ± 0.009 |\n",
    "| 5    | Chemprop-RDKit              | Kyle Swanson | GitHub, Paper | N/A       | 0.673 ± 0.007 |\n",
    "| 6    | Chemprop                    | Kyle Swanson | GitHub, Paper | N/A       | 0.649 ± 0.016 |\n",
    "| 7    | AttentiveFP                 | Kexin Huang  | GitHub, Paper | 300,806   | 0.646 ± 0.014 |\n",
    "| 8    | ZairaChem                   | Gemma Turon  | GitHub, Paper | N/A       | 0.644 ± 0.085 |\n",
    "| 9    | NeuralFP                    | Kexin Huang  | GitHub, Paper | 480,193   | 0.627 ± 0.009 |\n",
    "| 10   | GCN                         | Kexin Huang  | GitHub, Paper | 191,810   | 0.616 ± 0.020 |\n",
    "| 11   | RDKit2D + MLP (DeepPurpose) | Kexin Huang  | GitHub, Paper | 633,409   | 0.616 ± 0.007 |\n",
    "| 12   | Morgan + MLP (DeepPurpose)  | Kexin Huang  | GitHub, Paper | 1,477,185 | 0.587 ± 0.011 |\n",
    "| 13   | CNN (DeepPurpose)           | Kexin Huang  | GitHub, Paper | 226,625   | 0.544 ± 0.053 |\n",
    "| 14   | Basic ML                    | Nilavo Boral | GitHub, Paper | N/A       | 0.358 ± 0.000 |\n",
    "| 15   | Euclia ML model             | Euclia       | GitHub, Paper | 50        | 0.348 ± 0.004 |"
   ]
  },
  {
   "cell_type": "code",
   "execution_count": 1,
   "id": "initial_id",
   "metadata": {
    "ExecuteTime": {
     "end_time": "2023-11-08T15:04:08.805295134Z",
     "start_time": "2023-11-08T15:04:03.434808729Z"
    },
    "collapsed": false
   },
   "outputs": [
    {
     "name": "stderr",
     "output_type": "stream",
     "text": [
      "2024-04-19 11:39:10.918429: I tensorflow/core/util/port.cc:111] oneDNN custom operations are on. You may see slightly different numerical results due to floating-point round-off errors from different computation orders. To turn them off, set the environment variable `TF_ENABLE_ONEDNN_OPTS=0`.\n",
      "2024-04-19 11:39:11.007896: E tensorflow/compiler/xla/stream_executor/cuda/cuda_dnn.cc:9342] Unable to register cuDNN factory: Attempting to register factory for plugin cuDNN when one has already been registered\n",
      "2024-04-19 11:39:11.007996: E tensorflow/compiler/xla/stream_executor/cuda/cuda_fft.cc:609] Unable to register cuFFT factory: Attempting to register factory for plugin cuFFT when one has already been registered\n",
      "2024-04-19 11:39:11.008053: E tensorflow/compiler/xla/stream_executor/cuda/cuda_blas.cc:1518] Unable to register cuBLAS factory: Attempting to register factory for plugin cuBLAS when one has already been registered\n",
      "2024-04-19 11:39:11.023608: I tensorflow/core/platform/cpu_feature_guard.cc:182] This TensorFlow binary is optimized to use available CPU instructions in performance-critical operations.\n",
      "To enable the following instructions: AVX2 AVX512F AVX512_VNNI FMA, in other operations, rebuild TensorFlow with the appropriate compiler flags.\n",
      "2024-04-19 11:39:12.695553: W tensorflow/compiler/tf2tensorrt/utils/py_utils.cc:38] TF-TRT Warning: Could not find TensorRT\n",
      "Skipped loading modules with pytorch-lightning dependency, missing a dependency. No module named 'pytorch_lightning'\n",
      "Skipped loading some Jax models, missing a dependency. jax requires jaxlib to be installed. See https://github.com/google/jax#installation for installation instructions.\n"
     ]
    }
   ],
   "source": [
    "import pandas as pd\n",
    "from deepmol.pipeline import Pipeline"
   ]
  },
  {
   "cell_type": "code",
   "execution_count": 2,
   "id": "6753179565f6d258",
   "metadata": {
    "ExecuteTime": {
     "end_time": "2023-11-08T15:04:10.923336476Z",
     "start_time": "2023-11-08T15:04:10.161013853Z"
    },
    "collapsed": false
   },
   "outputs": [
    {
     "data": {
      "text/html": [
       "<div>\n",
       "<style scoped>\n",
       "    .dataframe tbody tr th:only-of-type {\n",
       "        vertical-align: middle;\n",
       "    }\n",
       "\n",
       "    .dataframe tbody tr th {\n",
       "        vertical-align: top;\n",
       "    }\n",
       "\n",
       "    .dataframe thead th {\n",
       "        text-align: right;\n",
       "    }\n",
       "</style>\n",
       "<table border=\"1\" class=\"dataframe\">\n",
       "  <thead>\n",
       "    <tr style=\"text-align: right;\">\n",
       "      <th></th>\n",
       "      <th>trial_id</th>\n",
       "      <th>mean</th>\n",
       "      <th>std</th>\n",
       "    </tr>\n",
       "  </thead>\n",
       "  <tbody>\n",
       "    <tr>\n",
       "      <th>0</th>\n",
       "      <td>14.0</td>\n",
       "      <td>0.685</td>\n",
       "      <td>0.000</td>\n",
       "    </tr>\n",
       "    <tr>\n",
       "      <th>1</th>\n",
       "      <td>52.0</td>\n",
       "      <td>0.406</td>\n",
       "      <td>0.002</td>\n",
       "    </tr>\n",
       "    <tr>\n",
       "      <th>2</th>\n",
       "      <td>80.0</td>\n",
       "      <td>0.654</td>\n",
       "      <td>0.003</td>\n",
       "    </tr>\n",
       "    <tr>\n",
       "      <th>3</th>\n",
       "      <td>41.0</td>\n",
       "      <td>0.402</td>\n",
       "      <td>0.009</td>\n",
       "    </tr>\n",
       "    <tr>\n",
       "      <th>4</th>\n",
       "      <td>17.0</td>\n",
       "      <td>0.663</td>\n",
       "      <td>0.001</td>\n",
       "    </tr>\n",
       "    <tr>\n",
       "      <th>5</th>\n",
       "      <td>74.0</td>\n",
       "      <td>0.658</td>\n",
       "      <td>0.001</td>\n",
       "    </tr>\n",
       "    <tr>\n",
       "      <th>6</th>\n",
       "      <td>15.0</td>\n",
       "      <td>0.424</td>\n",
       "      <td>0.003</td>\n",
       "    </tr>\n",
       "    <tr>\n",
       "      <th>7</th>\n",
       "      <td>79.0</td>\n",
       "      <td>0.659</td>\n",
       "      <td>0.002</td>\n",
       "    </tr>\n",
       "    <tr>\n",
       "      <th>8</th>\n",
       "      <td>81.0</td>\n",
       "      <td>0.654</td>\n",
       "      <td>0.001</td>\n",
       "    </tr>\n",
       "    <tr>\n",
       "      <th>9</th>\n",
       "      <td>85.0</td>\n",
       "      <td>0.658</td>\n",
       "      <td>0.003</td>\n",
       "    </tr>\n",
       "    <tr>\n",
       "      <th>10</th>\n",
       "      <td>voting_pipeline</td>\n",
       "      <td>0.681</td>\n",
       "      <td>0.001</td>\n",
       "    </tr>\n",
       "  </tbody>\n",
       "</table>\n",
       "</div>"
      ],
      "text/plain": [
       "           trial_id   mean    std\n",
       "0              14.0  0.685  0.000\n",
       "1              52.0  0.406  0.002\n",
       "2              80.0  0.654  0.003\n",
       "3              41.0  0.402  0.009\n",
       "4              17.0  0.663  0.001\n",
       "5              74.0  0.658  0.001\n",
       "6              15.0  0.424  0.003\n",
       "7              79.0  0.659  0.002\n",
       "8              81.0  0.654  0.001\n",
       "9              85.0  0.658  0.003\n",
       "10  voting_pipeline  0.681  0.001"
      ]
     },
     "execution_count": 2,
     "metadata": {},
     "output_type": "execute_result"
    }
   ],
   "source": [
    "# read results\n",
    "results = pd.read_csv('results_test_set/cyp2d6_test_set.csv')\n",
    "# set columns\n",
    "results.columns = ['trial_id', 'mean', 'std']\n",
    "results\n",
    "# order res"
   ]
  },
  {
   "cell_type": "code",
   "execution_count": 3,
   "id": "c418a24aeebde864",
   "metadata": {
    "ExecuteTime": {
     "end_time": "2023-11-08T15:04:24.566946759Z",
     "start_time": "2023-11-08T15:04:24.547989759Z"
    },
    "collapsed": false
   },
   "outputs": [
    {
     "data": {
      "text/html": [
       "<div>\n",
       "<style scoped>\n",
       "    .dataframe tbody tr th:only-of-type {\n",
       "        vertical-align: middle;\n",
       "    }\n",
       "\n",
       "    .dataframe tbody tr th {\n",
       "        vertical-align: top;\n",
       "    }\n",
       "\n",
       "    .dataframe thead th {\n",
       "        text-align: right;\n",
       "    }\n",
       "</style>\n",
       "<table border=\"1\" class=\"dataframe\">\n",
       "  <thead>\n",
       "    <tr style=\"text-align: right;\">\n",
       "      <th></th>\n",
       "      <th>trial_id</th>\n",
       "      <th>mean</th>\n",
       "      <th>std</th>\n",
       "    </tr>\n",
       "  </thead>\n",
       "  <tbody>\n",
       "    <tr>\n",
       "      <th>0</th>\n",
       "      <td>14.0</td>\n",
       "      <td>0.685</td>\n",
       "      <td>0.000</td>\n",
       "    </tr>\n",
       "    <tr>\n",
       "      <th>10</th>\n",
       "      <td>voting_pipeline</td>\n",
       "      <td>0.681</td>\n",
       "      <td>0.001</td>\n",
       "    </tr>\n",
       "    <tr>\n",
       "      <th>4</th>\n",
       "      <td>17.0</td>\n",
       "      <td>0.663</td>\n",
       "      <td>0.001</td>\n",
       "    </tr>\n",
       "    <tr>\n",
       "      <th>7</th>\n",
       "      <td>79.0</td>\n",
       "      <td>0.659</td>\n",
       "      <td>0.002</td>\n",
       "    </tr>\n",
       "    <tr>\n",
       "      <th>9</th>\n",
       "      <td>85.0</td>\n",
       "      <td>0.658</td>\n",
       "      <td>0.003</td>\n",
       "    </tr>\n",
       "    <tr>\n",
       "      <th>5</th>\n",
       "      <td>74.0</td>\n",
       "      <td>0.658</td>\n",
       "      <td>0.001</td>\n",
       "    </tr>\n",
       "    <tr>\n",
       "      <th>2</th>\n",
       "      <td>80.0</td>\n",
       "      <td>0.654</td>\n",
       "      <td>0.003</td>\n",
       "    </tr>\n",
       "    <tr>\n",
       "      <th>8</th>\n",
       "      <td>81.0</td>\n",
       "      <td>0.654</td>\n",
       "      <td>0.001</td>\n",
       "    </tr>\n",
       "    <tr>\n",
       "      <th>6</th>\n",
       "      <td>15.0</td>\n",
       "      <td>0.424</td>\n",
       "      <td>0.003</td>\n",
       "    </tr>\n",
       "    <tr>\n",
       "      <th>1</th>\n",
       "      <td>52.0</td>\n",
       "      <td>0.406</td>\n",
       "      <td>0.002</td>\n",
       "    </tr>\n",
       "    <tr>\n",
       "      <th>3</th>\n",
       "      <td>41.0</td>\n",
       "      <td>0.402</td>\n",
       "      <td>0.009</td>\n",
       "    </tr>\n",
       "  </tbody>\n",
       "</table>\n",
       "</div>"
      ],
      "text/plain": [
       "           trial_id   mean    std\n",
       "0              14.0  0.685  0.000\n",
       "10  voting_pipeline  0.681  0.001\n",
       "4              17.0  0.663  0.001\n",
       "7              79.0  0.659  0.002\n",
       "9              85.0  0.658  0.003\n",
       "5              74.0  0.658  0.001\n",
       "2              80.0  0.654  0.003\n",
       "8              81.0  0.654  0.001\n",
       "6              15.0  0.424  0.003\n",
       "1              52.0  0.406  0.002\n",
       "3              41.0  0.402  0.009"
      ]
     },
     "execution_count": 3,
     "metadata": {},
     "output_type": "execute_result"
    }
   ],
   "source": [
    "# order results by mean (std in case of tie)\n",
    "results = results.sort_values(by=['mean', 'std'], ascending=False)\n",
    "results"
   ]
  },
  {
   "cell_type": "code",
   "execution_count": 4,
   "id": "90e40046d6b150ce",
   "metadata": {
    "ExecuteTime": {
     "end_time": "2023-11-08T15:04:30.062389825Z",
     "start_time": "2023-11-08T15:04:30.051324259Z"
    },
    "collapsed": false
   },
   "outputs": [
    {
     "name": "stderr",
     "output_type": "stream",
     "text": [
      "[11:39:17] Initializing Normalizer\n"
     ]
    },
    {
     "data": {
      "text/plain": [
       "[('standardizer',\n",
       "  <deepmol.standardizer.custom_standardizer.CustomStandardizer at 0x7f213a823460>),\n",
       " ('featurizer',\n",
       "  <deepmol.compound_featurization.rdkit_fingerprints.RDKFingerprint at 0x7f213a9a2e60>),\n",
       " ('scaler',\n",
       "  <deepmol.base.transformer.PassThroughTransformer at 0x7f213a859660>),\n",
       " ('feature_selector',\n",
       "  <deepmol.feature_selection.base_feature_selector.BorutaAlgorithm at 0x7f213a891060>),\n",
       " ('model',\n",
       "  SklearnModel(model=StackingClassifier(estimators=[('lr', LogisticRegression()),\n",
       "                                                    ('svc', SVC()),\n",
       "                                                    ('rfr',\n",
       "                                                     RandomForestClassifier()),\n",
       "                                                    ('gbr',\n",
       "                                                     GradientBoostingClassifier())],\n",
       "                                        final_estimator=MLPClassifier()),\n",
       "               model_dir='cyp2d6/trial_14/model/model.pkl'))]"
      ]
     },
     "execution_count": 4,
     "metadata": {},
     "output_type": "execute_result"
    }
   ],
   "source": [
    "# load best trial pipeline (rank #5)\n",
    "pipeline = Pipeline.load(f\"cyp2d6/trial_14/\")\n",
    "pipeline.steps"
   ]
  },
  {
   "cell_type": "code",
   "execution_count": null,
   "id": "aca45806698765d8",
   "metadata": {
    "collapsed": false
   },
   "outputs": [],
   "source": []
  }
 ],
 "metadata": {
  "kernelspec": {
   "display_name": "Python 3",
   "language": "python",
   "name": "python3"
  },
  "language_info": {
   "codemirror_mode": {
    "name": "ipython",
    "version": 3
   },
   "file_extension": ".py",
   "mimetype": "text/x-python",
   "name": "python",
   "nbconvert_exporter": "python",
   "pygments_lexer": "ipython3",
   "version": "3.10.13"
  }
 },
 "nbformat": 4,
 "nbformat_minor": 5
}
