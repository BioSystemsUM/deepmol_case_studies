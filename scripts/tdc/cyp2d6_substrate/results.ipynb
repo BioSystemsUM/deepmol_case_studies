{
 "cells": [
  {
   "cell_type": "markdown",
   "id": "86a59e63e6143206",
   "metadata": {
    "collapsed": false
   },
   "source": [
    "# CYP2D6 Substrate, Carbon-Mangels et al.\n",
    "\n",
    "### Dataset Description: CYP2D6 is primarily expressed in the liver. It is also highly expressed in areas of the central nervous system, including the substantia nigra. TDC used a dataset from [1], which merged information on substrates and nonsubstrates from six publications.\n",
    "\n",
    "### Task Description: Binary Classification. Given a drug SMILES string, predict if it is a substrate to the enzyme.\n",
    "\n",
    "### Dataset Statistics: 664 drugs.\n",
    "\n",
    "### Metric: AUPRC\n",
    "\n",
    "## Leaderboard\n",
    "\n",
    "| Rank | Model                       | Contact      | Link          | #Params   | AUPRC         |\n",
    "|------|-----------------------------|--------------|---------------|-----------|---------------|\n",
    "| 1    | ContextPred                 | Kexin Huang  | GitHub, Paper | 2,067,053 | 0.736 ± 0.024 |\n",
    "| 2    | MapLight + GNN              | Jim Notwell  | GitHub, Paper | N/A       | 0.720 ± 0.002 |\n",
    "| 3    | MapLight                    | Jim Notwell  | GitHub, Paper | N/A       | 0.713 ± 0.009 |\n",
    "| 4    | AttrMasking                 | Kexin Huang  | GitHub, Paper | 2,067,053 | 0.704 ± 0.028 |\n",
    "| 5    | Chemprop-RDKit              | Kyle Swanson | GitHub, Paper | N/A       | 0.686 ± 0.031 |\n",
    "| 6    | ZairaChem                   | Gemma Turon  | GitHub, Paper | N/A       | 0.685 ± 0.029 |\n",
    "| 7    | RDKit2D + MLP (DeepPurpose) | Kexin Huang  | GitHub, Paper | 633,409   | 0.677 ± 0.047 |\n",
    "| 8    | Morgan + MLP (DeepPurpose)  | Kexin Huang  | GitHub, Paper | 1,477,185 | 0.671 ± 0.066 |\n",
    "| 9    | Chemprop                    | Kyle Swanson | GitHub, Paper | N/A       | 0.632 ± 0.037 |\n",
    "| 10   | GCN                         | Kexin Huang  | GitHub, Paper | 191,810   | 0.617 ± 0.039 |\n",
    "| 11   | AttentiveFP                 | Kexin Huang  | GitHub, Paper | 300,806   | 0.574 ± 0.030 |\n",
    "| 12   | NeuralFP                    | Kexin Huang  | GitHub, Paper | 480,193   | 0.572 ± 0.062 |\n",
    "| 13   | Euclia ML model             | Euclia       | GitHub, Paper | 50        | 0.498 ± 0.015 |\n",
    "| 14   | CNN (DeepPurpose)           | Kexin Huang  | GitHub, Paper | 226,625   | 0.485 ± 0.037 |\n",
    "| 15   | Basic ML                    | Nilavo Boral | GitHub, Paper | N/A       | 0.478 ± 0.018 |"
   ]
  },
  {
   "cell_type": "code",
   "execution_count": 2,
   "id": "initial_id",
   "metadata": {
    "ExecuteTime": {
     "end_time": "2023-11-08T15:04:08.805295134Z",
     "start_time": "2023-11-08T15:04:03.434808729Z"
    },
    "collapsed": false
   },
   "outputs": [
    {
     "name": "stderr",
     "output_type": "stream",
     "text": [
      "2024-02-26 10:26:46.960157: I tensorflow/core/util/port.cc:111] oneDNN custom operations are on. You may see slightly different numerical results due to floating-point round-off errors from different computation orders. To turn them off, set the environment variable `TF_ENABLE_ONEDNN_OPTS=0`.\n",
      "2024-02-26 10:26:47.005052: E tensorflow/compiler/xla/stream_executor/cuda/cuda_dnn.cc:9342] Unable to register cuDNN factory: Attempting to register factory for plugin cuDNN when one has already been registered\n",
      "2024-02-26 10:26:47.005090: E tensorflow/compiler/xla/stream_executor/cuda/cuda_fft.cc:609] Unable to register cuFFT factory: Attempting to register factory for plugin cuFFT when one has already been registered\n",
      "2024-02-26 10:26:47.005119: E tensorflow/compiler/xla/stream_executor/cuda/cuda_blas.cc:1518] Unable to register cuBLAS factory: Attempting to register factory for plugin cuBLAS when one has already been registered\n",
      "2024-02-26 10:26:47.012920: I tensorflow/core/platform/cpu_feature_guard.cc:182] This TensorFlow binary is optimized to use available CPU instructions in performance-critical operations.\n",
      "To enable the following instructions: AVX2 AVX512F AVX512_VNNI FMA, in other operations, rebuild TensorFlow with the appropriate compiler flags.\n",
      "2024-02-26 10:26:47.804373: W tensorflow/compiler/tf2tensorrt/utils/py_utils.cc:38] TF-TRT Warning: Could not find TensorRT\n",
      "Skipped loading modules with pytorch-lightning dependency, missing a dependency. No module named 'pytorch_lightning'\n",
      "Skipped loading some Jax models, missing a dependency. jax requires jaxlib to be installed. See https://github.com/google/jax#installation for installation instructions.\n"
     ]
    }
   ],
   "source": [
    "import pandas as pd\n",
    "from deepmol.pipeline import Pipeline"
   ]
  },
  {
   "cell_type": "code",
   "execution_count": 3,
   "id": "6753179565f6d258",
   "metadata": {
    "ExecuteTime": {
     "end_time": "2023-11-08T15:04:10.923336476Z",
     "start_time": "2023-11-08T15:04:10.161013853Z"
    },
    "collapsed": false
   },
   "outputs": [
    {
     "data": {
      "text/html": [
       "<div>\n",
       "<style scoped>\n",
       "    .dataframe tbody tr th:only-of-type {\n",
       "        vertical-align: middle;\n",
       "    }\n",
       "\n",
       "    .dataframe tbody tr th {\n",
       "        vertical-align: top;\n",
       "    }\n",
       "\n",
       "    .dataframe thead th {\n",
       "        text-align: right;\n",
       "    }\n",
       "</style>\n",
       "<table border=\"1\" class=\"dataframe\">\n",
       "  <thead>\n",
       "    <tr style=\"text-align: right;\">\n",
       "      <th></th>\n",
       "      <th>trial_id</th>\n",
       "      <th>mean</th>\n",
       "      <th>std</th>\n",
       "    </tr>\n",
       "  </thead>\n",
       "  <tbody>\n",
       "    <tr>\n",
       "      <th>0</th>\n",
       "      <td>53.0</td>\n",
       "      <td>0.498</td>\n",
       "      <td>0.003</td>\n",
       "    </tr>\n",
       "    <tr>\n",
       "      <th>1</th>\n",
       "      <td>68.0</td>\n",
       "      <td>0.652</td>\n",
       "      <td>0.008</td>\n",
       "    </tr>\n",
       "    <tr>\n",
       "      <th>2</th>\n",
       "      <td>55.0</td>\n",
       "      <td>0.592</td>\n",
       "      <td>0.014</td>\n",
       "    </tr>\n",
       "    <tr>\n",
       "      <th>3</th>\n",
       "      <td>60.0</td>\n",
       "      <td>0.591</td>\n",
       "      <td>0.010</td>\n",
       "    </tr>\n",
       "    <tr>\n",
       "      <th>4</th>\n",
       "      <td>63.0</td>\n",
       "      <td>0.588</td>\n",
       "      <td>0.004</td>\n",
       "    </tr>\n",
       "    <tr>\n",
       "      <th>5</th>\n",
       "      <td>56.0</td>\n",
       "      <td>0.569</td>\n",
       "      <td>0.008</td>\n",
       "    </tr>\n",
       "    <tr>\n",
       "      <th>6</th>\n",
       "      <td>91.0</td>\n",
       "      <td>0.600</td>\n",
       "      <td>0.008</td>\n",
       "    </tr>\n",
       "    <tr>\n",
       "      <th>7</th>\n",
       "      <td>62.0</td>\n",
       "      <td>0.581</td>\n",
       "      <td>0.010</td>\n",
       "    </tr>\n",
       "    <tr>\n",
       "      <th>8</th>\n",
       "      <td>70.0</td>\n",
       "      <td>0.731</td>\n",
       "      <td>0.037</td>\n",
       "    </tr>\n",
       "    <tr>\n",
       "      <th>9</th>\n",
       "      <td>61.0</td>\n",
       "      <td>0.577</td>\n",
       "      <td>0.004</td>\n",
       "    </tr>\n",
       "    <tr>\n",
       "      <th>10</th>\n",
       "      <td>voting_pipeline</td>\n",
       "      <td>0.639</td>\n",
       "      <td>0.007</td>\n",
       "    </tr>\n",
       "  </tbody>\n",
       "</table>\n",
       "</div>"
      ],
      "text/plain": [
       "           trial_id   mean    std\n",
       "0              53.0  0.498  0.003\n",
       "1              68.0  0.652  0.008\n",
       "2              55.0  0.592  0.014\n",
       "3              60.0  0.591  0.010\n",
       "4              63.0  0.588  0.004\n",
       "5              56.0  0.569  0.008\n",
       "6              91.0  0.600  0.008\n",
       "7              62.0  0.581  0.010\n",
       "8              70.0  0.731  0.037\n",
       "9              61.0  0.577  0.004\n",
       "10  voting_pipeline  0.639  0.007"
      ]
     },
     "execution_count": 3,
     "metadata": {},
     "output_type": "execute_result"
    }
   ],
   "source": [
    "# read results\n",
    "results = pd.read_csv('results_test_set/cyp2d6_substrate_test_set.csv')\n",
    "# set columns\n",
    "results.columns = ['trial_id', 'mean', 'std']\n",
    "results\n",
    "# order res"
   ]
  },
  {
   "cell_type": "code",
   "execution_count": 4,
   "id": "c418a24aeebde864",
   "metadata": {
    "ExecuteTime": {
     "end_time": "2023-11-08T15:04:24.566946759Z",
     "start_time": "2023-11-08T15:04:24.547989759Z"
    },
    "collapsed": false
   },
   "outputs": [
    {
     "data": {
      "text/html": [
       "<div>\n",
       "<style scoped>\n",
       "    .dataframe tbody tr th:only-of-type {\n",
       "        vertical-align: middle;\n",
       "    }\n",
       "\n",
       "    .dataframe tbody tr th {\n",
       "        vertical-align: top;\n",
       "    }\n",
       "\n",
       "    .dataframe thead th {\n",
       "        text-align: right;\n",
       "    }\n",
       "</style>\n",
       "<table border=\"1\" class=\"dataframe\">\n",
       "  <thead>\n",
       "    <tr style=\"text-align: right;\">\n",
       "      <th></th>\n",
       "      <th>trial_id</th>\n",
       "      <th>mean</th>\n",
       "      <th>std</th>\n",
       "    </tr>\n",
       "  </thead>\n",
       "  <tbody>\n",
       "    <tr>\n",
       "      <th>8</th>\n",
       "      <td>70.0</td>\n",
       "      <td>0.731</td>\n",
       "      <td>0.037</td>\n",
       "    </tr>\n",
       "    <tr>\n",
       "      <th>1</th>\n",
       "      <td>68.0</td>\n",
       "      <td>0.652</td>\n",
       "      <td>0.008</td>\n",
       "    </tr>\n",
       "    <tr>\n",
       "      <th>10</th>\n",
       "      <td>voting_pipeline</td>\n",
       "      <td>0.639</td>\n",
       "      <td>0.007</td>\n",
       "    </tr>\n",
       "    <tr>\n",
       "      <th>6</th>\n",
       "      <td>91.0</td>\n",
       "      <td>0.600</td>\n",
       "      <td>0.008</td>\n",
       "    </tr>\n",
       "    <tr>\n",
       "      <th>2</th>\n",
       "      <td>55.0</td>\n",
       "      <td>0.592</td>\n",
       "      <td>0.014</td>\n",
       "    </tr>\n",
       "    <tr>\n",
       "      <th>3</th>\n",
       "      <td>60.0</td>\n",
       "      <td>0.591</td>\n",
       "      <td>0.010</td>\n",
       "    </tr>\n",
       "    <tr>\n",
       "      <th>4</th>\n",
       "      <td>63.0</td>\n",
       "      <td>0.588</td>\n",
       "      <td>0.004</td>\n",
       "    </tr>\n",
       "    <tr>\n",
       "      <th>7</th>\n",
       "      <td>62.0</td>\n",
       "      <td>0.581</td>\n",
       "      <td>0.010</td>\n",
       "    </tr>\n",
       "    <tr>\n",
       "      <th>9</th>\n",
       "      <td>61.0</td>\n",
       "      <td>0.577</td>\n",
       "      <td>0.004</td>\n",
       "    </tr>\n",
       "    <tr>\n",
       "      <th>5</th>\n",
       "      <td>56.0</td>\n",
       "      <td>0.569</td>\n",
       "      <td>0.008</td>\n",
       "    </tr>\n",
       "    <tr>\n",
       "      <th>0</th>\n",
       "      <td>53.0</td>\n",
       "      <td>0.498</td>\n",
       "      <td>0.003</td>\n",
       "    </tr>\n",
       "  </tbody>\n",
       "</table>\n",
       "</div>"
      ],
      "text/plain": [
       "           trial_id   mean    std\n",
       "8              70.0  0.731  0.037\n",
       "1              68.0  0.652  0.008\n",
       "10  voting_pipeline  0.639  0.007\n",
       "6              91.0  0.600  0.008\n",
       "2              55.0  0.592  0.014\n",
       "3              60.0  0.591  0.010\n",
       "4              63.0  0.588  0.004\n",
       "7              62.0  0.581  0.010\n",
       "9              61.0  0.577  0.004\n",
       "5              56.0  0.569  0.008\n",
       "0              53.0  0.498  0.003"
      ]
     },
     "execution_count": 4,
     "metadata": {},
     "output_type": "execute_result"
    }
   ],
   "source": [
    "# order results by mean (std in case of tie)\n",
    "results = results.sort_values(by=['mean', 'std'], ascending=False)\n",
    "results"
   ]
  },
  {
   "cell_type": "code",
   "execution_count": 6,
   "id": "90e40046d6b150ce",
   "metadata": {
    "ExecuteTime": {
     "end_time": "2023-11-08T15:04:30.062389825Z",
     "start_time": "2023-11-08T15:04:30.051324259Z"
    },
    "collapsed": false
   },
   "outputs": [
    {
     "data": {
      "text/plain": [
       "[('standardizer',\n",
       "  <deepmol.base.transformer.PassThroughTransformer at 0x7f29267e1360>),\n",
       " ('featurizer',\n",
       "  <deepmol.compound_featurization.rdkit_descriptors.TwoDimensionDescriptors at 0x7f29267e10c0>),\n",
       " ('scaler', <deepmol.scalers.sklearn_scalers.Binarizer at 0x7f29267e1060>),\n",
       " ('feature_selector',\n",
       "  <deepmol.feature_selection.base_feature_selector.PercentilFS at 0x7f27c3bf2dd0>),\n",
       " ('model',\n",
       "  SklearnModel(model=GradientBoostingClassifier(criterion='squared_error',\n",
       "                                                learning_rate=0.6277616525761669,\n",
       "                                                loss='deviance',\n",
       "                                                max_features='log2',\n",
       "                                                n_estimators=200),\n",
       "               model_dir='cyp2d6_substrate/trial_70/model/model.pkl'))]"
      ]
     },
     "execution_count": 6,
     "metadata": {},
     "output_type": "execute_result"
    }
   ],
   "source": [
    "# load best trial pipeline (rank #...)\n",
    "pipeline = Pipeline.load(f\"cyp2d6_substrate/trial_70/\")\n",
    "pipeline.steps"
   ]
  },
  {
   "cell_type": "code",
   "execution_count": null,
   "id": "aca45806698765d8",
   "metadata": {
    "collapsed": false
   },
   "outputs": [],
   "source": []
  }
 ],
 "metadata": {
  "kernelspec": {
   "display_name": "Python 3",
   "language": "python",
   "name": "python3"
  },
  "language_info": {
   "codemirror_mode": {
    "name": "ipython",
    "version": 3
   },
   "file_extension": ".py",
   "mimetype": "text/x-python",
   "name": "python",
   "nbconvert_exporter": "python",
   "pygments_lexer": "ipython3",
   "version": "3.10.13"
  }
 },
 "nbformat": 4,
 "nbformat_minor": 5
}
