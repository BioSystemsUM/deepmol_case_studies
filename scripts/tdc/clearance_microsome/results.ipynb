{
 "cells": [
  {
   "cell_type": "markdown",
   "source": [
    "# Clearance, AstraZeneca\n",
    "\n",
    "### Dataset Description: Drug clearance is defined as the volume of plasma cleared of a drug over a specified time period and it measures the rate at which the active drug is removed from the body. This is a dataset curated from ChEMBL database containing experimental results on intrinsic clearance, deposited from AstraZeneca. It contains clearance measures from two experiments types, hepatocyte and microsomes. As many studies [2] have shown various clearance outcomes given these two different types, we separate them.\n",
    "\n",
    "### Task Description: Regression. Given a drug SMILES string, predict the activity of clearance.\n",
    "\n",
    "### Dataset Statistics: 1,102/1,020 drugs for microsome/hepatocyte clearance.\n",
    "\n",
    "### Metric: Spearman\n",
    "\n",
    "## Leaderboard\n",
    "\n",
    "| Rank | Model                       | Contact           | Link          | #Params   | Spearman      |\n",
    "|------|-----------------------------|-------------------|---------------|-----------|---------------|\n",
    "| 1    | MapLight + GNN              | Jim Notwell       | GitHub, Paper | N/A       | 0.630 ± 0.010 |\n",
    "| 2    | MapLight                    | Jim Notwell       | GitHub, Paper | N/A       | 0.626 ± 0.008 |\n",
    "| 3    | RFStacker                   | Andrew Li         | GitHub, Paper | 1,858,225 | 0.625 ± 0.002 |\n",
    "| 4    | Chemprop-RDKit              | Kyle Swanson      | GitHub, Paper | N/A       | 0.599 ± 0.025 |\n",
    "| 5    | SimGCN                      | Suman Kalyan Bera | GitHub, Paper | 1,103,000 | 0.597 ± 0.025 |\n",
    "| 6    | RDKit2D + MLP (DeepPurpose) | Kexin Huang       | GitHub, Paper | 633,409   | 0.586 ± 0.014 |\n",
    "| 7    | AttrMasking                 | Kexin Huang       | GitHub, Paper | 2,067,053 | 0.585 ± 0.034 |\n",
    "| 8    | ContextPred                 | Kexin Huang       | GitHub, Paper | 2,067,053 | 0.578 ± 0.007 |\n",
    "| 9    | Euclia ML model             | Euclia            | GitHub, Paper | 50        | 0.572 ± 0.010 |\n",
    "| 10   | Chemprop                    | Kyle Swanson      | GitHub, Paper | N/A       | 0.555 ± 0.022 |\n",
    "| 11   | GCN                         | Kexin Huang       | GitHub, Paper | 191,810   | 0.532 ± 0.033 |\n",
    "| 12   | NeuralFP                    | Kexin Huang       | GitHub, Paper | 480,193   | 0.529 ± 0.015 |\n",
    "| 13   | Basic ML                    | Nilavo Boral      | GitHub, Paper | N/A       | 0.518 ± 0.005 |\n",
    "| 14   | Morgan + MLP (DeepPurpose)  | Kexin Huang       | GitHub, Paper | 1,477,185 | 0.492 ± 0.020 |\n",
    "| 15   | AttentiveFP                 | Kexin Huang       | GitHub, Paper | 300,806   | 0.365 ± 0.055 |\n",
    "| 16   | CNN (DeepPurpose)           | Kexin Huang       | GitHub, Paper | 226,625   | 0.252 ± 0.116 |"
   ],
   "metadata": {
    "collapsed": false
   },
   "id": "86a59e63e6143206"
  },
  {
   "cell_type": "code",
   "execution_count": 1,
   "outputs": [
    {
     "name": "stderr",
     "output_type": "stream",
     "text": [
      "2023-11-21 14:38:14.301130: I tensorflow/tsl/cuda/cudart_stub.cc:28] Could not find cuda drivers on your machine, GPU will not be used.\n",
      "2023-11-21 14:38:14.343694: I tensorflow/tsl/cuda/cudart_stub.cc:28] Could not find cuda drivers on your machine, GPU will not be used.\n",
      "2023-11-21 14:38:14.344396: I tensorflow/core/platform/cpu_feature_guard.cc:182] This TensorFlow binary is optimized to use available CPU instructions in performance-critical operations.\n",
      "To enable the following instructions: AVX2 FMA, in other operations, rebuild TensorFlow with the appropriate compiler flags.\n",
      "2023-11-21 14:38:14.930843: W tensorflow/compiler/tf2tensorrt/utils/py_utils.cc:38] TF-TRT Warning: Could not find TensorRT\n",
      "Skipped loading modules with pytorch-lightning dependency, missing a dependency. No module named 'pytorch_lightning'\n",
      "Skipped loading some Jax models, missing a dependency. jax requires jaxlib to be installed. See https://github.com/google/jax#installation for installation instructions.\n"
     ]
    }
   ],
   "source": [
    "import pandas as pd\n",
    "from deepmol.pipeline import Pipeline"
   ],
   "metadata": {
    "collapsed": false,
    "ExecuteTime": {
     "end_time": "2023-11-21T14:38:17.130611891Z",
     "start_time": "2023-11-21T14:38:13.912095696Z"
    }
   },
   "id": "initial_id"
  },
  {
   "cell_type": "code",
   "execution_count": 2,
   "outputs": [
    {
     "data": {
      "text/plain": "    trial_id   mean    std\n0          1  0.258  0.085\n1          3    NaN    NaN\n2          4  0.019  0.009\n3          5  0.585  0.007\n4          6  0.045  0.013\n5          7    NaN    NaN\n6         10  0.046  0.029\n7         12  0.587  0.009\n8         13  0.579  0.010\n9         14  0.580  0.012\n10        16    NaN    NaN\n11        18    NaN    NaN\n12        19    NaN    NaN\n13        20    NaN    NaN\n14        21    NaN    NaN\n15        22    NaN    NaN\n16        23  0.077  0.105\n17        25  0.540  0.019\n18        27    NaN    NaN",
      "text/html": "<div>\n<style scoped>\n    .dataframe tbody tr th:only-of-type {\n        vertical-align: middle;\n    }\n\n    .dataframe tbody tr th {\n        vertical-align: top;\n    }\n\n    .dataframe thead th {\n        text-align: right;\n    }\n</style>\n<table border=\"1\" class=\"dataframe\">\n  <thead>\n    <tr style=\"text-align: right;\">\n      <th></th>\n      <th>trial_id</th>\n      <th>mean</th>\n      <th>std</th>\n    </tr>\n  </thead>\n  <tbody>\n    <tr>\n      <th>0</th>\n      <td>1</td>\n      <td>0.258</td>\n      <td>0.085</td>\n    </tr>\n    <tr>\n      <th>1</th>\n      <td>3</td>\n      <td>NaN</td>\n      <td>NaN</td>\n    </tr>\n    <tr>\n      <th>2</th>\n      <td>4</td>\n      <td>0.019</td>\n      <td>0.009</td>\n    </tr>\n    <tr>\n      <th>3</th>\n      <td>5</td>\n      <td>0.585</td>\n      <td>0.007</td>\n    </tr>\n    <tr>\n      <th>4</th>\n      <td>6</td>\n      <td>0.045</td>\n      <td>0.013</td>\n    </tr>\n    <tr>\n      <th>5</th>\n      <td>7</td>\n      <td>NaN</td>\n      <td>NaN</td>\n    </tr>\n    <tr>\n      <th>6</th>\n      <td>10</td>\n      <td>0.046</td>\n      <td>0.029</td>\n    </tr>\n    <tr>\n      <th>7</th>\n      <td>12</td>\n      <td>0.587</td>\n      <td>0.009</td>\n    </tr>\n    <tr>\n      <th>8</th>\n      <td>13</td>\n      <td>0.579</td>\n      <td>0.010</td>\n    </tr>\n    <tr>\n      <th>9</th>\n      <td>14</td>\n      <td>0.580</td>\n      <td>0.012</td>\n    </tr>\n    <tr>\n      <th>10</th>\n      <td>16</td>\n      <td>NaN</td>\n      <td>NaN</td>\n    </tr>\n    <tr>\n      <th>11</th>\n      <td>18</td>\n      <td>NaN</td>\n      <td>NaN</td>\n    </tr>\n    <tr>\n      <th>12</th>\n      <td>19</td>\n      <td>NaN</td>\n      <td>NaN</td>\n    </tr>\n    <tr>\n      <th>13</th>\n      <td>20</td>\n      <td>NaN</td>\n      <td>NaN</td>\n    </tr>\n    <tr>\n      <th>14</th>\n      <td>21</td>\n      <td>NaN</td>\n      <td>NaN</td>\n    </tr>\n    <tr>\n      <th>15</th>\n      <td>22</td>\n      <td>NaN</td>\n      <td>NaN</td>\n    </tr>\n    <tr>\n      <th>16</th>\n      <td>23</td>\n      <td>0.077</td>\n      <td>0.105</td>\n    </tr>\n    <tr>\n      <th>17</th>\n      <td>25</td>\n      <td>0.540</td>\n      <td>0.019</td>\n    </tr>\n    <tr>\n      <th>18</th>\n      <td>27</td>\n      <td>NaN</td>\n      <td>NaN</td>\n    </tr>\n  </tbody>\n</table>\n</div>"
     },
     "execution_count": 2,
     "metadata": {},
     "output_type": "execute_result"
    }
   ],
   "source": [
    "# read results\n",
    "results = pd.read_csv('clearance_microsome/tdc_test_set_results.txt', sep=',', header=None, dtype={0: int, 1: float, 2: float})\n",
    "# set columns\n",
    "results.columns = ['trial_id', 'mean', 'std']\n",
    "results\n",
    "# order res"
   ],
   "metadata": {
    "collapsed": false,
    "ExecuteTime": {
     "end_time": "2023-11-21T14:38:17.147146617Z",
     "start_time": "2023-11-21T14:38:17.129471091Z"
    }
   },
   "id": "6753179565f6d258"
  },
  {
   "cell_type": "code",
   "execution_count": 3,
   "outputs": [
    {
     "data": {
      "text/plain": "    trial_id   mean    std\n7         12  0.587  0.009\n3          5  0.585  0.007\n9         14  0.580  0.012\n8         13  0.579  0.010\n17        25  0.540  0.019\n0          1  0.258  0.085\n16        23  0.077  0.105\n6         10  0.046  0.029\n4          6  0.045  0.013\n2          4  0.019  0.009\n1          3    NaN    NaN\n5          7    NaN    NaN\n10        16    NaN    NaN\n11        18    NaN    NaN\n12        19    NaN    NaN\n13        20    NaN    NaN\n14        21    NaN    NaN\n15        22    NaN    NaN\n18        27    NaN    NaN",
      "text/html": "<div>\n<style scoped>\n    .dataframe tbody tr th:only-of-type {\n        vertical-align: middle;\n    }\n\n    .dataframe tbody tr th {\n        vertical-align: top;\n    }\n\n    .dataframe thead th {\n        text-align: right;\n    }\n</style>\n<table border=\"1\" class=\"dataframe\">\n  <thead>\n    <tr style=\"text-align: right;\">\n      <th></th>\n      <th>trial_id</th>\n      <th>mean</th>\n      <th>std</th>\n    </tr>\n  </thead>\n  <tbody>\n    <tr>\n      <th>7</th>\n      <td>12</td>\n      <td>0.587</td>\n      <td>0.009</td>\n    </tr>\n    <tr>\n      <th>3</th>\n      <td>5</td>\n      <td>0.585</td>\n      <td>0.007</td>\n    </tr>\n    <tr>\n      <th>9</th>\n      <td>14</td>\n      <td>0.580</td>\n      <td>0.012</td>\n    </tr>\n    <tr>\n      <th>8</th>\n      <td>13</td>\n      <td>0.579</td>\n      <td>0.010</td>\n    </tr>\n    <tr>\n      <th>17</th>\n      <td>25</td>\n      <td>0.540</td>\n      <td>0.019</td>\n    </tr>\n    <tr>\n      <th>0</th>\n      <td>1</td>\n      <td>0.258</td>\n      <td>0.085</td>\n    </tr>\n    <tr>\n      <th>16</th>\n      <td>23</td>\n      <td>0.077</td>\n      <td>0.105</td>\n    </tr>\n    <tr>\n      <th>6</th>\n      <td>10</td>\n      <td>0.046</td>\n      <td>0.029</td>\n    </tr>\n    <tr>\n      <th>4</th>\n      <td>6</td>\n      <td>0.045</td>\n      <td>0.013</td>\n    </tr>\n    <tr>\n      <th>2</th>\n      <td>4</td>\n      <td>0.019</td>\n      <td>0.009</td>\n    </tr>\n    <tr>\n      <th>1</th>\n      <td>3</td>\n      <td>NaN</td>\n      <td>NaN</td>\n    </tr>\n    <tr>\n      <th>5</th>\n      <td>7</td>\n      <td>NaN</td>\n      <td>NaN</td>\n    </tr>\n    <tr>\n      <th>10</th>\n      <td>16</td>\n      <td>NaN</td>\n      <td>NaN</td>\n    </tr>\n    <tr>\n      <th>11</th>\n      <td>18</td>\n      <td>NaN</td>\n      <td>NaN</td>\n    </tr>\n    <tr>\n      <th>12</th>\n      <td>19</td>\n      <td>NaN</td>\n      <td>NaN</td>\n    </tr>\n    <tr>\n      <th>13</th>\n      <td>20</td>\n      <td>NaN</td>\n      <td>NaN</td>\n    </tr>\n    <tr>\n      <th>14</th>\n      <td>21</td>\n      <td>NaN</td>\n      <td>NaN</td>\n    </tr>\n    <tr>\n      <th>15</th>\n      <td>22</td>\n      <td>NaN</td>\n      <td>NaN</td>\n    </tr>\n    <tr>\n      <th>18</th>\n      <td>27</td>\n      <td>NaN</td>\n      <td>NaN</td>\n    </tr>\n  </tbody>\n</table>\n</div>"
     },
     "execution_count": 3,
     "metadata": {},
     "output_type": "execute_result"
    }
   ],
   "source": [
    "# order results by mean (std in case of tie)\n",
    "results = results.sort_values(by=['mean', 'std'], ascending=False)\n",
    "results"
   ],
   "metadata": {
    "collapsed": false,
    "ExecuteTime": {
     "end_time": "2023-11-21T14:38:17.149243757Z",
     "start_time": "2023-11-21T14:38:17.146096018Z"
    }
   },
   "id": "c418a24aeebde864"
  },
  {
   "cell_type": "code",
   "execution_count": 11,
   "outputs": [
    {
     "ename": "NameError",
     "evalue": "name 'results' is not defined",
     "output_type": "error",
     "traceback": [
      "\u001B[0;31m---------------------------------------------------------------------------\u001B[0m",
      "\u001B[0;31mNameError\u001B[0m                                 Traceback (most recent call last)",
      "Cell \u001B[0;32mIn[11], line 2\u001B[0m\n\u001B[1;32m      1\u001B[0m \u001B[38;5;66;03m# load best trial pipeline (rank #...)\u001B[39;00m\n\u001B[0;32m----> 2\u001B[0m best_trial_id \u001B[38;5;241m=\u001B[39m \u001B[38;5;28mint\u001B[39m(\u001B[43mresults\u001B[49m\u001B[38;5;241m.\u001B[39miloc[\u001B[38;5;241m0\u001B[39m][\u001B[38;5;124m'\u001B[39m\u001B[38;5;124mtrial_id\u001B[39m\u001B[38;5;124m'\u001B[39m])\n\u001B[1;32m      3\u001B[0m pipeline \u001B[38;5;241m=\u001B[39m Pipeline\u001B[38;5;241m.\u001B[39mload(\u001B[38;5;124mf\u001B[39m\u001B[38;5;124m\"\u001B[39m\u001B[38;5;124mvdss/trial_\u001B[39m\u001B[38;5;132;01m{\u001B[39;00mbest_trial_id\u001B[38;5;132;01m}\u001B[39;00m\u001B[38;5;124m/\u001B[39m\u001B[38;5;124m\"\u001B[39m)\n",
      "\u001B[0;31mNameError\u001B[0m: name 'results' is not defined"
     ]
    }
   ],
   "source": [
    "# load best trial pipeline (rank #6)\n",
    "best_trial_id = int(results.iloc[0]['trial_id'])\n",
    "pipeline = Pipeline.load(f\"clearance_microsome/trial_{best_trial_id}/\")"
   ],
   "metadata": {
    "collapsed": false,
    "ExecuteTime": {
     "end_time": "2023-11-08T15:21:10.831314826Z",
     "start_time": "2023-11-08T15:21:10.788576064Z"
    }
   },
   "id": "90e40046d6b150ce"
  },
  {
   "cell_type": "code",
   "execution_count": null,
   "outputs": [],
   "source": [],
   "metadata": {
    "collapsed": false
   },
   "id": "aca45806698765d8"
  }
 ],
 "metadata": {
  "kernelspec": {
   "display_name": "Python 3",
   "language": "python",
   "name": "python3"
  },
  "language_info": {
   "codemirror_mode": {
    "name": "ipython",
    "version": 2
   },
   "file_extension": ".py",
   "mimetype": "text/x-python",
   "name": "python",
   "nbconvert_exporter": "python",
   "pygments_lexer": "ipython2",
   "version": "2.7.6"
  }
 },
 "nbformat": 4,
 "nbformat_minor": 5
}
