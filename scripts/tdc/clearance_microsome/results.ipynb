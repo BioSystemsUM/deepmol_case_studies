{
 "cells": [
  {
   "cell_type": "markdown",
   "id": "86a59e63e6143206",
   "metadata": {
    "collapsed": false
   },
   "source": [
    "# Clearance, AstraZeneca\n",
    "\n",
    "### Dataset Description: Drug clearance is defined as the volume of plasma cleared of a drug over a specified time period and it measures the rate at which the active drug is removed from the body. This is a dataset curated from ChEMBL database containing experimental results on intrinsic clearance, deposited from AstraZeneca. It contains clearance measures from two experiments types, hepatocyte and microsomes. As many studies [2] have shown various clearance outcomes given these two different types, we separate them.\n",
    "\n",
    "### Task Description: Regression. Given a drug SMILES string, predict the activity of clearance.\n",
    "\n",
    "### Dataset Statistics: 1,102/1,020 drugs for microsome/hepatocyte clearance.\n",
    "\n",
    "### Metric: Spearman\n",
    "\n",
    "## Leaderboard\n",
    "\n",
    "| Rank | Model                       | Contact           | Link          | #Params   | Spearman      |\n",
    "|------|-----------------------------|-------------------|---------------|-----------|---------------|\n",
    "| 1    | MapLight + GNN              | Jim Notwell       | GitHub, Paper | N/A       | 0.630 ± 0.010 |\n",
    "| 2    | MapLight                    | Jim Notwell       | GitHub, Paper | N/A       | 0.626 ± 0.008 |\n",
    "| 3    | RFStacker                   | Andrew Li         | GitHub, Paper | 1,858,225 | 0.625 ± 0.002 |\n",
    "| 4    | Chemprop-RDKit              | Kyle Swanson      | GitHub, Paper | N/A       | 0.599 ± 0.025 |\n",
    "| 5    | SimGCN                      | Suman Kalyan Bera | GitHub, Paper | 1,103,000 | 0.597 ± 0.025 |\n",
    "| 6    | RDKit2D + MLP (DeepPurpose) | Kexin Huang       | GitHub, Paper | 633,409   | 0.586 ± 0.014 |\n",
    "| 7    | AttrMasking                 | Kexin Huang       | GitHub, Paper | 2,067,053 | 0.585 ± 0.034 |\n",
    "| 8    | ContextPred                 | Kexin Huang       | GitHub, Paper | 2,067,053 | 0.578 ± 0.007 |\n",
    "| 9    | Euclia ML model             | Euclia            | GitHub, Paper | 50        | 0.572 ± 0.010 |\n",
    "| 10   | Chemprop                    | Kyle Swanson      | GitHub, Paper | N/A       | 0.555 ± 0.022 |\n",
    "| 11   | GCN                         | Kexin Huang       | GitHub, Paper | 191,810   | 0.532 ± 0.033 |\n",
    "| 12   | NeuralFP                    | Kexin Huang       | GitHub, Paper | 480,193   | 0.529 ± 0.015 |\n",
    "| 13   | Basic ML                    | Nilavo Boral      | GitHub, Paper | N/A       | 0.518 ± 0.005 |\n",
    "| 14   | Morgan + MLP (DeepPurpose)  | Kexin Huang       | GitHub, Paper | 1,477,185 | 0.492 ± 0.020 |\n",
    "| 15   | AttentiveFP                 | Kexin Huang       | GitHub, Paper | 300,806   | 0.365 ± 0.055 |\n",
    "| 16   | CNN (DeepPurpose)           | Kexin Huang       | GitHub, Paper | 226,625   | 0.252 ± 0.116 |"
   ]
  },
  {
   "cell_type": "code",
   "execution_count": 1,
   "id": "initial_id",
   "metadata": {
    "ExecuteTime": {
     "end_time": "2023-11-21T14:38:17.130611891Z",
     "start_time": "2023-11-21T14:38:13.912095696Z"
    },
    "collapsed": false
   },
   "outputs": [
    {
     "name": "stderr",
     "output_type": "stream",
     "text": [
      "2024-04-19 11:49:17.176536: I tensorflow/core/util/port.cc:111] oneDNN custom operations are on. You may see slightly different numerical results due to floating-point round-off errors from different computation orders. To turn them off, set the environment variable `TF_ENABLE_ONEDNN_OPTS=0`.\n",
      "2024-04-19 11:49:17.275968: E tensorflow/compiler/xla/stream_executor/cuda/cuda_dnn.cc:9342] Unable to register cuDNN factory: Attempting to register factory for plugin cuDNN when one has already been registered\n",
      "2024-04-19 11:49:17.276131: E tensorflow/compiler/xla/stream_executor/cuda/cuda_fft.cc:609] Unable to register cuFFT factory: Attempting to register factory for plugin cuFFT when one has already been registered\n",
      "2024-04-19 11:49:17.276209: E tensorflow/compiler/xla/stream_executor/cuda/cuda_blas.cc:1518] Unable to register cuBLAS factory: Attempting to register factory for plugin cuBLAS when one has already been registered\n",
      "2024-04-19 11:49:17.293437: I tensorflow/core/platform/cpu_feature_guard.cc:182] This TensorFlow binary is optimized to use available CPU instructions in performance-critical operations.\n",
      "To enable the following instructions: AVX2 AVX512F AVX512_VNNI FMA, in other operations, rebuild TensorFlow with the appropriate compiler flags.\n",
      "2024-04-19 11:49:19.525509: W tensorflow/compiler/tf2tensorrt/utils/py_utils.cc:38] TF-TRT Warning: Could not find TensorRT\n",
      "Skipped loading modules with pytorch-lightning dependency, missing a dependency. No module named 'pytorch_lightning'\n",
      "Skipped loading some Jax models, missing a dependency. jax requires jaxlib to be installed. See https://github.com/google/jax#installation for installation instructions.\n"
     ]
    }
   ],
   "source": [
    "import pandas as pd\n",
    "from deepmol.pipeline import Pipeline"
   ]
  },
  {
   "cell_type": "code",
   "execution_count": 2,
   "id": "6753179565f6d258",
   "metadata": {
    "ExecuteTime": {
     "end_time": "2023-11-21T14:38:17.147146617Z",
     "start_time": "2023-11-21T14:38:17.129471091Z"
    },
    "collapsed": false
   },
   "outputs": [
    {
     "data": {
      "text/html": [
       "<div>\n",
       "<style scoped>\n",
       "    .dataframe tbody tr th:only-of-type {\n",
       "        vertical-align: middle;\n",
       "    }\n",
       "\n",
       "    .dataframe tbody tr th {\n",
       "        vertical-align: top;\n",
       "    }\n",
       "\n",
       "    .dataframe thead th {\n",
       "        text-align: right;\n",
       "    }\n",
       "</style>\n",
       "<table border=\"1\" class=\"dataframe\">\n",
       "  <thead>\n",
       "    <tr style=\"text-align: right;\">\n",
       "      <th></th>\n",
       "      <th>trial_id</th>\n",
       "      <th>mean</th>\n",
       "      <th>std</th>\n",
       "    </tr>\n",
       "  </thead>\n",
       "  <tbody>\n",
       "    <tr>\n",
       "      <th>0</th>\n",
       "      <td>41.0</td>\n",
       "      <td>0.528</td>\n",
       "      <td>0.018</td>\n",
       "    </tr>\n",
       "    <tr>\n",
       "      <th>1</th>\n",
       "      <td>31.0</td>\n",
       "      <td>0.508</td>\n",
       "      <td>0.016</td>\n",
       "    </tr>\n",
       "    <tr>\n",
       "      <th>2</th>\n",
       "      <td>61.0</td>\n",
       "      <td>0.522</td>\n",
       "      <td>0.009</td>\n",
       "    </tr>\n",
       "    <tr>\n",
       "      <th>3</th>\n",
       "      <td>52.0</td>\n",
       "      <td>0.539</td>\n",
       "      <td>0.018</td>\n",
       "    </tr>\n",
       "    <tr>\n",
       "      <th>4</th>\n",
       "      <td>42.0</td>\n",
       "      <td>0.541</td>\n",
       "      <td>0.025</td>\n",
       "    </tr>\n",
       "    <tr>\n",
       "      <th>5</th>\n",
       "      <td>82.0</td>\n",
       "      <td>0.531</td>\n",
       "      <td>0.010</td>\n",
       "    </tr>\n",
       "    <tr>\n",
       "      <th>6</th>\n",
       "      <td>66.0</td>\n",
       "      <td>0.468</td>\n",
       "      <td>0.022</td>\n",
       "    </tr>\n",
       "    <tr>\n",
       "      <th>7</th>\n",
       "      <td>88.0</td>\n",
       "      <td>0.513</td>\n",
       "      <td>0.015</td>\n",
       "    </tr>\n",
       "    <tr>\n",
       "      <th>8</th>\n",
       "      <td>35.0</td>\n",
       "      <td>0.504</td>\n",
       "      <td>0.013</td>\n",
       "    </tr>\n",
       "    <tr>\n",
       "      <th>9</th>\n",
       "      <td>70.0</td>\n",
       "      <td>0.516</td>\n",
       "      <td>0.015</td>\n",
       "    </tr>\n",
       "    <tr>\n",
       "      <th>10</th>\n",
       "      <td>voting_pipeline</td>\n",
       "      <td>0.553</td>\n",
       "      <td>0.013</td>\n",
       "    </tr>\n",
       "  </tbody>\n",
       "</table>\n",
       "</div>"
      ],
      "text/plain": [
       "           trial_id   mean    std\n",
       "0              41.0  0.528  0.018\n",
       "1              31.0  0.508  0.016\n",
       "2              61.0  0.522  0.009\n",
       "3              52.0  0.539  0.018\n",
       "4              42.0  0.541  0.025\n",
       "5              82.0  0.531  0.010\n",
       "6              66.0  0.468  0.022\n",
       "7              88.0  0.513  0.015\n",
       "8              35.0  0.504  0.013\n",
       "9              70.0  0.516  0.015\n",
       "10  voting_pipeline  0.553  0.013"
      ]
     },
     "execution_count": 2,
     "metadata": {},
     "output_type": "execute_result"
    }
   ],
   "source": [
    "# read results\n",
    "results = pd.read_csv('results_test_set/clearance_microsome_test_set.csv')\n",
    "# set columns\n",
    "results.columns = ['trial_id', 'mean', 'std']\n",
    "results"
   ]
  },
  {
   "cell_type": "code",
   "execution_count": 3,
   "id": "c418a24aeebde864",
   "metadata": {
    "ExecuteTime": {
     "end_time": "2023-11-21T14:38:17.149243757Z",
     "start_time": "2023-11-21T14:38:17.146096018Z"
    },
    "collapsed": false
   },
   "outputs": [
    {
     "data": {
      "text/html": [
       "<div>\n",
       "<style scoped>\n",
       "    .dataframe tbody tr th:only-of-type {\n",
       "        vertical-align: middle;\n",
       "    }\n",
       "\n",
       "    .dataframe tbody tr th {\n",
       "        vertical-align: top;\n",
       "    }\n",
       "\n",
       "    .dataframe thead th {\n",
       "        text-align: right;\n",
       "    }\n",
       "</style>\n",
       "<table border=\"1\" class=\"dataframe\">\n",
       "  <thead>\n",
       "    <tr style=\"text-align: right;\">\n",
       "      <th></th>\n",
       "      <th>trial_id</th>\n",
       "      <th>mean</th>\n",
       "      <th>std</th>\n",
       "    </tr>\n",
       "  </thead>\n",
       "  <tbody>\n",
       "    <tr>\n",
       "      <th>10</th>\n",
       "      <td>voting_pipeline</td>\n",
       "      <td>0.553</td>\n",
       "      <td>0.013</td>\n",
       "    </tr>\n",
       "    <tr>\n",
       "      <th>4</th>\n",
       "      <td>42.0</td>\n",
       "      <td>0.541</td>\n",
       "      <td>0.025</td>\n",
       "    </tr>\n",
       "    <tr>\n",
       "      <th>3</th>\n",
       "      <td>52.0</td>\n",
       "      <td>0.539</td>\n",
       "      <td>0.018</td>\n",
       "    </tr>\n",
       "    <tr>\n",
       "      <th>5</th>\n",
       "      <td>82.0</td>\n",
       "      <td>0.531</td>\n",
       "      <td>0.010</td>\n",
       "    </tr>\n",
       "    <tr>\n",
       "      <th>0</th>\n",
       "      <td>41.0</td>\n",
       "      <td>0.528</td>\n",
       "      <td>0.018</td>\n",
       "    </tr>\n",
       "    <tr>\n",
       "      <th>2</th>\n",
       "      <td>61.0</td>\n",
       "      <td>0.522</td>\n",
       "      <td>0.009</td>\n",
       "    </tr>\n",
       "    <tr>\n",
       "      <th>9</th>\n",
       "      <td>70.0</td>\n",
       "      <td>0.516</td>\n",
       "      <td>0.015</td>\n",
       "    </tr>\n",
       "    <tr>\n",
       "      <th>7</th>\n",
       "      <td>88.0</td>\n",
       "      <td>0.513</td>\n",
       "      <td>0.015</td>\n",
       "    </tr>\n",
       "    <tr>\n",
       "      <th>1</th>\n",
       "      <td>31.0</td>\n",
       "      <td>0.508</td>\n",
       "      <td>0.016</td>\n",
       "    </tr>\n",
       "    <tr>\n",
       "      <th>8</th>\n",
       "      <td>35.0</td>\n",
       "      <td>0.504</td>\n",
       "      <td>0.013</td>\n",
       "    </tr>\n",
       "    <tr>\n",
       "      <th>6</th>\n",
       "      <td>66.0</td>\n",
       "      <td>0.468</td>\n",
       "      <td>0.022</td>\n",
       "    </tr>\n",
       "  </tbody>\n",
       "</table>\n",
       "</div>"
      ],
      "text/plain": [
       "           trial_id   mean    std\n",
       "10  voting_pipeline  0.553  0.013\n",
       "4              42.0  0.541  0.025\n",
       "3              52.0  0.539  0.018\n",
       "5              82.0  0.531  0.010\n",
       "0              41.0  0.528  0.018\n",
       "2              61.0  0.522  0.009\n",
       "9              70.0  0.516  0.015\n",
       "7              88.0  0.513  0.015\n",
       "1              31.0  0.508  0.016\n",
       "8              35.0  0.504  0.013\n",
       "6              66.0  0.468  0.022"
      ]
     },
     "execution_count": 3,
     "metadata": {},
     "output_type": "execute_result"
    }
   ],
   "source": [
    "# order results by mean (std in case of tie)\n",
    "results = results.sort_values(by=['mean', 'std'], ascending=False)\n",
    "results"
   ]
  },
  {
   "cell_type": "code",
   "execution_count": 4,
   "id": "90e40046d6b150ce",
   "metadata": {
    "ExecuteTime": {
     "end_time": "2023-11-08T15:21:10.831314826Z",
     "start_time": "2023-11-08T15:21:10.788576064Z"
    },
    "collapsed": false
   },
   "outputs": [
    {
     "name": "stderr",
     "output_type": "stream",
     "text": [
      "[11:50:18] Initializing Normalizer\n",
      "2024-04-19 11:50:27.548985: I tensorflow/core/common_runtime/gpu/gpu_device.cc:1886] Created device /job:localhost/replica:0/task:0/device:GPU:0 with 668 MB memory:  -> device: 0, name: Tesla T4, pci bus id: 0000:89:00.0, compute capability: 7.5\n",
      "2024-04-19 11:50:27.551674: I tensorflow/core/common_runtime/gpu/gpu_device.cc:1886] Created device /job:localhost/replica:0/task:0/device:GPU:1 with 13563 MB memory:  -> device: 1, name: Tesla T4, pci bus id: 0000:b1:00.0, compute capability: 7.5\n",
      "2024-04-19 11:50:27.553764: I tensorflow/core/common_runtime/gpu/gpu_device.cc:1886] Created device /job:localhost/replica:0/task:0/device:GPU:2 with 13563 MB memory:  -> device: 2, name: Tesla T4, pci bus id: 0000:b3:00.0, compute capability: 7.5\n",
      "2024-04-19 11:50:27.556213: I tensorflow/core/common_runtime/gpu/gpu_device.cc:1886] Created device /job:localhost/replica:0/task:0/device:GPU:3 with 12533 MB memory:  -> device: 3, name: Tesla T4, pci bus id: 0000:b4:00.0, compute capability: 7.5\n"
     ]
    },
    {
     "name": "stdout",
     "output_type": "stream",
     "text": [
      "The model was not restored. The model was probably not trained.\n",
      "The model was not restored. The model was probably not trained.\n",
      "The model was not restored. The model was probably not trained.\n",
      "The model was not restored. The model was probably not trained.\n",
      "The model was not restored. The model was probably not trained.\n"
     ]
    }
   ],
   "source": [
    "# load best trial pipeline (rank #11)\n",
    "from deepmol.pipeline import VotingPipeline\n",
    "\n",
    "pipeline = VotingPipeline.load(f\"clearance_microsome/voting_pipeline/\")"
   ]
  },
  {
   "cell_type": "code",
   "execution_count": 6,
   "id": "338a47bb",
   "metadata": {},
   "outputs": [
    {
     "data": {
      "text/plain": [
       "[('standardizer',\n",
       "  <deepmol.standardizer.chembl_standardizer.ChEMBLStandardizer at 0x7fe950718970>),\n",
       " ('padder', <deepmol.base.transformer.DatasetTransformer at 0x7fe84e5879d0>),\n",
       " ('model', <deepmol.models.deepchem_models.DeepChemModel at 0x7fe84e43e920>)]"
      ]
     },
     "execution_count": 6,
     "metadata": {},
     "output_type": "execute_result"
    }
   ],
   "source": [
    "pipeline.pipelines[0].steps"
   ]
  },
  {
   "cell_type": "code",
   "execution_count": 10,
   "id": "18660328",
   "metadata": {},
   "outputs": [
    {
     "data": {
      "text/plain": [
       "[('standardizer',\n",
       "  <deepmol.standardizer.chembl_standardizer.ChEMBLStandardizer at 0x7fe6cff956f0>),\n",
       " ('padder', <deepmol.base.transformer.DatasetTransformer at 0x7fe6b2b0cc10>),\n",
       " ('model', <deepmol.models.deepchem_models.DeepChemModel at 0x7fe6b2b0cbb0>)]"
      ]
     },
     "execution_count": 10,
     "metadata": {},
     "output_type": "execute_result"
    }
   ],
   "source": [
    "pipeline.pipelines[4].steps"
   ]
  },
  {
   "cell_type": "code",
   "execution_count": 11,
   "id": "aca45806698765d8",
   "metadata": {
    "collapsed": false
   },
   "outputs": [
    {
     "data": {
      "text/html": [
       "<div>\n",
       "<style scoped>\n",
       "    .dataframe tbody tr th:only-of-type {\n",
       "        vertical-align: middle;\n",
       "    }\n",
       "\n",
       "    .dataframe tbody tr th {\n",
       "        vertical-align: top;\n",
       "    }\n",
       "\n",
       "    .dataframe thead th {\n",
       "        text-align: right;\n",
       "    }\n",
       "</style>\n",
       "<table border=\"1\" class=\"dataframe\">\n",
       "  <thead>\n",
       "    <tr style=\"text-align: right;\">\n",
       "      <th></th>\n",
       "      <th>standardizer</th>\n",
       "      <th>featurizer</th>\n",
       "      <th>model</th>\n",
       "    </tr>\n",
       "  </thead>\n",
       "  <tbody>\n",
       "    <tr>\n",
       "      <th>0</th>\n",
       "      <td>ChEMBLStandardizer object at 0x7fe950718970&gt;</td>\n",
       "      <td>DatasetTransformer object at 0x7fe84e5879d0&gt;</td>\n",
       "      <td>&lt;deepchem.models.text_cnn.TextCNNModel object ...</td>\n",
       "    </tr>\n",
       "    <tr>\n",
       "      <th>1</th>\n",
       "      <td>ChEMBLStandardizer object at 0x7fe6d418ff70&gt;</td>\n",
       "      <td>DatasetTransformer object at 0x7fe6d418e620&gt;</td>\n",
       "      <td>&lt;deepchem.models.text_cnn.TextCNNModel object ...</td>\n",
       "    </tr>\n",
       "    <tr>\n",
       "      <th>2</th>\n",
       "      <td>ChEMBLStandardizer object at 0x7fe6d418ea40&gt;</td>\n",
       "      <td>DatasetTransformer object at 0x7fe6cff0b550&gt;</td>\n",
       "      <td>&lt;deepchem.models.text_cnn.TextCNNModel object ...</td>\n",
       "    </tr>\n",
       "    <tr>\n",
       "      <th>3</th>\n",
       "      <td>ChEMBLStandardizer object at 0x7fe6cff0b3d0&gt;</td>\n",
       "      <td>DatasetTransformer object at 0x7fe6cff94550&gt;</td>\n",
       "      <td>&lt;deepchem.models.text_cnn.TextCNNModel object ...</td>\n",
       "    </tr>\n",
       "    <tr>\n",
       "      <th>4</th>\n",
       "      <td>ChEMBLStandardizer object at 0x7fe6cff956f0&gt;</td>\n",
       "      <td>DatasetTransformer object at 0x7fe6b2b0cc10&gt;</td>\n",
       "      <td>&lt;deepchem.models.text_cnn.TextCNNModel object ...</td>\n",
       "    </tr>\n",
       "  </tbody>\n",
       "</table>\n",
       "</div>"
      ],
      "text/plain": [
       "                                   standardizer  \\\n",
       "0  ChEMBLStandardizer object at 0x7fe950718970>   \n",
       "1  ChEMBLStandardizer object at 0x7fe6d418ff70>   \n",
       "2  ChEMBLStandardizer object at 0x7fe6d418ea40>   \n",
       "3  ChEMBLStandardizer object at 0x7fe6cff0b3d0>   \n",
       "4  ChEMBLStandardizer object at 0x7fe6cff956f0>   \n",
       "\n",
       "                                     featurizer  \\\n",
       "0  DatasetTransformer object at 0x7fe84e5879d0>   \n",
       "1  DatasetTransformer object at 0x7fe6d418e620>   \n",
       "2  DatasetTransformer object at 0x7fe6cff0b550>   \n",
       "3  DatasetTransformer object at 0x7fe6cff94550>   \n",
       "4  DatasetTransformer object at 0x7fe6b2b0cc10>   \n",
       "\n",
       "                                               model  \n",
       "0  <deepchem.models.text_cnn.TextCNNModel object ...  \n",
       "1  <deepchem.models.text_cnn.TextCNNModel object ...  \n",
       "2  <deepchem.models.text_cnn.TextCNNModel object ...  \n",
       "3  <deepchem.models.text_cnn.TextCNNModel object ...  \n",
       "4  <deepchem.models.text_cnn.TextCNNModel object ...  "
      ]
     },
     "execution_count": 11,
     "metadata": {},
     "output_type": "execute_result"
    }
   ],
   "source": [
    "data = pd.DataFrame()\n",
    "data['standardizer'] = [str(pipeline.pipelines[i].steps[0][1]).split('.')[-1] for i in range(5)]\n",
    "data['featurizer'] = [str(pipeline.pipelines[i].steps[1][1]).split('.')[-1] for i in range(5)]\n",
    "#data['scaler'] = [str(pipeline.pipelines[i].steps[2][1]).split('.')[-1] for i in range(5)]\n",
    "#data['feature_selector'] = [str(pipeline.pipelines[i].steps[3][1]).split('.')[-1] for i in range(5)]\n",
    "data['model'] = [pipeline.pipelines[i].steps[2][1].model for i in range(5)]\n",
    "data"
   ]
  }
 ],
 "metadata": {
  "kernelspec": {
   "display_name": "Python 3",
   "language": "python",
   "name": "python3"
  },
  "language_info": {
   "codemirror_mode": {
    "name": "ipython",
    "version": 3
   },
   "file_extension": ".py",
   "mimetype": "text/x-python",
   "name": "python",
   "nbconvert_exporter": "python",
   "pygments_lexer": "ipython3",
   "version": "3.10.13"
  }
 },
 "nbformat": 4,
 "nbformat_minor": 5
}
