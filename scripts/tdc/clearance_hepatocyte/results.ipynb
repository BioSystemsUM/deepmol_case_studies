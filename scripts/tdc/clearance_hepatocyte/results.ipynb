{
 "cells": [
  {
   "cell_type": "markdown",
   "source": [
    "# Clearance, AstraZeneca\n",
    "\n",
    "### Dataset Description: Drug clearance is defined as the volume of plasma cleared of a drug over a specified time period and it measures the rate at which the active drug is removed from the body. This is a dataset curated from ChEMBL database containing experimental results on intrinsic clearance, deposited from AstraZeneca. It contains clearance measures from two experiments types, hepatocyte and microsomes. As many studies [2] have shown various clearance outcomes given these two different types, we separate them.\n",
    "\n",
    "### Task Description: Regression. Given a drug SMILES string, predict the activity of clearance.\n",
    "\n",
    "### Dataset Statistics: 1,102/1,020 drugs for microsome/hepatocyte clearance.\n",
    "\n",
    "### Metric: Spearman\n",
    "\n",
    "## Leaderboard\n",
    "\n",
    "| Rank | Model                       | Contact      | Link          | #Params   | Spearman      |\n",
    "|------|-----------------------------|--------------|---------------|-----------|---------------|\n",
    "| 1    | MapLight + GNN              | Jim Notwell  | GitHub, Paper | N/A       | 0.498 ± 0.009 |\n",
    "| 2    | MapLight                    | Jim Notwell  | GitHub, Paper | N/A       | 0.466 ± 0.012 |\n",
    "| 3    | Basic ML                    | Nilavo Boral | GitHub, Paper | N/A       | 0.440 ± 0.003 |\n",
    "| 4    | ContextPred                 | Kexin Huang  | GitHub, Paper | 2,067,053 | 0.439 ± 0.026 |\n",
    "| 5    | Chemprop                    | Kyle Swanson | GitHub, Paper | N/A       | 0.431 ± 0.006 |\n",
    "| 6    | Chemprop-RDKit              | Kyle Swanson | GitHub, Paper | N/A       | 0.430 ± 0.021 |\n",
    "| 7    | Euclia ML model             | Euclia       | GitHub, Paper | 50        | 0.424 ± 0.008 |\n",
    "| 8    | AttrMasking                 | Kexin Huang  | GitHub, Paper | 2,067,053 | 0.413 ± 0.028 |\n",
    "| 9    | NeuralFP                    | Kexin Huang  | GitHub, Paper | 480,193   | 0.401 ± 0.037 |\n",
    "| 10   | RDKit2D + MLP (DeepPurpose) | Kexin Huang  | GitHub, Paper | 633,409   | 0.382 ± 0.007 |\n",
    "| 11   | GCN                         | Kexin Huang  | GitHub, Paper | 191,810   | 0.366 ± 0.063 |\n",
    "| 12   | AttentiveFP                 | Kexin Huang  | GitHub, Paper | 300,806   | 0.289 ± 0.022 |\n",
    "| 13   | Morgan + MLP (DeepPurpose)  | Kexin Huang  | GitHub, Paper | 1,477,185 | 0.272 ± 0.068 |\n",
    "| 14   | CNN (DeepPurpose)           | Kexin Huang  | GitHub, Paper | 226,625   | 0.235 ± 0.021 |"
   ],
   "metadata": {
    "collapsed": false
   },
   "id": "86a59e63e6143206"
  },
  {
   "cell_type": "code",
   "execution_count": 1,
   "outputs": [
    {
     "name": "stderr",
     "output_type": "stream",
     "text": [
      "2023-11-21 14:37:16.770368: I tensorflow/tsl/cuda/cudart_stub.cc:28] Could not find cuda drivers on your machine, GPU will not be used.\n",
      "2023-11-21 14:37:16.800830: I tensorflow/tsl/cuda/cudart_stub.cc:28] Could not find cuda drivers on your machine, GPU will not be used.\n",
      "2023-11-21 14:37:16.801762: I tensorflow/core/platform/cpu_feature_guard.cc:182] This TensorFlow binary is optimized to use available CPU instructions in performance-critical operations.\n",
      "To enable the following instructions: AVX2 FMA, in other operations, rebuild TensorFlow with the appropriate compiler flags.\n",
      "2023-11-21 14:37:17.326759: W tensorflow/compiler/tf2tensorrt/utils/py_utils.cc:38] TF-TRT Warning: Could not find TensorRT\n",
      "Skipped loading modules with pytorch-lightning dependency, missing a dependency. No module named 'pytorch_lightning'\n",
      "Skipped loading some Jax models, missing a dependency. jax requires jaxlib to be installed. See https://github.com/google/jax#installation for installation instructions.\n"
     ]
    }
   ],
   "source": [
    "import pandas as pd\n",
    "from deepmol.pipeline import Pipeline"
   ],
   "metadata": {
    "collapsed": false,
    "ExecuteTime": {
     "end_time": "2023-11-21T14:37:20.079681408Z",
     "start_time": "2023-11-21T14:37:16.404153554Z"
    }
   },
   "id": "initial_id"
  },
  {
   "cell_type": "code",
   "execution_count": 2,
   "outputs": [
    {
     "data": {
      "text/plain": "    trial_id   mean    std\n0          1  0.007  0.000\n1          3    NaN    NaN\n2          4 -0.041  0.001\n3          5  0.382  0.023\n4          6  0.068  0.008\n5          7    NaN    NaN\n6         10 -0.049  0.009\n7         12  0.371  0.016\n8         13  0.383  0.023\n9         14  0.373  0.024\n10        15  0.299  0.063\n11        17    NaN    NaN\n12        18    NaN    NaN\n13        19    NaN    NaN\n14        21    NaN    NaN\n15        24  0.292  0.018\n16        25    NaN    NaN\n17        27 -0.017  0.054\n18        35  0.066  0.037\n19        36  0.178  0.017\n20        37  0.180  0.016\n21        38  0.181  0.012\n22        39  0.179  0.018\n23        40  0.178  0.019\n24        41  0.173  0.036\n25        42  0.165  0.029\n26        43    NaN    NaN\n27        45  0.265  0.014\n28        46  0.245  0.022\n29        48  0.210  0.010\n30        50  0.254  0.018\n31        51  0.247  0.021\n32        53  0.237  0.024\n33        54  0.244  0.016\n34        59  0.119  0.020\n35        61  0.174  0.030\n36        62  0.075  0.011\n37        63  0.043  0.067\n38        65    NaN    NaN\n39        66  0.168  0.024\n40        67  0.041  0.047\n41        73  0.124  0.046\n42        75  0.240  0.043\n43        78    NaN    NaN\n44        80    NaN    NaN\n45        82  0.097  0.034\n46        83  0.128  0.024\n47        84  0.280  0.017\n48        87  0.191  0.086\n49        90  0.012  0.026\n50        92  0.174  0.030\n51        95  0.314  0.018\n52        96  0.195  0.024\n53        99  0.041  0.000",
      "text/html": "<div>\n<style scoped>\n    .dataframe tbody tr th:only-of-type {\n        vertical-align: middle;\n    }\n\n    .dataframe tbody tr th {\n        vertical-align: top;\n    }\n\n    .dataframe thead th {\n        text-align: right;\n    }\n</style>\n<table border=\"1\" class=\"dataframe\">\n  <thead>\n    <tr style=\"text-align: right;\">\n      <th></th>\n      <th>trial_id</th>\n      <th>mean</th>\n      <th>std</th>\n    </tr>\n  </thead>\n  <tbody>\n    <tr>\n      <th>0</th>\n      <td>1</td>\n      <td>0.007</td>\n      <td>0.000</td>\n    </tr>\n    <tr>\n      <th>1</th>\n      <td>3</td>\n      <td>NaN</td>\n      <td>NaN</td>\n    </tr>\n    <tr>\n      <th>2</th>\n      <td>4</td>\n      <td>-0.041</td>\n      <td>0.001</td>\n    </tr>\n    <tr>\n      <th>3</th>\n      <td>5</td>\n      <td>0.382</td>\n      <td>0.023</td>\n    </tr>\n    <tr>\n      <th>4</th>\n      <td>6</td>\n      <td>0.068</td>\n      <td>0.008</td>\n    </tr>\n    <tr>\n      <th>5</th>\n      <td>7</td>\n      <td>NaN</td>\n      <td>NaN</td>\n    </tr>\n    <tr>\n      <th>6</th>\n      <td>10</td>\n      <td>-0.049</td>\n      <td>0.009</td>\n    </tr>\n    <tr>\n      <th>7</th>\n      <td>12</td>\n      <td>0.371</td>\n      <td>0.016</td>\n    </tr>\n    <tr>\n      <th>8</th>\n      <td>13</td>\n      <td>0.383</td>\n      <td>0.023</td>\n    </tr>\n    <tr>\n      <th>9</th>\n      <td>14</td>\n      <td>0.373</td>\n      <td>0.024</td>\n    </tr>\n    <tr>\n      <th>10</th>\n      <td>15</td>\n      <td>0.299</td>\n      <td>0.063</td>\n    </tr>\n    <tr>\n      <th>11</th>\n      <td>17</td>\n      <td>NaN</td>\n      <td>NaN</td>\n    </tr>\n    <tr>\n      <th>12</th>\n      <td>18</td>\n      <td>NaN</td>\n      <td>NaN</td>\n    </tr>\n    <tr>\n      <th>13</th>\n      <td>19</td>\n      <td>NaN</td>\n      <td>NaN</td>\n    </tr>\n    <tr>\n      <th>14</th>\n      <td>21</td>\n      <td>NaN</td>\n      <td>NaN</td>\n    </tr>\n    <tr>\n      <th>15</th>\n      <td>24</td>\n      <td>0.292</td>\n      <td>0.018</td>\n    </tr>\n    <tr>\n      <th>16</th>\n      <td>25</td>\n      <td>NaN</td>\n      <td>NaN</td>\n    </tr>\n    <tr>\n      <th>17</th>\n      <td>27</td>\n      <td>-0.017</td>\n      <td>0.054</td>\n    </tr>\n    <tr>\n      <th>18</th>\n      <td>35</td>\n      <td>0.066</td>\n      <td>0.037</td>\n    </tr>\n    <tr>\n      <th>19</th>\n      <td>36</td>\n      <td>0.178</td>\n      <td>0.017</td>\n    </tr>\n    <tr>\n      <th>20</th>\n      <td>37</td>\n      <td>0.180</td>\n      <td>0.016</td>\n    </tr>\n    <tr>\n      <th>21</th>\n      <td>38</td>\n      <td>0.181</td>\n      <td>0.012</td>\n    </tr>\n    <tr>\n      <th>22</th>\n      <td>39</td>\n      <td>0.179</td>\n      <td>0.018</td>\n    </tr>\n    <tr>\n      <th>23</th>\n      <td>40</td>\n      <td>0.178</td>\n      <td>0.019</td>\n    </tr>\n    <tr>\n      <th>24</th>\n      <td>41</td>\n      <td>0.173</td>\n      <td>0.036</td>\n    </tr>\n    <tr>\n      <th>25</th>\n      <td>42</td>\n      <td>0.165</td>\n      <td>0.029</td>\n    </tr>\n    <tr>\n      <th>26</th>\n      <td>43</td>\n      <td>NaN</td>\n      <td>NaN</td>\n    </tr>\n    <tr>\n      <th>27</th>\n      <td>45</td>\n      <td>0.265</td>\n      <td>0.014</td>\n    </tr>\n    <tr>\n      <th>28</th>\n      <td>46</td>\n      <td>0.245</td>\n      <td>0.022</td>\n    </tr>\n    <tr>\n      <th>29</th>\n      <td>48</td>\n      <td>0.210</td>\n      <td>0.010</td>\n    </tr>\n    <tr>\n      <th>30</th>\n      <td>50</td>\n      <td>0.254</td>\n      <td>0.018</td>\n    </tr>\n    <tr>\n      <th>31</th>\n      <td>51</td>\n      <td>0.247</td>\n      <td>0.021</td>\n    </tr>\n    <tr>\n      <th>32</th>\n      <td>53</td>\n      <td>0.237</td>\n      <td>0.024</td>\n    </tr>\n    <tr>\n      <th>33</th>\n      <td>54</td>\n      <td>0.244</td>\n      <td>0.016</td>\n    </tr>\n    <tr>\n      <th>34</th>\n      <td>59</td>\n      <td>0.119</td>\n      <td>0.020</td>\n    </tr>\n    <tr>\n      <th>35</th>\n      <td>61</td>\n      <td>0.174</td>\n      <td>0.030</td>\n    </tr>\n    <tr>\n      <th>36</th>\n      <td>62</td>\n      <td>0.075</td>\n      <td>0.011</td>\n    </tr>\n    <tr>\n      <th>37</th>\n      <td>63</td>\n      <td>0.043</td>\n      <td>0.067</td>\n    </tr>\n    <tr>\n      <th>38</th>\n      <td>65</td>\n      <td>NaN</td>\n      <td>NaN</td>\n    </tr>\n    <tr>\n      <th>39</th>\n      <td>66</td>\n      <td>0.168</td>\n      <td>0.024</td>\n    </tr>\n    <tr>\n      <th>40</th>\n      <td>67</td>\n      <td>0.041</td>\n      <td>0.047</td>\n    </tr>\n    <tr>\n      <th>41</th>\n      <td>73</td>\n      <td>0.124</td>\n      <td>0.046</td>\n    </tr>\n    <tr>\n      <th>42</th>\n      <td>75</td>\n      <td>0.240</td>\n      <td>0.043</td>\n    </tr>\n    <tr>\n      <th>43</th>\n      <td>78</td>\n      <td>NaN</td>\n      <td>NaN</td>\n    </tr>\n    <tr>\n      <th>44</th>\n      <td>80</td>\n      <td>NaN</td>\n      <td>NaN</td>\n    </tr>\n    <tr>\n      <th>45</th>\n      <td>82</td>\n      <td>0.097</td>\n      <td>0.034</td>\n    </tr>\n    <tr>\n      <th>46</th>\n      <td>83</td>\n      <td>0.128</td>\n      <td>0.024</td>\n    </tr>\n    <tr>\n      <th>47</th>\n      <td>84</td>\n      <td>0.280</td>\n      <td>0.017</td>\n    </tr>\n    <tr>\n      <th>48</th>\n      <td>87</td>\n      <td>0.191</td>\n      <td>0.086</td>\n    </tr>\n    <tr>\n      <th>49</th>\n      <td>90</td>\n      <td>0.012</td>\n      <td>0.026</td>\n    </tr>\n    <tr>\n      <th>50</th>\n      <td>92</td>\n      <td>0.174</td>\n      <td>0.030</td>\n    </tr>\n    <tr>\n      <th>51</th>\n      <td>95</td>\n      <td>0.314</td>\n      <td>0.018</td>\n    </tr>\n    <tr>\n      <th>52</th>\n      <td>96</td>\n      <td>0.195</td>\n      <td>0.024</td>\n    </tr>\n    <tr>\n      <th>53</th>\n      <td>99</td>\n      <td>0.041</td>\n      <td>0.000</td>\n    </tr>\n  </tbody>\n</table>\n</div>"
     },
     "execution_count": 2,
     "metadata": {},
     "output_type": "execute_result"
    }
   ],
   "source": [
    "# read results\n",
    "results = pd.read_csv('clearance_hepatocyte/tdc_test_set_results.txt', sep=',', header=None, dtype={0: int, 1: float, 2: float})\n",
    "# set columns\n",
    "results.columns = ['trial_id', 'mean', 'std']\n",
    "results\n",
    "# order res"
   ],
   "metadata": {
    "collapsed": false,
    "ExecuteTime": {
     "end_time": "2023-11-21T14:37:20.092899044Z",
     "start_time": "2023-11-21T14:37:20.080294154Z"
    }
   },
   "id": "6753179565f6d258"
  },
  {
   "cell_type": "code",
   "execution_count": 3,
   "outputs": [
    {
     "data": {
      "text/plain": "    trial_id   mean    std\n8         13  0.383  0.023\n3          5  0.382  0.023\n9         14  0.373  0.024\n7         12  0.371  0.016\n51        95  0.314  0.018\n10        15  0.299  0.063\n15        24  0.292  0.018\n47        84  0.280  0.017\n27        45  0.265  0.014\n30        50  0.254  0.018\n31        51  0.247  0.021\n28        46  0.245  0.022\n33        54  0.244  0.016\n42        75  0.240  0.043\n32        53  0.237  0.024\n29        48  0.210  0.010\n52        96  0.195  0.024\n48        87  0.191  0.086\n21        38  0.181  0.012\n20        37  0.180  0.016\n22        39  0.179  0.018\n23        40  0.178  0.019\n19        36  0.178  0.017\n35        61  0.174  0.030\n50        92  0.174  0.030\n24        41  0.173  0.036\n39        66  0.168  0.024\n25        42  0.165  0.029\n46        83  0.128  0.024\n41        73  0.124  0.046\n34        59  0.119  0.020\n45        82  0.097  0.034\n36        62  0.075  0.011\n4          6  0.068  0.008\n18        35  0.066  0.037\n37        63  0.043  0.067\n40        67  0.041  0.047\n53        99  0.041  0.000\n49        90  0.012  0.026\n0          1  0.007  0.000\n17        27 -0.017  0.054\n2          4 -0.041  0.001\n6         10 -0.049  0.009\n1          3    NaN    NaN\n5          7    NaN    NaN\n11        17    NaN    NaN\n12        18    NaN    NaN\n13        19    NaN    NaN\n14        21    NaN    NaN\n16        25    NaN    NaN\n26        43    NaN    NaN\n38        65    NaN    NaN\n43        78    NaN    NaN\n44        80    NaN    NaN",
      "text/html": "<div>\n<style scoped>\n    .dataframe tbody tr th:only-of-type {\n        vertical-align: middle;\n    }\n\n    .dataframe tbody tr th {\n        vertical-align: top;\n    }\n\n    .dataframe thead th {\n        text-align: right;\n    }\n</style>\n<table border=\"1\" class=\"dataframe\">\n  <thead>\n    <tr style=\"text-align: right;\">\n      <th></th>\n      <th>trial_id</th>\n      <th>mean</th>\n      <th>std</th>\n    </tr>\n  </thead>\n  <tbody>\n    <tr>\n      <th>8</th>\n      <td>13</td>\n      <td>0.383</td>\n      <td>0.023</td>\n    </tr>\n    <tr>\n      <th>3</th>\n      <td>5</td>\n      <td>0.382</td>\n      <td>0.023</td>\n    </tr>\n    <tr>\n      <th>9</th>\n      <td>14</td>\n      <td>0.373</td>\n      <td>0.024</td>\n    </tr>\n    <tr>\n      <th>7</th>\n      <td>12</td>\n      <td>0.371</td>\n      <td>0.016</td>\n    </tr>\n    <tr>\n      <th>51</th>\n      <td>95</td>\n      <td>0.314</td>\n      <td>0.018</td>\n    </tr>\n    <tr>\n      <th>10</th>\n      <td>15</td>\n      <td>0.299</td>\n      <td>0.063</td>\n    </tr>\n    <tr>\n      <th>15</th>\n      <td>24</td>\n      <td>0.292</td>\n      <td>0.018</td>\n    </tr>\n    <tr>\n      <th>47</th>\n      <td>84</td>\n      <td>0.280</td>\n      <td>0.017</td>\n    </tr>\n    <tr>\n      <th>27</th>\n      <td>45</td>\n      <td>0.265</td>\n      <td>0.014</td>\n    </tr>\n    <tr>\n      <th>30</th>\n      <td>50</td>\n      <td>0.254</td>\n      <td>0.018</td>\n    </tr>\n    <tr>\n      <th>31</th>\n      <td>51</td>\n      <td>0.247</td>\n      <td>0.021</td>\n    </tr>\n    <tr>\n      <th>28</th>\n      <td>46</td>\n      <td>0.245</td>\n      <td>0.022</td>\n    </tr>\n    <tr>\n      <th>33</th>\n      <td>54</td>\n      <td>0.244</td>\n      <td>0.016</td>\n    </tr>\n    <tr>\n      <th>42</th>\n      <td>75</td>\n      <td>0.240</td>\n      <td>0.043</td>\n    </tr>\n    <tr>\n      <th>32</th>\n      <td>53</td>\n      <td>0.237</td>\n      <td>0.024</td>\n    </tr>\n    <tr>\n      <th>29</th>\n      <td>48</td>\n      <td>0.210</td>\n      <td>0.010</td>\n    </tr>\n    <tr>\n      <th>52</th>\n      <td>96</td>\n      <td>0.195</td>\n      <td>0.024</td>\n    </tr>\n    <tr>\n      <th>48</th>\n      <td>87</td>\n      <td>0.191</td>\n      <td>0.086</td>\n    </tr>\n    <tr>\n      <th>21</th>\n      <td>38</td>\n      <td>0.181</td>\n      <td>0.012</td>\n    </tr>\n    <tr>\n      <th>20</th>\n      <td>37</td>\n      <td>0.180</td>\n      <td>0.016</td>\n    </tr>\n    <tr>\n      <th>22</th>\n      <td>39</td>\n      <td>0.179</td>\n      <td>0.018</td>\n    </tr>\n    <tr>\n      <th>23</th>\n      <td>40</td>\n      <td>0.178</td>\n      <td>0.019</td>\n    </tr>\n    <tr>\n      <th>19</th>\n      <td>36</td>\n      <td>0.178</td>\n      <td>0.017</td>\n    </tr>\n    <tr>\n      <th>35</th>\n      <td>61</td>\n      <td>0.174</td>\n      <td>0.030</td>\n    </tr>\n    <tr>\n      <th>50</th>\n      <td>92</td>\n      <td>0.174</td>\n      <td>0.030</td>\n    </tr>\n    <tr>\n      <th>24</th>\n      <td>41</td>\n      <td>0.173</td>\n      <td>0.036</td>\n    </tr>\n    <tr>\n      <th>39</th>\n      <td>66</td>\n      <td>0.168</td>\n      <td>0.024</td>\n    </tr>\n    <tr>\n      <th>25</th>\n      <td>42</td>\n      <td>0.165</td>\n      <td>0.029</td>\n    </tr>\n    <tr>\n      <th>46</th>\n      <td>83</td>\n      <td>0.128</td>\n      <td>0.024</td>\n    </tr>\n    <tr>\n      <th>41</th>\n      <td>73</td>\n      <td>0.124</td>\n      <td>0.046</td>\n    </tr>\n    <tr>\n      <th>34</th>\n      <td>59</td>\n      <td>0.119</td>\n      <td>0.020</td>\n    </tr>\n    <tr>\n      <th>45</th>\n      <td>82</td>\n      <td>0.097</td>\n      <td>0.034</td>\n    </tr>\n    <tr>\n      <th>36</th>\n      <td>62</td>\n      <td>0.075</td>\n      <td>0.011</td>\n    </tr>\n    <tr>\n      <th>4</th>\n      <td>6</td>\n      <td>0.068</td>\n      <td>0.008</td>\n    </tr>\n    <tr>\n      <th>18</th>\n      <td>35</td>\n      <td>0.066</td>\n      <td>0.037</td>\n    </tr>\n    <tr>\n      <th>37</th>\n      <td>63</td>\n      <td>0.043</td>\n      <td>0.067</td>\n    </tr>\n    <tr>\n      <th>40</th>\n      <td>67</td>\n      <td>0.041</td>\n      <td>0.047</td>\n    </tr>\n    <tr>\n      <th>53</th>\n      <td>99</td>\n      <td>0.041</td>\n      <td>0.000</td>\n    </tr>\n    <tr>\n      <th>49</th>\n      <td>90</td>\n      <td>0.012</td>\n      <td>0.026</td>\n    </tr>\n    <tr>\n      <th>0</th>\n      <td>1</td>\n      <td>0.007</td>\n      <td>0.000</td>\n    </tr>\n    <tr>\n      <th>17</th>\n      <td>27</td>\n      <td>-0.017</td>\n      <td>0.054</td>\n    </tr>\n    <tr>\n      <th>2</th>\n      <td>4</td>\n      <td>-0.041</td>\n      <td>0.001</td>\n    </tr>\n    <tr>\n      <th>6</th>\n      <td>10</td>\n      <td>-0.049</td>\n      <td>0.009</td>\n    </tr>\n    <tr>\n      <th>1</th>\n      <td>3</td>\n      <td>NaN</td>\n      <td>NaN</td>\n    </tr>\n    <tr>\n      <th>5</th>\n      <td>7</td>\n      <td>NaN</td>\n      <td>NaN</td>\n    </tr>\n    <tr>\n      <th>11</th>\n      <td>17</td>\n      <td>NaN</td>\n      <td>NaN</td>\n    </tr>\n    <tr>\n      <th>12</th>\n      <td>18</td>\n      <td>NaN</td>\n      <td>NaN</td>\n    </tr>\n    <tr>\n      <th>13</th>\n      <td>19</td>\n      <td>NaN</td>\n      <td>NaN</td>\n    </tr>\n    <tr>\n      <th>14</th>\n      <td>21</td>\n      <td>NaN</td>\n      <td>NaN</td>\n    </tr>\n    <tr>\n      <th>16</th>\n      <td>25</td>\n      <td>NaN</td>\n      <td>NaN</td>\n    </tr>\n    <tr>\n      <th>26</th>\n      <td>43</td>\n      <td>NaN</td>\n      <td>NaN</td>\n    </tr>\n    <tr>\n      <th>38</th>\n      <td>65</td>\n      <td>NaN</td>\n      <td>NaN</td>\n    </tr>\n    <tr>\n      <th>43</th>\n      <td>78</td>\n      <td>NaN</td>\n      <td>NaN</td>\n    </tr>\n    <tr>\n      <th>44</th>\n      <td>80</td>\n      <td>NaN</td>\n      <td>NaN</td>\n    </tr>\n  </tbody>\n</table>\n</div>"
     },
     "execution_count": 3,
     "metadata": {},
     "output_type": "execute_result"
    }
   ],
   "source": [
    "# order results by mean (std in case of tie)\n",
    "results = results.sort_values(by=['mean', 'std'], ascending=False)\n",
    "results"
   ],
   "metadata": {
    "collapsed": false,
    "ExecuteTime": {
     "end_time": "2023-11-21T14:37:21.003009102Z",
     "start_time": "2023-11-21T14:37:20.992047348Z"
    }
   },
   "id": "c418a24aeebde864"
  },
  {
   "cell_type": "code",
   "execution_count": 11,
   "outputs": [
    {
     "ename": "NameError",
     "evalue": "name 'results' is not defined",
     "output_type": "error",
     "traceback": [
      "\u001B[0;31m---------------------------------------------------------------------------\u001B[0m",
      "\u001B[0;31mNameError\u001B[0m                                 Traceback (most recent call last)",
      "Cell \u001B[0;32mIn[11], line 2\u001B[0m\n\u001B[1;32m      1\u001B[0m \u001B[38;5;66;03m# load best trial pipeline (rank #...)\u001B[39;00m\n\u001B[0;32m----> 2\u001B[0m best_trial_id \u001B[38;5;241m=\u001B[39m \u001B[38;5;28mint\u001B[39m(\u001B[43mresults\u001B[49m\u001B[38;5;241m.\u001B[39miloc[\u001B[38;5;241m0\u001B[39m][\u001B[38;5;124m'\u001B[39m\u001B[38;5;124mtrial_id\u001B[39m\u001B[38;5;124m'\u001B[39m])\n\u001B[1;32m      3\u001B[0m pipeline \u001B[38;5;241m=\u001B[39m Pipeline\u001B[38;5;241m.\u001B[39mload(\u001B[38;5;124mf\u001B[39m\u001B[38;5;124m\"\u001B[39m\u001B[38;5;124mvdss/trial_\u001B[39m\u001B[38;5;132;01m{\u001B[39;00mbest_trial_id\u001B[38;5;132;01m}\u001B[39;00m\u001B[38;5;124m/\u001B[39m\u001B[38;5;124m\"\u001B[39m)\n",
      "\u001B[0;31mNameError\u001B[0m: name 'results' is not defined"
     ]
    }
   ],
   "source": [
    "# load best trial pipeline (rank #10)\n",
    "best_trial_id = int(results.iloc[0]['trial_id'])\n",
    "pipeline = Pipeline.load(f\"clearance_hepatocyte/trial_{best_trial_id}/\")"
   ],
   "metadata": {
    "collapsed": false,
    "ExecuteTime": {
     "end_time": "2023-11-08T15:21:10.831314826Z",
     "start_time": "2023-11-08T15:21:10.788576064Z"
    }
   },
   "id": "90e40046d6b150ce"
  },
  {
   "cell_type": "code",
   "execution_count": null,
   "outputs": [],
   "source": [],
   "metadata": {
    "collapsed": false
   },
   "id": "aca45806698765d8"
  }
 ],
 "metadata": {
  "kernelspec": {
   "display_name": "Python 3",
   "language": "python",
   "name": "python3"
  },
  "language_info": {
   "codemirror_mode": {
    "name": "ipython",
    "version": 2
   },
   "file_extension": ".py",
   "mimetype": "text/x-python",
   "name": "python",
   "nbconvert_exporter": "python",
   "pygments_lexer": "ipython2",
   "version": "2.7.6"
  }
 },
 "nbformat": 4,
 "nbformat_minor": 5
}
