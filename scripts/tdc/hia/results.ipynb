{
 "cells": [
  {
   "cell_type": "markdown",
   "id": "86a59e63e6143206",
   "metadata": {
    "collapsed": false
   },
   "source": [
    "# HIA (Human Intestinal Absorption), Hou et al.\n",
    "\n",
    "### Dataset Description: When a drug is orally administered, it needs to be absorbed from the human gastrointestinal system into the bloodstream of the human body. This ability of absorption is called human intestinal absorption (HIA) and it is crucial for a drug to be delivered to the target.\n",
    "\n",
    "### Task Description: Binary classification. Given a drug SMILES string, predict the activity of HIA.\n",
    "\n",
    "### Dataset Statistics: 578 drugs.\n",
    "\n",
    "### Metric: AUROC\n",
    "\n",
    "## Leaderboard\n",
    "\n",
    "| Rank | Model                       | Contact      | Link          | #Params   | AUROC         |\n",
    "|------|-----------------------------|--------------|---------------|-----------|---------------|\n",
    "| 1    | MapLight + GNN              | Jim Notwell  | GitHub, Paper | N/A       | 0.989 ± 0.001 |\n",
    "| 2    | RFStacker                   | Andrew Li    | GitHub, Paper | 1,858,225 | 0.988 ± 0.002 |\n",
    "| 3    | MapLight                    | Jim Notwell  | GitHub, Paper | N/A       | 0.986 ± 0.000 |\n",
    "| 4    | Chemprop-RDKit              | Kyle Swanson | GitHub, Paper | N/A       | 0.981 ± 0.002 |\n",
    "| 5    | AttrMasking                 | Kexin Huang  | GitHub, Paper | 2,067,053 | 0.978 ± 0.006 |\n",
    "| 6    | ContextPred                 | Kexin Huang  | GitHub, Paper | 2,067,053 | 0.975 ± 0.004 |\n",
    "| 7    | AttentiveFP                 | Kexin Huang  | GitHub, Paper | 300,806   | 0.974 ± 0.007 |\n",
    "| 8    | RDKit2D + MLP (DeepPurpose) | Kexin Huang  | GitHub, Paper | 633,409   | 0.972 ± 0.008 |\n",
    "| 9    | Chemprop                    | Kyle Swanson | GitHub, Paper | N/A       | 0.965 ± 0.005 |\n",
    "| 10   | ZairaChem                   | Gemma Turon  | GitHub, Paper | N/A       | 0.948 ± 0.018 |\n",
    "| 11   | NeuralFP                    | Kexin Huang  | GitHub, Paper | 480,193   | 0.943 ± 0.014 |\n",
    "| 12   | GCN                         | Kexin Huang  | GitHub, Paper | 191,810   | 0.936 ± 0.024 |\n",
    "| 13   | Euclia ML model             | Euclia       | GitHub, Paper | 50        | 0.926 ± 0.017 |\n",
    "| 14   | CNN (DeepPurpose)           | Kexin Huang  | GitHub, Paper | 226,625   | 0.869 ± 0.026 |\n",
    "| 15   | Basic ML                    | Nilavo Boral | GitHub, Paper | N/A       | 0.818 ± 0.010 |\n",
    "| 16   | Morgan + MLP (DeepPurpose)  | Kexin Huang  | GitHub, Paper | 1,477,185 | 0.807 ± 0.072 |"
   ]
  },
  {
   "cell_type": "code",
   "execution_count": 1,
   "id": "initial_id",
   "metadata": {
    "ExecuteTime": {
     "end_time": "2023-11-08T14:57:44.047698195Z",
     "start_time": "2023-11-08T14:57:39.914743784Z"
    },
    "collapsed": false
   },
   "outputs": [
    {
     "name": "stderr",
     "output_type": "stream",
     "text": [
      "/tmp/ipykernel_2883543/3721360103.py:1: DeprecationWarning: \n",
      "Pyarrow will become a required dependency of pandas in the next major release of pandas (pandas 3.0),\n",
      "(to allow more performant data types, such as the Arrow string type, and better interoperability with other libraries)\n",
      "but was not found to be installed on your system.\n",
      "If this would cause problems for you,\n",
      "please provide us feedback at https://github.com/pandas-dev/pandas/issues/54466\n",
      "        \n",
      "  import pandas as pd\n",
      "2024-01-24 14:03:23.634659: I tensorflow/tsl/cuda/cudart_stub.cc:28] Could not find cuda drivers on your machine, GPU will not be used.\n",
      "2024-01-24 14:03:23.702888: E tensorflow/compiler/xla/stream_executor/cuda/cuda_dnn.cc:9342] Unable to register cuDNN factory: Attempting to register factory for plugin cuDNN when one has already been registered\n",
      "2024-01-24 14:03:23.702939: E tensorflow/compiler/xla/stream_executor/cuda/cuda_fft.cc:609] Unable to register cuFFT factory: Attempting to register factory for plugin cuFFT when one has already been registered\n",
      "2024-01-24 14:03:23.702973: E tensorflow/compiler/xla/stream_executor/cuda/cuda_blas.cc:1518] Unable to register cuBLAS factory: Attempting to register factory for plugin cuBLAS when one has already been registered\n",
      "2024-01-24 14:03:23.716547: I tensorflow/tsl/cuda/cudart_stub.cc:28] Could not find cuda drivers on your machine, GPU will not be used.\n",
      "2024-01-24 14:03:23.718656: I tensorflow/core/platform/cpu_feature_guard.cc:182] This TensorFlow binary is optimized to use available CPU instructions in performance-critical operations.\n",
      "To enable the following instructions: AVX2 AVX512F FMA, in other operations, rebuild TensorFlow with the appropriate compiler flags.\n",
      "2024-01-24 14:03:25.158742: W tensorflow/compiler/tf2tensorrt/utils/py_utils.cc:38] TF-TRT Warning: Could not find TensorRT\n",
      "Skipped loading modules with pytorch-lightning dependency, missing a dependency. No module named 'pytorch_lightning'\n",
      "Skipped loading some Jax models, missing a dependency. No module named 'jax'\n"
     ]
    }
   ],
   "source": [
    "import pandas as pd\n",
    "from deepmol.pipeline import Pipeline"
   ]
  },
  {
   "cell_type": "code",
   "execution_count": 2,
   "id": "6753179565f6d258",
   "metadata": {
    "ExecuteTime": {
     "end_time": "2023-11-08T14:57:47.060907467Z",
     "start_time": "2023-11-08T14:57:46.364024045Z"
    },
    "collapsed": false
   },
   "outputs": [
    {
     "data": {
      "text/html": [
       "<div>\n",
       "<style scoped>\n",
       "    .dataframe tbody tr th:only-of-type {\n",
       "        vertical-align: middle;\n",
       "    }\n",
       "\n",
       "    .dataframe tbody tr th {\n",
       "        vertical-align: top;\n",
       "    }\n",
       "\n",
       "    .dataframe thead th {\n",
       "        text-align: right;\n",
       "    }\n",
       "</style>\n",
       "<table border=\"1\" class=\"dataframe\">\n",
       "  <thead>\n",
       "    <tr style=\"text-align: right;\">\n",
       "      <th></th>\n",
       "      <th>Trial</th>\n",
       "      <th>Average</th>\n",
       "      <th>Std</th>\n",
       "    </tr>\n",
       "  </thead>\n",
       "  <tbody>\n",
       "    <tr>\n",
       "      <th>0</th>\n",
       "      <td>89.0</td>\n",
       "      <td>0.990</td>\n",
       "      <td>0.002</td>\n",
       "    </tr>\n",
       "    <tr>\n",
       "      <th>1</th>\n",
       "      <td>84.0</td>\n",
       "      <td>0.990</td>\n",
       "      <td>0.002</td>\n",
       "    </tr>\n",
       "    <tr>\n",
       "      <th>2</th>\n",
       "      <td>65.0</td>\n",
       "      <td>0.984</td>\n",
       "      <td>0.008</td>\n",
       "    </tr>\n",
       "    <tr>\n",
       "      <th>3</th>\n",
       "      <td>36.0</td>\n",
       "      <td>0.983</td>\n",
       "      <td>0.008</td>\n",
       "    </tr>\n",
       "    <tr>\n",
       "      <th>4</th>\n",
       "      <td>55.0</td>\n",
       "      <td>0.958</td>\n",
       "      <td>0.006</td>\n",
       "    </tr>\n",
       "    <tr>\n",
       "      <th>5</th>\n",
       "      <td>93.0</td>\n",
       "      <td>0.966</td>\n",
       "      <td>0.012</td>\n",
       "    </tr>\n",
       "    <tr>\n",
       "      <th>6</th>\n",
       "      <td>86.0</td>\n",
       "      <td>0.987</td>\n",
       "      <td>0.009</td>\n",
       "    </tr>\n",
       "    <tr>\n",
       "      <th>7</th>\n",
       "      <td>54.0</td>\n",
       "      <td>0.978</td>\n",
       "      <td>0.011</td>\n",
       "    </tr>\n",
       "    <tr>\n",
       "      <th>8</th>\n",
       "      <td>14.0</td>\n",
       "      <td>0.946</td>\n",
       "      <td>0.006</td>\n",
       "    </tr>\n",
       "    <tr>\n",
       "      <th>9</th>\n",
       "      <td>82.0</td>\n",
       "      <td>0.953</td>\n",
       "      <td>0.010</td>\n",
       "    </tr>\n",
       "  </tbody>\n",
       "</table>\n",
       "</div>"
      ],
      "text/plain": [
       "   Trial  Average    Std\n",
       "0   89.0    0.990  0.002\n",
       "1   84.0    0.990  0.002\n",
       "2   65.0    0.984  0.008\n",
       "3   36.0    0.983  0.008\n",
       "4   55.0    0.958  0.006\n",
       "5   93.0    0.966  0.012\n",
       "6   86.0    0.987  0.009\n",
       "7   54.0    0.978  0.011\n",
       "8   14.0    0.946  0.006\n",
       "9   82.0    0.953  0.010"
      ]
     },
     "execution_count": 2,
     "metadata": {},
     "output_type": "execute_result"
    }
   ],
   "source": [
    "# read results\n",
    "results = pd.read_csv('hia_test_set.csv', sep=',')\n",
    "results\n",
    "# order res"
   ]
  },
  {
   "cell_type": "code",
   "execution_count": 3,
   "id": "c418a24aeebde864",
   "metadata": {
    "ExecuteTime": {
     "end_time": "2023-11-08T14:57:48.205735988Z",
     "start_time": "2023-11-08T14:57:48.194403255Z"
    },
    "collapsed": false
   },
   "outputs": [
    {
     "name": "stderr",
     "output_type": "stream",
     "text": [
      "[15:09:51] Initializing Normalizer\n",
      "/home/jcapela/miniforge3/envs/deepmol/lib/python3.10/site-packages/deepmol/compound_featurization/__init__.py:20: UserWarning: Mol2Vec not available. Please install it to use it. (pip install git+https://github.com/samoturk/mol2vec#egg=mol2vec)\n",
      "  warnings.warn(\"Mol2Vec not available. Please install it to use it. \"\n"
     ]
    }
   ],
   "source": [
    "pipeline = Pipeline.load('hia/trial_89')"
   ]
  },
  {
   "cell_type": "code",
   "execution_count": 4,
   "id": "f430d43d",
   "metadata": {},
   "outputs": [
    {
     "data": {
      "text/plain": [
       "[('standardizer',\n",
       "  <deepmol.standardizer.custom_standardizer.CustomStandardizer at 0x7fdf1dfa67d0>),\n",
       " ('featurizer',\n",
       "  <deepmol.compound_featurization.deepchem_featurizers.MolGraphConvFeat at 0x7fdf1dfa76d0>),\n",
       " ('model', <deepmol.models.deepchem_models.DeepChemModel at 0x7fdf1deb53c0>)]"
      ]
     },
     "execution_count": 4,
     "metadata": {},
     "output_type": "execute_result"
    }
   ],
   "source": [
    "pipeline.steps"
   ]
  },
  {
   "cell_type": "code",
   "execution_count": 5,
   "id": "e3f45865",
   "metadata": {},
   "outputs": [
    {
     "data": {
      "text/plain": [
       "<deepchem.models.torch_models.attentivefp.AttentiveFPModel at 0x7fbd718bf8b0>"
      ]
     },
     "execution_count": 5,
     "metadata": {},
     "output_type": "execute_result"
    }
   ],
   "source": [
    "pipeline.steps[-1][1].model"
   ]
  },
  {
   "cell_type": "code",
   "execution_count": 4,
   "id": "90e40046d6b150ce",
   "metadata": {
    "ExecuteTime": {
     "end_time": "2023-11-08T14:57:51.560903418Z",
     "start_time": "2023-11-08T14:57:51.552872384Z"
    },
    "collapsed": false
   },
   "outputs": [
    {
     "ename": "NameError",
     "evalue": "name 'results' is not defined",
     "output_type": "error",
     "traceback": [
      "\u001b[0;31m---------------------------------------------------------------------------\u001b[0m",
      "\u001b[0;31mNameError\u001b[0m                                 Traceback (most recent call last)",
      "Cell \u001b[0;32mIn[4], line 2\u001b[0m\n\u001b[1;32m      1\u001b[0m \u001b[38;5;66;03m# load best trial pipeline (rank #8)\u001b[39;00m\n\u001b[0;32m----> 2\u001b[0m best_trial_id \u001b[38;5;241m=\u001b[39m \u001b[38;5;28mint\u001b[39m(\u001b[43mresults\u001b[49m\u001b[38;5;241m.\u001b[39miloc[\u001b[38;5;241m0\u001b[39m][\u001b[38;5;124m'\u001b[39m\u001b[38;5;124mtrial_id\u001b[39m\u001b[38;5;124m'\u001b[39m])\n\u001b[1;32m      3\u001b[0m pipeline \u001b[38;5;241m=\u001b[39m Pipeline\u001b[38;5;241m.\u001b[39mload(\u001b[38;5;124mf\u001b[39m\u001b[38;5;124m\"\u001b[39m\u001b[38;5;124mhia/trial_\u001b[39m\u001b[38;5;132;01m{\u001b[39;00mbest_trial_id\u001b[38;5;132;01m}\u001b[39;00m\u001b[38;5;124m/\u001b[39m\u001b[38;5;124m\"\u001b[39m)\n",
      "\u001b[0;31mNameError\u001b[0m: name 'results' is not defined"
     ]
    }
   ],
   "source": [
    "# load best trial pipeline (rank #...)\n",
    "best_trial_id = int(results.iloc[0]['trial_id'])\n",
    "pipeline = Pipeline.load(f\"hia/trial_{best_trial_id}/\")"
   ]
  },
  {
   "cell_type": "code",
   "execution_count": null,
   "id": "aca45806698765d8",
   "metadata": {
    "collapsed": false
   },
   "outputs": [],
   "source": []
  }
 ],
 "metadata": {
  "kernelspec": {
   "display_name": "Python 3",
   "language": "python",
   "name": "python3"
  },
  "language_info": {
   "codemirror_mode": {
    "name": "ipython",
    "version": 3
   },
   "file_extension": ".py",
   "mimetype": "text/x-python",
   "name": "python",
   "nbconvert_exporter": "python",
   "pygments_lexer": "ipython3",
   "version": "3.10.13"
  }
 },
 "nbformat": 4,
 "nbformat_minor": 5
}
