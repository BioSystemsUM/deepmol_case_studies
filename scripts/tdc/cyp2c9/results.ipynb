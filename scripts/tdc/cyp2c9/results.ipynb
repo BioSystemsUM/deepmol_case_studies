{
 "cells": [
  {
   "cell_type": "markdown",
   "id": "86a59e63e6143206",
   "metadata": {
    "collapsed": false
   },
   "source": [
    "# CYP P450 2C9 Inhibition, Veith et al.\n",
    "\n",
    "### Dataset Description: The CYP P450 genes are involved in the formation and breakdown (metabolism) of various molecules and chemicals within cells. Specifically, the CYP P450 2C9 plays a major role in the oxidation of both xenobiotic and endogenous compounds.\n",
    "\n",
    "### Task Description: Binary Classification. Given a drug SMILES string, predict CYP2C9 inhibition.\n",
    "\n",
    "### Dataset Statistics: 12,092 drugs.\n",
    "\n",
    "### Metric: AUPRC\n",
    "\n",
    "## Leaderboard\n",
    "\n",
    "| Rank | Model                                    | Contact         | Link          | #Params   | AUPRC         |\n",
    "|------|------------------------------------------|-----------------|---------------|-----------|---------------|\n",
    "| 1    | MapLight + GNN                           | Jim Notwell     | GitHub, Paper | N/A       | 0.859 ± 0.001 |\n",
    "| 2    | ContextPred                              | Kexin Huang     | GitHub, Paper | 2,067,053 | 0.839 ± 0.003 |\n",
    "| 3    | AttrMasking                              | Kexin Huang     | GitHub, Paper | 2,067,053 | 0.829 ± 0.003 |\n",
    "| 4    | ZairaChem                                | Gemma Turon     | GitHub, Paper | N/A       | 0.786 ± 0.004 |\n",
    "| 5    | MapLight                                 | Jim Notwell     | GitHub, Paper | N/A       | 0.783 ± 0.002 |\n",
    "| 6    | Chemprop-RDKit                           | Kyle Swanson    | GitHub, Paper | N/A       | 0.777 ± 0.003 |\n",
    "| 7    | ColorRefinement + Weighted Ensemble LGBM | Parker Burchett | GitHub, Paper | 68        | 0.767 ± 0.003 |\n",
    "| 8    | Chemprop                                 | Kyle Swanson    | GitHub, Paper | N/A       | 0.754 ± 0.002 |\n",
    "| 9    | AttentiveFP                              | Kexin Huang     | GitHub, Paper | 300,806   | 0.749 ± 0.004 |\n",
    "| 10   | RDKit2D + MLP (DeepPurpose)              | Kexin Huang     | GitHub, Paper | 633,409   | 0.742 ± 0.006 |\n",
    "| 11   | NeuralFP                                 | Kexin Huang     | GitHub, Paper | 480,193   | 0.739 ± 0.010 |\n",
    "| 12   | GCN                                      | Kexin Huang     | GitHub, Paper | 191,810   | 0.735 ± 0.004 |\n",
    "| 13   | Morgan + MLP (DeepPurpose)               | Kexin Huang     | GitHub, Paper | 1,477,185 | 0.715 ± 0.004 |\n",
    "| 14   | CNN (DeepPurpose)                        | Kexin Huang     | GitHub, Paper | 226,625   | 0.713 ± 0.006 |\n",
    "| 15   | Basic ML                                 | Nilavo Boral    | GitHub, Paper | N/A       | 0.556 ± 0.000 |\n",
    "| 16   | Euclia ML model                          | Euclia          | GitHub, Paper | 50        | 0.536 ± 0.003 |"
   ]
  },
  {
   "cell_type": "code",
   "execution_count": 1,
   "id": "initial_id",
   "metadata": {
    "ExecuteTime": {
     "end_time": "2023-11-08T15:21:33.148753533Z",
     "start_time": "2023-11-08T15:21:27.146724159Z"
    },
    "collapsed": false
   },
   "outputs": [
    {
     "name": "stderr",
     "output_type": "stream",
     "text": [
      "2024-04-19 11:27:36.106657: I tensorflow/core/util/port.cc:111] oneDNN custom operations are on. You may see slightly different numerical results due to floating-point round-off errors from different computation orders. To turn them off, set the environment variable `TF_ENABLE_ONEDNN_OPTS=0`.\n",
      "2024-04-19 11:27:37.510647: E tensorflow/compiler/xla/stream_executor/cuda/cuda_dnn.cc:9342] Unable to register cuDNN factory: Attempting to register factory for plugin cuDNN when one has already been registered\n",
      "2024-04-19 11:27:37.510740: E tensorflow/compiler/xla/stream_executor/cuda/cuda_fft.cc:609] Unable to register cuFFT factory: Attempting to register factory for plugin cuFFT when one has already been registered\n",
      "2024-04-19 11:27:37.510814: E tensorflow/compiler/xla/stream_executor/cuda/cuda_blas.cc:1518] Unable to register cuBLAS factory: Attempting to register factory for plugin cuBLAS when one has already been registered\n",
      "2024-04-19 11:27:37.763608: I tensorflow/core/platform/cpu_feature_guard.cc:182] This TensorFlow binary is optimized to use available CPU instructions in performance-critical operations.\n",
      "To enable the following instructions: AVX2 AVX512F AVX512_VNNI FMA, in other operations, rebuild TensorFlow with the appropriate compiler flags.\n",
      "2024-04-19 11:27:45.685751: W tensorflow/compiler/tf2tensorrt/utils/py_utils.cc:38] TF-TRT Warning: Could not find TensorRT\n",
      "Skipped loading modules with pytorch-lightning dependency, missing a dependency. No module named 'pytorch_lightning'\n",
      "Skipped loading some Jax models, missing a dependency. jax requires jaxlib to be installed. See https://github.com/google/jax#installation for installation instructions.\n"
     ]
    }
   ],
   "source": [
    "import pandas as pd\n",
    "from deepmol.pipeline import Pipeline"
   ]
  },
  {
   "cell_type": "code",
   "execution_count": 2,
   "id": "6753179565f6d258",
   "metadata": {
    "ExecuteTime": {
     "end_time": "2023-11-08T15:21:34.082381055Z",
     "start_time": "2023-11-08T15:21:33.153767336Z"
    },
    "collapsed": false
   },
   "outputs": [
    {
     "data": {
      "text/html": [
       "<div>\n",
       "<style scoped>\n",
       "    .dataframe tbody tr th:only-of-type {\n",
       "        vertical-align: middle;\n",
       "    }\n",
       "\n",
       "    .dataframe tbody tr th {\n",
       "        vertical-align: top;\n",
       "    }\n",
       "\n",
       "    .dataframe thead th {\n",
       "        text-align: right;\n",
       "    }\n",
       "</style>\n",
       "<table border=\"1\" class=\"dataframe\">\n",
       "  <thead>\n",
       "    <tr style=\"text-align: right;\">\n",
       "      <th></th>\n",
       "      <th>trial_id</th>\n",
       "      <th>mean</th>\n",
       "      <th>std</th>\n",
       "    </tr>\n",
       "  </thead>\n",
       "  <tbody>\n",
       "    <tr>\n",
       "      <th>0</th>\n",
       "      <td>83.0</td>\n",
       "      <td>0.590</td>\n",
       "      <td>0.000</td>\n",
       "    </tr>\n",
       "    <tr>\n",
       "      <th>1</th>\n",
       "      <td>13.0</td>\n",
       "      <td>0.712</td>\n",
       "      <td>0.004</td>\n",
       "    </tr>\n",
       "    <tr>\n",
       "      <th>2</th>\n",
       "      <td>75.0</td>\n",
       "      <td>0.698</td>\n",
       "      <td>0.006</td>\n",
       "    </tr>\n",
       "    <tr>\n",
       "      <th>3</th>\n",
       "      <td>52.0</td>\n",
       "      <td>0.538</td>\n",
       "      <td>0.000</td>\n",
       "    </tr>\n",
       "    <tr>\n",
       "      <th>4</th>\n",
       "      <td>0.0</td>\n",
       "      <td>0.710</td>\n",
       "      <td>0.003</td>\n",
       "    </tr>\n",
       "    <tr>\n",
       "      <th>5</th>\n",
       "      <td>91.0</td>\n",
       "      <td>0.536</td>\n",
       "      <td>0.000</td>\n",
       "    </tr>\n",
       "    <tr>\n",
       "      <th>6</th>\n",
       "      <td>74.0</td>\n",
       "      <td>0.537</td>\n",
       "      <td>0.000</td>\n",
       "    </tr>\n",
       "    <tr>\n",
       "      <th>7</th>\n",
       "      <td>61.0</td>\n",
       "      <td>0.537</td>\n",
       "      <td>0.000</td>\n",
       "    </tr>\n",
       "    <tr>\n",
       "      <th>8</th>\n",
       "      <td>71.0</td>\n",
       "      <td>0.536</td>\n",
       "      <td>0.000</td>\n",
       "    </tr>\n",
       "    <tr>\n",
       "      <th>9</th>\n",
       "      <td>70.0</td>\n",
       "      <td>0.536</td>\n",
       "      <td>0.000</td>\n",
       "    </tr>\n",
       "    <tr>\n",
       "      <th>10</th>\n",
       "      <td>voting_pipeline</td>\n",
       "      <td>0.758</td>\n",
       "      <td>0.002</td>\n",
       "    </tr>\n",
       "  </tbody>\n",
       "</table>\n",
       "</div>"
      ],
      "text/plain": [
       "           trial_id   mean    std\n",
       "0              83.0  0.590  0.000\n",
       "1              13.0  0.712  0.004\n",
       "2              75.0  0.698  0.006\n",
       "3              52.0  0.538  0.000\n",
       "4               0.0  0.710  0.003\n",
       "5              91.0  0.536  0.000\n",
       "6              74.0  0.537  0.000\n",
       "7              61.0  0.537  0.000\n",
       "8              71.0  0.536  0.000\n",
       "9              70.0  0.536  0.000\n",
       "10  voting_pipeline  0.758  0.002"
      ]
     },
     "execution_count": 2,
     "metadata": {},
     "output_type": "execute_result"
    }
   ],
   "source": [
    "# read results\n",
    "results = pd.read_csv('results_test_set/cyp2c9_test_set.csv')\n",
    "# set columns\n",
    "results.columns = ['trial_id', 'mean', 'std']\n",
    "results"
   ]
  },
  {
   "cell_type": "code",
   "execution_count": 3,
   "id": "c418a24aeebde864",
   "metadata": {
    "ExecuteTime": {
     "end_time": "2023-11-08T15:21:40.443588319Z",
     "start_time": "2023-11-08T15:21:40.404821119Z"
    },
    "collapsed": false
   },
   "outputs": [
    {
     "data": {
      "text/html": [
       "<div>\n",
       "<style scoped>\n",
       "    .dataframe tbody tr th:only-of-type {\n",
       "        vertical-align: middle;\n",
       "    }\n",
       "\n",
       "    .dataframe tbody tr th {\n",
       "        vertical-align: top;\n",
       "    }\n",
       "\n",
       "    .dataframe thead th {\n",
       "        text-align: right;\n",
       "    }\n",
       "</style>\n",
       "<table border=\"1\" class=\"dataframe\">\n",
       "  <thead>\n",
       "    <tr style=\"text-align: right;\">\n",
       "      <th></th>\n",
       "      <th>trial_id</th>\n",
       "      <th>mean</th>\n",
       "      <th>std</th>\n",
       "    </tr>\n",
       "  </thead>\n",
       "  <tbody>\n",
       "    <tr>\n",
       "      <th>10</th>\n",
       "      <td>voting_pipeline</td>\n",
       "      <td>0.758</td>\n",
       "      <td>0.002</td>\n",
       "    </tr>\n",
       "    <tr>\n",
       "      <th>1</th>\n",
       "      <td>13.0</td>\n",
       "      <td>0.712</td>\n",
       "      <td>0.004</td>\n",
       "    </tr>\n",
       "    <tr>\n",
       "      <th>4</th>\n",
       "      <td>0.0</td>\n",
       "      <td>0.710</td>\n",
       "      <td>0.003</td>\n",
       "    </tr>\n",
       "    <tr>\n",
       "      <th>2</th>\n",
       "      <td>75.0</td>\n",
       "      <td>0.698</td>\n",
       "      <td>0.006</td>\n",
       "    </tr>\n",
       "    <tr>\n",
       "      <th>0</th>\n",
       "      <td>83.0</td>\n",
       "      <td>0.590</td>\n",
       "      <td>0.000</td>\n",
       "    </tr>\n",
       "    <tr>\n",
       "      <th>3</th>\n",
       "      <td>52.0</td>\n",
       "      <td>0.538</td>\n",
       "      <td>0.000</td>\n",
       "    </tr>\n",
       "    <tr>\n",
       "      <th>6</th>\n",
       "      <td>74.0</td>\n",
       "      <td>0.537</td>\n",
       "      <td>0.000</td>\n",
       "    </tr>\n",
       "    <tr>\n",
       "      <th>7</th>\n",
       "      <td>61.0</td>\n",
       "      <td>0.537</td>\n",
       "      <td>0.000</td>\n",
       "    </tr>\n",
       "    <tr>\n",
       "      <th>5</th>\n",
       "      <td>91.0</td>\n",
       "      <td>0.536</td>\n",
       "      <td>0.000</td>\n",
       "    </tr>\n",
       "    <tr>\n",
       "      <th>8</th>\n",
       "      <td>71.0</td>\n",
       "      <td>0.536</td>\n",
       "      <td>0.000</td>\n",
       "    </tr>\n",
       "    <tr>\n",
       "      <th>9</th>\n",
       "      <td>70.0</td>\n",
       "      <td>0.536</td>\n",
       "      <td>0.000</td>\n",
       "    </tr>\n",
       "  </tbody>\n",
       "</table>\n",
       "</div>"
      ],
      "text/plain": [
       "           trial_id   mean    std\n",
       "10  voting_pipeline  0.758  0.002\n",
       "1              13.0  0.712  0.004\n",
       "4               0.0  0.710  0.003\n",
       "2              75.0  0.698  0.006\n",
       "0              83.0  0.590  0.000\n",
       "3              52.0  0.538  0.000\n",
       "6              74.0  0.537  0.000\n",
       "7              61.0  0.537  0.000\n",
       "5              91.0  0.536  0.000\n",
       "8              71.0  0.536  0.000\n",
       "9              70.0  0.536  0.000"
      ]
     },
     "execution_count": 3,
     "metadata": {},
     "output_type": "execute_result"
    }
   ],
   "source": [
    "# order results by mean (std in case of tie)\n",
    "results = results.sort_values(by=['mean', 'std'], ascending=False)\n",
    "results"
   ]
  },
  {
   "cell_type": "code",
   "execution_count": 4,
   "id": "90e40046d6b150ce",
   "metadata": {
    "ExecuteTime": {
     "end_time": "2023-11-08T15:21:42.655029749Z",
     "start_time": "2023-11-08T15:21:42.633713536Z"
    },
    "collapsed": false
   },
   "outputs": [
    {
     "name": "stderr",
     "output_type": "stream",
     "text": [
      "[11:28:17] Initializing Normalizer\n"
     ]
    }
   ],
   "source": [
    "# load best trial pipeline (rank #8)\n",
    "from deepmol.pipeline import VotingPipeline\n",
    "\n",
    "pipeline = VotingPipeline.load(f\"cyp2c9/voting_pipeline/\")"
   ]
  },
  {
   "cell_type": "code",
   "execution_count": 5,
   "id": "aca45806698765d8",
   "metadata": {
    "collapsed": false
   },
   "outputs": [
    {
     "data": {
      "text/plain": [
       "[('standardizer',\n",
       "  <deepmol.standardizer.basic_standardizer.BasicStandardizer at 0x7fa4f20603d0>),\n",
       " ('featurizer',\n",
       "  <deepmol.compound_featurization.rdkit_fingerprints.MorganFingerprint at 0x7fa4f21e9d80>),\n",
       " ('scaler',\n",
       "  <deepmol.base.transformer.PassThroughTransformer at 0x7fa4f209d5d0>),\n",
       " ('feature_selector',\n",
       "  <deepmol.base.transformer.PassThroughTransformer at 0x7fa4f20d9030>),\n",
       " ('model',\n",
       "  SklearnModel(model=SVC(C=9.821880599799835, degree=5, gamma=0.0392617789396249),\n",
       "               model_dir='cyp2c9/voting_pipeline/trial_83/model/model.pkl'))]"
      ]
     },
     "execution_count": 5,
     "metadata": {},
     "output_type": "execute_result"
    }
   ],
   "source": [
    "pipeline.pipelines[0].steps"
   ]
  },
  {
   "cell_type": "code",
   "execution_count": 6,
   "id": "0bb812e1",
   "metadata": {},
   "outputs": [
    {
     "data": {
      "text/plain": [
       "[('standardizer',\n",
       "  <deepmol.standardizer.custom_standardizer.CustomStandardizer at 0x7fa4f21eb640>),\n",
       " ('featurizer',\n",
       "  <deepmol.compound_featurization.rdkit_fingerprints.AtomPairFingerprint at 0x7fa3933eded0>),\n",
       " ('scaler',\n",
       "  <deepmol.base.transformer.PassThroughTransformer at 0x7fa3933edf60>),\n",
       " ('feature_selector',\n",
       "  <deepmol.feature_selection.base_feature_selector.LowVarianceFS at 0x7fa3933ee050>),\n",
       " ('model',\n",
       "  SklearnModel(model=GradientBoostingClassifier(criterion='squared_error',\n",
       "                                                learning_rate=0.1637515741456934,\n",
       "                                                loss='deviance',\n",
       "                                                max_features='sqrt',\n",
       "                                                n_estimators=150),\n",
       "               model_dir='cyp2c9/voting_pipeline/trial_13/model/model.pkl'))]"
      ]
     },
     "execution_count": 6,
     "metadata": {},
     "output_type": "execute_result"
    }
   ],
   "source": [
    "pipeline.pipelines[1].steps"
   ]
  },
  {
   "cell_type": "code",
   "execution_count": 7,
   "id": "9e08bb11",
   "metadata": {},
   "outputs": [
    {
     "data": {
      "text/plain": [
       "[('standardizer',\n",
       "  <deepmol.standardizer.basic_standardizer.BasicStandardizer at 0x7fa393696d10>),\n",
       " ('featurizer',\n",
       "  <deepmol.compound_featurization.rdkit_fingerprints.MorganFingerprint at 0x7fa3901c5900>),\n",
       " ('scaler',\n",
       "  <deepmol.base.transformer.PassThroughTransformer at 0x7fa3901c5a20>),\n",
       " ('feature_selector',\n",
       "  <deepmol.base.transformer.PassThroughTransformer at 0x7fa3901c5a80>),\n",
       " ('model',\n",
       "  SklearnModel(model=GradientBoostingClassifier(criterion='squared_error',\n",
       "                                                learning_rate=0.3738315737081547,\n",
       "                                                loss='deviance',\n",
       "                                                max_features='auto',\n",
       "                                                n_estimators=200),\n",
       "               model_dir='cyp2c9/voting_pipeline/trial_75/model/model.pkl'))]"
      ]
     },
     "execution_count": 7,
     "metadata": {},
     "output_type": "execute_result"
    }
   ],
   "source": [
    "pipeline.pipelines[2].steps"
   ]
  },
  {
   "cell_type": "code",
   "execution_count": 8,
   "id": "5e7e237d",
   "metadata": {},
   "outputs": [
    {
     "data": {
      "text/plain": [
       "[('standardizer',\n",
       "  <deepmol.standardizer.basic_standardizer.BasicStandardizer at 0x7fa3901c57e0>),\n",
       " ('featurizer',\n",
       "  <deepmol.compound_featurization.rdkit_fingerprints.MorganFingerprint at 0x7fa39020d660>),\n",
       " ('scaler',\n",
       "  <deepmol.base.transformer.PassThroughTransformer at 0x7fa39020d780>),\n",
       " ('feature_selector',\n",
       "  <deepmol.base.transformer.PassThroughTransformer at 0x7fa39020d7e0>),\n",
       " ('model',\n",
       "  SklearnModel(model=RidgeClassifierCV(alphas=6.12470421788726),\n",
       "               model_dir='cyp2c9/voting_pipeline/trial_52/model/model.pkl'))]"
      ]
     },
     "execution_count": 8,
     "metadata": {},
     "output_type": "execute_result"
    }
   ],
   "source": [
    "pipeline.pipelines[3].steps"
   ]
  },
  {
   "cell_type": "code",
   "execution_count": 9,
   "id": "51ee0c5e",
   "metadata": {},
   "outputs": [
    {
     "data": {
      "text/plain": [
       "[('standardizer',\n",
       "  <deepmol.base.transformer.PassThroughTransformer at 0x7fa39020d540>),\n",
       " ('featurizer',\n",
       "  <deepmol.compound_featurization.rdkit_fingerprints.AtomPairFingerprint at 0x7fa39020d990>),\n",
       " ('scaler',\n",
       "  <deepmol.base.transformer.PassThroughTransformer at 0x7fa39020dab0>),\n",
       " ('feature_selector',\n",
       "  <deepmol.feature_selection.base_feature_selector.LowVarianceFS at 0x7fa39020db10>),\n",
       " ('model',\n",
       "  SklearnModel(model=GradientBoostingClassifier(criterion='squared_error',\n",
       "                                                learning_rate=0.2028992286878416,\n",
       "                                                loss='deviance',\n",
       "                                                max_features='sqrt',\n",
       "                                                n_estimators=150),\n",
       "               model_dir='cyp2c9/voting_pipeline/trial_0/model/model.pkl'))]"
      ]
     },
     "execution_count": 9,
     "metadata": {},
     "output_type": "execute_result"
    }
   ],
   "source": [
    "pipeline.pipelines[4].steps"
   ]
  },
  {
   "cell_type": "code",
   "execution_count": 14,
   "id": "6467e562",
   "metadata": {},
   "outputs": [
    {
     "data": {
      "text/html": [
       "<div>\n",
       "<style scoped>\n",
       "    .dataframe tbody tr th:only-of-type {\n",
       "        vertical-align: middle;\n",
       "    }\n",
       "\n",
       "    .dataframe tbody tr th {\n",
       "        vertical-align: top;\n",
       "    }\n",
       "\n",
       "    .dataframe thead th {\n",
       "        text-align: right;\n",
       "    }\n",
       "</style>\n",
       "<table border=\"1\" class=\"dataframe\">\n",
       "  <thead>\n",
       "    <tr style=\"text-align: right;\">\n",
       "      <th></th>\n",
       "      <th>standardizer</th>\n",
       "      <th>featurizer</th>\n",
       "      <th>scaler</th>\n",
       "      <th>feature_selector</th>\n",
       "      <th>model</th>\n",
       "    </tr>\n",
       "  </thead>\n",
       "  <tbody>\n",
       "    <tr>\n",
       "      <th>0</th>\n",
       "      <td>BasicStandardizer object at 0x7fa4f20603d0&gt;</td>\n",
       "      <td>MorganFingerprint object at 0x7fa4f21e9d80&gt;</td>\n",
       "      <td>PassThroughTransformer object at 0x7fa4f209d5d0&gt;</td>\n",
       "      <td>PassThroughTransformer object at 0x7fa4f20d9030&gt;</td>\n",
       "      <td>SklearnModel(model=SVC(C=9.821880599799835, de...</td>\n",
       "    </tr>\n",
       "    <tr>\n",
       "      <th>1</th>\n",
       "      <td>CustomStandardizer object at 0x7fa4f21eb640&gt;</td>\n",
       "      <td>AtomPairFingerprint object at 0x7fa3933eded0&gt;</td>\n",
       "      <td>PassThroughTransformer object at 0x7fa3933edf60&gt;</td>\n",
       "      <td>LowVarianceFS object at 0x7fa3933ee050&gt;</td>\n",
       "      <td>SklearnModel(model=GradientBoostingClassifier(...</td>\n",
       "    </tr>\n",
       "    <tr>\n",
       "      <th>2</th>\n",
       "      <td>BasicStandardizer object at 0x7fa393696d10&gt;</td>\n",
       "      <td>MorganFingerprint object at 0x7fa3901c5900&gt;</td>\n",
       "      <td>PassThroughTransformer object at 0x7fa3901c5a20&gt;</td>\n",
       "      <td>PassThroughTransformer object at 0x7fa3901c5a80&gt;</td>\n",
       "      <td>SklearnModel(model=GradientBoostingClassifier(...</td>\n",
       "    </tr>\n",
       "    <tr>\n",
       "      <th>3</th>\n",
       "      <td>BasicStandardizer object at 0x7fa3901c57e0&gt;</td>\n",
       "      <td>MorganFingerprint object at 0x7fa39020d660&gt;</td>\n",
       "      <td>PassThroughTransformer object at 0x7fa39020d780&gt;</td>\n",
       "      <td>PassThroughTransformer object at 0x7fa39020d7e0&gt;</td>\n",
       "      <td>SklearnModel(model=RidgeClassifierCV(alphas=6....</td>\n",
       "    </tr>\n",
       "    <tr>\n",
       "      <th>4</th>\n",
       "      <td>PassThroughTransformer object at 0x7fa39020d540&gt;</td>\n",
       "      <td>AtomPairFingerprint object at 0x7fa39020d990&gt;</td>\n",
       "      <td>PassThroughTransformer object at 0x7fa39020dab0&gt;</td>\n",
       "      <td>LowVarianceFS object at 0x7fa39020db10&gt;</td>\n",
       "      <td>SklearnModel(model=GradientBoostingClassifier(...</td>\n",
       "    </tr>\n",
       "  </tbody>\n",
       "</table>\n",
       "</div>"
      ],
      "text/plain": [
       "                                       standardizer  \\\n",
       "0       BasicStandardizer object at 0x7fa4f20603d0>   \n",
       "1      CustomStandardizer object at 0x7fa4f21eb640>   \n",
       "2       BasicStandardizer object at 0x7fa393696d10>   \n",
       "3       BasicStandardizer object at 0x7fa3901c57e0>   \n",
       "4  PassThroughTransformer object at 0x7fa39020d540>   \n",
       "\n",
       "                                      featurizer  \\\n",
       "0    MorganFingerprint object at 0x7fa4f21e9d80>   \n",
       "1  AtomPairFingerprint object at 0x7fa3933eded0>   \n",
       "2    MorganFingerprint object at 0x7fa3901c5900>   \n",
       "3    MorganFingerprint object at 0x7fa39020d660>   \n",
       "4  AtomPairFingerprint object at 0x7fa39020d990>   \n",
       "\n",
       "                                             scaler  \\\n",
       "0  PassThroughTransformer object at 0x7fa4f209d5d0>   \n",
       "1  PassThroughTransformer object at 0x7fa3933edf60>   \n",
       "2  PassThroughTransformer object at 0x7fa3901c5a20>   \n",
       "3  PassThroughTransformer object at 0x7fa39020d780>   \n",
       "4  PassThroughTransformer object at 0x7fa39020dab0>   \n",
       "\n",
       "                                   feature_selector  \\\n",
       "0  PassThroughTransformer object at 0x7fa4f20d9030>   \n",
       "1           LowVarianceFS object at 0x7fa3933ee050>   \n",
       "2  PassThroughTransformer object at 0x7fa3901c5a80>   \n",
       "3  PassThroughTransformer object at 0x7fa39020d7e0>   \n",
       "4           LowVarianceFS object at 0x7fa39020db10>   \n",
       "\n",
       "                                               model  \n",
       "0  SklearnModel(model=SVC(C=9.821880599799835, de...  \n",
       "1  SklearnModel(model=GradientBoostingClassifier(...  \n",
       "2  SklearnModel(model=GradientBoostingClassifier(...  \n",
       "3  SklearnModel(model=RidgeClassifierCV(alphas=6....  \n",
       "4  SklearnModel(model=GradientBoostingClassifier(...  "
      ]
     },
     "execution_count": 14,
     "metadata": {},
     "output_type": "execute_result"
    }
   ],
   "source": [
    "data = pd.DataFrame()\n",
    "data['standardizer'] = [str(pipeline.pipelines[i].steps[0][1]).split('.')[-1] for i in range(5)]\n",
    "data['featurizer'] = [str(pipeline.pipelines[i].steps[1][1]).split('.')[-1] for i in range(5)]\n",
    "data['scaler'] = [str(pipeline.pipelines[i].steps[2][1]).split('.')[-1] for i in range(5)]\n",
    "data['feature_selector'] = [str(pipeline.pipelines[i].steps[3][1]).split('.')[-1] for i in range(5)]\n",
    "data['model'] = [str(pipeline.pipelines[i].steps[4][1]) for i in range(5)]\n",
    "data"
   ]
  }
 ],
 "metadata": {
  "kernelspec": {
   "display_name": "Python 3",
   "language": "python",
   "name": "python3"
  },
  "language_info": {
   "codemirror_mode": {
    "name": "ipython",
    "version": 3
   },
   "file_extension": ".py",
   "mimetype": "text/x-python",
   "name": "python",
   "nbconvert_exporter": "python",
   "pygments_lexer": "ipython3",
   "version": "3.10.13"
  }
 },
 "nbformat": 4,
 "nbformat_minor": 5
}
