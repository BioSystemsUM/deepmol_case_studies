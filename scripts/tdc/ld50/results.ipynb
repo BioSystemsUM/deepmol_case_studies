{
 "cells": [
  {
   "cell_type": "markdown",
   "source": [
    "# Acute Toxicity LD50\n",
    "\n",
    "### Dataset Description: Acute toxicity LD50 measures the most conservative dose that can lead to lethal adverse effects. The higher the dose, the more lethal of a drug. This dataset is kindly provided by the authors of [1].\n",
    "\n",
    "### Task Description: Regression. Given a drug SMILES string, predict its acute toxicity.\n",
    "\n",
    "### Dataset Statistics: 7,385 drugs.\n",
    "\n",
    "### Metric: AUROC\n",
    "\n",
    "## Leaderboard\n",
    "\n",
    "| Rank | Model                       | Contact           | Link          | #Params   | AUROC         |\n",
    "|------|-----------------------------|-------------------|---------------|-----------|---------------|\n",
    "| 1    | SimGCN                      | Suman Kalyan Bera | GitHub, Paper | 1,103,000 | 0.748 ± 0.033 |\n",
    "| 2    | MapLight + GNN              | Jim Notwell       | GitHub, Paper | N/A       | 0.742 ± 0.010 |\n",
    "| 3    | MapLight                    | Jim Notwell       | GitHub, Paper | N/A       | 0.730 ± 0.010 |\n",
    "| 4    | ZairaChem                   | Gemma Turon       | GitHub, Paper | N/A       | 0.706 ± 0.031 |\n",
    "| 5    | RDKit2D + MLP (DeepPurpose) | Kexin Huang       | GitHub, Paper | 633,409   | 0.672 ± 0.021 |\n",
    "| 6    | ContextPred                 | Kexin Huang       | GitHub, Paper | 2,067,053 | 0.671 ± 0.026 |\n",
    "| 7    | Chemprop-RDKit              | Kyle Swanson      | GitHub, Paper | N/A       | 0.667 ± 0.068 |\n",
    "| 8    | AttentiveFP                 | Kexin Huang       | GitHub, Paper | 300,806   | 0.632 ± 0.039 |\n",
    "| 9    | NeuralFP                    | Kexin Huang       | GitHub, Paper | 480,193   | 0.632 ± 0.036 |\n",
    "| 10   | Euclia ML model             | Euclia            | GitHub, Paper | 50        | 0.613 ± 0.015 |\n",
    "| 11   | CNN (DeepPurpose)           | Kexin Huang       | GitHub, Paper | 226,625   | 0.613 ± 0.013 |\n",
    "| 12   | Chemprop                    | Kyle Swanson      | GitHub, Paper | N/A       | 0.581 ± 0.024 |\n",
    "| 13   | Morgan + MLP (DeepPurpose)  | Kexin Huang       | GitHub, Paper | 1,477,185 | 0.581 ± 0.086 |\n",
    "| 14   | AttrMasking                 | Kexin Huang       | GitHub, Paper | 2,067,053 | 0.577 ± 0.087 |\n",
    "| 15   | GCN                         | Kexin Huang       | GitHub, Paper | 191,810   | 0.566 ± 0.115 |\n",
    "| 16   | Basic ML                    | Nilavo Boral      | GitHub, Paper | N/A       | 0.523 ± 0.011 |"
   ],
   "metadata": {
    "collapsed": false
   },
   "id": "86a59e63e6143206"
  },
  {
   "cell_type": "code",
   "execution_count": 1,
   "outputs": [
    {
     "name": "stderr",
     "output_type": "stream",
     "text": [
      "2023-11-08 14:37:03.458277: I tensorflow/tsl/cuda/cudart_stub.cc:28] Could not find cuda drivers on your machine, GPU will not be used.\n",
      "2023-11-08 14:37:03.493583: I tensorflow/tsl/cuda/cudart_stub.cc:28] Could not find cuda drivers on your machine, GPU will not be used.\n",
      "2023-11-08 14:37:03.494501: I tensorflow/core/platform/cpu_feature_guard.cc:182] This TensorFlow binary is optimized to use available CPU instructions in performance-critical operations.\n",
      "To enable the following instructions: AVX2 FMA, in other operations, rebuild TensorFlow with the appropriate compiler flags.\n",
      "2023-11-08 14:37:04.133624: W tensorflow/compiler/tf2tensorrt/utils/py_utils.cc:38] TF-TRT Warning: Could not find TensorRT\n",
      "Skipped loading modules with pytorch-lightning dependency, missing a dependency. No module named 'pytorch_lightning'\n",
      "Skipped loading some Jax models, missing a dependency. jax requires jaxlib to be installed. See https://github.com/google/jax#installation for installation instructions.\n"
     ]
    }
   ],
   "source": [
    "import pandas as pd\n",
    "from deepmol.pipeline import Pipeline"
   ],
   "metadata": {
    "collapsed": false,
    "ExecuteTime": {
     "end_time": "2023-11-08T14:37:06.641642311Z",
     "start_time": "2023-11-08T14:37:02.962782184Z"
    }
   },
   "id": "initial_id"
  },
  {
   "cell_type": "code",
   "execution_count": 2,
   "outputs": [
    {
     "data": {
      "text/plain": "    trial_id   mean    std\n0          0  0.532  0.000\n1          1  0.521  0.026\n2          2  0.500  0.000\n3          5  0.500  0.000\n4          6  0.500  0.000\n..       ...    ...    ...\n60        95  0.504  0.015\n61        96  0.535  0.019\n62        97  0.632  0.020\n63        98  0.534  0.035\n64        99  0.527  0.030\n\n[65 rows x 3 columns]",
      "text/html": "<div>\n<style scoped>\n    .dataframe tbody tr th:only-of-type {\n        vertical-align: middle;\n    }\n\n    .dataframe tbody tr th {\n        vertical-align: top;\n    }\n\n    .dataframe thead th {\n        text-align: right;\n    }\n</style>\n<table border=\"1\" class=\"dataframe\">\n  <thead>\n    <tr style=\"text-align: right;\">\n      <th></th>\n      <th>trial_id</th>\n      <th>mean</th>\n      <th>std</th>\n    </tr>\n  </thead>\n  <tbody>\n    <tr>\n      <th>0</th>\n      <td>0</td>\n      <td>0.532</td>\n      <td>0.000</td>\n    </tr>\n    <tr>\n      <th>1</th>\n      <td>1</td>\n      <td>0.521</td>\n      <td>0.026</td>\n    </tr>\n    <tr>\n      <th>2</th>\n      <td>2</td>\n      <td>0.500</td>\n      <td>0.000</td>\n    </tr>\n    <tr>\n      <th>3</th>\n      <td>5</td>\n      <td>0.500</td>\n      <td>0.000</td>\n    </tr>\n    <tr>\n      <th>4</th>\n      <td>6</td>\n      <td>0.500</td>\n      <td>0.000</td>\n    </tr>\n    <tr>\n      <th>...</th>\n      <td>...</td>\n      <td>...</td>\n      <td>...</td>\n    </tr>\n    <tr>\n      <th>60</th>\n      <td>95</td>\n      <td>0.504</td>\n      <td>0.015</td>\n    </tr>\n    <tr>\n      <th>61</th>\n      <td>96</td>\n      <td>0.535</td>\n      <td>0.019</td>\n    </tr>\n    <tr>\n      <th>62</th>\n      <td>97</td>\n      <td>0.632</td>\n      <td>0.020</td>\n    </tr>\n    <tr>\n      <th>63</th>\n      <td>98</td>\n      <td>0.534</td>\n      <td>0.035</td>\n    </tr>\n    <tr>\n      <th>64</th>\n      <td>99</td>\n      <td>0.527</td>\n      <td>0.030</td>\n    </tr>\n  </tbody>\n</table>\n<p>65 rows × 3 columns</p>\n</div>"
     },
     "execution_count": 2,
     "metadata": {},
     "output_type": "execute_result"
    }
   ],
   "source": [
    "# read results\n",
    "results = pd.read_csv('bioavailability/tdc_test_set_results.txt', sep=',', header=None, dtype={0: int, 1: float, 2: float})\n",
    "# set columns\n",
    "results.columns = ['trial_id', 'mean', 'std']\n",
    "results\n",
    "# order res"
   ],
   "metadata": {
    "collapsed": false,
    "ExecuteTime": {
     "end_time": "2023-11-08T14:37:11.621388934Z",
     "start_time": "2023-11-08T14:37:11.608588493Z"
    }
   },
   "id": "6753179565f6d258"
  },
  {
   "cell_type": "code",
   "execution_count": 3,
   "outputs": [
    {
     "data": {
      "text/plain": "    trial_id   mean    std\n7         11  0.645  0.016\n6         10  0.634  0.020\n62        97  0.632  0.020\n44        70  0.608  0.035\n10        14  0.594  0.026\n..       ...    ...    ...\n18        30  0.500  0.000\n43        69  0.500  0.000\n16        25  0.499  0.013\n17        28  0.494  0.033\n30        46  0.491  0.015\n\n[65 rows x 3 columns]",
      "text/html": "<div>\n<style scoped>\n    .dataframe tbody tr th:only-of-type {\n        vertical-align: middle;\n    }\n\n    .dataframe tbody tr th {\n        vertical-align: top;\n    }\n\n    .dataframe thead th {\n        text-align: right;\n    }\n</style>\n<table border=\"1\" class=\"dataframe\">\n  <thead>\n    <tr style=\"text-align: right;\">\n      <th></th>\n      <th>trial_id</th>\n      <th>mean</th>\n      <th>std</th>\n    </tr>\n  </thead>\n  <tbody>\n    <tr>\n      <th>7</th>\n      <td>11</td>\n      <td>0.645</td>\n      <td>0.016</td>\n    </tr>\n    <tr>\n      <th>6</th>\n      <td>10</td>\n      <td>0.634</td>\n      <td>0.020</td>\n    </tr>\n    <tr>\n      <th>62</th>\n      <td>97</td>\n      <td>0.632</td>\n      <td>0.020</td>\n    </tr>\n    <tr>\n      <th>44</th>\n      <td>70</td>\n      <td>0.608</td>\n      <td>0.035</td>\n    </tr>\n    <tr>\n      <th>10</th>\n      <td>14</td>\n      <td>0.594</td>\n      <td>0.026</td>\n    </tr>\n    <tr>\n      <th>...</th>\n      <td>...</td>\n      <td>...</td>\n      <td>...</td>\n    </tr>\n    <tr>\n      <th>18</th>\n      <td>30</td>\n      <td>0.500</td>\n      <td>0.000</td>\n    </tr>\n    <tr>\n      <th>43</th>\n      <td>69</td>\n      <td>0.500</td>\n      <td>0.000</td>\n    </tr>\n    <tr>\n      <th>16</th>\n      <td>25</td>\n      <td>0.499</td>\n      <td>0.013</td>\n    </tr>\n    <tr>\n      <th>17</th>\n      <td>28</td>\n      <td>0.494</td>\n      <td>0.033</td>\n    </tr>\n    <tr>\n      <th>30</th>\n      <td>46</td>\n      <td>0.491</td>\n      <td>0.015</td>\n    </tr>\n  </tbody>\n</table>\n<p>65 rows × 3 columns</p>\n</div>"
     },
     "execution_count": 3,
     "metadata": {},
     "output_type": "execute_result"
    }
   ],
   "source": [
    "# order results by mean (std in case of tie)\n",
    "results = results.sort_values(by=['mean', 'std'], ascending=False)\n",
    "results"
   ],
   "metadata": {
    "collapsed": false,
    "ExecuteTime": {
     "end_time": "2023-11-08T14:37:15.754619981Z",
     "start_time": "2023-11-08T14:37:15.752630654Z"
    }
   },
   "id": "c418a24aeebde864"
  },
  {
   "cell_type": "code",
   "execution_count": 14,
   "outputs": [
    {
     "name": "stderr",
     "output_type": "stream",
     "text": [
      "[14:18:31] Initializing Normalizer\n"
     ]
    },
    {
     "ename": "FileNotFoundError",
     "evalue": "[Errno 2] No such file or directory: '/tmp/tmpw20t292e/model.pkl'",
     "output_type": "error",
     "traceback": [
      "\u001B[0;31m---------------------------------------------------------------------------\u001B[0m",
      "\u001B[0;31mFileNotFoundError\u001B[0m                         Traceback (most recent call last)",
      "Cell \u001B[0;32mIn[14], line 3\u001B[0m\n\u001B[1;32m      1\u001B[0m \u001B[38;5;66;03m# load best trial pipeline\u001B[39;00m\n\u001B[1;32m      2\u001B[0m best_trial_id \u001B[38;5;241m=\u001B[39m \u001B[38;5;28mint\u001B[39m(results\u001B[38;5;241m.\u001B[39miloc[\u001B[38;5;241m0\u001B[39m][\u001B[38;5;124m'\u001B[39m\u001B[38;5;124mtrial_id\u001B[39m\u001B[38;5;124m'\u001B[39m])\n\u001B[0;32m----> 3\u001B[0m pipeline \u001B[38;5;241m=\u001B[39m \u001B[43mPipeline\u001B[49m\u001B[38;5;241;43m.\u001B[39;49m\u001B[43mload\u001B[49m\u001B[43m(\u001B[49m\u001B[38;5;124;43mf\u001B[39;49m\u001B[38;5;124;43m\"\u001B[39;49m\u001B[38;5;124;43mbbb/trial_\u001B[39;49m\u001B[38;5;132;43;01m{\u001B[39;49;00m\u001B[43mbest_trial_id\u001B[49m\u001B[38;5;132;43;01m}\u001B[39;49;00m\u001B[38;5;124;43m/\u001B[39;49m\u001B[38;5;124;43m\"\u001B[39;49m\u001B[43m)\u001B[49m\n",
      "File \u001B[0;32m~/anaconda3/envs/deepmol_case_studies/lib/python3.10/site-packages/deepmol/pipeline/pipeline.py:340\u001B[0m, in \u001B[0;36mPipeline.load\u001B[0;34m(cls, path)\u001B[0m\n\u001B[1;32m    338\u001B[0m     steps\u001B[38;5;241m.\u001B[39mappend((step_name, transformer))\n\u001B[1;32m    339\u001B[0m \u001B[38;5;28;01melif\u001B[39;00m step[\u001B[38;5;124m'\u001B[39m\u001B[38;5;124mtype\u001B[39m\u001B[38;5;124m'\u001B[39m] \u001B[38;5;241m==\u001B[39m \u001B[38;5;124m'\u001B[39m\u001B[38;5;124mpredictor\u001B[39m\u001B[38;5;124m'\u001B[39m:\n\u001B[0;32m--> 340\u001B[0m     predictor \u001B[38;5;241m=\u001B[39m \u001B[43m_get_predictor_instance\u001B[49m\u001B[43m(\u001B[49m\u001B[43mstep\u001B[49m\u001B[43m[\u001B[49m\u001B[38;5;124;43m'\u001B[39;49m\u001B[38;5;124;43mmodel_type\u001B[39;49m\u001B[38;5;124;43m'\u001B[39;49m\u001B[43m]\u001B[49m\u001B[43m)\u001B[49m\u001B[38;5;241;43m.\u001B[39;49m\u001B[43mload\u001B[49m\u001B[43m(\u001B[49m\u001B[43mstep_path\u001B[49m\u001B[43m)\u001B[49m\n\u001B[1;32m    341\u001B[0m     predictor\u001B[38;5;241m.\u001B[39m_is_fitted \u001B[38;5;241m=\u001B[39m step_is_fitted\n\u001B[1;32m    342\u001B[0m     steps\u001B[38;5;241m.\u001B[39mappend((step_name, predictor))\n",
      "File \u001B[0;32m~/anaconda3/envs/deepmol_case_studies/lib/python3.10/site-packages/deepmol/models/sklearn_models.py:192\u001B[0m, in \u001B[0;36mSklearnModel.load\u001B[0;34m(cls, folder_path, **kwargs)\u001B[0m\n\u001B[1;32m    177\u001B[0m \u001B[38;5;250m\u001B[39m\u001B[38;5;124;03m\"\"\"\u001B[39;00m\n\u001B[1;32m    178\u001B[0m \u001B[38;5;124;03mLoads scikit-learn model from joblib or pickle file on disk.\u001B[39;00m\n\u001B[1;32m    179\u001B[0m \u001B[38;5;124;03mSupported extensions: .joblib, .pkl\u001B[39;00m\n\u001B[0;32m   (...)\u001B[0m\n\u001B[1;32m    189\u001B[0m \u001B[38;5;124;03m    The loaded scikit-learn model.\u001B[39;00m\n\u001B[1;32m    190\u001B[0m \u001B[38;5;124;03m\"\"\"\u001B[39;00m\n\u001B[1;32m    191\u001B[0m model_path \u001B[38;5;241m=\u001B[39m \u001B[38;5;28mcls\u001B[39m\u001B[38;5;241m.\u001B[39mget_model_filename(folder_path)\n\u001B[0;32m--> 192\u001B[0m model \u001B[38;5;241m=\u001B[39m \u001B[43mload_from_disk\u001B[49m\u001B[43m(\u001B[49m\u001B[43mmodel_path\u001B[49m\u001B[43m)\u001B[49m\n\u001B[1;32m    193\u001B[0m \u001B[38;5;66;03m# change file path to keep the extension but add _params\u001B[39;00m\n\u001B[1;32m    194\u001B[0m parameters_file_path \u001B[38;5;241m=\u001B[39m \u001B[38;5;124m\"\u001B[39m\u001B[38;5;124m.\u001B[39m\u001B[38;5;124m\"\u001B[39m\u001B[38;5;241m.\u001B[39mjoin(model_path\u001B[38;5;241m.\u001B[39msplit(\u001B[38;5;124m'\u001B[39m\u001B[38;5;124m.\u001B[39m\u001B[38;5;124m'\u001B[39m)[:\u001B[38;5;241m-\u001B[39m\u001B[38;5;241m1\u001B[39m]) \u001B[38;5;241m+\u001B[39m \u001B[38;5;124m'\u001B[39m\u001B[38;5;124m_params.\u001B[39m\u001B[38;5;124m'\u001B[39m \u001B[38;5;241m+\u001B[39m model_path\u001B[38;5;241m.\u001B[39msplit(\u001B[38;5;124m'\u001B[39m\u001B[38;5;124m.\u001B[39m\u001B[38;5;124m'\u001B[39m)[\u001B[38;5;241m-\u001B[39m\u001B[38;5;241m1\u001B[39m]\n",
      "File \u001B[0;32m~/anaconda3/envs/deepmol_case_studies/lib/python3.10/site-packages/deepmol/models/_utils.py:60\u001B[0m, in \u001B[0;36mload_from_disk\u001B[0;34m(filename)\u001B[0m\n\u001B[1;32m     58\u001B[0m \u001B[38;5;28;01mif\u001B[39;00m extension \u001B[38;5;241m==\u001B[39m \u001B[38;5;124m\"\u001B[39m\u001B[38;5;124m.pkl\u001B[39m\u001B[38;5;124m\"\u001B[39m:\n\u001B[1;32m     59\u001B[0m     \u001B[38;5;28;01mtry\u001B[39;00m:\n\u001B[0;32m---> 60\u001B[0m         \u001B[38;5;28;01mreturn\u001B[39;00m \u001B[43mload_pickle_file\u001B[49m\u001B[43m(\u001B[49m\u001B[43mfilename\u001B[49m\u001B[43m)\u001B[49m\n\u001B[1;32m     61\u001B[0m     \u001B[38;5;28;01mexcept\u001B[39;00m (\u001B[38;5;167;01mTypeError\u001B[39;00m, \u001B[38;5;167;01mAttributeError\u001B[39;00m):\n\u001B[1;32m     62\u001B[0m         \u001B[38;5;28;01mwith\u001B[39;00m \u001B[38;5;28mopen\u001B[39m(filename, \u001B[38;5;124m'\u001B[39m\u001B[38;5;124mrb\u001B[39m\u001B[38;5;124m'\u001B[39m) \u001B[38;5;28;01mas\u001B[39;00m f:\n",
      "File \u001B[0;32m~/anaconda3/envs/deepmol_case_studies/lib/python3.10/site-packages/deepmol/utils/utils.py:115\u001B[0m, in \u001B[0;36mload_pickle_file\u001B[0;34m(input_file)\u001B[0m\n\u001B[1;32m    113\u001B[0m         \u001B[38;5;28;01mreturn\u001B[39;00m pickle\u001B[38;5;241m.\u001B[39mload(cast(IO[\u001B[38;5;28mbytes\u001B[39m], unzipped_file))\n\u001B[1;32m    114\u001B[0m \u001B[38;5;28;01melse\u001B[39;00m:\n\u001B[0;32m--> 115\u001B[0m     \u001B[38;5;28;01mwith\u001B[39;00m \u001B[38;5;28;43mopen\u001B[39;49m\u001B[43m(\u001B[49m\u001B[43minput_file\u001B[49m\u001B[43m,\u001B[49m\u001B[43m \u001B[49m\u001B[38;5;124;43m\"\u001B[39;49m\u001B[38;5;124;43mrb\u001B[39;49m\u001B[38;5;124;43m\"\u001B[39;49m\u001B[43m)\u001B[49m \u001B[38;5;28;01mas\u001B[39;00m opened_file:\n\u001B[1;32m    116\u001B[0m         \u001B[38;5;28;01mreturn\u001B[39;00m pickle\u001B[38;5;241m.\u001B[39mload(opened_file)\n",
      "\u001B[0;31mFileNotFoundError\u001B[0m: [Errno 2] No such file or directory: '/tmp/tmpw20t292e/model.pkl'"
     ]
    }
   ],
   "source": [
    "# load best trial pipeline (rank #8)\n",
    "best_trial_id = int(results.iloc[0]['trial_id'])\n",
    "pipeline = Pipeline.load(f\"bioavailability/trial_{best_trial_id}/\")"
   ],
   "metadata": {
    "collapsed": false,
    "ExecuteTime": {
     "end_time": "2023-11-08T14:18:31.822900669Z",
     "start_time": "2023-11-08T14:18:31.171934675Z"
    }
   },
   "id": "90e40046d6b150ce"
  },
  {
   "cell_type": "code",
   "execution_count": null,
   "outputs": [],
   "source": [],
   "metadata": {
    "collapsed": false
   },
   "id": "aca45806698765d8"
  }
 ],
 "metadata": {
  "kernelspec": {
   "display_name": "Python 3",
   "language": "python",
   "name": "python3"
  },
  "language_info": {
   "codemirror_mode": {
    "name": "ipython",
    "version": 2
   },
   "file_extension": ".py",
   "mimetype": "text/x-python",
   "name": "python",
   "nbconvert_exporter": "python",
   "pygments_lexer": "ipython2",
   "version": "2.7.6"
  }
 },
 "nbformat": 4,
 "nbformat_minor": 5
}
