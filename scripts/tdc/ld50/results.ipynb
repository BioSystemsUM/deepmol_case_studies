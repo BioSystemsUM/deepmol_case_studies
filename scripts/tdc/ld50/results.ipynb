{
 "cells": [
  {
   "cell_type": "markdown",
   "id": "86a59e63e6143206",
   "metadata": {
    "collapsed": false
   },
   "source": [
    "# Acute Toxicity LD50\n",
    "\n",
    "### Dataset Description: Acute toxicity LD50 measures the most conservative dose that can lead to lethal adverse effects. The higher the dose, the more lethal of a drug. This dataset is kindly provided by the authors of [1].\n",
    "\n",
    "### Task Description: Regression. Given a drug SMILES string, predict its acute toxicity.\n",
    "\n",
    "### Dataset Statistics: 7,385 drugs.\n",
    "\n",
    "### Metric: MAE\n",
    "\n",
    "## Leaderboard\n",
    "\n",
    "\n",
    "\n",
    "| Rank | Model                         | Contact           | Link               | #Params    | MAE             |\n",
    "|------|-------------------------------|-------------------|---------------------|------------|-----------------|\n",
    "| 1    | BaseBoosting KyQVZ6b2         | David Huang       | GitHub, Paper      | N/A        | 0.552 ± 0.009   |\n",
    "| 2    | MACCS keys + autoML           | Alexander Scarlat | GitHub, Paper      | N/A        | 0.588 ± 0.005   |\n",
    "| 3    | Chemprop                      | Kyle Swanson      | GitHub, Paper      | N/A        | 0.606 ± 0.024   |\n",
    "| 4    | MapLight                      | Jim Notwell       | GitHub, Paper      | N/A        | 0.621 ± 0.003   |\n",
    "| 5    | QuGIN                         | Shuai Shi          | GitHub, Paper      | 1,797,506  | 0.622 ± 0.015   |\n",
    "| 6    | Chemprop-RDKit                | Kyle Swanson      | GitHub, Paper      | N/A        | 0.625 ± 0.022   |\n",
    "| 7    | MapLight + GNN                | Jim Notwell       | GitHub, Paper      | N/A        | 0.633 ± 0.003   |\n",
    "| 8    | Basic ML                      | Nilavo Boral       | GitHub, Paper      | N/A        | 0.636 ± 0.001   |\n",
    "| 9    | Euclia ML model               | Euclia            | GitHub, Paper      | 50         | 0.646 ± 0.011   |\n",
    "| 10   | GCN                           | Kexin Huang       | GitHub, Paper      | 191,810    | 0.649 ± 0.026   |\n",
    "| 11   | Morgan + MLP (DeepPurpose)    | Kexin Huang       | GitHub, Paper      | 1,477,185  | 0.649 ± 0.019   |\n",
    "| 12   | NeuralFP                      | Kexin Huang       | GitHub, Paper      | 480,193    | 0.667 ± 0.020   |\n",
    "| 13   | ContextPred                   | Kexin Huang       | GitHub, Paper      | 2,067,053  | 0.669 ± 0.030   |\n",
    "| 14   | CNN (DeepPurpose)             | Kexin Huang       | GitHub, Paper      | 226,625    | 0.675 ± 0.011   |\n",
    "| 15   | RDKit2D + MLP (DeepPurpose)   | Kexin Huang       | GitHub, Paper      | 633,409    | 0.678 ± 0.003   |\n",
    "| 16   | AttentiveFP                   | Kexin Huang       | GitHub, Paper      | 300,806    | 0.678 ± 0.012   |\n",
    "| 17   | AttrMasking                   | Kexin Huang       | GitHub, Paper      | 2,067,053  | 0.685 ± 0.025   |"
   ]
  },
  {
   "cell_type": "code",
   "execution_count": 1,
   "id": "initial_id",
   "metadata": {
    "ExecuteTime": {
     "end_time": "2023-11-08T14:37:06.641642311Z",
     "start_time": "2023-11-08T14:37:02.962782184Z"
    },
    "collapsed": false
   },
   "outputs": [
    {
     "name": "stderr",
     "output_type": "stream",
     "text": [
      "/tmp/ipykernel_2814777/3721360103.py:1: DeprecationWarning: \n",
      "Pyarrow will become a required dependency of pandas in the next major release of pandas (pandas 3.0),\n",
      "(to allow more performant data types, such as the Arrow string type, and better interoperability with other libraries)\n",
      "but was not found to be installed on your system.\n",
      "If this would cause problems for you,\n",
      "please provide us feedback at https://github.com/pandas-dev/pandas/issues/54466\n",
      "        \n",
      "  import pandas as pd\n",
      "2024-02-12 16:59:06.806369: I tensorflow/tsl/cuda/cudart_stub.cc:28] Could not find cuda drivers on your machine, GPU will not be used.\n",
      "2024-02-12 16:59:06.851569: E tensorflow/compiler/xla/stream_executor/cuda/cuda_dnn.cc:9342] Unable to register cuDNN factory: Attempting to register factory for plugin cuDNN when one has already been registered\n",
      "2024-02-12 16:59:06.851621: E tensorflow/compiler/xla/stream_executor/cuda/cuda_fft.cc:609] Unable to register cuFFT factory: Attempting to register factory for plugin cuFFT when one has already been registered\n",
      "2024-02-12 16:59:06.851660: E tensorflow/compiler/xla/stream_executor/cuda/cuda_blas.cc:1518] Unable to register cuBLAS factory: Attempting to register factory for plugin cuBLAS when one has already been registered\n",
      "2024-02-12 16:59:06.860944: I tensorflow/tsl/cuda/cudart_stub.cc:28] Could not find cuda drivers on your machine, GPU will not be used.\n",
      "2024-02-12 16:59:06.861932: I tensorflow/core/platform/cpu_feature_guard.cc:182] This TensorFlow binary is optimized to use available CPU instructions in performance-critical operations.\n",
      "To enable the following instructions: AVX2 AVX512F FMA, in other operations, rebuild TensorFlow with the appropriate compiler flags.\n",
      "2024-02-12 16:59:07.842018: W tensorflow/compiler/tf2tensorrt/utils/py_utils.cc:38] TF-TRT Warning: Could not find TensorRT\n",
      "/home/jcapela/miniforge3/envs/deepmol/lib/python3.10/site-packages/tqdm/auto.py:21: TqdmWarning: IProgress not found. Please update jupyter and ipywidgets. See https://ipywidgets.readthedocs.io/en/stable/user_install.html\n",
      "  from .autonotebook import tqdm as notebook_tqdm\n",
      "Skipped loading modules with pytorch-lightning dependency, missing a dependency. No module named 'pytorch_lightning'\n",
      "Skipped loading some Jax models, missing a dependency. No module named 'jax'\n"
     ]
    }
   ],
   "source": [
    "import pandas as pd\n",
    "from deepmol.pipeline import Pipeline"
   ]
  },
  {
   "cell_type": "code",
   "execution_count": 3,
   "id": "7499c730",
   "metadata": {},
   "outputs": [],
   "source": [
    "pipeline = Pipeline.load(\"ld50/trial_71\")"
   ]
  },
  {
   "cell_type": "code",
   "execution_count": 4,
   "id": "bc4c772f",
   "metadata": {},
   "outputs": [
    {
     "data": {
      "text/plain": [
       "[('standardizer',\n",
       "  <deepmol.standardizer.custom_standardizer.CustomStandardizer at 0x7f0e387b2aa0>),\n",
       " ('featurizer',\n",
       "  <deepmol.compound_featurization.rdkit_fingerprints.LayeredFingerprint at 0x7f0e387b2ef0>),\n",
       " ('scaler',\n",
       "  <deepmol.base.transformer.PassThroughTransformer at 0x7eec409b3a60>),\n",
       " ('feature_selector',\n",
       "  <deepmol.feature_selection.base_feature_selector.PercentilFS at 0x7eec409b3640>),\n",
       " ('model',\n",
       "  SklearnModel(model=VotingRegressor(estimators=[('lr', LinearRegression()),\n",
       "                                                 ('svr', SVR()),\n",
       "                                                 ('rfr', RandomForestRegressor()),\n",
       "                                                 ('gbr',\n",
       "                                                  GradientBoostingRegressor()),\n",
       "                                                 ('mlpr', MLPRegressor())],\n",
       "                                     weights=[0.0003242488996986417,\n",
       "                                              0.31322537497355585,\n",
       "                                              0.3827085115773183,\n",
       "                                              0.2070650424422957,\n",
       "                                              0.09667682210713148]),\n",
       "               model_dir='ld50/trial_71/model/model.pkl'))]"
      ]
     },
     "execution_count": 4,
     "metadata": {},
     "output_type": "execute_result"
    }
   ],
   "source": [
    "pipeline.steps"
   ]
  },
  {
   "cell_type": "code",
   "execution_count": 2,
   "id": "6753179565f6d258",
   "metadata": {
    "ExecuteTime": {
     "end_time": "2023-11-08T14:37:11.621388934Z",
     "start_time": "2023-11-08T14:37:11.608588493Z"
    },
    "collapsed": false
   },
   "outputs": [
    {
     "data": {
      "text/html": [
       "<div>\n",
       "<style scoped>\n",
       "    .dataframe tbody tr th:only-of-type {\n",
       "        vertical-align: middle;\n",
       "    }\n",
       "\n",
       "    .dataframe tbody tr th {\n",
       "        vertical-align: top;\n",
       "    }\n",
       "\n",
       "    .dataframe thead th {\n",
       "        text-align: right;\n",
       "    }\n",
       "</style>\n",
       "<table border=\"1\" class=\"dataframe\">\n",
       "  <thead>\n",
       "    <tr style=\"text-align: right;\">\n",
       "      <th></th>\n",
       "      <th>trial_id</th>\n",
       "      <th>mean</th>\n",
       "      <th>std</th>\n",
       "    </tr>\n",
       "  </thead>\n",
       "  <tbody>\n",
       "    <tr>\n",
       "      <th>0</th>\n",
       "      <td>0</td>\n",
       "      <td>0.532</td>\n",
       "      <td>0.000</td>\n",
       "    </tr>\n",
       "    <tr>\n",
       "      <th>1</th>\n",
       "      <td>1</td>\n",
       "      <td>0.521</td>\n",
       "      <td>0.026</td>\n",
       "    </tr>\n",
       "    <tr>\n",
       "      <th>2</th>\n",
       "      <td>2</td>\n",
       "      <td>0.500</td>\n",
       "      <td>0.000</td>\n",
       "    </tr>\n",
       "    <tr>\n",
       "      <th>3</th>\n",
       "      <td>5</td>\n",
       "      <td>0.500</td>\n",
       "      <td>0.000</td>\n",
       "    </tr>\n",
       "    <tr>\n",
       "      <th>4</th>\n",
       "      <td>6</td>\n",
       "      <td>0.500</td>\n",
       "      <td>0.000</td>\n",
       "    </tr>\n",
       "    <tr>\n",
       "      <th>...</th>\n",
       "      <td>...</td>\n",
       "      <td>...</td>\n",
       "      <td>...</td>\n",
       "    </tr>\n",
       "    <tr>\n",
       "      <th>60</th>\n",
       "      <td>95</td>\n",
       "      <td>0.504</td>\n",
       "      <td>0.015</td>\n",
       "    </tr>\n",
       "    <tr>\n",
       "      <th>61</th>\n",
       "      <td>96</td>\n",
       "      <td>0.535</td>\n",
       "      <td>0.019</td>\n",
       "    </tr>\n",
       "    <tr>\n",
       "      <th>62</th>\n",
       "      <td>97</td>\n",
       "      <td>0.632</td>\n",
       "      <td>0.020</td>\n",
       "    </tr>\n",
       "    <tr>\n",
       "      <th>63</th>\n",
       "      <td>98</td>\n",
       "      <td>0.534</td>\n",
       "      <td>0.035</td>\n",
       "    </tr>\n",
       "    <tr>\n",
       "      <th>64</th>\n",
       "      <td>99</td>\n",
       "      <td>0.527</td>\n",
       "      <td>0.030</td>\n",
       "    </tr>\n",
       "  </tbody>\n",
       "</table>\n",
       "<p>65 rows × 3 columns</p>\n",
       "</div>"
      ],
      "text/plain": [
       "    trial_id   mean    std\n",
       "0          0  0.532  0.000\n",
       "1          1  0.521  0.026\n",
       "2          2  0.500  0.000\n",
       "3          5  0.500  0.000\n",
       "4          6  0.500  0.000\n",
       "..       ...    ...    ...\n",
       "60        95  0.504  0.015\n",
       "61        96  0.535  0.019\n",
       "62        97  0.632  0.020\n",
       "63        98  0.534  0.035\n",
       "64        99  0.527  0.030\n",
       "\n",
       "[65 rows x 3 columns]"
      ]
     },
     "execution_count": 2,
     "metadata": {},
     "output_type": "execute_result"
    }
   ],
   "source": [
    "# read results\n",
    "results = pd.read_csv('bioavailability/tdc_test_set_results.txt', sep=',', header=None, dtype={0: int, 1: float, 2: float})\n",
    "# set columns\n",
    "results.columns = ['trial_id', 'mean', 'std']\n",
    "results\n",
    "# order res"
   ]
  },
  {
   "cell_type": "code",
   "execution_count": 3,
   "id": "c418a24aeebde864",
   "metadata": {
    "ExecuteTime": {
     "end_time": "2023-11-08T14:37:15.754619981Z",
     "start_time": "2023-11-08T14:37:15.752630654Z"
    },
    "collapsed": false
   },
   "outputs": [
    {
     "data": {
      "text/html": [
       "<div>\n",
       "<style scoped>\n",
       "    .dataframe tbody tr th:only-of-type {\n",
       "        vertical-align: middle;\n",
       "    }\n",
       "\n",
       "    .dataframe tbody tr th {\n",
       "        vertical-align: top;\n",
       "    }\n",
       "\n",
       "    .dataframe thead th {\n",
       "        text-align: right;\n",
       "    }\n",
       "</style>\n",
       "<table border=\"1\" class=\"dataframe\">\n",
       "  <thead>\n",
       "    <tr style=\"text-align: right;\">\n",
       "      <th></th>\n",
       "      <th>trial_id</th>\n",
       "      <th>mean</th>\n",
       "      <th>std</th>\n",
       "    </tr>\n",
       "  </thead>\n",
       "  <tbody>\n",
       "    <tr>\n",
       "      <th>7</th>\n",
       "      <td>11</td>\n",
       "      <td>0.645</td>\n",
       "      <td>0.016</td>\n",
       "    </tr>\n",
       "    <tr>\n",
       "      <th>6</th>\n",
       "      <td>10</td>\n",
       "      <td>0.634</td>\n",
       "      <td>0.020</td>\n",
       "    </tr>\n",
       "    <tr>\n",
       "      <th>62</th>\n",
       "      <td>97</td>\n",
       "      <td>0.632</td>\n",
       "      <td>0.020</td>\n",
       "    </tr>\n",
       "    <tr>\n",
       "      <th>44</th>\n",
       "      <td>70</td>\n",
       "      <td>0.608</td>\n",
       "      <td>0.035</td>\n",
       "    </tr>\n",
       "    <tr>\n",
       "      <th>10</th>\n",
       "      <td>14</td>\n",
       "      <td>0.594</td>\n",
       "      <td>0.026</td>\n",
       "    </tr>\n",
       "    <tr>\n",
       "      <th>...</th>\n",
       "      <td>...</td>\n",
       "      <td>...</td>\n",
       "      <td>...</td>\n",
       "    </tr>\n",
       "    <tr>\n",
       "      <th>18</th>\n",
       "      <td>30</td>\n",
       "      <td>0.500</td>\n",
       "      <td>0.000</td>\n",
       "    </tr>\n",
       "    <tr>\n",
       "      <th>43</th>\n",
       "      <td>69</td>\n",
       "      <td>0.500</td>\n",
       "      <td>0.000</td>\n",
       "    </tr>\n",
       "    <tr>\n",
       "      <th>16</th>\n",
       "      <td>25</td>\n",
       "      <td>0.499</td>\n",
       "      <td>0.013</td>\n",
       "    </tr>\n",
       "    <tr>\n",
       "      <th>17</th>\n",
       "      <td>28</td>\n",
       "      <td>0.494</td>\n",
       "      <td>0.033</td>\n",
       "    </tr>\n",
       "    <tr>\n",
       "      <th>30</th>\n",
       "      <td>46</td>\n",
       "      <td>0.491</td>\n",
       "      <td>0.015</td>\n",
       "    </tr>\n",
       "  </tbody>\n",
       "</table>\n",
       "<p>65 rows × 3 columns</p>\n",
       "</div>"
      ],
      "text/plain": [
       "    trial_id   mean    std\n",
       "7         11  0.645  0.016\n",
       "6         10  0.634  0.020\n",
       "62        97  0.632  0.020\n",
       "44        70  0.608  0.035\n",
       "10        14  0.594  0.026\n",
       "..       ...    ...    ...\n",
       "18        30  0.500  0.000\n",
       "43        69  0.500  0.000\n",
       "16        25  0.499  0.013\n",
       "17        28  0.494  0.033\n",
       "30        46  0.491  0.015\n",
       "\n",
       "[65 rows x 3 columns]"
      ]
     },
     "execution_count": 3,
     "metadata": {},
     "output_type": "execute_result"
    }
   ],
   "source": [
    "# order results by mean (std in case of tie)\n",
    "results = results.sort_values(by=['mean', 'std'], ascending=False)\n",
    "results"
   ]
  },
  {
   "cell_type": "code",
   "execution_count": 14,
   "id": "90e40046d6b150ce",
   "metadata": {
    "ExecuteTime": {
     "end_time": "2023-11-08T14:18:31.822900669Z",
     "start_time": "2023-11-08T14:18:31.171934675Z"
    },
    "collapsed": false
   },
   "outputs": [
    {
     "name": "stderr",
     "output_type": "stream",
     "text": [
      "[14:18:31] Initializing Normalizer\n"
     ]
    },
    {
     "ename": "FileNotFoundError",
     "evalue": "[Errno 2] No such file or directory: '/tmp/tmpw20t292e/model.pkl'",
     "output_type": "error",
     "traceback": [
      "\u001b[0;31m---------------------------------------------------------------------------\u001b[0m",
      "\u001b[0;31mFileNotFoundError\u001b[0m                         Traceback (most recent call last)",
      "Cell \u001b[0;32mIn[14], line 3\u001b[0m\n\u001b[1;32m      1\u001b[0m \u001b[38;5;66;03m# load best trial pipeline\u001b[39;00m\n\u001b[1;32m      2\u001b[0m best_trial_id \u001b[38;5;241m=\u001b[39m \u001b[38;5;28mint\u001b[39m(results\u001b[38;5;241m.\u001b[39miloc[\u001b[38;5;241m0\u001b[39m][\u001b[38;5;124m'\u001b[39m\u001b[38;5;124mtrial_id\u001b[39m\u001b[38;5;124m'\u001b[39m])\n\u001b[0;32m----> 3\u001b[0m pipeline \u001b[38;5;241m=\u001b[39m \u001b[43mPipeline\u001b[49m\u001b[38;5;241;43m.\u001b[39;49m\u001b[43mload\u001b[49m\u001b[43m(\u001b[49m\u001b[38;5;124;43mf\u001b[39;49m\u001b[38;5;124;43m\"\u001b[39;49m\u001b[38;5;124;43mbbb/trial_\u001b[39;49m\u001b[38;5;132;43;01m{\u001b[39;49;00m\u001b[43mbest_trial_id\u001b[49m\u001b[38;5;132;43;01m}\u001b[39;49;00m\u001b[38;5;124;43m/\u001b[39;49m\u001b[38;5;124;43m\"\u001b[39;49m\u001b[43m)\u001b[49m\n",
      "File \u001b[0;32m~/anaconda3/envs/deepmol_case_studies/lib/python3.10/site-packages/deepmol/pipeline/pipeline.py:340\u001b[0m, in \u001b[0;36mPipeline.load\u001b[0;34m(cls, path)\u001b[0m\n\u001b[1;32m    338\u001b[0m     steps\u001b[38;5;241m.\u001b[39mappend((step_name, transformer))\n\u001b[1;32m    339\u001b[0m \u001b[38;5;28;01melif\u001b[39;00m step[\u001b[38;5;124m'\u001b[39m\u001b[38;5;124mtype\u001b[39m\u001b[38;5;124m'\u001b[39m] \u001b[38;5;241m==\u001b[39m \u001b[38;5;124m'\u001b[39m\u001b[38;5;124mpredictor\u001b[39m\u001b[38;5;124m'\u001b[39m:\n\u001b[0;32m--> 340\u001b[0m     predictor \u001b[38;5;241m=\u001b[39m \u001b[43m_get_predictor_instance\u001b[49m\u001b[43m(\u001b[49m\u001b[43mstep\u001b[49m\u001b[43m[\u001b[49m\u001b[38;5;124;43m'\u001b[39;49m\u001b[38;5;124;43mmodel_type\u001b[39;49m\u001b[38;5;124;43m'\u001b[39;49m\u001b[43m]\u001b[49m\u001b[43m)\u001b[49m\u001b[38;5;241;43m.\u001b[39;49m\u001b[43mload\u001b[49m\u001b[43m(\u001b[49m\u001b[43mstep_path\u001b[49m\u001b[43m)\u001b[49m\n\u001b[1;32m    341\u001b[0m     predictor\u001b[38;5;241m.\u001b[39m_is_fitted \u001b[38;5;241m=\u001b[39m step_is_fitted\n\u001b[1;32m    342\u001b[0m     steps\u001b[38;5;241m.\u001b[39mappend((step_name, predictor))\n",
      "File \u001b[0;32m~/anaconda3/envs/deepmol_case_studies/lib/python3.10/site-packages/deepmol/models/sklearn_models.py:192\u001b[0m, in \u001b[0;36mSklearnModel.load\u001b[0;34m(cls, folder_path, **kwargs)\u001b[0m\n\u001b[1;32m    177\u001b[0m \u001b[38;5;250m\u001b[39m\u001b[38;5;124;03m\"\"\"\u001b[39;00m\n\u001b[1;32m    178\u001b[0m \u001b[38;5;124;03mLoads scikit-learn model from joblib or pickle file on disk.\u001b[39;00m\n\u001b[1;32m    179\u001b[0m \u001b[38;5;124;03mSupported extensions: .joblib, .pkl\u001b[39;00m\n\u001b[0;32m   (...)\u001b[0m\n\u001b[1;32m    189\u001b[0m \u001b[38;5;124;03m    The loaded scikit-learn model.\u001b[39;00m\n\u001b[1;32m    190\u001b[0m \u001b[38;5;124;03m\"\"\"\u001b[39;00m\n\u001b[1;32m    191\u001b[0m model_path \u001b[38;5;241m=\u001b[39m \u001b[38;5;28mcls\u001b[39m\u001b[38;5;241m.\u001b[39mget_model_filename(folder_path)\n\u001b[0;32m--> 192\u001b[0m model \u001b[38;5;241m=\u001b[39m \u001b[43mload_from_disk\u001b[49m\u001b[43m(\u001b[49m\u001b[43mmodel_path\u001b[49m\u001b[43m)\u001b[49m\n\u001b[1;32m    193\u001b[0m \u001b[38;5;66;03m# change file path to keep the extension but add _params\u001b[39;00m\n\u001b[1;32m    194\u001b[0m parameters_file_path \u001b[38;5;241m=\u001b[39m \u001b[38;5;124m\"\u001b[39m\u001b[38;5;124m.\u001b[39m\u001b[38;5;124m\"\u001b[39m\u001b[38;5;241m.\u001b[39mjoin(model_path\u001b[38;5;241m.\u001b[39msplit(\u001b[38;5;124m'\u001b[39m\u001b[38;5;124m.\u001b[39m\u001b[38;5;124m'\u001b[39m)[:\u001b[38;5;241m-\u001b[39m\u001b[38;5;241m1\u001b[39m]) \u001b[38;5;241m+\u001b[39m \u001b[38;5;124m'\u001b[39m\u001b[38;5;124m_params.\u001b[39m\u001b[38;5;124m'\u001b[39m \u001b[38;5;241m+\u001b[39m model_path\u001b[38;5;241m.\u001b[39msplit(\u001b[38;5;124m'\u001b[39m\u001b[38;5;124m.\u001b[39m\u001b[38;5;124m'\u001b[39m)[\u001b[38;5;241m-\u001b[39m\u001b[38;5;241m1\u001b[39m]\n",
      "File \u001b[0;32m~/anaconda3/envs/deepmol_case_studies/lib/python3.10/site-packages/deepmol/models/_utils.py:60\u001b[0m, in \u001b[0;36mload_from_disk\u001b[0;34m(filename)\u001b[0m\n\u001b[1;32m     58\u001b[0m \u001b[38;5;28;01mif\u001b[39;00m extension \u001b[38;5;241m==\u001b[39m \u001b[38;5;124m\"\u001b[39m\u001b[38;5;124m.pkl\u001b[39m\u001b[38;5;124m\"\u001b[39m:\n\u001b[1;32m     59\u001b[0m     \u001b[38;5;28;01mtry\u001b[39;00m:\n\u001b[0;32m---> 60\u001b[0m         \u001b[38;5;28;01mreturn\u001b[39;00m \u001b[43mload_pickle_file\u001b[49m\u001b[43m(\u001b[49m\u001b[43mfilename\u001b[49m\u001b[43m)\u001b[49m\n\u001b[1;32m     61\u001b[0m     \u001b[38;5;28;01mexcept\u001b[39;00m (\u001b[38;5;167;01mTypeError\u001b[39;00m, \u001b[38;5;167;01mAttributeError\u001b[39;00m):\n\u001b[1;32m     62\u001b[0m         \u001b[38;5;28;01mwith\u001b[39;00m \u001b[38;5;28mopen\u001b[39m(filename, \u001b[38;5;124m'\u001b[39m\u001b[38;5;124mrb\u001b[39m\u001b[38;5;124m'\u001b[39m) \u001b[38;5;28;01mas\u001b[39;00m f:\n",
      "File \u001b[0;32m~/anaconda3/envs/deepmol_case_studies/lib/python3.10/site-packages/deepmol/utils/utils.py:115\u001b[0m, in \u001b[0;36mload_pickle_file\u001b[0;34m(input_file)\u001b[0m\n\u001b[1;32m    113\u001b[0m         \u001b[38;5;28;01mreturn\u001b[39;00m pickle\u001b[38;5;241m.\u001b[39mload(cast(IO[\u001b[38;5;28mbytes\u001b[39m], unzipped_file))\n\u001b[1;32m    114\u001b[0m \u001b[38;5;28;01melse\u001b[39;00m:\n\u001b[0;32m--> 115\u001b[0m     \u001b[38;5;28;01mwith\u001b[39;00m \u001b[38;5;28;43mopen\u001b[39;49m\u001b[43m(\u001b[49m\u001b[43minput_file\u001b[49m\u001b[43m,\u001b[49m\u001b[43m \u001b[49m\u001b[38;5;124;43m\"\u001b[39;49m\u001b[38;5;124;43mrb\u001b[39;49m\u001b[38;5;124;43m\"\u001b[39;49m\u001b[43m)\u001b[49m \u001b[38;5;28;01mas\u001b[39;00m opened_file:\n\u001b[1;32m    116\u001b[0m         \u001b[38;5;28;01mreturn\u001b[39;00m pickle\u001b[38;5;241m.\u001b[39mload(opened_file)\n",
      "\u001b[0;31mFileNotFoundError\u001b[0m: [Errno 2] No such file or directory: '/tmp/tmpw20t292e/model.pkl'"
     ]
    }
   ],
   "source": [
    "# load best trial pipeline (rank #8)\n",
    "best_trial_id = int(results.iloc[0]['trial_id'])\n",
    "pipeline = Pipeline.load(f\"bioavailability/trial_{best_trial_id}/\")"
   ]
  },
  {
   "cell_type": "code",
   "execution_count": null,
   "id": "aca45806698765d8",
   "metadata": {
    "collapsed": false
   },
   "outputs": [],
   "source": []
  }
 ],
 "metadata": {
  "kernelspec": {
   "display_name": "Python 3",
   "language": "python",
   "name": "python3"
  },
  "language_info": {
   "codemirror_mode": {
    "name": "ipython",
    "version": 3
   },
   "file_extension": ".py",
   "mimetype": "text/x-python",
   "name": "python",
   "nbconvert_exporter": "python",
   "pygments_lexer": "ipython3",
   "version": "3.10.13"
  }
 },
 "nbformat": 4,
 "nbformat_minor": 5
}
