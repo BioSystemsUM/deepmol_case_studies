{
 "cells": [
  {
   "cell_type": "markdown",
   "source": [
    "# Bioavailability, Ma et al.\n",
    "\n",
    "### Dataset Description: Oral bioavailability is defined as “the rate and extent to which the active ingredient or active moiety is absorbed from a drug product and becomes available at the site of action”.\n",
    "\n",
    "### Task Description: Binary classification. Given a drug SMILES string, predict the activity of bioavailability.\n",
    "\n",
    "### Dataset Statistics: 640 drugs.\n",
    "\n",
    "### Metric: AUROC\n",
    "\n",
    "## Leaderboard\n",
    "\n",
    "| Rank | Model                       | Contact           | Link          | #Params   | AUROC         |\n",
    "|------|-----------------------------|-------------------|---------------|-----------|---------------|\n",
    "| 1    | SimGCN                      | Suman Kalyan Bera | GitHub, Paper | 1,103,000 | 0.748 ± 0.033 |\n",
    "| 2    | MapLight + GNN              | Jim Notwell       | GitHub, Paper | N/A       | 0.742 ± 0.010 |\n",
    "| 3    | MapLight                    | Jim Notwell       | GitHub, Paper | N/A       | 0.730 ± 0.010 |\n",
    "| 4    | ZairaChem                   | Gemma Turon       | GitHub, Paper | N/A       | 0.706 ± 0.031 |\n",
    "| 5    | RDKit2D + MLP (DeepPurpose) | Kexin Huang       | GitHub, Paper | 633,409   | 0.672 ± 0.021 |\n",
    "| 6    | ContextPred                 | Kexin Huang       | GitHub, Paper | 2,067,053 | 0.671 ± 0.026 |\n",
    "| 7    | Chemprop-RDKit              | Kyle Swanson      | GitHub, Paper | N/A       | 0.667 ± 0.068 |\n",
    "| 8    | AttentiveFP                 | Kexin Huang       | GitHub, Paper | 300,806   | 0.632 ± 0.039 |\n",
    "| 9    | NeuralFP                    | Kexin Huang       | GitHub, Paper | 480,193   | 0.632 ± 0.036 |\n",
    "| 10   | Euclia ML model             | Euclia            | GitHub, Paper | 50        | 0.613 ± 0.015 |\n",
    "| 11   | CNN (DeepPurpose)           | Kexin Huang       | GitHub, Paper | 226,625   | 0.613 ± 0.013 |\n",
    "| 12   | Chemprop                    | Kyle Swanson      | GitHub, Paper | N/A       | 0.581 ± 0.024 |\n",
    "| 13   | Morgan + MLP (DeepPurpose)  | Kexin Huang       | GitHub, Paper | 1,477,185 | 0.581 ± 0.086 |\n",
    "| 14   | AttrMasking                 | Kexin Huang       | GitHub, Paper | 2,067,053 | 0.577 ± 0.087 |\n",
    "| 15   | GCN                         | Kexin Huang       | GitHub, Paper | 191,810   | 0.566 ± 0.115 |\n",
    "| 16   | Basic ML                    | Nilavo Boral      | GitHub, Paper | N/A       | 0.523 ± 0.011 |"
   ],
   "metadata": {
    "collapsed": false
   },
   "id": "86a59e63e6143206"
  },
  {
   "cell_type": "code",
   "execution_count": 1,
   "outputs": [
    {
     "name": "stderr",
     "output_type": "stream",
     "text": [
      "2023-11-21 14:35:24.825033: I tensorflow/tsl/cuda/cudart_stub.cc:28] Could not find cuda drivers on your machine, GPU will not be used.\n",
      "2023-11-21 14:35:24.875766: I tensorflow/tsl/cuda/cudart_stub.cc:28] Could not find cuda drivers on your machine, GPU will not be used.\n",
      "2023-11-21 14:35:24.876623: I tensorflow/core/platform/cpu_feature_guard.cc:182] This TensorFlow binary is optimized to use available CPU instructions in performance-critical operations.\n",
      "To enable the following instructions: AVX2 FMA, in other operations, rebuild TensorFlow with the appropriate compiler flags.\n",
      "2023-11-21 14:35:25.456040: W tensorflow/compiler/tf2tensorrt/utils/py_utils.cc:38] TF-TRT Warning: Could not find TensorRT\n",
      "Skipped loading modules with pytorch-lightning dependency, missing a dependency. No module named 'pytorch_lightning'\n",
      "Skipped loading some Jax models, missing a dependency. jax requires jaxlib to be installed. See https://github.com/google/jax#installation for installation instructions.\n"
     ]
    }
   ],
   "source": [
    "import pandas as pd\n",
    "from deepmol.pipeline import Pipeline"
   ],
   "metadata": {
    "collapsed": false,
    "ExecuteTime": {
     "end_time": "2023-11-21T14:35:27.653442530Z",
     "start_time": "2023-11-21T14:35:24.394339793Z"
    }
   },
   "id": "initial_id"
  },
  {
   "cell_type": "code",
   "execution_count": 2,
   "outputs": [
    {
     "data": {
      "text/plain": "    trial_id   mean    std\n0          0  0.532  0.000\n1          2  0.500  0.000\n2          5  0.500  0.000\n3          8  0.596  0.036\n4         10  0.650  0.014\n5         11  0.646  0.024\n6         12  0.519  0.027\n7         13  0.562  0.030\n8         14  0.594  0.026\n9         17  0.549  0.042\n10        18  0.500  0.000\n11        21  0.594  0.021\n12        26  0.493  0.006\n13        28  0.558  0.015\n14        29  0.547  0.035\n15        31  0.592  0.025\n16        35  0.512  0.006\n17        37  0.631  0.039\n18        38  0.574  0.038\n19        44  0.567  0.044\n20        45  0.545  0.042\n21        47  0.581  0.053\n22        48  0.553  0.031\n23        49  0.574  0.025\n24        50  0.520  0.016\n25        51  0.557  0.045\n26        52  0.597  0.019\n27        53  0.584  0.015\n28        54  0.568  0.060\n29        55  0.603  0.036\n30        56  0.623  0.072\n31        57  0.559  0.049\n32        58  0.557  0.026\n33        59  0.604  0.061\n34        60  0.509  0.017\n35        61  0.599  0.029\n36        62  0.540  0.021\n37        63  0.596  0.047\n38        71  0.567  0.034\n39        73  0.582  0.024\n40        75  0.596  0.066\n41        81  0.571  0.041\n42        82  0.574  0.039\n43        83  0.551  0.032\n44        84  0.547  0.028\n45        86  0.594  0.053\n46        89  0.599  0.035\n47        91  0.565  0.041\n48        92  0.580  0.046\n49        93  0.584  0.018\n50        94  0.597  0.069\n51        97  0.577  0.025",
      "text/html": "<div>\n<style scoped>\n    .dataframe tbody tr th:only-of-type {\n        vertical-align: middle;\n    }\n\n    .dataframe tbody tr th {\n        vertical-align: top;\n    }\n\n    .dataframe thead th {\n        text-align: right;\n    }\n</style>\n<table border=\"1\" class=\"dataframe\">\n  <thead>\n    <tr style=\"text-align: right;\">\n      <th></th>\n      <th>trial_id</th>\n      <th>mean</th>\n      <th>std</th>\n    </tr>\n  </thead>\n  <tbody>\n    <tr>\n      <th>0</th>\n      <td>0</td>\n      <td>0.532</td>\n      <td>0.000</td>\n    </tr>\n    <tr>\n      <th>1</th>\n      <td>2</td>\n      <td>0.500</td>\n      <td>0.000</td>\n    </tr>\n    <tr>\n      <th>2</th>\n      <td>5</td>\n      <td>0.500</td>\n      <td>0.000</td>\n    </tr>\n    <tr>\n      <th>3</th>\n      <td>8</td>\n      <td>0.596</td>\n      <td>0.036</td>\n    </tr>\n    <tr>\n      <th>4</th>\n      <td>10</td>\n      <td>0.650</td>\n      <td>0.014</td>\n    </tr>\n    <tr>\n      <th>5</th>\n      <td>11</td>\n      <td>0.646</td>\n      <td>0.024</td>\n    </tr>\n    <tr>\n      <th>6</th>\n      <td>12</td>\n      <td>0.519</td>\n      <td>0.027</td>\n    </tr>\n    <tr>\n      <th>7</th>\n      <td>13</td>\n      <td>0.562</td>\n      <td>0.030</td>\n    </tr>\n    <tr>\n      <th>8</th>\n      <td>14</td>\n      <td>0.594</td>\n      <td>0.026</td>\n    </tr>\n    <tr>\n      <th>9</th>\n      <td>17</td>\n      <td>0.549</td>\n      <td>0.042</td>\n    </tr>\n    <tr>\n      <th>10</th>\n      <td>18</td>\n      <td>0.500</td>\n      <td>0.000</td>\n    </tr>\n    <tr>\n      <th>11</th>\n      <td>21</td>\n      <td>0.594</td>\n      <td>0.021</td>\n    </tr>\n    <tr>\n      <th>12</th>\n      <td>26</td>\n      <td>0.493</td>\n      <td>0.006</td>\n    </tr>\n    <tr>\n      <th>13</th>\n      <td>28</td>\n      <td>0.558</td>\n      <td>0.015</td>\n    </tr>\n    <tr>\n      <th>14</th>\n      <td>29</td>\n      <td>0.547</td>\n      <td>0.035</td>\n    </tr>\n    <tr>\n      <th>15</th>\n      <td>31</td>\n      <td>0.592</td>\n      <td>0.025</td>\n    </tr>\n    <tr>\n      <th>16</th>\n      <td>35</td>\n      <td>0.512</td>\n      <td>0.006</td>\n    </tr>\n    <tr>\n      <th>17</th>\n      <td>37</td>\n      <td>0.631</td>\n      <td>0.039</td>\n    </tr>\n    <tr>\n      <th>18</th>\n      <td>38</td>\n      <td>0.574</td>\n      <td>0.038</td>\n    </tr>\n    <tr>\n      <th>19</th>\n      <td>44</td>\n      <td>0.567</td>\n      <td>0.044</td>\n    </tr>\n    <tr>\n      <th>20</th>\n      <td>45</td>\n      <td>0.545</td>\n      <td>0.042</td>\n    </tr>\n    <tr>\n      <th>21</th>\n      <td>47</td>\n      <td>0.581</td>\n      <td>0.053</td>\n    </tr>\n    <tr>\n      <th>22</th>\n      <td>48</td>\n      <td>0.553</td>\n      <td>0.031</td>\n    </tr>\n    <tr>\n      <th>23</th>\n      <td>49</td>\n      <td>0.574</td>\n      <td>0.025</td>\n    </tr>\n    <tr>\n      <th>24</th>\n      <td>50</td>\n      <td>0.520</td>\n      <td>0.016</td>\n    </tr>\n    <tr>\n      <th>25</th>\n      <td>51</td>\n      <td>0.557</td>\n      <td>0.045</td>\n    </tr>\n    <tr>\n      <th>26</th>\n      <td>52</td>\n      <td>0.597</td>\n      <td>0.019</td>\n    </tr>\n    <tr>\n      <th>27</th>\n      <td>53</td>\n      <td>0.584</td>\n      <td>0.015</td>\n    </tr>\n    <tr>\n      <th>28</th>\n      <td>54</td>\n      <td>0.568</td>\n      <td>0.060</td>\n    </tr>\n    <tr>\n      <th>29</th>\n      <td>55</td>\n      <td>0.603</td>\n      <td>0.036</td>\n    </tr>\n    <tr>\n      <th>30</th>\n      <td>56</td>\n      <td>0.623</td>\n      <td>0.072</td>\n    </tr>\n    <tr>\n      <th>31</th>\n      <td>57</td>\n      <td>0.559</td>\n      <td>0.049</td>\n    </tr>\n    <tr>\n      <th>32</th>\n      <td>58</td>\n      <td>0.557</td>\n      <td>0.026</td>\n    </tr>\n    <tr>\n      <th>33</th>\n      <td>59</td>\n      <td>0.604</td>\n      <td>0.061</td>\n    </tr>\n    <tr>\n      <th>34</th>\n      <td>60</td>\n      <td>0.509</td>\n      <td>0.017</td>\n    </tr>\n    <tr>\n      <th>35</th>\n      <td>61</td>\n      <td>0.599</td>\n      <td>0.029</td>\n    </tr>\n    <tr>\n      <th>36</th>\n      <td>62</td>\n      <td>0.540</td>\n      <td>0.021</td>\n    </tr>\n    <tr>\n      <th>37</th>\n      <td>63</td>\n      <td>0.596</td>\n      <td>0.047</td>\n    </tr>\n    <tr>\n      <th>38</th>\n      <td>71</td>\n      <td>0.567</td>\n      <td>0.034</td>\n    </tr>\n    <tr>\n      <th>39</th>\n      <td>73</td>\n      <td>0.582</td>\n      <td>0.024</td>\n    </tr>\n    <tr>\n      <th>40</th>\n      <td>75</td>\n      <td>0.596</td>\n      <td>0.066</td>\n    </tr>\n    <tr>\n      <th>41</th>\n      <td>81</td>\n      <td>0.571</td>\n      <td>0.041</td>\n    </tr>\n    <tr>\n      <th>42</th>\n      <td>82</td>\n      <td>0.574</td>\n      <td>0.039</td>\n    </tr>\n    <tr>\n      <th>43</th>\n      <td>83</td>\n      <td>0.551</td>\n      <td>0.032</td>\n    </tr>\n    <tr>\n      <th>44</th>\n      <td>84</td>\n      <td>0.547</td>\n      <td>0.028</td>\n    </tr>\n    <tr>\n      <th>45</th>\n      <td>86</td>\n      <td>0.594</td>\n      <td>0.053</td>\n    </tr>\n    <tr>\n      <th>46</th>\n      <td>89</td>\n      <td>0.599</td>\n      <td>0.035</td>\n    </tr>\n    <tr>\n      <th>47</th>\n      <td>91</td>\n      <td>0.565</td>\n      <td>0.041</td>\n    </tr>\n    <tr>\n      <th>48</th>\n      <td>92</td>\n      <td>0.580</td>\n      <td>0.046</td>\n    </tr>\n    <tr>\n      <th>49</th>\n      <td>93</td>\n      <td>0.584</td>\n      <td>0.018</td>\n    </tr>\n    <tr>\n      <th>50</th>\n      <td>94</td>\n      <td>0.597</td>\n      <td>0.069</td>\n    </tr>\n    <tr>\n      <th>51</th>\n      <td>97</td>\n      <td>0.577</td>\n      <td>0.025</td>\n    </tr>\n  </tbody>\n</table>\n</div>"
     },
     "execution_count": 2,
     "metadata": {},
     "output_type": "execute_result"
    }
   ],
   "source": [
    "# read results\n",
    "results = pd.read_csv('bioavailability/tdc_test_set_results.txt', sep=',', header=None, dtype={0: int, 1: float, 2: float})\n",
    "# set columns\n",
    "results.columns = ['trial_id', 'mean', 'std']\n",
    "results\n",
    "# order res"
   ],
   "metadata": {
    "collapsed": false,
    "ExecuteTime": {
     "end_time": "2023-11-21T14:35:27.671321794Z",
     "start_time": "2023-11-21T14:35:27.653678229Z"
    }
   },
   "id": "6753179565f6d258"
  },
  {
   "cell_type": "code",
   "execution_count": 3,
   "outputs": [
    {
     "data": {
      "text/plain": "    trial_id   mean    std\n4         10  0.650  0.014\n5         11  0.646  0.024\n17        37  0.631  0.039\n30        56  0.623  0.072\n33        59  0.604  0.061\n29        55  0.603  0.036\n46        89  0.599  0.035\n35        61  0.599  0.029\n50        94  0.597  0.069\n26        52  0.597  0.019\n40        75  0.596  0.066\n37        63  0.596  0.047\n3          8  0.596  0.036\n45        86  0.594  0.053\n8         14  0.594  0.026\n11        21  0.594  0.021\n15        31  0.592  0.025\n49        93  0.584  0.018\n27        53  0.584  0.015\n39        73  0.582  0.024\n21        47  0.581  0.053\n48        92  0.580  0.046\n51        97  0.577  0.025\n42        82  0.574  0.039\n18        38  0.574  0.038\n23        49  0.574  0.025\n41        81  0.571  0.041\n28        54  0.568  0.060\n19        44  0.567  0.044\n38        71  0.567  0.034\n47        91  0.565  0.041\n7         13  0.562  0.030\n31        57  0.559  0.049\n13        28  0.558  0.015\n25        51  0.557  0.045\n32        58  0.557  0.026\n22        48  0.553  0.031\n43        83  0.551  0.032\n9         17  0.549  0.042\n14        29  0.547  0.035\n44        84  0.547  0.028\n20        45  0.545  0.042\n36        62  0.540  0.021\n0          0  0.532  0.000\n24        50  0.520  0.016\n6         12  0.519  0.027\n16        35  0.512  0.006\n34        60  0.509  0.017\n1          2  0.500  0.000\n2          5  0.500  0.000\n10        18  0.500  0.000\n12        26  0.493  0.006",
      "text/html": "<div>\n<style scoped>\n    .dataframe tbody tr th:only-of-type {\n        vertical-align: middle;\n    }\n\n    .dataframe tbody tr th {\n        vertical-align: top;\n    }\n\n    .dataframe thead th {\n        text-align: right;\n    }\n</style>\n<table border=\"1\" class=\"dataframe\">\n  <thead>\n    <tr style=\"text-align: right;\">\n      <th></th>\n      <th>trial_id</th>\n      <th>mean</th>\n      <th>std</th>\n    </tr>\n  </thead>\n  <tbody>\n    <tr>\n      <th>4</th>\n      <td>10</td>\n      <td>0.650</td>\n      <td>0.014</td>\n    </tr>\n    <tr>\n      <th>5</th>\n      <td>11</td>\n      <td>0.646</td>\n      <td>0.024</td>\n    </tr>\n    <tr>\n      <th>17</th>\n      <td>37</td>\n      <td>0.631</td>\n      <td>0.039</td>\n    </tr>\n    <tr>\n      <th>30</th>\n      <td>56</td>\n      <td>0.623</td>\n      <td>0.072</td>\n    </tr>\n    <tr>\n      <th>33</th>\n      <td>59</td>\n      <td>0.604</td>\n      <td>0.061</td>\n    </tr>\n    <tr>\n      <th>29</th>\n      <td>55</td>\n      <td>0.603</td>\n      <td>0.036</td>\n    </tr>\n    <tr>\n      <th>46</th>\n      <td>89</td>\n      <td>0.599</td>\n      <td>0.035</td>\n    </tr>\n    <tr>\n      <th>35</th>\n      <td>61</td>\n      <td>0.599</td>\n      <td>0.029</td>\n    </tr>\n    <tr>\n      <th>50</th>\n      <td>94</td>\n      <td>0.597</td>\n      <td>0.069</td>\n    </tr>\n    <tr>\n      <th>26</th>\n      <td>52</td>\n      <td>0.597</td>\n      <td>0.019</td>\n    </tr>\n    <tr>\n      <th>40</th>\n      <td>75</td>\n      <td>0.596</td>\n      <td>0.066</td>\n    </tr>\n    <tr>\n      <th>37</th>\n      <td>63</td>\n      <td>0.596</td>\n      <td>0.047</td>\n    </tr>\n    <tr>\n      <th>3</th>\n      <td>8</td>\n      <td>0.596</td>\n      <td>0.036</td>\n    </tr>\n    <tr>\n      <th>45</th>\n      <td>86</td>\n      <td>0.594</td>\n      <td>0.053</td>\n    </tr>\n    <tr>\n      <th>8</th>\n      <td>14</td>\n      <td>0.594</td>\n      <td>0.026</td>\n    </tr>\n    <tr>\n      <th>11</th>\n      <td>21</td>\n      <td>0.594</td>\n      <td>0.021</td>\n    </tr>\n    <tr>\n      <th>15</th>\n      <td>31</td>\n      <td>0.592</td>\n      <td>0.025</td>\n    </tr>\n    <tr>\n      <th>49</th>\n      <td>93</td>\n      <td>0.584</td>\n      <td>0.018</td>\n    </tr>\n    <tr>\n      <th>27</th>\n      <td>53</td>\n      <td>0.584</td>\n      <td>0.015</td>\n    </tr>\n    <tr>\n      <th>39</th>\n      <td>73</td>\n      <td>0.582</td>\n      <td>0.024</td>\n    </tr>\n    <tr>\n      <th>21</th>\n      <td>47</td>\n      <td>0.581</td>\n      <td>0.053</td>\n    </tr>\n    <tr>\n      <th>48</th>\n      <td>92</td>\n      <td>0.580</td>\n      <td>0.046</td>\n    </tr>\n    <tr>\n      <th>51</th>\n      <td>97</td>\n      <td>0.577</td>\n      <td>0.025</td>\n    </tr>\n    <tr>\n      <th>42</th>\n      <td>82</td>\n      <td>0.574</td>\n      <td>0.039</td>\n    </tr>\n    <tr>\n      <th>18</th>\n      <td>38</td>\n      <td>0.574</td>\n      <td>0.038</td>\n    </tr>\n    <tr>\n      <th>23</th>\n      <td>49</td>\n      <td>0.574</td>\n      <td>0.025</td>\n    </tr>\n    <tr>\n      <th>41</th>\n      <td>81</td>\n      <td>0.571</td>\n      <td>0.041</td>\n    </tr>\n    <tr>\n      <th>28</th>\n      <td>54</td>\n      <td>0.568</td>\n      <td>0.060</td>\n    </tr>\n    <tr>\n      <th>19</th>\n      <td>44</td>\n      <td>0.567</td>\n      <td>0.044</td>\n    </tr>\n    <tr>\n      <th>38</th>\n      <td>71</td>\n      <td>0.567</td>\n      <td>0.034</td>\n    </tr>\n    <tr>\n      <th>47</th>\n      <td>91</td>\n      <td>0.565</td>\n      <td>0.041</td>\n    </tr>\n    <tr>\n      <th>7</th>\n      <td>13</td>\n      <td>0.562</td>\n      <td>0.030</td>\n    </tr>\n    <tr>\n      <th>31</th>\n      <td>57</td>\n      <td>0.559</td>\n      <td>0.049</td>\n    </tr>\n    <tr>\n      <th>13</th>\n      <td>28</td>\n      <td>0.558</td>\n      <td>0.015</td>\n    </tr>\n    <tr>\n      <th>25</th>\n      <td>51</td>\n      <td>0.557</td>\n      <td>0.045</td>\n    </tr>\n    <tr>\n      <th>32</th>\n      <td>58</td>\n      <td>0.557</td>\n      <td>0.026</td>\n    </tr>\n    <tr>\n      <th>22</th>\n      <td>48</td>\n      <td>0.553</td>\n      <td>0.031</td>\n    </tr>\n    <tr>\n      <th>43</th>\n      <td>83</td>\n      <td>0.551</td>\n      <td>0.032</td>\n    </tr>\n    <tr>\n      <th>9</th>\n      <td>17</td>\n      <td>0.549</td>\n      <td>0.042</td>\n    </tr>\n    <tr>\n      <th>14</th>\n      <td>29</td>\n      <td>0.547</td>\n      <td>0.035</td>\n    </tr>\n    <tr>\n      <th>44</th>\n      <td>84</td>\n      <td>0.547</td>\n      <td>0.028</td>\n    </tr>\n    <tr>\n      <th>20</th>\n      <td>45</td>\n      <td>0.545</td>\n      <td>0.042</td>\n    </tr>\n    <tr>\n      <th>36</th>\n      <td>62</td>\n      <td>0.540</td>\n      <td>0.021</td>\n    </tr>\n    <tr>\n      <th>0</th>\n      <td>0</td>\n      <td>0.532</td>\n      <td>0.000</td>\n    </tr>\n    <tr>\n      <th>24</th>\n      <td>50</td>\n      <td>0.520</td>\n      <td>0.016</td>\n    </tr>\n    <tr>\n      <th>6</th>\n      <td>12</td>\n      <td>0.519</td>\n      <td>0.027</td>\n    </tr>\n    <tr>\n      <th>16</th>\n      <td>35</td>\n      <td>0.512</td>\n      <td>0.006</td>\n    </tr>\n    <tr>\n      <th>34</th>\n      <td>60</td>\n      <td>0.509</td>\n      <td>0.017</td>\n    </tr>\n    <tr>\n      <th>1</th>\n      <td>2</td>\n      <td>0.500</td>\n      <td>0.000</td>\n    </tr>\n    <tr>\n      <th>2</th>\n      <td>5</td>\n      <td>0.500</td>\n      <td>0.000</td>\n    </tr>\n    <tr>\n      <th>10</th>\n      <td>18</td>\n      <td>0.500</td>\n      <td>0.000</td>\n    </tr>\n    <tr>\n      <th>12</th>\n      <td>26</td>\n      <td>0.493</td>\n      <td>0.006</td>\n    </tr>\n  </tbody>\n</table>\n</div>"
     },
     "execution_count": 3,
     "metadata": {},
     "output_type": "execute_result"
    }
   ],
   "source": [
    "# order results by mean (std in case of tie)\n",
    "results = results.sort_values(by=['mean', 'std'], ascending=False)\n",
    "results"
   ],
   "metadata": {
    "collapsed": false,
    "ExecuteTime": {
     "end_time": "2023-11-21T14:35:27.689851366Z",
     "start_time": "2023-11-21T14:35:27.673051956Z"
    }
   },
   "id": "c418a24aeebde864"
  },
  {
   "cell_type": "code",
   "execution_count": 4,
   "outputs": [
    {
     "name": "stderr",
     "output_type": "stream",
     "text": [
      "[21:05:33] Initializing Normalizer\n"
     ]
    }
   ],
   "source": [
    "# load best trial pipeline (rank #8)\n",
    "best_trial_id = int(results.iloc[0]['trial_id'])\n",
    "pipeline = Pipeline.load(f\"bioavailability/trial_{best_trial_id}/\")"
   ],
   "metadata": {
    "collapsed": false,
    "ExecuteTime": {
     "end_time": "2023-11-11T21:05:33.974822594Z",
     "start_time": "2023-11-11T21:05:33.787064845Z"
    }
   },
   "id": "90e40046d6b150ce"
  },
  {
   "cell_type": "code",
   "execution_count": 5,
   "outputs": [
    {
     "data": {
      "text/plain": "[('standardizer',\n  <deepmol.standardizer.custom_standardizer.CustomStandardizer at 0x7f6f3697fc70>),\n ('featurizer',\n  <deepmol.compound_featurization.rdkit_fingerprints.MorganFingerprint at 0x7f6f369be740>),\n ('scaler',\n  <deepmol.base.transformer.PassThroughTransformer at 0x7f6f36847670>),\n ('feature_selector',\n  <deepmol.feature_selection.base_feature_selector.BorutaAlgorithm at 0x7f6f3686b100>),\n ('model',\n  SklearnModel(model=MultinomialNB(alpha=0.46480582874453724),\n               model_dir='bioavailability/trial_69/model/model.pkl'))]"
     },
     "execution_count": 5,
     "metadata": {},
     "output_type": "execute_result"
    }
   ],
   "source": [
    "pipeline.steps"
   ],
   "metadata": {
    "collapsed": false,
    "ExecuteTime": {
     "end_time": "2023-11-11T21:05:37.219277132Z",
     "start_time": "2023-11-11T21:05:37.208824559Z"
    }
   },
   "id": "aca45806698765d8"
  },
  {
   "cell_type": "code",
   "execution_count": null,
   "outputs": [],
   "source": [],
   "metadata": {
    "collapsed": false
   },
   "id": "c4e6f45db658e820"
  }
 ],
 "metadata": {
  "kernelspec": {
   "display_name": "Python 3",
   "language": "python",
   "name": "python3"
  },
  "language_info": {
   "codemirror_mode": {
    "name": "ipython",
    "version": 2
   },
   "file_extension": ".py",
   "mimetype": "text/x-python",
   "name": "python",
   "nbconvert_exporter": "python",
   "pygments_lexer": "ipython2",
   "version": "2.7.6"
  }
 },
 "nbformat": 4,
 "nbformat_minor": 5
}
