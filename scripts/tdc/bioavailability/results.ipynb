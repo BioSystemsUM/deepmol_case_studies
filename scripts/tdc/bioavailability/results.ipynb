{
 "cells": [
  {
   "cell_type": "markdown",
   "source": [
    "# Bioavailability, Ma et al.\n",
    "\n",
    "### Dataset Description: Oral bioavailability is defined as “the rate and extent to which the active ingredient or active moiety is absorbed from a drug product and becomes available at the site of action”.\n",
    "\n",
    "### Task Description: Binary classification. Given a drug SMILES string, predict the activity of bioavailability.\n",
    "\n",
    "### Dataset Statistics: 640 drugs.\n",
    "\n",
    "### Metric: AUROC\n",
    "\n",
    "## Leaderboard\n",
    "\n",
    "| Rank | Model                       | Contact           | Link          | #Params   | AUROC         |\n",
    "|------|-----------------------------|-------------------|---------------|-----------|---------------|\n",
    "| 1    | SimGCN                      | Suman Kalyan Bera | GitHub, Paper | 1,103,000 | 0.748 ± 0.033 |\n",
    "| 2    | MapLight + GNN              | Jim Notwell       | GitHub, Paper | N/A       | 0.742 ± 0.010 |\n",
    "| 3    | MapLight                    | Jim Notwell       | GitHub, Paper | N/A       | 0.730 ± 0.010 |\n",
    "| 4    | ZairaChem                   | Gemma Turon       | GitHub, Paper | N/A       | 0.706 ± 0.031 |\n",
    "| 5    | RDKit2D + MLP (DeepPurpose) | Kexin Huang       | GitHub, Paper | 633,409   | 0.672 ± 0.021 |\n",
    "| 6    | ContextPred                 | Kexin Huang       | GitHub, Paper | 2,067,053 | 0.671 ± 0.026 |\n",
    "| 7    | Chemprop-RDKit              | Kyle Swanson      | GitHub, Paper | N/A       | 0.667 ± 0.068 |\n",
    "| 8    | AttentiveFP                 | Kexin Huang       | GitHub, Paper | 300,806   | 0.632 ± 0.039 |\n",
    "| 9    | NeuralFP                    | Kexin Huang       | GitHub, Paper | 480,193   | 0.632 ± 0.036 |\n",
    "| 10   | Euclia ML model             | Euclia            | GitHub, Paper | 50        | 0.613 ± 0.015 |\n",
    "| 11   | CNN (DeepPurpose)           | Kexin Huang       | GitHub, Paper | 226,625   | 0.613 ± 0.013 |\n",
    "| 12   | Chemprop                    | Kyle Swanson      | GitHub, Paper | N/A       | 0.581 ± 0.024 |\n",
    "| 13   | Morgan + MLP (DeepPurpose)  | Kexin Huang       | GitHub, Paper | 1,477,185 | 0.581 ± 0.086 |\n",
    "| 14   | AttrMasking                 | Kexin Huang       | GitHub, Paper | 2,067,053 | 0.577 ± 0.087 |\n",
    "| 15   | GCN                         | Kexin Huang       | GitHub, Paper | 191,810   | 0.566 ± 0.115 |\n",
    "| 16   | Basic ML                    | Nilavo Boral      | GitHub, Paper | N/A       | 0.523 ± 0.011 |"
   ],
   "metadata": {
    "collapsed": false
   },
   "id": "86a59e63e6143206"
  },
  {
   "cell_type": "code",
   "execution_count": 1,
   "outputs": [
    {
     "name": "stderr",
     "output_type": "stream",
     "text": [
      "2023-11-11 21:05:30.113682: I tensorflow/tsl/cuda/cudart_stub.cc:28] Could not find cuda drivers on your machine, GPU will not be used.\n",
      "2023-11-11 21:05:30.180923: I tensorflow/tsl/cuda/cudart_stub.cc:28] Could not find cuda drivers on your machine, GPU will not be used.\n",
      "2023-11-11 21:05:30.181485: I tensorflow/core/platform/cpu_feature_guard.cc:182] This TensorFlow binary is optimized to use available CPU instructions in performance-critical operations.\n",
      "To enable the following instructions: AVX2 FMA, in other operations, rebuild TensorFlow with the appropriate compiler flags.\n",
      "2023-11-11 21:05:30.886498: W tensorflow/compiler/tf2tensorrt/utils/py_utils.cc:38] TF-TRT Warning: Could not find TensorRT\n",
      "/home/joao-correia/anaconda3/envs/deepmol_case_studies/lib/python3.10/site-packages/torch/cuda/__init__.py:107: UserWarning: CUDA initialization: CUDA unknown error - this may be due to an incorrectly set up environment, e.g. changing env variable CUDA_VISIBLE_DEVICES after program start. Setting the available devices to be zero. (Triggered internally at ../c10/cuda/CUDAFunctions.cpp:109.)\n",
      "  return torch._C._cuda_getDeviceCount() > 0\n",
      "Skipped loading modules with pytorch-lightning dependency, missing a dependency. No module named 'pytorch_lightning'\n",
      "Skipped loading some Jax models, missing a dependency. jax requires jaxlib to be installed. See https://github.com/google/jax#installation for installation instructions.\n"
     ]
    }
   ],
   "source": [
    "import pandas as pd\n",
    "from deepmol.pipeline import Pipeline"
   ],
   "metadata": {
    "collapsed": false,
    "ExecuteTime": {
     "end_time": "2023-11-11T21:05:33.756689877Z",
     "start_time": "2023-11-11T21:05:29.376487592Z"
    }
   },
   "id": "initial_id"
  },
  {
   "cell_type": "code",
   "execution_count": 2,
   "outputs": [
    {
     "data": {
      "text/plain": "    trial_id   mean    std\n0          0  0.532  0.000\n1          2  0.500  0.000\n2          8  0.571  0.018\n3         11  0.514  0.018\n4         12  0.519  0.016\n5         13  0.530  0.004\n6         14  0.490  0.030\n7         15  0.498  0.009\n8         16  0.621  0.023\n9         18  0.503  0.020\n10        21  0.560  0.018\n11        22  0.510  0.018\n12        23  0.517  0.014\n13        24  0.503  0.013\n14        25  0.518  0.020\n15        26  0.506  0.021\n16        33  0.505  0.027\n17        34  0.522  0.013\n18        35  0.632  0.012\n19        36  0.534  0.025\n20        37  0.510  0.010\n21        39  0.547  0.061\n22        40  0.545  0.016\n23        41  0.551  0.024\n24        42  0.499  0.002\n25        43  0.548  0.019\n26        44  0.604  0.020\n27        48  0.608  0.021\n28        49  0.577  0.014\n29        51  0.551  0.024\n30        52  0.551  0.024\n31        53  0.497  0.046\n32        54  0.523  0.017\n33        57  0.558  0.020\n34        58  0.576  0.020\n35        61  0.551  0.024\n36        62  0.551  0.024\n37        65  0.500  0.021\n38        67  0.571  0.017\n39        69  0.645  0.027\n40        70  0.500  0.000\n41        78  0.514  0.024\n42        80  0.562  0.005\n43        81  0.551  0.024\n44        82  0.551  0.024\n45        83  0.508  0.022\n46        84  0.519  0.019\n47        85  0.510  0.019\n48        87  0.509  0.020\n49        88  0.507  0.011\n50        89  0.584  0.052\n51        90  0.517  0.024\n52        91  0.573  0.017\n53        92  0.500  0.000\n54        93  0.502  0.025\n55        95  0.555  0.019\n56        98  0.561  0.023\n57        99  0.545  0.028",
      "text/html": "<div>\n<style scoped>\n    .dataframe tbody tr th:only-of-type {\n        vertical-align: middle;\n    }\n\n    .dataframe tbody tr th {\n        vertical-align: top;\n    }\n\n    .dataframe thead th {\n        text-align: right;\n    }\n</style>\n<table border=\"1\" class=\"dataframe\">\n  <thead>\n    <tr style=\"text-align: right;\">\n      <th></th>\n      <th>trial_id</th>\n      <th>mean</th>\n      <th>std</th>\n    </tr>\n  </thead>\n  <tbody>\n    <tr>\n      <th>0</th>\n      <td>0</td>\n      <td>0.532</td>\n      <td>0.000</td>\n    </tr>\n    <tr>\n      <th>1</th>\n      <td>2</td>\n      <td>0.500</td>\n      <td>0.000</td>\n    </tr>\n    <tr>\n      <th>2</th>\n      <td>8</td>\n      <td>0.571</td>\n      <td>0.018</td>\n    </tr>\n    <tr>\n      <th>3</th>\n      <td>11</td>\n      <td>0.514</td>\n      <td>0.018</td>\n    </tr>\n    <tr>\n      <th>4</th>\n      <td>12</td>\n      <td>0.519</td>\n      <td>0.016</td>\n    </tr>\n    <tr>\n      <th>5</th>\n      <td>13</td>\n      <td>0.530</td>\n      <td>0.004</td>\n    </tr>\n    <tr>\n      <th>6</th>\n      <td>14</td>\n      <td>0.490</td>\n      <td>0.030</td>\n    </tr>\n    <tr>\n      <th>7</th>\n      <td>15</td>\n      <td>0.498</td>\n      <td>0.009</td>\n    </tr>\n    <tr>\n      <th>8</th>\n      <td>16</td>\n      <td>0.621</td>\n      <td>0.023</td>\n    </tr>\n    <tr>\n      <th>9</th>\n      <td>18</td>\n      <td>0.503</td>\n      <td>0.020</td>\n    </tr>\n    <tr>\n      <th>10</th>\n      <td>21</td>\n      <td>0.560</td>\n      <td>0.018</td>\n    </tr>\n    <tr>\n      <th>11</th>\n      <td>22</td>\n      <td>0.510</td>\n      <td>0.018</td>\n    </tr>\n    <tr>\n      <th>12</th>\n      <td>23</td>\n      <td>0.517</td>\n      <td>0.014</td>\n    </tr>\n    <tr>\n      <th>13</th>\n      <td>24</td>\n      <td>0.503</td>\n      <td>0.013</td>\n    </tr>\n    <tr>\n      <th>14</th>\n      <td>25</td>\n      <td>0.518</td>\n      <td>0.020</td>\n    </tr>\n    <tr>\n      <th>15</th>\n      <td>26</td>\n      <td>0.506</td>\n      <td>0.021</td>\n    </tr>\n    <tr>\n      <th>16</th>\n      <td>33</td>\n      <td>0.505</td>\n      <td>0.027</td>\n    </tr>\n    <tr>\n      <th>17</th>\n      <td>34</td>\n      <td>0.522</td>\n      <td>0.013</td>\n    </tr>\n    <tr>\n      <th>18</th>\n      <td>35</td>\n      <td>0.632</td>\n      <td>0.012</td>\n    </tr>\n    <tr>\n      <th>19</th>\n      <td>36</td>\n      <td>0.534</td>\n      <td>0.025</td>\n    </tr>\n    <tr>\n      <th>20</th>\n      <td>37</td>\n      <td>0.510</td>\n      <td>0.010</td>\n    </tr>\n    <tr>\n      <th>21</th>\n      <td>39</td>\n      <td>0.547</td>\n      <td>0.061</td>\n    </tr>\n    <tr>\n      <th>22</th>\n      <td>40</td>\n      <td>0.545</td>\n      <td>0.016</td>\n    </tr>\n    <tr>\n      <th>23</th>\n      <td>41</td>\n      <td>0.551</td>\n      <td>0.024</td>\n    </tr>\n    <tr>\n      <th>24</th>\n      <td>42</td>\n      <td>0.499</td>\n      <td>0.002</td>\n    </tr>\n    <tr>\n      <th>25</th>\n      <td>43</td>\n      <td>0.548</td>\n      <td>0.019</td>\n    </tr>\n    <tr>\n      <th>26</th>\n      <td>44</td>\n      <td>0.604</td>\n      <td>0.020</td>\n    </tr>\n    <tr>\n      <th>27</th>\n      <td>48</td>\n      <td>0.608</td>\n      <td>0.021</td>\n    </tr>\n    <tr>\n      <th>28</th>\n      <td>49</td>\n      <td>0.577</td>\n      <td>0.014</td>\n    </tr>\n    <tr>\n      <th>29</th>\n      <td>51</td>\n      <td>0.551</td>\n      <td>0.024</td>\n    </tr>\n    <tr>\n      <th>30</th>\n      <td>52</td>\n      <td>0.551</td>\n      <td>0.024</td>\n    </tr>\n    <tr>\n      <th>31</th>\n      <td>53</td>\n      <td>0.497</td>\n      <td>0.046</td>\n    </tr>\n    <tr>\n      <th>32</th>\n      <td>54</td>\n      <td>0.523</td>\n      <td>0.017</td>\n    </tr>\n    <tr>\n      <th>33</th>\n      <td>57</td>\n      <td>0.558</td>\n      <td>0.020</td>\n    </tr>\n    <tr>\n      <th>34</th>\n      <td>58</td>\n      <td>0.576</td>\n      <td>0.020</td>\n    </tr>\n    <tr>\n      <th>35</th>\n      <td>61</td>\n      <td>0.551</td>\n      <td>0.024</td>\n    </tr>\n    <tr>\n      <th>36</th>\n      <td>62</td>\n      <td>0.551</td>\n      <td>0.024</td>\n    </tr>\n    <tr>\n      <th>37</th>\n      <td>65</td>\n      <td>0.500</td>\n      <td>0.021</td>\n    </tr>\n    <tr>\n      <th>38</th>\n      <td>67</td>\n      <td>0.571</td>\n      <td>0.017</td>\n    </tr>\n    <tr>\n      <th>39</th>\n      <td>69</td>\n      <td>0.645</td>\n      <td>0.027</td>\n    </tr>\n    <tr>\n      <th>40</th>\n      <td>70</td>\n      <td>0.500</td>\n      <td>0.000</td>\n    </tr>\n    <tr>\n      <th>41</th>\n      <td>78</td>\n      <td>0.514</td>\n      <td>0.024</td>\n    </tr>\n    <tr>\n      <th>42</th>\n      <td>80</td>\n      <td>0.562</td>\n      <td>0.005</td>\n    </tr>\n    <tr>\n      <th>43</th>\n      <td>81</td>\n      <td>0.551</td>\n      <td>0.024</td>\n    </tr>\n    <tr>\n      <th>44</th>\n      <td>82</td>\n      <td>0.551</td>\n      <td>0.024</td>\n    </tr>\n    <tr>\n      <th>45</th>\n      <td>83</td>\n      <td>0.508</td>\n      <td>0.022</td>\n    </tr>\n    <tr>\n      <th>46</th>\n      <td>84</td>\n      <td>0.519</td>\n      <td>0.019</td>\n    </tr>\n    <tr>\n      <th>47</th>\n      <td>85</td>\n      <td>0.510</td>\n      <td>0.019</td>\n    </tr>\n    <tr>\n      <th>48</th>\n      <td>87</td>\n      <td>0.509</td>\n      <td>0.020</td>\n    </tr>\n    <tr>\n      <th>49</th>\n      <td>88</td>\n      <td>0.507</td>\n      <td>0.011</td>\n    </tr>\n    <tr>\n      <th>50</th>\n      <td>89</td>\n      <td>0.584</td>\n      <td>0.052</td>\n    </tr>\n    <tr>\n      <th>51</th>\n      <td>90</td>\n      <td>0.517</td>\n      <td>0.024</td>\n    </tr>\n    <tr>\n      <th>52</th>\n      <td>91</td>\n      <td>0.573</td>\n      <td>0.017</td>\n    </tr>\n    <tr>\n      <th>53</th>\n      <td>92</td>\n      <td>0.500</td>\n      <td>0.000</td>\n    </tr>\n    <tr>\n      <th>54</th>\n      <td>93</td>\n      <td>0.502</td>\n      <td>0.025</td>\n    </tr>\n    <tr>\n      <th>55</th>\n      <td>95</td>\n      <td>0.555</td>\n      <td>0.019</td>\n    </tr>\n    <tr>\n      <th>56</th>\n      <td>98</td>\n      <td>0.561</td>\n      <td>0.023</td>\n    </tr>\n    <tr>\n      <th>57</th>\n      <td>99</td>\n      <td>0.545</td>\n      <td>0.028</td>\n    </tr>\n  </tbody>\n</table>\n</div>"
     },
     "execution_count": 2,
     "metadata": {},
     "output_type": "execute_result"
    }
   ],
   "source": [
    "# read results\n",
    "results = pd.read_csv('bioavailability/tdc_test_set_results.txt', sep=',', header=None, dtype={0: int, 1: float, 2: float})\n",
    "# set columns\n",
    "results.columns = ['trial_id', 'mean', 'std']\n",
    "results\n",
    "# order res"
   ],
   "metadata": {
    "collapsed": false,
    "ExecuteTime": {
     "end_time": "2023-11-11T21:05:33.772328160Z",
     "start_time": "2023-11-11T21:05:33.758044939Z"
    }
   },
   "id": "6753179565f6d258"
  },
  {
   "cell_type": "code",
   "execution_count": 3,
   "outputs": [
    {
     "data": {
      "text/plain": "    trial_id   mean    std\n39        69  0.645  0.027\n18        35  0.632  0.012\n8         16  0.621  0.023\n27        48  0.608  0.021\n26        44  0.604  0.020\n50        89  0.584  0.052\n28        49  0.577  0.014\n34        58  0.576  0.020\n52        91  0.573  0.017\n2          8  0.571  0.018\n38        67  0.571  0.017\n42        80  0.562  0.005\n56        98  0.561  0.023\n10        21  0.560  0.018\n33        57  0.558  0.020\n55        95  0.555  0.019\n23        41  0.551  0.024\n29        51  0.551  0.024\n30        52  0.551  0.024\n35        61  0.551  0.024\n36        62  0.551  0.024\n43        81  0.551  0.024\n44        82  0.551  0.024\n25        43  0.548  0.019\n21        39  0.547  0.061\n57        99  0.545  0.028\n22        40  0.545  0.016\n19        36  0.534  0.025\n0          0  0.532  0.000\n5         13  0.530  0.004\n32        54  0.523  0.017\n17        34  0.522  0.013\n46        84  0.519  0.019\n4         12  0.519  0.016\n14        25  0.518  0.020\n51        90  0.517  0.024\n12        23  0.517  0.014\n41        78  0.514  0.024\n3         11  0.514  0.018\n47        85  0.510  0.019\n11        22  0.510  0.018\n20        37  0.510  0.010\n48        87  0.509  0.020\n45        83  0.508  0.022\n49        88  0.507  0.011\n15        26  0.506  0.021\n16        33  0.505  0.027\n9         18  0.503  0.020\n13        24  0.503  0.013\n54        93  0.502  0.025\n37        65  0.500  0.021\n1          2  0.500  0.000\n40        70  0.500  0.000\n53        92  0.500  0.000\n24        42  0.499  0.002\n7         15  0.498  0.009\n31        53  0.497  0.046\n6         14  0.490  0.030",
      "text/html": "<div>\n<style scoped>\n    .dataframe tbody tr th:only-of-type {\n        vertical-align: middle;\n    }\n\n    .dataframe tbody tr th {\n        vertical-align: top;\n    }\n\n    .dataframe thead th {\n        text-align: right;\n    }\n</style>\n<table border=\"1\" class=\"dataframe\">\n  <thead>\n    <tr style=\"text-align: right;\">\n      <th></th>\n      <th>trial_id</th>\n      <th>mean</th>\n      <th>std</th>\n    </tr>\n  </thead>\n  <tbody>\n    <tr>\n      <th>39</th>\n      <td>69</td>\n      <td>0.645</td>\n      <td>0.027</td>\n    </tr>\n    <tr>\n      <th>18</th>\n      <td>35</td>\n      <td>0.632</td>\n      <td>0.012</td>\n    </tr>\n    <tr>\n      <th>8</th>\n      <td>16</td>\n      <td>0.621</td>\n      <td>0.023</td>\n    </tr>\n    <tr>\n      <th>27</th>\n      <td>48</td>\n      <td>0.608</td>\n      <td>0.021</td>\n    </tr>\n    <tr>\n      <th>26</th>\n      <td>44</td>\n      <td>0.604</td>\n      <td>0.020</td>\n    </tr>\n    <tr>\n      <th>50</th>\n      <td>89</td>\n      <td>0.584</td>\n      <td>0.052</td>\n    </tr>\n    <tr>\n      <th>28</th>\n      <td>49</td>\n      <td>0.577</td>\n      <td>0.014</td>\n    </tr>\n    <tr>\n      <th>34</th>\n      <td>58</td>\n      <td>0.576</td>\n      <td>0.020</td>\n    </tr>\n    <tr>\n      <th>52</th>\n      <td>91</td>\n      <td>0.573</td>\n      <td>0.017</td>\n    </tr>\n    <tr>\n      <th>2</th>\n      <td>8</td>\n      <td>0.571</td>\n      <td>0.018</td>\n    </tr>\n    <tr>\n      <th>38</th>\n      <td>67</td>\n      <td>0.571</td>\n      <td>0.017</td>\n    </tr>\n    <tr>\n      <th>42</th>\n      <td>80</td>\n      <td>0.562</td>\n      <td>0.005</td>\n    </tr>\n    <tr>\n      <th>56</th>\n      <td>98</td>\n      <td>0.561</td>\n      <td>0.023</td>\n    </tr>\n    <tr>\n      <th>10</th>\n      <td>21</td>\n      <td>0.560</td>\n      <td>0.018</td>\n    </tr>\n    <tr>\n      <th>33</th>\n      <td>57</td>\n      <td>0.558</td>\n      <td>0.020</td>\n    </tr>\n    <tr>\n      <th>55</th>\n      <td>95</td>\n      <td>0.555</td>\n      <td>0.019</td>\n    </tr>\n    <tr>\n      <th>23</th>\n      <td>41</td>\n      <td>0.551</td>\n      <td>0.024</td>\n    </tr>\n    <tr>\n      <th>29</th>\n      <td>51</td>\n      <td>0.551</td>\n      <td>0.024</td>\n    </tr>\n    <tr>\n      <th>30</th>\n      <td>52</td>\n      <td>0.551</td>\n      <td>0.024</td>\n    </tr>\n    <tr>\n      <th>35</th>\n      <td>61</td>\n      <td>0.551</td>\n      <td>0.024</td>\n    </tr>\n    <tr>\n      <th>36</th>\n      <td>62</td>\n      <td>0.551</td>\n      <td>0.024</td>\n    </tr>\n    <tr>\n      <th>43</th>\n      <td>81</td>\n      <td>0.551</td>\n      <td>0.024</td>\n    </tr>\n    <tr>\n      <th>44</th>\n      <td>82</td>\n      <td>0.551</td>\n      <td>0.024</td>\n    </tr>\n    <tr>\n      <th>25</th>\n      <td>43</td>\n      <td>0.548</td>\n      <td>0.019</td>\n    </tr>\n    <tr>\n      <th>21</th>\n      <td>39</td>\n      <td>0.547</td>\n      <td>0.061</td>\n    </tr>\n    <tr>\n      <th>57</th>\n      <td>99</td>\n      <td>0.545</td>\n      <td>0.028</td>\n    </tr>\n    <tr>\n      <th>22</th>\n      <td>40</td>\n      <td>0.545</td>\n      <td>0.016</td>\n    </tr>\n    <tr>\n      <th>19</th>\n      <td>36</td>\n      <td>0.534</td>\n      <td>0.025</td>\n    </tr>\n    <tr>\n      <th>0</th>\n      <td>0</td>\n      <td>0.532</td>\n      <td>0.000</td>\n    </tr>\n    <tr>\n      <th>5</th>\n      <td>13</td>\n      <td>0.530</td>\n      <td>0.004</td>\n    </tr>\n    <tr>\n      <th>32</th>\n      <td>54</td>\n      <td>0.523</td>\n      <td>0.017</td>\n    </tr>\n    <tr>\n      <th>17</th>\n      <td>34</td>\n      <td>0.522</td>\n      <td>0.013</td>\n    </tr>\n    <tr>\n      <th>46</th>\n      <td>84</td>\n      <td>0.519</td>\n      <td>0.019</td>\n    </tr>\n    <tr>\n      <th>4</th>\n      <td>12</td>\n      <td>0.519</td>\n      <td>0.016</td>\n    </tr>\n    <tr>\n      <th>14</th>\n      <td>25</td>\n      <td>0.518</td>\n      <td>0.020</td>\n    </tr>\n    <tr>\n      <th>51</th>\n      <td>90</td>\n      <td>0.517</td>\n      <td>0.024</td>\n    </tr>\n    <tr>\n      <th>12</th>\n      <td>23</td>\n      <td>0.517</td>\n      <td>0.014</td>\n    </tr>\n    <tr>\n      <th>41</th>\n      <td>78</td>\n      <td>0.514</td>\n      <td>0.024</td>\n    </tr>\n    <tr>\n      <th>3</th>\n      <td>11</td>\n      <td>0.514</td>\n      <td>0.018</td>\n    </tr>\n    <tr>\n      <th>47</th>\n      <td>85</td>\n      <td>0.510</td>\n      <td>0.019</td>\n    </tr>\n    <tr>\n      <th>11</th>\n      <td>22</td>\n      <td>0.510</td>\n      <td>0.018</td>\n    </tr>\n    <tr>\n      <th>20</th>\n      <td>37</td>\n      <td>0.510</td>\n      <td>0.010</td>\n    </tr>\n    <tr>\n      <th>48</th>\n      <td>87</td>\n      <td>0.509</td>\n      <td>0.020</td>\n    </tr>\n    <tr>\n      <th>45</th>\n      <td>83</td>\n      <td>0.508</td>\n      <td>0.022</td>\n    </tr>\n    <tr>\n      <th>49</th>\n      <td>88</td>\n      <td>0.507</td>\n      <td>0.011</td>\n    </tr>\n    <tr>\n      <th>15</th>\n      <td>26</td>\n      <td>0.506</td>\n      <td>0.021</td>\n    </tr>\n    <tr>\n      <th>16</th>\n      <td>33</td>\n      <td>0.505</td>\n      <td>0.027</td>\n    </tr>\n    <tr>\n      <th>9</th>\n      <td>18</td>\n      <td>0.503</td>\n      <td>0.020</td>\n    </tr>\n    <tr>\n      <th>13</th>\n      <td>24</td>\n      <td>0.503</td>\n      <td>0.013</td>\n    </tr>\n    <tr>\n      <th>54</th>\n      <td>93</td>\n      <td>0.502</td>\n      <td>0.025</td>\n    </tr>\n    <tr>\n      <th>37</th>\n      <td>65</td>\n      <td>0.500</td>\n      <td>0.021</td>\n    </tr>\n    <tr>\n      <th>1</th>\n      <td>2</td>\n      <td>0.500</td>\n      <td>0.000</td>\n    </tr>\n    <tr>\n      <th>40</th>\n      <td>70</td>\n      <td>0.500</td>\n      <td>0.000</td>\n    </tr>\n    <tr>\n      <th>53</th>\n      <td>92</td>\n      <td>0.500</td>\n      <td>0.000</td>\n    </tr>\n    <tr>\n      <th>24</th>\n      <td>42</td>\n      <td>0.499</td>\n      <td>0.002</td>\n    </tr>\n    <tr>\n      <th>7</th>\n      <td>15</td>\n      <td>0.498</td>\n      <td>0.009</td>\n    </tr>\n    <tr>\n      <th>31</th>\n      <td>53</td>\n      <td>0.497</td>\n      <td>0.046</td>\n    </tr>\n    <tr>\n      <th>6</th>\n      <td>14</td>\n      <td>0.490</td>\n      <td>0.030</td>\n    </tr>\n  </tbody>\n</table>\n</div>"
     },
     "execution_count": 3,
     "metadata": {},
     "output_type": "execute_result"
    }
   ],
   "source": [
    "# order results by mean (std in case of tie)\n",
    "results = results.sort_values(by=['mean', 'std'], ascending=False)\n",
    "results"
   ],
   "metadata": {
    "collapsed": false,
    "ExecuteTime": {
     "end_time": "2023-11-11T21:05:33.815873859Z",
     "start_time": "2023-11-11T21:05:33.774856086Z"
    }
   },
   "id": "c418a24aeebde864"
  },
  {
   "cell_type": "code",
   "execution_count": 4,
   "outputs": [
    {
     "name": "stderr",
     "output_type": "stream",
     "text": [
      "[21:05:33] Initializing Normalizer\n"
     ]
    }
   ],
   "source": [
    "# load best trial pipeline (rank #8)\n",
    "best_trial_id = int(results.iloc[0]['trial_id'])\n",
    "pipeline = Pipeline.load(f\"bioavailability/trial_{best_trial_id}/\")"
   ],
   "metadata": {
    "collapsed": false,
    "ExecuteTime": {
     "end_time": "2023-11-11T21:05:33.974822594Z",
     "start_time": "2023-11-11T21:05:33.787064845Z"
    }
   },
   "id": "90e40046d6b150ce"
  },
  {
   "cell_type": "code",
   "execution_count": 5,
   "outputs": [
    {
     "data": {
      "text/plain": "[('standardizer',\n  <deepmol.standardizer.custom_standardizer.CustomStandardizer at 0x7f6f3697fc70>),\n ('featurizer',\n  <deepmol.compound_featurization.rdkit_fingerprints.MorganFingerprint at 0x7f6f369be740>),\n ('scaler',\n  <deepmol.base.transformer.PassThroughTransformer at 0x7f6f36847670>),\n ('feature_selector',\n  <deepmol.feature_selection.base_feature_selector.BorutaAlgorithm at 0x7f6f3686b100>),\n ('model',\n  SklearnModel(model=MultinomialNB(alpha=0.46480582874453724),\n               model_dir='bioavailability/trial_69/model/model.pkl'))]"
     },
     "execution_count": 5,
     "metadata": {},
     "output_type": "execute_result"
    }
   ],
   "source": [
    "pipeline.steps"
   ],
   "metadata": {
    "collapsed": false,
    "ExecuteTime": {
     "end_time": "2023-11-11T21:05:37.219277132Z",
     "start_time": "2023-11-11T21:05:37.208824559Z"
    }
   },
   "id": "aca45806698765d8"
  },
  {
   "cell_type": "code",
   "execution_count": null,
   "outputs": [],
   "source": [],
   "metadata": {
    "collapsed": false
   },
   "id": "c4e6f45db658e820"
  }
 ],
 "metadata": {
  "kernelspec": {
   "display_name": "Python 3",
   "language": "python",
   "name": "python3"
  },
  "language_info": {
   "codemirror_mode": {
    "name": "ipython",
    "version": 2
   },
   "file_extension": ".py",
   "mimetype": "text/x-python",
   "name": "python",
   "nbconvert_exporter": "python",
   "pygments_lexer": "ipython2",
   "version": "2.7.6"
  }
 },
 "nbformat": 4,
 "nbformat_minor": 5
}
