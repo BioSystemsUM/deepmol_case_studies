{
 "cells": [
  {
   "cell_type": "markdown",
   "id": "86a59e63e6143206",
   "metadata": {
    "collapsed": false
   },
   "source": [
    "# hERG blockers\n",
    "\n",
    "### Dataset Description: Human ether-à-go-go related gene (hERG) is crucial for the coordination of the heart's beating. Thus, if a drug blocks the hERG, it could lead to severe adverse effects. Therefore, reliable prediction of hERG liability in the early stages of drug design is quite important to reduce the risk of cardiotoxicity-related attritions in the later development stages.\n",
    "\n",
    "### Task Description: Binary classification. Given a drug SMILES string, predict whether it blocks (1) or not blocks (0).\n",
    "\n",
    "### Dataset Statistics: 648 drugs.\n",
    "\n",
    "### Metric: AUROC\n",
    "\n",
    "## Leaderboard\n",
    "\n",
    "| Rank | Model                       | Contact           | Link          | #Params   | AUROC         |\n",
    "|------|-----------------------------|-------------------|---------------|-----------|---------------|\n",
    "| 1    | MapLight + GNN              | Jim Notwell       | GitHub, Paper | N/A       | 0.880 ± 0.002 |\n",
    "| 2    | SimGCN                      | Suman Kalyan Bera | GitHub, Paper | 1,103,000 | 0.874 ± 0.014 |\n",
    "| 3    | MapLight                    | Jim Notwell       | GitHub, Paper | N/A       | 0.871 ± 0.004 |\n",
    "| 4    | ZairaChem                   | Gemma Turon       | GitHub, Paper | N/A       | 0.856 ± 0.009 |\n",
    "| 5    | RDKit2D + MLP (DeepPurpose) | Kexin Huang       | GitHub, Paper | 633,409   | 0.841 ± 0.020 |\n",
    "| 6    | Chemprop-RDKit              | Kyle Swanson      | GitHub, Paper | N/A       | 0.840 ± 0.007 |\n",
    "| 7    | AttentiveFP                 | Kexin Huang       | GitHub, Paper | 300,806   | 0.825 ± 0.007 |\n",
    "| 8    | AttrMasking                 | Kexin Huang       | GitHub, Paper | 2,067,053 | 0.778 ± 0.046 |\n",
    "| 9    | ContextPred                 | Kexin Huang       | GitHub, Paper | 2,067,053 | 0.756 ± 0.023 |\n",
    "| 10   | CNN (DeepPurpose)           | Kexin Huang       | GitHub, Paper | 226,625   | 0.754 ± 0.037 |\n",
    "| 11   | Euclia ML model             | Euclia            | GitHub, Paper | 50        | 0.749 ± 0.032 |\n",
    "| 12   | GCN                         | Kexin Huang       | GitHub, Paper | 191,810   | 0.738 ± 0.038 |\n",
    "| 13   | Morgan + MLP (DeepPurpose)  | Kexin Huang       | GitHub, Paper | 1,477,185 | 0.736 ± 0.023 |\n",
    "| 14   | NeuralFP                    | Kexin Huang       | GitHub, Paper | 480,193   | 0.722 ± 0.034 |\n",
    "| 15   | Chemprop                    | Kyle Swanson      | GitHub, Paper | N/A       | 0.721 ± 0.045 |\n",
    "| 16   | Basic ML                    | Nilavo Boral      | GitHub, Paper | N/A       | 0.715 ± 0.011 |"
   ]
  },
  {
   "cell_type": "code",
   "execution_count": 2,
   "id": "initial_id",
   "metadata": {
    "ExecuteTime": {
     "end_time": "2023-11-21T14:34:49.076124454Z",
     "start_time": "2023-11-21T14:34:45.245187041Z"
    },
    "collapsed": false
   },
   "outputs": [
    {
     "name": "stderr",
     "output_type": "stream",
     "text": [
      "/tmp/ipykernel_2871324/3721360103.py:1: DeprecationWarning: \n",
      "Pyarrow will become a required dependency of pandas in the next major release of pandas (pandas 3.0),\n",
      "(to allow more performant data types, such as the Arrow string type, and better interoperability with other libraries)\n",
      "but was not found to be installed on your system.\n",
      "If this would cause problems for you,\n",
      "please provide us feedback at https://github.com/pandas-dev/pandas/issues/54466\n",
      "        \n",
      "  import pandas as pd\n",
      "2024-01-24 13:51:21.430261: I tensorflow/tsl/cuda/cudart_stub.cc:28] Could not find cuda drivers on your machine, GPU will not be used.\n",
      "2024-01-24 13:51:21.503248: E tensorflow/compiler/xla/stream_executor/cuda/cuda_dnn.cc:9342] Unable to register cuDNN factory: Attempting to register factory for plugin cuDNN when one has already been registered\n",
      "2024-01-24 13:51:21.503298: E tensorflow/compiler/xla/stream_executor/cuda/cuda_fft.cc:609] Unable to register cuFFT factory: Attempting to register factory for plugin cuFFT when one has already been registered\n",
      "2024-01-24 13:51:21.503330: E tensorflow/compiler/xla/stream_executor/cuda/cuda_blas.cc:1518] Unable to register cuBLAS factory: Attempting to register factory for plugin cuBLAS when one has already been registered\n",
      "2024-01-24 13:51:21.511452: I tensorflow/tsl/cuda/cudart_stub.cc:28] Could not find cuda drivers on your machine, GPU will not be used.\n",
      "2024-01-24 13:51:21.512786: I tensorflow/core/platform/cpu_feature_guard.cc:182] This TensorFlow binary is optimized to use available CPU instructions in performance-critical operations.\n",
      "To enable the following instructions: AVX2 AVX512F FMA, in other operations, rebuild TensorFlow with the appropriate compiler flags.\n",
      "2024-01-24 13:51:23.170812: W tensorflow/compiler/tf2tensorrt/utils/py_utils.cc:38] TF-TRT Warning: Could not find TensorRT\n",
      "Skipped loading modules with pytorch-lightning dependency, missing a dependency. No module named 'pytorch_lightning'\n",
      "Skipped loading some Jax models, missing a dependency. No module named 'jax'\n"
     ]
    }
   ],
   "source": [
    "import pandas as pd\n",
    "from deepmol.pipeline import Pipeline"
   ]
  },
  {
   "cell_type": "code",
   "execution_count": 3,
   "id": "6753179565f6d258",
   "metadata": {
    "ExecuteTime": {
     "end_time": "2023-11-21T14:34:49.090509440Z",
     "start_time": "2023-11-21T14:34:49.074929370Z"
    },
    "collapsed": false
   },
   "outputs": [
    {
     "data": {
      "text/html": [
       "<div>\n",
       "<style scoped>\n",
       "    .dataframe tbody tr th:only-of-type {\n",
       "        vertical-align: middle;\n",
       "    }\n",
       "\n",
       "    .dataframe tbody tr th {\n",
       "        vertical-align: top;\n",
       "    }\n",
       "\n",
       "    .dataframe thead th {\n",
       "        text-align: right;\n",
       "    }\n",
       "</style>\n",
       "<table border=\"1\" class=\"dataframe\">\n",
       "  <thead>\n",
       "    <tr style=\"text-align: right;\">\n",
       "      <th></th>\n",
       "      <th>Trial</th>\n",
       "      <th>Average</th>\n",
       "      <th>Std</th>\n",
       "    </tr>\n",
       "  </thead>\n",
       "  <tbody>\n",
       "    <tr>\n",
       "      <th>0</th>\n",
       "      <td>89.0</td>\n",
       "      <td>0.763</td>\n",
       "      <td>0.015</td>\n",
       "    </tr>\n",
       "    <tr>\n",
       "      <th>1</th>\n",
       "      <td>36.0</td>\n",
       "      <td>0.648</td>\n",
       "      <td>0.012</td>\n",
       "    </tr>\n",
       "    <tr>\n",
       "      <th>2</th>\n",
       "      <td>32.0</td>\n",
       "      <td>0.658</td>\n",
       "      <td>0.008</td>\n",
       "    </tr>\n",
       "    <tr>\n",
       "      <th>3</th>\n",
       "      <td>33.0</td>\n",
       "      <td>0.665</td>\n",
       "      <td>0.003</td>\n",
       "    </tr>\n",
       "    <tr>\n",
       "      <th>4</th>\n",
       "      <td>91.0</td>\n",
       "      <td>0.746</td>\n",
       "      <td>0.019</td>\n",
       "    </tr>\n",
       "    <tr>\n",
       "      <th>5</th>\n",
       "      <td>26.0</td>\n",
       "      <td>0.638</td>\n",
       "      <td>0.007</td>\n",
       "    </tr>\n",
       "    <tr>\n",
       "      <th>6</th>\n",
       "      <td>77.0</td>\n",
       "      <td>0.726</td>\n",
       "      <td>0.016</td>\n",
       "    </tr>\n",
       "    <tr>\n",
       "      <th>7</th>\n",
       "      <td>35.0</td>\n",
       "      <td>0.671</td>\n",
       "      <td>0.013</td>\n",
       "    </tr>\n",
       "    <tr>\n",
       "      <th>8</th>\n",
       "      <td>84.0</td>\n",
       "      <td>0.630</td>\n",
       "      <td>0.018</td>\n",
       "    </tr>\n",
       "    <tr>\n",
       "      <th>9</th>\n",
       "      <td>80.0</td>\n",
       "      <td>0.692</td>\n",
       "      <td>0.022</td>\n",
       "    </tr>\n",
       "  </tbody>\n",
       "</table>\n",
       "</div>"
      ],
      "text/plain": [
       "   Trial  Average    Std\n",
       "0   89.0    0.763  0.015\n",
       "1   36.0    0.648  0.012\n",
       "2   32.0    0.658  0.008\n",
       "3   33.0    0.665  0.003\n",
       "4   91.0    0.746  0.019\n",
       "5   26.0    0.638  0.007\n",
       "6   77.0    0.726  0.016\n",
       "7   35.0    0.671  0.013\n",
       "8   84.0    0.630  0.018\n",
       "9   80.0    0.692  0.022"
      ]
     },
     "execution_count": 3,
     "metadata": {},
     "output_type": "execute_result"
    }
   ],
   "source": [
    "# read results\n",
    "results = pd.read_csv('herg_test_set.csv', sep=',')\n",
    "# set columns\n",
    "results\n",
    "# order res"
   ]
  },
  {
   "cell_type": "code",
   "execution_count": 4,
   "id": "c418a24aeebde864",
   "metadata": {
    "ExecuteTime": {
     "end_time": "2023-11-21T14:34:49.108405677Z",
     "start_time": "2023-11-21T14:34:49.091462724Z"
    },
    "collapsed": false
   },
   "outputs": [
    {
     "name": "stderr",
     "output_type": "stream",
     "text": [
      "/home/jcapela/miniforge3/envs/deepmol/lib/python3.10/site-packages/deepmol/compound_featurization/__init__.py:20: UserWarning: Mol2Vec not available. Please install it to use it. (pip install git+https://github.com/samoturk/mol2vec#egg=mol2vec)\n",
      "  warnings.warn(\"Mol2Vec not available. Please install it to use it. \"\n",
      "2024-01-24 13:51:55.067171: W tensorflow/core/common_runtime/gpu/gpu_device.cc:2211] Cannot dlopen some GPU libraries. Please make sure the missing libraries mentioned above are installed properly if you would like to use GPU. Follow the guide at https://www.tensorflow.org/install/gpu for how to download and setup the required libraries for your platform.\n",
      "Skipping registering GPU devices...\n"
     ]
    }
   ],
   "source": [
    "pipeline = Pipeline.load('herg/trial_89')"
   ]
  },
  {
   "cell_type": "code",
   "execution_count": 7,
   "id": "83a260a2",
   "metadata": {},
   "outputs": [
    {
     "data": {
      "text/plain": [
       "<deepchem.models.graph_models.GraphConvModel at 0x7f67790dfac0>"
      ]
     },
     "execution_count": 7,
     "metadata": {},
     "output_type": "execute_result"
    }
   ],
   "source": [
    "pipeline.steps[-1][1].model"
   ]
  },
  {
   "cell_type": "code",
   "execution_count": 4,
   "id": "90e40046d6b150ce",
   "metadata": {
    "ExecuteTime": {
     "end_time": "2023-11-11T21:04:06.483836045Z",
     "start_time": "2023-11-11T21:04:05.991307378Z"
    },
    "collapsed": false
   },
   "outputs": [
    {
     "name": "stderr",
     "output_type": "stream",
     "text": [
      "[21:04:06] Initializing Normalizer\n",
      "2023-11-11 21:04:06.125985: E tensorflow/compiler/xla/stream_executor/cuda/cuda_driver.cc:266] failed call to cuInit: CUDA_ERROR_UNKNOWN: unknown error\n",
      "2023-11-11 21:04:06.126034: I tensorflow/compiler/xla/stream_executor/cuda/cuda_diagnostics.cc:168] retrieving CUDA diagnostic information for host: JOAOPC\n",
      "2023-11-11 21:04:06.126094: I tensorflow/compiler/xla/stream_executor/cuda/cuda_diagnostics.cc:175] hostname: JOAOPC\n",
      "2023-11-11 21:04:06.126213: I tensorflow/compiler/xla/stream_executor/cuda/cuda_diagnostics.cc:199] libcuda reported version is: 525.147.5\n",
      "2023-11-11 21:04:06.126235: I tensorflow/compiler/xla/stream_executor/cuda/cuda_diagnostics.cc:203] kernel reported version is: 525.147.5\n",
      "2023-11-11 21:04:06.126240: I tensorflow/compiler/xla/stream_executor/cuda/cuda_diagnostics.cc:309] kernel version seems to match DSO: 525.147.5\n"
     ]
    }
   ],
   "source": [
    "# load best trial pipeline (rank #20)\n",
    "best_trial_id = int(results.iloc[0]['trial_id'])\n",
    "pipeline = Pipeline.load(f\"herg/trial_{best_trial_id}/\")"
   ]
  },
  {
   "cell_type": "code",
   "execution_count": 5,
   "id": "aca45806698765d8",
   "metadata": {
    "ExecuteTime": {
     "end_time": "2023-11-11T21:04:41.496928194Z",
     "start_time": "2023-11-11T21:04:41.450101162Z"
    },
    "collapsed": false
   },
   "outputs": [
    {
     "data": {
      "text/plain": [
       "[('label_encoder',\n",
       "  <deepmol.base.transformer.PassThroughTransformer at 0x7f97dd83e740>),\n",
       " ('standardizer',\n",
       "  <deepmol.standardizer.custom_standardizer.CustomStandardizer at 0x7f97dd83e440>),\n",
       " ('featurizer',\n",
       "  <deepmol.compound_featurization.rdkit_fingerprints.RDKFingerprint at 0x7f97dd83e860>),\n",
       " ('scaler',\n",
       "  <deepmol.base.transformer.PassThroughTransformer at 0x7f97dda3d3f0>),\n",
       " ('model',\n",
       "  KerasModel(model_builder=<function keras_1d_cnn_model_builder at 0x7f970fc90d30>,\n",
       "             model_dir='/tmp/tmp1rk748t7'))]"
      ]
     },
     "execution_count": 5,
     "metadata": {},
     "output_type": "execute_result"
    }
   ],
   "source": [
    "pipeline.steps"
   ]
  },
  {
   "cell_type": "code",
   "execution_count": null,
   "id": "74ca8a552f18c430",
   "metadata": {
    "collapsed": false
   },
   "outputs": [],
   "source": []
  }
 ],
 "metadata": {
  "kernelspec": {
   "display_name": "Python 3",
   "language": "python",
   "name": "python3"
  },
  "language_info": {
   "codemirror_mode": {
    "name": "ipython",
    "version": 3
   },
   "file_extension": ".py",
   "mimetype": "text/x-python",
   "name": "python",
   "nbconvert_exporter": "python",
   "pygments_lexer": "ipython3",
   "version": "3.10.13"
  }
 },
 "nbformat": 4,
 "nbformat_minor": 5
}
