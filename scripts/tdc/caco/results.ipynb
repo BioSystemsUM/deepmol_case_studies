{
 "cells": [
  {
   "cell_type": "markdown",
   "source": [
    "# Caco-2 (Cell Effective Permeability), Wang et al.\n",
    "\n",
    "### Dataset Description: The human colon epithelial cancer cell line, Caco-2, is used as an in vitro model to simulate the human intestinal tissue. The experimental result on the rate of drug passing through the Caco-2 cells can approximate the rate at which the drug permeates through the human intestinal tissue.\n",
    "\n",
    "### Task Description: Regression. Given a drug SMILES string, predict the Caco-2 cell effective permeability.\n",
    "\n",
    "### Dataset Statistics: 906 drugs.\n",
    "\n",
    "### Metric: MAE\n",
    "\n",
    "## Leaderboard\n",
    "\n",
    "| Rank | Model                       | Contact        | Link          | #Params   | MAE           |\n",
    "|------|-----------------------------|----------------|---------------|-----------|---------------|\n",
    "| 1    | MapLight                    | Jim Notwell    | GitHub, Paper | N/A       | 0.276 ± 0.005 |\n",
    "| 2    | BaseBoosting                | Andrew Li      | GitHub, Paper | 365,713   | 0.285 ± 0.005 |\n",
    "| 3    | MolMapNet-D                 | Shen Wan Xiang | GitHub, Paper | 407,617   | 0.287 ± 0.005 |\n",
    "| 4    | MapLight + GNN              | Jim Notwell    | GitHub, Paper | N/A       | 0.287 ± 0.005 |\n",
    "| 5    | XGBoost                     | Andrew Li      | GitHub, Paper | 12        | 0.289 ± 0.011 |\n",
    "| 6    | Basic ML                    | Nilavo Boral   | GitHub, Paper | N/A       | 0.321 ± 0.005 |\n",
    "| 7    | Chemprop-RDKit              | Kyle Swanson   | GitHub, Paper | N/A       | 0.330 ± 0.024 |\n",
    "| 8    | Euclia ML model             | Euclia         | GitHub, Paper | 50        | 0.341 ± 0.004 |\n",
    "| 9    | Chemprop                    | Kyle Swanson   | GitHub, Paper | N/A       | 0.344 ± 0.015 |\n",
    "| 10   | RDKit2D + MLP (DeepPurpose) | Kexin Huang    | GitHub, Paper | 633,409   | 0.393 ± 0.024 |\n",
    "| 11   | AttentiveFP                 | Kexin Huang    | GitHub, Paper | 300,806   | 0.401 ± 0.032 |\n",
    "| 12   | CNN (DeepPurpose)           | Kexin Huang    | GitHub, Paper | 226,625   | 0.446 ± 0.036 |\n",
    "| 13   | ContextPred                 | Kexin Huang    | GitHub, Paper | 2,067,053 | 0.502 ± 0.036 |\n",
    "| 14   | NeuralFP                    | Kexin Huang    | GitHub, Paper | 480,193   | 0.530 ± 0.102 |\n",
    "| 15   | AttrMasking                 | Kexin Huang    | GitHub, Paper | 2,067,053 | 0.546 ± 0.052 |\n",
    "| 16   | GCN                         | Kexin Huang    | GitHub, Paper | 191,810   | 0.599 ± 0.104 |\n",
    "| 17   | Morgan + MLP (DeepPurpose)  | Kexin Huang    | GitHub, Paper | 1,477,185 | 0.908 ± 0.060 |"
   ],
   "metadata": {
    "collapsed": false
   },
   "id": "86a59e63e6143206"
  },
  {
   "cell_type": "code",
   "execution_count": 1,
   "outputs": [
    {
     "name": "stderr",
     "output_type": "stream",
     "text": [
      "2023-11-08 14:42:24.939300: I tensorflow/tsl/cuda/cudart_stub.cc:28] Could not find cuda drivers on your machine, GPU will not be used.\n",
      "2023-11-08 14:42:24.973119: I tensorflow/tsl/cuda/cudart_stub.cc:28] Could not find cuda drivers on your machine, GPU will not be used.\n",
      "2023-11-08 14:42:24.973908: I tensorflow/core/platform/cpu_feature_guard.cc:182] This TensorFlow binary is optimized to use available CPU instructions in performance-critical operations.\n",
      "To enable the following instructions: AVX2 FMA, in other operations, rebuild TensorFlow with the appropriate compiler flags.\n",
      "2023-11-08 14:42:25.539200: W tensorflow/compiler/tf2tensorrt/utils/py_utils.cc:38] TF-TRT Warning: Could not find TensorRT\n",
      "Skipped loading modules with pytorch-lightning dependency, missing a dependency. No module named 'pytorch_lightning'\n",
      "Skipped loading some Jax models, missing a dependency. jax requires jaxlib to be installed. See https://github.com/google/jax#installation for installation instructions.\n"
     ]
    }
   ],
   "source": [
    "import pandas as pd\n",
    "from deepmol.pipeline import Pipeline"
   ],
   "metadata": {
    "collapsed": false,
    "ExecuteTime": {
     "end_time": "2023-11-08T14:42:27.624988180Z",
     "start_time": "2023-11-08T14:42:24.566752635Z"
    }
   },
   "id": "initial_id"
  },
  {
   "cell_type": "code",
   "execution_count": 2,
   "outputs": [
    {
     "data": {
      "text/plain": "    trial_id   mean    std\n0          0  0.458  0.004\n1          1  0.603  0.058\n2          2  0.570  0.023\n3          4  0.464  0.008\n4          5  1.366  0.142\n5          6  0.463  0.048\n6          7  0.580  0.042\n7          8  0.773  0.153\n8          9  0.620  0.087\n9         10  0.357  0.008\n10        11  0.372  0.041\n11        12  0.357  0.011\n12        13  0.573  0.094\n13        21  0.376  0.016\n14        22  0.361  0.021\n15        24  0.557  0.017\n16        25  0.571  0.098\n17        29  1.656  0.056\n18        33  0.372  0.032\n19        34  4.993  0.135\n20        35  0.392  0.010\n21        36  0.382  0.019\n22        37  5.129  0.022\n23        38  0.426  0.033\n24        41  0.387  0.020\n25        42  0.397  0.023\n26        43  0.443  0.077\n27        45  2.400  0.926\n28        50  0.511  0.022\n29        51  0.393  0.011\n30        52  0.411  0.036\n31        53  0.400  0.022\n32        54  0.413  0.052\n33        57  5.030  0.372\n34        58  0.559  0.007\n35        60  0.643  0.021\n36        61  0.400  0.017\n37        62  0.392  0.023\n38        64  0.370  0.018\n39        65  1.145  0.588\n40        66  0.543  0.012\n41        68  0.494  0.028\n42        69  5.647  0.310\n43        76  0.911  0.138\n44        80  0.564  0.001\n45        88  0.496  0.070\n46        97  0.607  0.025",
      "text/html": "<div>\n<style scoped>\n    .dataframe tbody tr th:only-of-type {\n        vertical-align: middle;\n    }\n\n    .dataframe tbody tr th {\n        vertical-align: top;\n    }\n\n    .dataframe thead th {\n        text-align: right;\n    }\n</style>\n<table border=\"1\" class=\"dataframe\">\n  <thead>\n    <tr style=\"text-align: right;\">\n      <th></th>\n      <th>trial_id</th>\n      <th>mean</th>\n      <th>std</th>\n    </tr>\n  </thead>\n  <tbody>\n    <tr>\n      <th>0</th>\n      <td>0</td>\n      <td>0.458</td>\n      <td>0.004</td>\n    </tr>\n    <tr>\n      <th>1</th>\n      <td>1</td>\n      <td>0.603</td>\n      <td>0.058</td>\n    </tr>\n    <tr>\n      <th>2</th>\n      <td>2</td>\n      <td>0.570</td>\n      <td>0.023</td>\n    </tr>\n    <tr>\n      <th>3</th>\n      <td>4</td>\n      <td>0.464</td>\n      <td>0.008</td>\n    </tr>\n    <tr>\n      <th>4</th>\n      <td>5</td>\n      <td>1.366</td>\n      <td>0.142</td>\n    </tr>\n    <tr>\n      <th>5</th>\n      <td>6</td>\n      <td>0.463</td>\n      <td>0.048</td>\n    </tr>\n    <tr>\n      <th>6</th>\n      <td>7</td>\n      <td>0.580</td>\n      <td>0.042</td>\n    </tr>\n    <tr>\n      <th>7</th>\n      <td>8</td>\n      <td>0.773</td>\n      <td>0.153</td>\n    </tr>\n    <tr>\n      <th>8</th>\n      <td>9</td>\n      <td>0.620</td>\n      <td>0.087</td>\n    </tr>\n    <tr>\n      <th>9</th>\n      <td>10</td>\n      <td>0.357</td>\n      <td>0.008</td>\n    </tr>\n    <tr>\n      <th>10</th>\n      <td>11</td>\n      <td>0.372</td>\n      <td>0.041</td>\n    </tr>\n    <tr>\n      <th>11</th>\n      <td>12</td>\n      <td>0.357</td>\n      <td>0.011</td>\n    </tr>\n    <tr>\n      <th>12</th>\n      <td>13</td>\n      <td>0.573</td>\n      <td>0.094</td>\n    </tr>\n    <tr>\n      <th>13</th>\n      <td>21</td>\n      <td>0.376</td>\n      <td>0.016</td>\n    </tr>\n    <tr>\n      <th>14</th>\n      <td>22</td>\n      <td>0.361</td>\n      <td>0.021</td>\n    </tr>\n    <tr>\n      <th>15</th>\n      <td>24</td>\n      <td>0.557</td>\n      <td>0.017</td>\n    </tr>\n    <tr>\n      <th>16</th>\n      <td>25</td>\n      <td>0.571</td>\n      <td>0.098</td>\n    </tr>\n    <tr>\n      <th>17</th>\n      <td>29</td>\n      <td>1.656</td>\n      <td>0.056</td>\n    </tr>\n    <tr>\n      <th>18</th>\n      <td>33</td>\n      <td>0.372</td>\n      <td>0.032</td>\n    </tr>\n    <tr>\n      <th>19</th>\n      <td>34</td>\n      <td>4.993</td>\n      <td>0.135</td>\n    </tr>\n    <tr>\n      <th>20</th>\n      <td>35</td>\n      <td>0.392</td>\n      <td>0.010</td>\n    </tr>\n    <tr>\n      <th>21</th>\n      <td>36</td>\n      <td>0.382</td>\n      <td>0.019</td>\n    </tr>\n    <tr>\n      <th>22</th>\n      <td>37</td>\n      <td>5.129</td>\n      <td>0.022</td>\n    </tr>\n    <tr>\n      <th>23</th>\n      <td>38</td>\n      <td>0.426</td>\n      <td>0.033</td>\n    </tr>\n    <tr>\n      <th>24</th>\n      <td>41</td>\n      <td>0.387</td>\n      <td>0.020</td>\n    </tr>\n    <tr>\n      <th>25</th>\n      <td>42</td>\n      <td>0.397</td>\n      <td>0.023</td>\n    </tr>\n    <tr>\n      <th>26</th>\n      <td>43</td>\n      <td>0.443</td>\n      <td>0.077</td>\n    </tr>\n    <tr>\n      <th>27</th>\n      <td>45</td>\n      <td>2.400</td>\n      <td>0.926</td>\n    </tr>\n    <tr>\n      <th>28</th>\n      <td>50</td>\n      <td>0.511</td>\n      <td>0.022</td>\n    </tr>\n    <tr>\n      <th>29</th>\n      <td>51</td>\n      <td>0.393</td>\n      <td>0.011</td>\n    </tr>\n    <tr>\n      <th>30</th>\n      <td>52</td>\n      <td>0.411</td>\n      <td>0.036</td>\n    </tr>\n    <tr>\n      <th>31</th>\n      <td>53</td>\n      <td>0.400</td>\n      <td>0.022</td>\n    </tr>\n    <tr>\n      <th>32</th>\n      <td>54</td>\n      <td>0.413</td>\n      <td>0.052</td>\n    </tr>\n    <tr>\n      <th>33</th>\n      <td>57</td>\n      <td>5.030</td>\n      <td>0.372</td>\n    </tr>\n    <tr>\n      <th>34</th>\n      <td>58</td>\n      <td>0.559</td>\n      <td>0.007</td>\n    </tr>\n    <tr>\n      <th>35</th>\n      <td>60</td>\n      <td>0.643</td>\n      <td>0.021</td>\n    </tr>\n    <tr>\n      <th>36</th>\n      <td>61</td>\n      <td>0.400</td>\n      <td>0.017</td>\n    </tr>\n    <tr>\n      <th>37</th>\n      <td>62</td>\n      <td>0.392</td>\n      <td>0.023</td>\n    </tr>\n    <tr>\n      <th>38</th>\n      <td>64</td>\n      <td>0.370</td>\n      <td>0.018</td>\n    </tr>\n    <tr>\n      <th>39</th>\n      <td>65</td>\n      <td>1.145</td>\n      <td>0.588</td>\n    </tr>\n    <tr>\n      <th>40</th>\n      <td>66</td>\n      <td>0.543</td>\n      <td>0.012</td>\n    </tr>\n    <tr>\n      <th>41</th>\n      <td>68</td>\n      <td>0.494</td>\n      <td>0.028</td>\n    </tr>\n    <tr>\n      <th>42</th>\n      <td>69</td>\n      <td>5.647</td>\n      <td>0.310</td>\n    </tr>\n    <tr>\n      <th>43</th>\n      <td>76</td>\n      <td>0.911</td>\n      <td>0.138</td>\n    </tr>\n    <tr>\n      <th>44</th>\n      <td>80</td>\n      <td>0.564</td>\n      <td>0.001</td>\n    </tr>\n    <tr>\n      <th>45</th>\n      <td>88</td>\n      <td>0.496</td>\n      <td>0.070</td>\n    </tr>\n    <tr>\n      <th>46</th>\n      <td>97</td>\n      <td>0.607</td>\n      <td>0.025</td>\n    </tr>\n  </tbody>\n</table>\n</div>"
     },
     "execution_count": 2,
     "metadata": {},
     "output_type": "execute_result"
    }
   ],
   "source": [
    "# read results\n",
    "results = pd.read_csv('caco/tdc_test_set_results.txt', sep=',', header=None, dtype={0: int, 1: float, 2: float})\n",
    "# set columns\n",
    "results.columns = ['trial_id', 'mean', 'std']\n",
    "results\n",
    "# order res"
   ],
   "metadata": {
    "collapsed": false,
    "ExecuteTime": {
     "end_time": "2023-11-08T14:42:32.977074020Z",
     "start_time": "2023-11-08T14:42:32.965005296Z"
    }
   },
   "id": "6753179565f6d258"
  },
  {
   "cell_type": "code",
   "execution_count": 4,
   "outputs": [
    {
     "data": {
      "text/plain": "    trial_id   mean    std\n9         10  0.357  0.008\n11        12  0.357  0.011\n14        22  0.361  0.021\n38        64  0.370  0.018\n18        33  0.372  0.032\n10        11  0.372  0.041\n13        21  0.376  0.016\n21        36  0.382  0.019\n24        41  0.387  0.020\n20        35  0.392  0.010\n37        62  0.392  0.023\n29        51  0.393  0.011\n25        42  0.397  0.023\n36        61  0.400  0.017\n31        53  0.400  0.022\n30        52  0.411  0.036\n32        54  0.413  0.052\n23        38  0.426  0.033\n26        43  0.443  0.077\n0          0  0.458  0.004\n5          6  0.463  0.048\n3          4  0.464  0.008\n41        68  0.494  0.028\n45        88  0.496  0.070\n28        50  0.511  0.022\n40        66  0.543  0.012\n15        24  0.557  0.017\n34        58  0.559  0.007\n44        80  0.564  0.001\n2          2  0.570  0.023\n16        25  0.571  0.098\n12        13  0.573  0.094\n6          7  0.580  0.042\n1          1  0.603  0.058\n46        97  0.607  0.025\n8          9  0.620  0.087\n35        60  0.643  0.021\n7          8  0.773  0.153\n43        76  0.911  0.138\n39        65  1.145  0.588\n4          5  1.366  0.142\n17        29  1.656  0.056\n27        45  2.400  0.926\n19        34  4.993  0.135\n33        57  5.030  0.372\n22        37  5.129  0.022\n42        69  5.647  0.310",
      "text/html": "<div>\n<style scoped>\n    .dataframe tbody tr th:only-of-type {\n        vertical-align: middle;\n    }\n\n    .dataframe tbody tr th {\n        vertical-align: top;\n    }\n\n    .dataframe thead th {\n        text-align: right;\n    }\n</style>\n<table border=\"1\" class=\"dataframe\">\n  <thead>\n    <tr style=\"text-align: right;\">\n      <th></th>\n      <th>trial_id</th>\n      <th>mean</th>\n      <th>std</th>\n    </tr>\n  </thead>\n  <tbody>\n    <tr>\n      <th>9</th>\n      <td>10</td>\n      <td>0.357</td>\n      <td>0.008</td>\n    </tr>\n    <tr>\n      <th>11</th>\n      <td>12</td>\n      <td>0.357</td>\n      <td>0.011</td>\n    </tr>\n    <tr>\n      <th>14</th>\n      <td>22</td>\n      <td>0.361</td>\n      <td>0.021</td>\n    </tr>\n    <tr>\n      <th>38</th>\n      <td>64</td>\n      <td>0.370</td>\n      <td>0.018</td>\n    </tr>\n    <tr>\n      <th>18</th>\n      <td>33</td>\n      <td>0.372</td>\n      <td>0.032</td>\n    </tr>\n    <tr>\n      <th>10</th>\n      <td>11</td>\n      <td>0.372</td>\n      <td>0.041</td>\n    </tr>\n    <tr>\n      <th>13</th>\n      <td>21</td>\n      <td>0.376</td>\n      <td>0.016</td>\n    </tr>\n    <tr>\n      <th>21</th>\n      <td>36</td>\n      <td>0.382</td>\n      <td>0.019</td>\n    </tr>\n    <tr>\n      <th>24</th>\n      <td>41</td>\n      <td>0.387</td>\n      <td>0.020</td>\n    </tr>\n    <tr>\n      <th>20</th>\n      <td>35</td>\n      <td>0.392</td>\n      <td>0.010</td>\n    </tr>\n    <tr>\n      <th>37</th>\n      <td>62</td>\n      <td>0.392</td>\n      <td>0.023</td>\n    </tr>\n    <tr>\n      <th>29</th>\n      <td>51</td>\n      <td>0.393</td>\n      <td>0.011</td>\n    </tr>\n    <tr>\n      <th>25</th>\n      <td>42</td>\n      <td>0.397</td>\n      <td>0.023</td>\n    </tr>\n    <tr>\n      <th>36</th>\n      <td>61</td>\n      <td>0.400</td>\n      <td>0.017</td>\n    </tr>\n    <tr>\n      <th>31</th>\n      <td>53</td>\n      <td>0.400</td>\n      <td>0.022</td>\n    </tr>\n    <tr>\n      <th>30</th>\n      <td>52</td>\n      <td>0.411</td>\n      <td>0.036</td>\n    </tr>\n    <tr>\n      <th>32</th>\n      <td>54</td>\n      <td>0.413</td>\n      <td>0.052</td>\n    </tr>\n    <tr>\n      <th>23</th>\n      <td>38</td>\n      <td>0.426</td>\n      <td>0.033</td>\n    </tr>\n    <tr>\n      <th>26</th>\n      <td>43</td>\n      <td>0.443</td>\n      <td>0.077</td>\n    </tr>\n    <tr>\n      <th>0</th>\n      <td>0</td>\n      <td>0.458</td>\n      <td>0.004</td>\n    </tr>\n    <tr>\n      <th>5</th>\n      <td>6</td>\n      <td>0.463</td>\n      <td>0.048</td>\n    </tr>\n    <tr>\n      <th>3</th>\n      <td>4</td>\n      <td>0.464</td>\n      <td>0.008</td>\n    </tr>\n    <tr>\n      <th>41</th>\n      <td>68</td>\n      <td>0.494</td>\n      <td>0.028</td>\n    </tr>\n    <tr>\n      <th>45</th>\n      <td>88</td>\n      <td>0.496</td>\n      <td>0.070</td>\n    </tr>\n    <tr>\n      <th>28</th>\n      <td>50</td>\n      <td>0.511</td>\n      <td>0.022</td>\n    </tr>\n    <tr>\n      <th>40</th>\n      <td>66</td>\n      <td>0.543</td>\n      <td>0.012</td>\n    </tr>\n    <tr>\n      <th>15</th>\n      <td>24</td>\n      <td>0.557</td>\n      <td>0.017</td>\n    </tr>\n    <tr>\n      <th>34</th>\n      <td>58</td>\n      <td>0.559</td>\n      <td>0.007</td>\n    </tr>\n    <tr>\n      <th>44</th>\n      <td>80</td>\n      <td>0.564</td>\n      <td>0.001</td>\n    </tr>\n    <tr>\n      <th>2</th>\n      <td>2</td>\n      <td>0.570</td>\n      <td>0.023</td>\n    </tr>\n    <tr>\n      <th>16</th>\n      <td>25</td>\n      <td>0.571</td>\n      <td>0.098</td>\n    </tr>\n    <tr>\n      <th>12</th>\n      <td>13</td>\n      <td>0.573</td>\n      <td>0.094</td>\n    </tr>\n    <tr>\n      <th>6</th>\n      <td>7</td>\n      <td>0.580</td>\n      <td>0.042</td>\n    </tr>\n    <tr>\n      <th>1</th>\n      <td>1</td>\n      <td>0.603</td>\n      <td>0.058</td>\n    </tr>\n    <tr>\n      <th>46</th>\n      <td>97</td>\n      <td>0.607</td>\n      <td>0.025</td>\n    </tr>\n    <tr>\n      <th>8</th>\n      <td>9</td>\n      <td>0.620</td>\n      <td>0.087</td>\n    </tr>\n    <tr>\n      <th>35</th>\n      <td>60</td>\n      <td>0.643</td>\n      <td>0.021</td>\n    </tr>\n    <tr>\n      <th>7</th>\n      <td>8</td>\n      <td>0.773</td>\n      <td>0.153</td>\n    </tr>\n    <tr>\n      <th>43</th>\n      <td>76</td>\n      <td>0.911</td>\n      <td>0.138</td>\n    </tr>\n    <tr>\n      <th>39</th>\n      <td>65</td>\n      <td>1.145</td>\n      <td>0.588</td>\n    </tr>\n    <tr>\n      <th>4</th>\n      <td>5</td>\n      <td>1.366</td>\n      <td>0.142</td>\n    </tr>\n    <tr>\n      <th>17</th>\n      <td>29</td>\n      <td>1.656</td>\n      <td>0.056</td>\n    </tr>\n    <tr>\n      <th>27</th>\n      <td>45</td>\n      <td>2.400</td>\n      <td>0.926</td>\n    </tr>\n    <tr>\n      <th>19</th>\n      <td>34</td>\n      <td>4.993</td>\n      <td>0.135</td>\n    </tr>\n    <tr>\n      <th>33</th>\n      <td>57</td>\n      <td>5.030</td>\n      <td>0.372</td>\n    </tr>\n    <tr>\n      <th>22</th>\n      <td>37</td>\n      <td>5.129</td>\n      <td>0.022</td>\n    </tr>\n    <tr>\n      <th>42</th>\n      <td>69</td>\n      <td>5.647</td>\n      <td>0.310</td>\n    </tr>\n  </tbody>\n</table>\n</div>"
     },
     "execution_count": 4,
     "metadata": {},
     "output_type": "execute_result"
    }
   ],
   "source": [
    "# order results by mean (std in case of tie)\n",
    "results = results.sort_values(by=['mean', 'std'], ascending=True)\n",
    "results"
   ],
   "metadata": {
    "collapsed": false,
    "ExecuteTime": {
     "end_time": "2023-11-08T14:42:55.819395242Z",
     "start_time": "2023-11-08T14:42:55.776285091Z"
    }
   },
   "id": "c418a24aeebde864"
  },
  {
   "cell_type": "code",
   "execution_count": 6,
   "outputs": [
    {
     "name": "stderr",
     "output_type": "stream",
     "text": [
      "[14:43:35] Initializing Normalizer\n"
     ]
    },
    {
     "ename": "FileNotFoundError",
     "evalue": "[Errno 2] No such file or directory: '/tmp/tmpvy5i7n9v/model.pkl'",
     "output_type": "error",
     "traceback": [
      "\u001B[0;31m---------------------------------------------------------------------------\u001B[0m",
      "\u001B[0;31mFileNotFoundError\u001B[0m                         Traceback (most recent call last)",
      "Cell \u001B[0;32mIn[6], line 3\u001B[0m\n\u001B[1;32m      1\u001B[0m \u001B[38;5;66;03m# load best trial pipeline (rank #8)\u001B[39;00m\n\u001B[1;32m      2\u001B[0m best_trial_id \u001B[38;5;241m=\u001B[39m \u001B[38;5;28mint\u001B[39m(results\u001B[38;5;241m.\u001B[39miloc[\u001B[38;5;241m0\u001B[39m][\u001B[38;5;124m'\u001B[39m\u001B[38;5;124mtrial_id\u001B[39m\u001B[38;5;124m'\u001B[39m])\n\u001B[0;32m----> 3\u001B[0m pipeline \u001B[38;5;241m=\u001B[39m \u001B[43mPipeline\u001B[49m\u001B[38;5;241;43m.\u001B[39;49m\u001B[43mload\u001B[49m\u001B[43m(\u001B[49m\u001B[38;5;124;43mf\u001B[39;49m\u001B[38;5;124;43m\"\u001B[39;49m\u001B[38;5;124;43mcaco/trial_\u001B[39;49m\u001B[38;5;132;43;01m{\u001B[39;49;00m\u001B[43mbest_trial_id\u001B[49m\u001B[38;5;132;43;01m}\u001B[39;49;00m\u001B[38;5;124;43m/\u001B[39;49m\u001B[38;5;124;43m\"\u001B[39;49m\u001B[43m)\u001B[49m\n",
      "File \u001B[0;32m~/anaconda3/envs/deepmol_case_studies/lib/python3.10/site-packages/deepmol/pipeline/pipeline.py:340\u001B[0m, in \u001B[0;36mPipeline.load\u001B[0;34m(cls, path)\u001B[0m\n\u001B[1;32m    338\u001B[0m     steps\u001B[38;5;241m.\u001B[39mappend((step_name, transformer))\n\u001B[1;32m    339\u001B[0m \u001B[38;5;28;01melif\u001B[39;00m step[\u001B[38;5;124m'\u001B[39m\u001B[38;5;124mtype\u001B[39m\u001B[38;5;124m'\u001B[39m] \u001B[38;5;241m==\u001B[39m \u001B[38;5;124m'\u001B[39m\u001B[38;5;124mpredictor\u001B[39m\u001B[38;5;124m'\u001B[39m:\n\u001B[0;32m--> 340\u001B[0m     predictor \u001B[38;5;241m=\u001B[39m \u001B[43m_get_predictor_instance\u001B[49m\u001B[43m(\u001B[49m\u001B[43mstep\u001B[49m\u001B[43m[\u001B[49m\u001B[38;5;124;43m'\u001B[39;49m\u001B[38;5;124;43mmodel_type\u001B[39;49m\u001B[38;5;124;43m'\u001B[39;49m\u001B[43m]\u001B[49m\u001B[43m)\u001B[49m\u001B[38;5;241;43m.\u001B[39;49m\u001B[43mload\u001B[49m\u001B[43m(\u001B[49m\u001B[43mstep_path\u001B[49m\u001B[43m)\u001B[49m\n\u001B[1;32m    341\u001B[0m     predictor\u001B[38;5;241m.\u001B[39m_is_fitted \u001B[38;5;241m=\u001B[39m step_is_fitted\n\u001B[1;32m    342\u001B[0m     steps\u001B[38;5;241m.\u001B[39mappend((step_name, predictor))\n",
      "File \u001B[0;32m~/anaconda3/envs/deepmol_case_studies/lib/python3.10/site-packages/deepmol/models/deepchem_models.py:339\u001B[0m, in \u001B[0;36mDeepChemModel.load\u001B[0;34m(cls, folder_path, **kwargs)\u001B[0m\n\u001B[1;32m    326\u001B[0m \u001B[38;5;250m\u001B[39m\u001B[38;5;124;03m\"\"\"\u001B[39;00m\n\u001B[1;32m    327\u001B[0m \u001B[38;5;124;03mLoads deepchem model from disk.\u001B[39;00m\n\u001B[1;32m    328\u001B[0m \n\u001B[0;32m   (...)\u001B[0m\n\u001B[1;32m    336\u001B[0m \u001B[38;5;124;03m        Dictionary of custom objects to be passed to `tensorflow.keras.utils.custom_object_scope`.\u001B[39;00m\n\u001B[1;32m    337\u001B[0m \u001B[38;5;124;03m\"\"\"\u001B[39;00m\n\u001B[1;32m    338\u001B[0m \u001B[38;5;28;01mtry\u001B[39;00m:\n\u001B[0;32m--> 339\u001B[0m     model \u001B[38;5;241m=\u001B[39m \u001B[43mload_from_disk\u001B[49m\u001B[43m(\u001B[49m\u001B[43mos\u001B[49m\u001B[38;5;241;43m.\u001B[39;49m\u001B[43mpath\u001B[49m\u001B[38;5;241;43m.\u001B[39;49m\u001B[43mjoin\u001B[49m\u001B[43m(\u001B[49m\u001B[43mfolder_path\u001B[49m\u001B[43m,\u001B[49m\u001B[43m \u001B[49m\u001B[38;5;124;43m\"\u001B[39;49m\u001B[38;5;124;43mmodel.pkl\u001B[39;49m\u001B[38;5;124;43m\"\u001B[39;49m\u001B[43m)\u001B[49m\u001B[43m)\u001B[49m\n\u001B[1;32m    340\u001B[0m \u001B[38;5;28;01mexcept\u001B[39;00m \u001B[38;5;167;01mValueError\u001B[39;00m \u001B[38;5;28;01mas\u001B[39;00m e:\n\u001B[1;32m    341\u001B[0m     \u001B[38;5;28;01mif\u001B[39;00m \u001B[38;5;124m'\u001B[39m\u001B[38;5;124mcustom_objects\u001B[39m\u001B[38;5;124m'\u001B[39m \u001B[38;5;129;01min\u001B[39;00m kwargs:\n",
      "File \u001B[0;32m~/anaconda3/envs/deepmol_case_studies/lib/python3.10/site-packages/deepmol/models/_utils.py:60\u001B[0m, in \u001B[0;36mload_from_disk\u001B[0;34m(filename)\u001B[0m\n\u001B[1;32m     58\u001B[0m \u001B[38;5;28;01mif\u001B[39;00m extension \u001B[38;5;241m==\u001B[39m \u001B[38;5;124m\"\u001B[39m\u001B[38;5;124m.pkl\u001B[39m\u001B[38;5;124m\"\u001B[39m:\n\u001B[1;32m     59\u001B[0m     \u001B[38;5;28;01mtry\u001B[39;00m:\n\u001B[0;32m---> 60\u001B[0m         \u001B[38;5;28;01mreturn\u001B[39;00m \u001B[43mload_pickle_file\u001B[49m\u001B[43m(\u001B[49m\u001B[43mfilename\u001B[49m\u001B[43m)\u001B[49m\n\u001B[1;32m     61\u001B[0m     \u001B[38;5;28;01mexcept\u001B[39;00m (\u001B[38;5;167;01mTypeError\u001B[39;00m, \u001B[38;5;167;01mAttributeError\u001B[39;00m):\n\u001B[1;32m     62\u001B[0m         \u001B[38;5;28;01mwith\u001B[39;00m \u001B[38;5;28mopen\u001B[39m(filename, \u001B[38;5;124m'\u001B[39m\u001B[38;5;124mrb\u001B[39m\u001B[38;5;124m'\u001B[39m) \u001B[38;5;28;01mas\u001B[39;00m f:\n",
      "File \u001B[0;32m~/anaconda3/envs/deepmol_case_studies/lib/python3.10/site-packages/deepmol/utils/utils.py:115\u001B[0m, in \u001B[0;36mload_pickle_file\u001B[0;34m(input_file)\u001B[0m\n\u001B[1;32m    113\u001B[0m         \u001B[38;5;28;01mreturn\u001B[39;00m pickle\u001B[38;5;241m.\u001B[39mload(cast(IO[\u001B[38;5;28mbytes\u001B[39m], unzipped_file))\n\u001B[1;32m    114\u001B[0m \u001B[38;5;28;01melse\u001B[39;00m:\n\u001B[0;32m--> 115\u001B[0m     \u001B[38;5;28;01mwith\u001B[39;00m \u001B[38;5;28;43mopen\u001B[39;49m\u001B[43m(\u001B[49m\u001B[43minput_file\u001B[49m\u001B[43m,\u001B[49m\u001B[43m \u001B[49m\u001B[38;5;124;43m\"\u001B[39;49m\u001B[38;5;124;43mrb\u001B[39;49m\u001B[38;5;124;43m\"\u001B[39;49m\u001B[43m)\u001B[49m \u001B[38;5;28;01mas\u001B[39;00m opened_file:\n\u001B[1;32m    116\u001B[0m         \u001B[38;5;28;01mreturn\u001B[39;00m pickle\u001B[38;5;241m.\u001B[39mload(opened_file)\n",
      "\u001B[0;31mFileNotFoundError\u001B[0m: [Errno 2] No such file or directory: '/tmp/tmpvy5i7n9v/model.pkl'"
     ]
    }
   ],
   "source": [
    "# load best trial pipeline (rank #10)\n",
    "best_trial_id = int(results.iloc[0]['trial_id'])\n",
    "pipeline = Pipeline.load(f\"caco/trial_{best_trial_id}/\")"
   ],
   "metadata": {
    "collapsed": false,
    "ExecuteTime": {
     "end_time": "2023-11-08T14:43:35.928016864Z",
     "start_time": "2023-11-08T14:43:35.510714625Z"
    }
   },
   "id": "90e40046d6b150ce"
  },
  {
   "cell_type": "code",
   "execution_count": null,
   "outputs": [],
   "source": [],
   "metadata": {
    "collapsed": false
   },
   "id": "aca45806698765d8"
  }
 ],
 "metadata": {
  "kernelspec": {
   "display_name": "Python 3",
   "language": "python",
   "name": "python3"
  },
  "language_info": {
   "codemirror_mode": {
    "name": "ipython",
    "version": 2
   },
   "file_extension": ".py",
   "mimetype": "text/x-python",
   "name": "python",
   "nbconvert_exporter": "python",
   "pygments_lexer": "ipython2",
   "version": "2.7.6"
  }
 },
 "nbformat": 4,
 "nbformat_minor": 5
}
